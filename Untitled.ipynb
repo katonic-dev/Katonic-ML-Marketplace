{
 "cells": [
  {
   "cell_type": "code",
   "execution_count": 1,
   "metadata": {},
   "outputs": [
    {
     "ename": "NameError",
     "evalue": "name 'os' is not defined",
     "output_type": "error",
     "traceback": [
      "\u001b[0;31m---------------------------------------------------------------------------\u001b[0m",
      "\u001b[0;31mNameError\u001b[0m                                 Traceback (most recent call last)",
      "\u001b[0;32m<ipython-input-1-6b41e7fe51aa>\u001b[0m in \u001b[0;36m<module>\u001b[0;34m\u001b[0m\n\u001b[0;32m----> 1\u001b[0;31m \u001b[0mos\u001b[0m\u001b[0;34m.\u001b[0m\u001b[0mpath\u001b[0m\u001b[0;34m\u001b[0m\u001b[0;34m\u001b[0m\u001b[0m\n\u001b[0m",
      "\u001b[0;31mNameError\u001b[0m: name 'os' is not defined"
     ]
    }
   ],
   "source": [
    "os.path"
   ]
  },
  {
   "cell_type": "code",
   "execution_count": 2,
   "metadata": {},
   "outputs": [
    {
     "ename": "NameError",
     "evalue": "name 'os' is not defined",
     "output_type": "error",
     "traceback": [
      "\u001b[0;31m---------------------------------------------------------------------------\u001b[0m",
      "\u001b[0;31mNameError\u001b[0m                                 Traceback (most recent call last)",
      "\u001b[0;32m<ipython-input-2-60b4350b3987>\u001b[0m in \u001b[0;36m<module>\u001b[0;34m\u001b[0m\n\u001b[0;32m----> 1\u001b[0;31m \u001b[0mos\u001b[0m\u001b[0;34m.\u001b[0m\u001b[0mlistdir\u001b[0m\u001b[0;34m\u001b[0m\u001b[0;34m\u001b[0m\u001b[0m\n\u001b[0m",
      "\u001b[0;31mNameError\u001b[0m: name 'os' is not defined"
     ]
    }
   ],
   "source": [
    "os.listdir"
   ]
  },
  {
   "cell_type": "code",
   "execution_count": 3,
   "metadata": {},
   "outputs": [
    {
     "data": {
      "text/plain": [
       "['model-customer-intent',\n",
       " 'model-upcoding',\n",
       " 'model-transition-matrix',\n",
       " 'model-ccar-improvement',\n",
       " 'model-recommendation-engine-financial-services',\n",
       " 'model-credit-card-payment-default',\n",
       " 'model-estimate-loss-severity',\n",
       " 'model-ancillary-personalization',\n",
       " 'direct-mail-campaign-optimization',\n",
       " 'model-residency-approval-prediction',\n",
       " 'model-email-fatigue-opt-out',\n",
       " 'model-application-fraud',\n",
       " 'model-churn-mitigation-telecom',\n",
       " 'model-project-requirements-extraction',\n",
       " 'model-real-estate-transactions',\n",
       " 'model-schedule-optimization',\n",
       " 'model-exam-failure-prediction',\n",
       " 'model-edge-surveillance-model',\n",
       " 'model-personal-loan-acceptance',\n",
       " 'model-add-a-line-wearables',\n",
       " 'model-pricing-optimization',\n",
       " 'model-equine-gait-model',\n",
       " 'model-spend-passion',\n",
       " 'model-ach-wire-fraud-detection',\n",
       " 'model-call-center-reduction',\n",
       " 'model-income-protection',\n",
       " 'model-churn-mitigation',\n",
       " 'model-initial-line-assignment',\n",
       " 'model-upgrade-device',\n",
       " 'model-medically-unnecessary-services',\n",
       " 'model-add-a-line-broadband-device',\n",
       " 'model-transaction-classification',\n",
       " 'model-audit-clause-extraction',\n",
       " 'model-demand-forecasting',\n",
       " 'model-merchant-matching',\n",
       " 'model-long-term-disability-claims',\n",
       " 'model-skin-marking-classification-model',\n",
       " 'model-early-intervention',\n",
       " 'model-right-party-contract',\n",
       " 'model-dilution-prevention-airlines',\n",
       " 'model-point-of-compromise-fraud-detection',\n",
       " 'model-email-campaign-optimization',\n",
       " 'sai-vm-marketplace',\n",
       " 'model-add-a-voice-line',\n",
       " 'model-company-name-standardization',\n",
       " 'model-network-experience-model',\n",
       " 'model-cross-sell-insurance',\n",
       " 'model-existing-customer-spend-attrition',\n",
       " 'model-direct-mail-acquisition',\n",
       " 'models-marketplace',\n",
       " 'model-employee-expertise-extraction',\n",
       " 'model-cross-sell',\n",
       " 'model-add-a-line-tablet',\n",
       " 'model-contractai',\n",
       " 'sai-marketplace',\n",
       " 'Untitled.ipynb',\n",
       " 'model-canine-gait-model',\n",
       " 'model-email-confidence-model',\n",
       " 'model-behavior-scorecard',\n",
       " 'model-customer-lifetime-value',\n",
       " 'model-initial-rate-plan-assignment',\n",
       " 'model-site-selection',\n",
       " 'model-opinion-mining-sentiment-analysis',\n",
       " 'model-farm-object-detection',\n",
       " 'model-interest-rate-model',\n",
       " 'pai-marketplace',\n",
       " 'model-collections-risk',\n",
       " 'model-upsell',\n",
       " 'model-credit-line-management',\n",
       " 'model-vendor-name-grouping',\n",
       " '.git',\n",
       " 'model-deposit-demand-risk',\n",
       " 'model-commercial-trading-monitor',\n",
       " 'model-proactive-service-recovery',\n",
       " 'model-missing-charges',\n",
       " 'model-plan-renewal-insurance',\n",
       " 'model-exam-score-prediction',\n",
       " 'model-turn-around-time-optimization',\n",
       " 'model-upgrade-rate-plan',\n",
       " 'model-collection-scorecard',\n",
       " 'model-customer-segmentation',\n",
       " 'model-penalty-pricing-strategies',\n",
       " 'model-overutilization',\n",
       " '.ipynb_checkpoints',\n",
       " 'model-specialty-procedure-mismatch',\n",
       " 'model-supplier-base-optimization',\n",
       " 'model-people-tracking-model',\n",
       " 'model-bust-out-fraud-detection',\n",
       " 'model-business-prospects-acquisition',\n",
       " 'model-provider-clustering',\n",
       " 'model-promotion-propensity',\n",
       " 'model-application-scorecard',\n",
       " 'model-pulmoai']"
      ]
     },
     "execution_count": 3,
     "metadata": {},
     "output_type": "execute_result"
    }
   ],
   "source": [
    "import os\n",
    "os.listdir()"
   ]
  },
  {
   "cell_type": "code",
   "execution_count": null,
   "metadata": {},
   "outputs": [],
   "source": [
    "Katonic-ML-Marketplace/model-overutilization/LICENSE"
   ]
  }
 ],
 "metadata": {
  "kernelspec": {
   "display_name": "Python 3",
   "language": "python",
   "name": "python3"
  },
  "kubeflow_notebook": {
   "autosnapshot": false,
   "docker_image": "",
   "experiment": {
    "id": "",
    "name": ""
   },
   "experiment_name": "",
   "katib_run": false,
   "pipeline_description": "",
   "pipeline_name": "",
   "snapshot_volumes": false,
   "steps_defaults": [],
   "volume_access_mode": "rwm",
   "volumes": []
  },
  "language_info": {
   "codemirror_mode": {
    "name": "ipython",
    "version": 3
   },
   "file_extension": ".py",
   "mimetype": "text/x-python",
   "name": "python",
   "nbconvert_exporter": "python",
   "pygments_lexer": "ipython3",
   "version": "3.7.9"
  }
 },
 "nbformat": 4,
 "nbformat_minor": 4
}
