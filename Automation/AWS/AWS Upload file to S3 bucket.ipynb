{
 "cells": [
  {
   "cell_type": "markdown",
   "id": "saved-walter",
   "metadata": {
    "execution": {
     "iopub.execute_input": "2021-02-23T14:22:16.610471Z",
     "iopub.status.busy": "2021-02-23T14:22:16.610129Z",
     "iopub.status.idle": "2021-02-23T14:22:16.627784Z",
     "shell.execute_reply": "2021-02-23T14:22:16.626866Z",
     "shell.execute_reply.started": "2021-02-23T14:22:16.610384Z"
    },
    "papermill": {},
    "tags": []
   },
   "source": [
    "<img width=\"10%\" alt=\"Katonic\" src=\"https://katonic.ai/assets/svg/logos/logo-katonic.png\"/>"
   ]
  },
  {
   "cell_type": "markdown",
   "id": "developed-spell",
   "metadata": {
    "papermill": {},
    "tags": []
   },
   "source": [
    "# AWS - Upload file to S3 bucket"
   ]
  },
  {
   "cell_type": "markdown",
   "id": "8161e21d-e44c-4187-935e-4d3123e39c23",
   "metadata": {
    "papermill": {},
    "tags": []
   },
   "source": [
    "**Tags:** #aws #cloud #storage #S3bucket"
   ]
  },
  {
   "cell_type": "markdown",
   "id": "a251d5dd-5450-42fb-99a7-c1ef270a2dbe",
   "metadata": {
    "papermill": {},
    "tags": []
   },
   "source": [
    "## Input"
   ]
  },
  {
   "cell_type": "markdown",
   "id": "680a7984-1179-438b-818a-e30851697679",
   "metadata": {
    "papermill": {},
    "tags": []
   },
   "source": [
    "### Install packages"
   ]
  },
  {
   "cell_type": "code",
   "execution_count": null,
   "id": "d0438778-b250-4c0b-9146-7a8e5b84748d",
   "metadata": {
    "papermill": {},
    "tags": []
   },
   "outputs": [],
   "source": [
    "# !pip install boto3 getpass4"
   ]
  },
  {
   "cell_type": "markdown",
   "id": "e83153e1-93c6-4355-aa02-4d9584e08161",
   "metadata": {
    "papermill": {},
    "tags": []
   },
   "source": [
    "### Import library"
   ]
  },
  {
   "cell_type": "code",
   "execution_count": null,
   "id": "0d9719f5-06bf-45b7-b8f8-2d27f69cfda8",
   "metadata": {
    "papermill": {},
    "tags": []
   },
   "outputs": [],
   "source": [
    "import boto3"
   ]
  },
  {
   "cell_type": "markdown",
   "id": "ec8310ad-36a2-4676-a9b4-46e2e4e6b591",
   "metadata": {
    "papermill": {},
    "tags": []
   },
   "source": [
    "### Variables"
   ]
  },
  {
   "cell_type": "code",
   "execution_count": null,
   "id": "b260b56f-9985-477c-8a28-26abd2fe2b71",
   "metadata": {
    "papermill": {},
    "tags": []
   },
   "outputs": [],
   "source": [
    "ACCESS_KEY_ID = \"**********\"\n",
    "SECRET_ACCESS_KEY = \"**********\"\n",
    "\n",
    "BUCKET_NAME = \"katonic-example\"\n",
    "BUCKET_OBJECT_KEY = 'katonic_happy_hour.mp3'"
   ]
  },
  {
   "cell_type": "markdown",
   "id": "5b998d80-70da-43e2-868a-d7aae972dcd7",
   "metadata": {
    "execution": {
     "iopub.execute_input": "2021-10-01T09:18:40.860086Z",
     "iopub.status.busy": "2021-10-01T09:18:40.859840Z",
     "iopub.status.idle": "2021-10-01T09:18:40.862813Z",
     "shell.execute_reply": "2021-10-01T09:18:40.862176Z",
     "shell.execute_reply.started": "2021-10-01T09:18:40.860063Z"
    },
    "papermill": {},
    "tags": []
   },
   "source": [
    "## Model"
   ]
  },
  {
   "cell_type": "markdown",
   "id": "0b33c19c-d470-4a5c-ae40-6ec09a0aa044",
   "metadata": {
    "papermill": {},
    "tags": []
   },
   "source": [
    "### Connect to AWS"
   ]
  },
  {
   "cell_type": "code",
   "execution_count": null,
   "id": "given-region",
   "metadata": {
    "papermill": {},
    "tags": []
   },
   "outputs": [],
   "source": [
    "s3 = boto3.client('s3',\n",
    "                  aws_access_key_id=ACCESS_KEY_ID,\n",
    "                  aws_secret_access_key=SECRET_ACCESS_KEY)"
   ]
  },
  {
   "cell_type": "markdown",
   "id": "0e71d7bd-75ba-4889-94cf-f3e5c0b2d24c",
   "metadata": {
    "papermill": {},
    "tags": []
   },
   "source": [
    "## Output"
   ]
  },
  {
   "cell_type": "markdown",
   "id": "b7fc7aef-b5e7-42b9-a970-4a316c77ae84",
   "metadata": {
    "papermill": {},
    "tags": []
   },
   "source": [
    "### Upload data"
   ]
  },
  {
   "cell_type": "code",
   "execution_count": null,
   "id": "d9cb8b19-8dfe-4a4b-b40f-0790ae7b9a78",
   "metadata": {
    "papermill": {},
    "tags": []
   },
   "outputs": [],
   "source": [
    "with open(BUCKET_OBJECT_KEY, \"rb\") as f:\n",
    "    s3.upload_fileobj(f, BUCKET_NAME, BUCKET_OBJECT_KEY)"
   ]
  }
 ],
 "metadata": {
  "kernelspec": {
   "display_name": "Python 3",
   "language": "python",
   "name": "python3"
  },
  "language_info": {
   "codemirror_mode": {
    "name": "ipython",
    "version": 3
   },
   "file_extension": ".py",
   "mimetype": "text/x-python",
   "name": "python",
   "nbconvert_exporter": "python",
   "pygments_lexer": "ipython3",
   "version": "3.8.8"
  },
  "papermill": {
   "default_parameters": {},
   "environment_variables": {},
   "parameters": {},
   "version": "2.3.3"
  },
  "widgets": {
   "application/vnd.jupyter.widget-state+json": {
    "state": {},
    "version_major": 2,
    "version_minor": 0
   }
  }
 },
 "nbformat": 4,
 "nbformat_minor": 5
}
