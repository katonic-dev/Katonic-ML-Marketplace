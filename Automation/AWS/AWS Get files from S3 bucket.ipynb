{
 "cells": [
  {
   "cell_type": "markdown",
   "id": "af542224",
   "metadata": {
    "papermill": {},
    "tags": []
   },
   "source": [
    "<img width=\"10%\" alt=\"Naas\" src=\"https://katonic.ai/assets/svg/logos/logo-katonic.png\"/>"
   ]
  },
  {
   "cell_type": "markdown",
   "id": "af8e09e6",
   "metadata": {
    "papermill": {},
    "tags": []
   },
   "source": [
    "# AWS - Get files from S3 bucket"
   ]
  },
  {
   "cell_type": "markdown",
   "id": "b0f40b22-d389-4955-9698-49f31dbc458d",
   "metadata": {
    "papermill": {},
    "tags": []
   },
   "source": [
    "**Tags:** #aws #cloud #storage #S3bucket"
   ]
  },
  {
   "cell_type": "markdown",
   "id": "dcb6f62c-c8ad-440f-87d3-06c22035240f",
   "metadata": {
    "execution": {
     "iopub.execute_input": "2021-10-01T09:26:39.742671Z",
     "iopub.status.busy": "2021-10-01T09:26:39.742397Z",
     "iopub.status.idle": "2021-10-01T09:26:39.748138Z",
     "shell.execute_reply": "2021-10-01T09:26:39.747484Z",
     "shell.execute_reply.started": "2021-10-01T09:26:39.742602Z"
    },
    "papermill": {},
    "tags": []
   },
   "source": [
    "## Input"
   ]
  },
  {
   "cell_type": "markdown",
   "id": "a54c7458-f91d-4059-9abf-7a22882f6e9d",
   "metadata": {
    "papermill": {},
    "tags": []
   },
   "source": [
    "### Install packages"
   ]
  },
  {
   "cell_type": "code",
   "execution_count": null,
   "id": "3c5b955a-86e6-495b-9dea-17d67937f010",
   "metadata": {
    "papermill": {},
    "tags": []
   },
   "outputs": [],
   "source": [
    "# !pip install boto3 getpass4"
   ]
  },
  {
   "cell_type": "markdown",
   "id": "464ad9fb-2dd8-4267-9e59-3bcf64b23b97",
   "metadata": {
    "papermill": {},
    "tags": []
   },
   "source": [
    "### Import library"
   ]
  },
  {
   "cell_type": "code",
   "execution_count": null,
   "id": "b0c68564-922e-48fc-ab34-1d711ff0e480",
   "metadata": {
    "papermill": {},
    "tags": []
   },
   "outputs": [],
   "source": [
    "import boto3"
   ]
  },
  {
   "cell_type": "markdown",
   "id": "3c5d69da-1e06-4410-97d6-bbe5fc01eb3f",
   "metadata": {
    "papermill": {},
    "tags": []
   },
   "source": [
    "### Variables"
   ]
  },
  {
   "cell_type": "code",
   "execution_count": null,
   "id": "276757c8-f8b2-41c2-8ced-1e0bebefb263",
   "metadata": {
    "papermill": {},
    "tags": []
   },
   "outputs": [],
   "source": [
    "ACCESS_KEY_ID = \"**********\"\n",
    "SECRET_ACCESS_KEY = \"**********\"\n",
    "\n",
    "BUCKET_NAME = \"katonic-example\"\n",
    "BUCKET_OBJECT_KEY = 'katonic_happy_hour.mp3'"
   ]
  },
  {
   "cell_type": "markdown",
   "id": "55fc943a-f791-4a69-919d-9e4e8cd597a4",
   "metadata": {
    "papermill": {},
    "tags": []
   },
   "source": [
    "## Model"
   ]
  },
  {
   "cell_type": "markdown",
   "id": "59711a37-d62a-4ad3-946c-1fefe7f134cd",
   "metadata": {
    "papermill": {},
    "tags": []
   },
   "source": [
    "### Get file"
   ]
  },
  {
   "cell_type": "code",
   "execution_count": null,
   "id": "b3a6ca15-b5e7-46e7-b74f-438df9cb27db",
   "metadata": {
    "papermill": {},
    "tags": []
   },
   "outputs": [],
   "source": [
    "s3 = boto3.client('s3', aws_access_key_id=ACCESS_KEY_ID, aws_secret_access_key=SECRET_ACCESS_KEY)\n",
    "fileObj = s3.get_object(Bucket=BUCKET_NAME, Key=BUCKET_OBJECT_KEY)"
   ]
  },
  {
   "cell_type": "markdown",
   "id": "8ad0eac3-939c-49a9-85b0-415c6b13c24d",
   "metadata": {
    "papermill": {},
    "tags": []
   },
   "source": [
    "### Generate pre-signed URL"
   ]
  },
  {
   "cell_type": "code",
   "execution_count": null,
   "id": "d06823bd-23d8-4ca3-9c7b-95ebc9374b3c",
   "metadata": {
    "papermill": {},
    "tags": []
   },
   "outputs": [],
   "source": [
    "file_url = s3.generate_presigned_url(\"get_object\", Params={\"Bucket\": BUCKET_NAME, \"Key\": BUCKET_OBJECT_KEY}, ExpiresIn=604800)"
   ]
  },
  {
   "cell_type": "markdown",
   "id": "e604b8aa-2234-407c-85b2-3517eb88d99d",
   "metadata": {
    "papermill": {},
    "tags": []
   },
   "source": [
    "## Output"
   ]
  },
  {
   "cell_type": "markdown",
   "id": "40d3f1d6-f46e-4738-ac23-4e2f7472a755",
   "metadata": {
    "papermill": {},
    "tags": []
   },
   "source": [
    "### Display file"
   ]
  },
  {
   "cell_type": "code",
   "execution_count": null,
   "id": "4ecb13f6-94e1-47c6-a80b-f753b1d0b7d9",
   "metadata": {
    "papermill": {},
    "tags": []
   },
   "outputs": [],
   "source": [
    "fileObj"
   ]
  },
  {
   "cell_type": "markdown",
   "id": "18c8d442-dbff-4900-8048-3ab8a484367e",
   "metadata": {
    "papermill": {},
    "tags": []
   },
   "source": [
    "### Display pre-signed URL"
   ]
  },
  {
   "cell_type": "code",
   "execution_count": null,
   "id": "fdcb928f-1a4d-481a-a635-29a59e035e48",
   "metadata": {
    "papermill": {},
    "tags": []
   },
   "outputs": [],
   "source": [
    "file_url"
   ]
  }
 ],
 "metadata": {
  "kernelspec": {
   "display_name": "Python 3",
   "language": "python",
   "name": "python3"
  },
  "language_info": {
   "codemirror_mode": {
    "name": "ipython",
    "version": 3
   },
   "file_extension": ".py",
   "mimetype": "text/x-python",
   "name": "python",
   "nbconvert_exporter": "python",
   "pygments_lexer": "ipython3",
   "version": "3.8.8"
  },
  "papermill": {
   "default_parameters": {},
   "environment_variables": {},
   "parameters": {},
   "version": "2.3.3"
  }
 },
 "nbformat": 4,
 "nbformat_minor": 5
}
