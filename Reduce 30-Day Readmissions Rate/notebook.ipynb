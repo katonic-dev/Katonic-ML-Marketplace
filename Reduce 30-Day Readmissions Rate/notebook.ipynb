{
 "cells": [
  {
   "cell_type": "markdown",
   "metadata": {},
   "source": [
    "# Reduce 30-Day Readmissions Rate"
   ]
  },
  {
   "cell_type": "markdown",
   "metadata": {},
   "source": [
    "<img src=\"https://labblog.uofmhealth.org/sites/lab/files/2016-08/UMH_L_Hysterectomy1%401x.jpg\" style=\"width: 1000px;\"/>"
   ]
  },
  {
   "cell_type": "markdown",
   "metadata": {
    "_uuid": "df125a13195842a103ae6537f1f20ee362e7a17b"
   },
   "source": [
    "The goal of this notebook is to correctly predict Hostpital Readmission Rate.\n",
    "\n",
    "The dataset includes 10000 observations, and 51 features. The data is already labeled."
   ]
  },
  {
   "cell_type": "markdown",
   "metadata": {},
   "source": [
    "## Data Preparation"
   ]
  },
  {
   "cell_type": "markdown",
   "metadata": {},
   "source": [
    "### Import Libraries"
   ]
  },
  {
   "cell_type": "code",
   "execution_count": 5,
   "metadata": {},
   "outputs": [],
   "source": [
    "# Ignore Warning\n",
    "import warnings\n",
    "warnings.filterwarnings(\"ignore\")"
   ]
  },
  {
   "cell_type": "code",
   "execution_count": 6,
   "metadata": {
    "_uuid": "b0cf373450b4ae9b5ead71e2537123f95e3f94dd"
   },
   "outputs": [],
   "source": [
    "# For data wrangling \n",
    "import pandas as pd\n",
    "\n",
    "# For visualization\n",
    "import seaborn as sns\n",
    "import plotly.express as px\n",
    "\n",
    "pd.options.display.max_rows = None\n",
    "pd.options.display.max_columns = None"
   ]
  },
  {
   "cell_type": "code",
   "execution_count": 16,
   "metadata": {
    "_uuid": "b06f2e08582c7788698d5d12f19546ebd5f39382"
   },
   "outputs": [
    {
     "data": {
      "text/html": [
       "<div>\n",
       "<style scoped>\n",
       "    .dataframe tbody tr th:only-of-type {\n",
       "        vertical-align: middle;\n",
       "    }\n",
       "\n",
       "    .dataframe tbody tr th {\n",
       "        vertical-align: top;\n",
       "    }\n",
       "\n",
       "    .dataframe thead th {\n",
       "        text-align: right;\n",
       "    }\n",
       "</style>\n",
       "<table border=\"1\" class=\"dataframe\">\n",
       "  <thead>\n",
       "    <tr style=\"text-align: right;\">\n",
       "      <th></th>\n",
       "      <th>race</th>\n",
       "      <th>gender</th>\n",
       "      <th>age</th>\n",
       "      <th>weight</th>\n",
       "      <th>admission_type_id</th>\n",
       "      <th>discharge_disposition_id</th>\n",
       "      <th>admission_source_id</th>\n",
       "      <th>time_in_hospital</th>\n",
       "      <th>payer_code</th>\n",
       "      <th>medical_specialty</th>\n",
       "      <th>num_lab_procedures</th>\n",
       "      <th>num_procedures</th>\n",
       "      <th>num_medications</th>\n",
       "      <th>number_outpatient</th>\n",
       "      <th>number_emergency</th>\n",
       "      <th>number_inpatient</th>\n",
       "      <th>diag_1</th>\n",
       "      <th>diag_2</th>\n",
       "      <th>diag_3</th>\n",
       "      <th>number_diagnoses</th>\n",
       "      <th>max_glu_serum</th>\n",
       "      <th>A1Cresult</th>\n",
       "      <th>metformin</th>\n",
       "      <th>repaglinide</th>\n",
       "      <th>nateglinide</th>\n",
       "      <th>chlorpropamide</th>\n",
       "      <th>glimepiride</th>\n",
       "      <th>acetohexamide</th>\n",
       "      <th>glipizide</th>\n",
       "      <th>glyburide</th>\n",
       "      <th>tolbutamide</th>\n",
       "      <th>pioglitazone</th>\n",
       "      <th>rosiglitazone</th>\n",
       "      <th>acarbose</th>\n",
       "      <th>miglitol</th>\n",
       "      <th>troglitazone</th>\n",
       "      <th>tolazamide</th>\n",
       "      <th>examide</th>\n",
       "      <th>citoglipton</th>\n",
       "      <th>insulin</th>\n",
       "      <th>glyburide.metformin</th>\n",
       "      <th>glipizide.metformin</th>\n",
       "      <th>glimepiride.pioglitazone</th>\n",
       "      <th>metformin.rosiglitazone</th>\n",
       "      <th>metformin.pioglitazone</th>\n",
       "      <th>change</th>\n",
       "      <th>diabetesMed</th>\n",
       "      <th>readmitted</th>\n",
       "      <th>diag_1_desc</th>\n",
       "      <th>diag_2_desc</th>\n",
       "      <th>diag_3_desc</th>\n",
       "    </tr>\n",
       "  </thead>\n",
       "  <tbody>\n",
       "    <tr>\n",
       "      <th>0</th>\n",
       "      <td>Caucasian</td>\n",
       "      <td>Female</td>\n",
       "      <td>[50-60)</td>\n",
       "      <td>?</td>\n",
       "      <td>Elective</td>\n",
       "      <td>Discharged to home</td>\n",
       "      <td>Physician Referral</td>\n",
       "      <td>1</td>\n",
       "      <td>CP</td>\n",
       "      <td>Surgery-Neuro</td>\n",
       "      <td>35</td>\n",
       "      <td>4</td>\n",
       "      <td>21</td>\n",
       "      <td>0</td>\n",
       "      <td>0</td>\n",
       "      <td>0</td>\n",
       "      <td>723</td>\n",
       "      <td>723</td>\n",
       "      <td>719</td>\n",
       "      <td>9</td>\n",
       "      <td>None</td>\n",
       "      <td>None</td>\n",
       "      <td>No</td>\n",
       "      <td>No</td>\n",
       "      <td>No</td>\n",
       "      <td>No</td>\n",
       "      <td>No</td>\n",
       "      <td>No</td>\n",
       "      <td>No</td>\n",
       "      <td>No</td>\n",
       "      <td>No</td>\n",
       "      <td>No</td>\n",
       "      <td>No</td>\n",
       "      <td>No</td>\n",
       "      <td>No</td>\n",
       "      <td>No</td>\n",
       "      <td>No</td>\n",
       "      <td>No</td>\n",
       "      <td>No</td>\n",
       "      <td>No</td>\n",
       "      <td>No</td>\n",
       "      <td>No</td>\n",
       "      <td>No</td>\n",
       "      <td>No</td>\n",
       "      <td>No</td>\n",
       "      <td>No</td>\n",
       "      <td>No</td>\n",
       "      <td>False</td>\n",
       "      <td>Spinal stenosis in cervical region</td>\n",
       "      <td>Spinal stenosis in cervical region</td>\n",
       "      <td>Effusion of joint, site unspecified</td>\n",
       "    </tr>\n",
       "    <tr>\n",
       "      <th>1</th>\n",
       "      <td>Caucasian</td>\n",
       "      <td>Female</td>\n",
       "      <td>[20-30)</td>\n",
       "      <td>[50-75)</td>\n",
       "      <td>Urgent</td>\n",
       "      <td>Discharged to home</td>\n",
       "      <td>Physician Referral</td>\n",
       "      <td>2</td>\n",
       "      <td>UN</td>\n",
       "      <td>?</td>\n",
       "      <td>8</td>\n",
       "      <td>5</td>\n",
       "      <td>5</td>\n",
       "      <td>0</td>\n",
       "      <td>0</td>\n",
       "      <td>0</td>\n",
       "      <td>664</td>\n",
       "      <td>648</td>\n",
       "      <td>285</td>\n",
       "      <td>6</td>\n",
       "      <td>None</td>\n",
       "      <td>None</td>\n",
       "      <td>No</td>\n",
       "      <td>No</td>\n",
       "      <td>No</td>\n",
       "      <td>No</td>\n",
       "      <td>No</td>\n",
       "      <td>No</td>\n",
       "      <td>No</td>\n",
       "      <td>No</td>\n",
       "      <td>No</td>\n",
       "      <td>No</td>\n",
       "      <td>No</td>\n",
       "      <td>No</td>\n",
       "      <td>No</td>\n",
       "      <td>No</td>\n",
       "      <td>No</td>\n",
       "      <td>No</td>\n",
       "      <td>No</td>\n",
       "      <td>No</td>\n",
       "      <td>No</td>\n",
       "      <td>No</td>\n",
       "      <td>No</td>\n",
       "      <td>No</td>\n",
       "      <td>No</td>\n",
       "      <td>No</td>\n",
       "      <td>No</td>\n",
       "      <td>False</td>\n",
       "      <td>First-degree perineal laceration, unspecified ...</td>\n",
       "      <td>Diabetes mellitus of mother, complicating preg...</td>\n",
       "      <td>Sideroblastic anemia</td>\n",
       "    </tr>\n",
       "    <tr>\n",
       "      <th>2</th>\n",
       "      <td>Caucasian</td>\n",
       "      <td>Male</td>\n",
       "      <td>[80-90)</td>\n",
       "      <td>?</td>\n",
       "      <td>Not Available</td>\n",
       "      <td>Discharged/transferred to home with home healt...</td>\n",
       "      <td>NaN</td>\n",
       "      <td>7</td>\n",
       "      <td>MC</td>\n",
       "      <td>Family/GeneralPractice</td>\n",
       "      <td>12</td>\n",
       "      <td>0</td>\n",
       "      <td>21</td>\n",
       "      <td>0</td>\n",
       "      <td>0</td>\n",
       "      <td>1</td>\n",
       "      <td>481</td>\n",
       "      <td>428</td>\n",
       "      <td>276</td>\n",
       "      <td>9</td>\n",
       "      <td>&gt;200</td>\n",
       "      <td>None</td>\n",
       "      <td>No</td>\n",
       "      <td>No</td>\n",
       "      <td>No</td>\n",
       "      <td>No</td>\n",
       "      <td>No</td>\n",
       "      <td>No</td>\n",
       "      <td>No</td>\n",
       "      <td>No</td>\n",
       "      <td>No</td>\n",
       "      <td>No</td>\n",
       "      <td>No</td>\n",
       "      <td>No</td>\n",
       "      <td>No</td>\n",
       "      <td>No</td>\n",
       "      <td>No</td>\n",
       "      <td>No</td>\n",
       "      <td>No</td>\n",
       "      <td>Steady</td>\n",
       "      <td>No</td>\n",
       "      <td>No</td>\n",
       "      <td>No</td>\n",
       "      <td>No</td>\n",
       "      <td>No</td>\n",
       "      <td>No</td>\n",
       "      <td>Yes</td>\n",
       "      <td>True</td>\n",
       "      <td>Pneumococcal pneumonia [Streptococcus pneumoni...</td>\n",
       "      <td>Congestive heart failure, unspecified</td>\n",
       "      <td>Hyperosmolality and/or hypernatremia</td>\n",
       "    </tr>\n",
       "    <tr>\n",
       "      <th>3</th>\n",
       "      <td>AfricanAmerican</td>\n",
       "      <td>Female</td>\n",
       "      <td>[50-60)</td>\n",
       "      <td>?</td>\n",
       "      <td>Emergency</td>\n",
       "      <td>Discharged to home</td>\n",
       "      <td>Transfer from another health care facility</td>\n",
       "      <td>4</td>\n",
       "      <td>UN</td>\n",
       "      <td>?</td>\n",
       "      <td>33</td>\n",
       "      <td>1</td>\n",
       "      <td>5</td>\n",
       "      <td>0</td>\n",
       "      <td>0</td>\n",
       "      <td>0</td>\n",
       "      <td>682</td>\n",
       "      <td>41</td>\n",
       "      <td>250</td>\n",
       "      <td>3</td>\n",
       "      <td>None</td>\n",
       "      <td>None</td>\n",
       "      <td>No</td>\n",
       "      <td>No</td>\n",
       "      <td>No</td>\n",
       "      <td>No</td>\n",
       "      <td>No</td>\n",
       "      <td>No</td>\n",
       "      <td>No</td>\n",
       "      <td>No</td>\n",
       "      <td>No</td>\n",
       "      <td>No</td>\n",
       "      <td>No</td>\n",
       "      <td>No</td>\n",
       "      <td>No</td>\n",
       "      <td>No</td>\n",
       "      <td>No</td>\n",
       "      <td>No</td>\n",
       "      <td>No</td>\n",
       "      <td>Steady</td>\n",
       "      <td>No</td>\n",
       "      <td>No</td>\n",
       "      <td>No</td>\n",
       "      <td>No</td>\n",
       "      <td>No</td>\n",
       "      <td>No</td>\n",
       "      <td>Yes</td>\n",
       "      <td>False</td>\n",
       "      <td>Cellulitis and abscess of face</td>\n",
       "      <td>Streptococcus infection in conditions classifi...</td>\n",
       "      <td>Diabetes mellitus without mention of complicat...</td>\n",
       "    </tr>\n",
       "    <tr>\n",
       "      <th>4</th>\n",
       "      <td>AfricanAmerican</td>\n",
       "      <td>Female</td>\n",
       "      <td>[50-60)</td>\n",
       "      <td>?</td>\n",
       "      <td>Emergency</td>\n",
       "      <td>Discharged to home</td>\n",
       "      <td>Emergency Room</td>\n",
       "      <td>5</td>\n",
       "      <td>?</td>\n",
       "      <td>Psychiatry</td>\n",
       "      <td>31</td>\n",
       "      <td>0</td>\n",
       "      <td>13</td>\n",
       "      <td>0</td>\n",
       "      <td>0</td>\n",
       "      <td>0</td>\n",
       "      <td>296</td>\n",
       "      <td>250.01</td>\n",
       "      <td>298</td>\n",
       "      <td>7</td>\n",
       "      <td>None</td>\n",
       "      <td>None</td>\n",
       "      <td>Steady</td>\n",
       "      <td>No</td>\n",
       "      <td>No</td>\n",
       "      <td>No</td>\n",
       "      <td>No</td>\n",
       "      <td>No</td>\n",
       "      <td>Steady</td>\n",
       "      <td>No</td>\n",
       "      <td>No</td>\n",
       "      <td>No</td>\n",
       "      <td>No</td>\n",
       "      <td>No</td>\n",
       "      <td>No</td>\n",
       "      <td>No</td>\n",
       "      <td>No</td>\n",
       "      <td>No</td>\n",
       "      <td>No</td>\n",
       "      <td>Steady</td>\n",
       "      <td>No</td>\n",
       "      <td>No</td>\n",
       "      <td>No</td>\n",
       "      <td>No</td>\n",
       "      <td>No</td>\n",
       "      <td>Ch</td>\n",
       "      <td>Yes</td>\n",
       "      <td>False</td>\n",
       "      <td>Bipolar I disorder, single manic episode, unsp...</td>\n",
       "      <td>Diabetes mellitus without mention of complicat...</td>\n",
       "      <td>Depressive type psychosis</td>\n",
       "    </tr>\n",
       "  </tbody>\n",
       "</table>\n",
       "</div>"
      ],
      "text/plain": [
       "              race  gender      age   weight admission_type_id  \\\n",
       "0        Caucasian  Female  [50-60)        ?          Elective   \n",
       "1        Caucasian  Female  [20-30)  [50-75)            Urgent   \n",
       "2        Caucasian    Male  [80-90)        ?     Not Available   \n",
       "3  AfricanAmerican  Female  [50-60)        ?         Emergency   \n",
       "4  AfricanAmerican  Female  [50-60)        ?         Emergency   \n",
       "\n",
       "                            discharge_disposition_id  \\\n",
       "0                                 Discharged to home   \n",
       "1                                 Discharged to home   \n",
       "2  Discharged/transferred to home with home healt...   \n",
       "3                                 Discharged to home   \n",
       "4                                 Discharged to home   \n",
       "\n",
       "                          admission_source_id  time_in_hospital payer_code  \\\n",
       "0                          Physician Referral                 1         CP   \n",
       "1                          Physician Referral                 2         UN   \n",
       "2                                         NaN                 7         MC   \n",
       "3  Transfer from another health care facility                 4         UN   \n",
       "4                              Emergency Room                 5          ?   \n",
       "\n",
       "        medical_specialty  num_lab_procedures  num_procedures  \\\n",
       "0           Surgery-Neuro                  35               4   \n",
       "1                       ?                   8               5   \n",
       "2  Family/GeneralPractice                  12               0   \n",
       "3                       ?                  33               1   \n",
       "4              Psychiatry                  31               0   \n",
       "\n",
       "   num_medications  number_outpatient  number_emergency  number_inpatient  \\\n",
       "0               21                  0                 0                 0   \n",
       "1                5                  0                 0                 0   \n",
       "2               21                  0                 0                 1   \n",
       "3                5                  0                 0                 0   \n",
       "4               13                  0                 0                 0   \n",
       "\n",
       "  diag_1  diag_2 diag_3  number_diagnoses max_glu_serum A1Cresult metformin  \\\n",
       "0    723     723    719                 9          None      None        No   \n",
       "1    664     648    285                 6          None      None        No   \n",
       "2    481     428    276                 9          >200      None        No   \n",
       "3    682      41    250                 3          None      None        No   \n",
       "4    296  250.01    298                 7          None      None    Steady   \n",
       "\n",
       "  repaglinide nateglinide chlorpropamide glimepiride acetohexamide glipizide  \\\n",
       "0          No          No             No          No            No        No   \n",
       "1          No          No             No          No            No        No   \n",
       "2          No          No             No          No            No        No   \n",
       "3          No          No             No          No            No        No   \n",
       "4          No          No             No          No            No    Steady   \n",
       "\n",
       "  glyburide tolbutamide pioglitazone rosiglitazone acarbose miglitol  \\\n",
       "0        No          No           No            No       No       No   \n",
       "1        No          No           No            No       No       No   \n",
       "2        No          No           No            No       No       No   \n",
       "3        No          No           No            No       No       No   \n",
       "4        No          No           No            No       No       No   \n",
       "\n",
       "  troglitazone tolazamide examide citoglipton insulin glyburide.metformin  \\\n",
       "0           No         No      No          No      No                  No   \n",
       "1           No         No      No          No      No                  No   \n",
       "2           No         No      No          No  Steady                  No   \n",
       "3           No         No      No          No  Steady                  No   \n",
       "4           No         No      No          No  Steady                  No   \n",
       "\n",
       "  glipizide.metformin glimepiride.pioglitazone metformin.rosiglitazone  \\\n",
       "0                  No                       No                      No   \n",
       "1                  No                       No                      No   \n",
       "2                  No                       No                      No   \n",
       "3                  No                       No                      No   \n",
       "4                  No                       No                      No   \n",
       "\n",
       "  metformin.pioglitazone change diabetesMed  readmitted  \\\n",
       "0                     No     No          No       False   \n",
       "1                     No     No          No       False   \n",
       "2                     No     No         Yes        True   \n",
       "3                     No     No         Yes       False   \n",
       "4                     No     Ch         Yes       False   \n",
       "\n",
       "                                         diag_1_desc  \\\n",
       "0                 Spinal stenosis in cervical region   \n",
       "1  First-degree perineal laceration, unspecified ...   \n",
       "2  Pneumococcal pneumonia [Streptococcus pneumoni...   \n",
       "3                     Cellulitis and abscess of face   \n",
       "4  Bipolar I disorder, single manic episode, unsp...   \n",
       "\n",
       "                                         diag_2_desc  \\\n",
       "0                 Spinal stenosis in cervical region   \n",
       "1  Diabetes mellitus of mother, complicating preg...   \n",
       "2              Congestive heart failure, unspecified   \n",
       "3  Streptococcus infection in conditions classifi...   \n",
       "4  Diabetes mellitus without mention of complicat...   \n",
       "\n",
       "                                         diag_3_desc  \n",
       "0                Effusion of joint, site unspecified  \n",
       "1                               Sideroblastic anemia  \n",
       "2               Hyperosmolality and/or hypernatremia  \n",
       "3  Diabetes mellitus without mention of complicat...  \n",
       "4                          Depressive type psychosis  "
      ]
     },
     "execution_count": 16,
     "metadata": {},
     "output_type": "execute_result"
    }
   ],
   "source": [
    "# Read the data frame\n",
    "df = pd.read_csv('hospital_readmission.csv', delimiter=',')\n",
    "df.head()"
   ]
  },
  {
   "cell_type": "code",
   "execution_count": 17,
   "metadata": {},
   "outputs": [
    {
     "name": "stdout",
     "output_type": "stream",
     "text": [
      "Shape of the Data Set: (10000, 51)\n"
     ]
    }
   ],
   "source": [
    "print(f\"Shape of the Data Set: {df.shape}\")"
   ]
  },
  {
   "cell_type": "markdown",
   "metadata": {
    "_uuid": "c667e1460e41d27bacc0f6e37023ad6b36a60fbf"
   },
   "source": [
    "At the moment the data is consist of 10000 observations and 51 columns from which `discharge_disposition_id`, `admission_source_id` are not required as these are specific to patiets."
   ]
  },
  {
   "cell_type": "code",
   "execution_count": 18,
   "metadata": {},
   "outputs": [],
   "source": [
    "df = df.drop([\"weight\", \"age\", \"discharge_disposition_id\", \"admission_source_id\"], axis=1)"
   ]
  },
  {
   "cell_type": "code",
   "execution_count": 19,
   "metadata": {},
   "outputs": [
    {
     "data": {
      "text/plain": [
       "race                          0\n",
       "gender                        0\n",
       "admission_type_id           721\n",
       "time_in_hospital              0\n",
       "payer_code                    0\n",
       "medical_specialty             0\n",
       "num_lab_procedures            0\n",
       "num_procedures                0\n",
       "num_medications               0\n",
       "number_outpatient             0\n",
       "number_emergency              0\n",
       "number_inpatient              0\n",
       "diag_1                        0\n",
       "diag_2                        0\n",
       "diag_3                        0\n",
       "number_diagnoses              0\n",
       "max_glu_serum                 0\n",
       "A1Cresult                     0\n",
       "metformin                     0\n",
       "repaglinide                   0\n",
       "nateglinide                   0\n",
       "chlorpropamide                0\n",
       "glimepiride                   0\n",
       "acetohexamide                 0\n",
       "glipizide                     0\n",
       "glyburide                     0\n",
       "tolbutamide                   0\n",
       "pioglitazone                  0\n",
       "rosiglitazone                 0\n",
       "acarbose                      0\n",
       "miglitol                      0\n",
       "troglitazone                  0\n",
       "tolazamide                    0\n",
       "examide                       0\n",
       "citoglipton                   0\n",
       "insulin                       0\n",
       "glyburide.metformin           0\n",
       "glipizide.metformin           0\n",
       "glimepiride.pioglitazone      0\n",
       "metformin.rosiglitazone       0\n",
       "metformin.pioglitazone        0\n",
       "change                        0\n",
       "diabetesMed                   0\n",
       "readmitted                    0\n",
       "diag_1_desc                   2\n",
       "diag_2_desc                  59\n",
       "diag_3_desc                 208\n",
       "dtype: int64"
      ]
     },
     "execution_count": 19,
     "metadata": {},
     "output_type": "execute_result"
    }
   ],
   "source": [
    "# Check columns list and missing values\n",
    "df.isnull().sum()"
   ]
  },
  {
   "cell_type": "markdown",
   "metadata": {},
   "source": [
    "We have missing values in `payer_code`, `medical_specialty`, `diag_2_desc`, `diag_3_desc` so we need to drop them to make better predicitons"
   ]
  },
  {
   "cell_type": "code",
   "execution_count": 33,
   "metadata": {},
   "outputs": [],
   "source": [
    "# Handling missing values\n",
    "\n",
    "df = df[df[\"payer_code\"] != \"?\"]\n",
    "df = df[df['medical_specialty'] != \"?\"]\n",
    "df = df[df['race'] != \"?\"]\n",
    "df = df[df[\"diag_2_desc\"].notna()]\n",
    "df = df[df[\"diag_3_desc\"].notna()]"
   ]
  },
  {
   "cell_type": "code",
   "execution_count": 34,
   "metadata": {
    "_uuid": "a6dfad720fe338fc75cae3078d7b05c618d83503"
   },
   "outputs": [
    {
     "data": {
      "text/html": [
       "<div>\n",
       "<style scoped>\n",
       "    .dataframe tbody tr th:only-of-type {\n",
       "        vertical-align: middle;\n",
       "    }\n",
       "\n",
       "    .dataframe tbody tr th {\n",
       "        vertical-align: top;\n",
       "    }\n",
       "\n",
       "    .dataframe thead th {\n",
       "        text-align: right;\n",
       "    }\n",
       "</style>\n",
       "<table border=\"1\" class=\"dataframe\">\n",
       "  <thead>\n",
       "    <tr style=\"text-align: right;\">\n",
       "      <th></th>\n",
       "      <th>time_in_hospital</th>\n",
       "      <th>num_lab_procedures</th>\n",
       "      <th>num_procedures</th>\n",
       "      <th>num_medications</th>\n",
       "      <th>number_outpatient</th>\n",
       "      <th>number_emergency</th>\n",
       "      <th>number_inpatient</th>\n",
       "      <th>number_diagnoses</th>\n",
       "    </tr>\n",
       "  </thead>\n",
       "  <tbody>\n",
       "    <tr>\n",
       "      <th>count</th>\n",
       "      <td>2543.000000</td>\n",
       "      <td>2543.000000</td>\n",
       "      <td>2543.000000</td>\n",
       "      <td>2543.000000</td>\n",
       "      <td>2543.000000</td>\n",
       "      <td>2543.000000</td>\n",
       "      <td>2543.000000</td>\n",
       "      <td>2543.000000</td>\n",
       "    </tr>\n",
       "    <tr>\n",
       "      <th>mean</th>\n",
       "      <td>4.253244</td>\n",
       "      <td>39.906017</td>\n",
       "      <td>1.437279</td>\n",
       "      <td>15.629178</td>\n",
       "      <td>0.274479</td>\n",
       "      <td>0.172238</td>\n",
       "      <td>0.357059</td>\n",
       "      <td>6.875344</td>\n",
       "    </tr>\n",
       "    <tr>\n",
       "      <th>std</th>\n",
       "      <td>2.966566</td>\n",
       "      <td>19.263531</td>\n",
       "      <td>1.700852</td>\n",
       "      <td>9.050199</td>\n",
       "      <td>1.009088</td>\n",
       "      <td>1.036425</td>\n",
       "      <td>0.802188</td>\n",
       "      <td>1.933135</td>\n",
       "    </tr>\n",
       "    <tr>\n",
       "      <th>min</th>\n",
       "      <td>1.000000</td>\n",
       "      <td>1.000000</td>\n",
       "      <td>0.000000</td>\n",
       "      <td>1.000000</td>\n",
       "      <td>0.000000</td>\n",
       "      <td>0.000000</td>\n",
       "      <td>0.000000</td>\n",
       "      <td>3.000000</td>\n",
       "    </tr>\n",
       "    <tr>\n",
       "      <th>25%</th>\n",
       "      <td>2.000000</td>\n",
       "      <td>30.000000</td>\n",
       "      <td>0.000000</td>\n",
       "      <td>10.000000</td>\n",
       "      <td>0.000000</td>\n",
       "      <td>0.000000</td>\n",
       "      <td>0.000000</td>\n",
       "      <td>5.000000</td>\n",
       "    </tr>\n",
       "    <tr>\n",
       "      <th>50%</th>\n",
       "      <td>3.000000</td>\n",
       "      <td>42.000000</td>\n",
       "      <td>1.000000</td>\n",
       "      <td>14.000000</td>\n",
       "      <td>0.000000</td>\n",
       "      <td>0.000000</td>\n",
       "      <td>0.000000</td>\n",
       "      <td>7.000000</td>\n",
       "    </tr>\n",
       "    <tr>\n",
       "      <th>75%</th>\n",
       "      <td>6.000000</td>\n",
       "      <td>52.000000</td>\n",
       "      <td>2.000000</td>\n",
       "      <td>19.000000</td>\n",
       "      <td>0.000000</td>\n",
       "      <td>0.000000</td>\n",
       "      <td>0.000000</td>\n",
       "      <td>9.000000</td>\n",
       "    </tr>\n",
       "    <tr>\n",
       "      <th>max</th>\n",
       "      <td>14.000000</td>\n",
       "      <td>113.000000</td>\n",
       "      <td>6.000000</td>\n",
       "      <td>81.000000</td>\n",
       "      <td>14.000000</td>\n",
       "      <td>42.000000</td>\n",
       "      <td>9.000000</td>\n",
       "      <td>9.000000</td>\n",
       "    </tr>\n",
       "  </tbody>\n",
       "</table>\n",
       "</div>"
      ],
      "text/plain": [
       "       time_in_hospital  num_lab_procedures  num_procedures  num_medications  \\\n",
       "count       2543.000000         2543.000000     2543.000000      2543.000000   \n",
       "mean           4.253244           39.906017        1.437279        15.629178   \n",
       "std            2.966566           19.263531        1.700852         9.050199   \n",
       "min            1.000000            1.000000        0.000000         1.000000   \n",
       "25%            2.000000           30.000000        0.000000        10.000000   \n",
       "50%            3.000000           42.000000        1.000000        14.000000   \n",
       "75%            6.000000           52.000000        2.000000        19.000000   \n",
       "max           14.000000          113.000000        6.000000        81.000000   \n",
       "\n",
       "       number_outpatient  number_emergency  number_inpatient  number_diagnoses  \n",
       "count        2543.000000       2543.000000       2543.000000       2543.000000  \n",
       "mean            0.274479          0.172238          0.357059          6.875344  \n",
       "std             1.009088          1.036425          0.802188          1.933135  \n",
       "min             0.000000          0.000000          0.000000          3.000000  \n",
       "25%             0.000000          0.000000          0.000000          5.000000  \n",
       "50%             0.000000          0.000000          0.000000          7.000000  \n",
       "75%             0.000000          0.000000          0.000000          9.000000  \n",
       "max            14.000000         42.000000          9.000000          9.000000  "
      ]
     },
     "execution_count": 34,
     "metadata": {},
     "output_type": "execute_result"
    }
   ],
   "source": [
    "df.describe()"
   ]
  },
  {
   "cell_type": "code",
   "execution_count": 35,
   "metadata": {},
   "outputs": [
    {
     "data": {
      "text/html": [
       "<div>\n",
       "<style scoped>\n",
       "    .dataframe tbody tr th:only-of-type {\n",
       "        vertical-align: middle;\n",
       "    }\n",
       "\n",
       "    .dataframe tbody tr th {\n",
       "        vertical-align: top;\n",
       "    }\n",
       "\n",
       "    .dataframe thead th {\n",
       "        text-align: right;\n",
       "    }\n",
       "</style>\n",
       "<table border=\"1\" class=\"dataframe\">\n",
       "  <thead>\n",
       "    <tr style=\"text-align: right;\">\n",
       "      <th></th>\n",
       "      <th>race</th>\n",
       "      <th>gender</th>\n",
       "      <th>admission_type_id</th>\n",
       "      <th>time_in_hospital</th>\n",
       "      <th>payer_code</th>\n",
       "      <th>medical_specialty</th>\n",
       "      <th>num_lab_procedures</th>\n",
       "      <th>num_procedures</th>\n",
       "      <th>num_medications</th>\n",
       "      <th>number_outpatient</th>\n",
       "      <th>number_emergency</th>\n",
       "      <th>number_inpatient</th>\n",
       "      <th>diag_1</th>\n",
       "      <th>diag_2</th>\n",
       "      <th>diag_3</th>\n",
       "      <th>number_diagnoses</th>\n",
       "      <th>max_glu_serum</th>\n",
       "      <th>A1Cresult</th>\n",
       "      <th>metformin</th>\n",
       "      <th>repaglinide</th>\n",
       "      <th>nateglinide</th>\n",
       "      <th>chlorpropamide</th>\n",
       "      <th>glimepiride</th>\n",
       "      <th>acetohexamide</th>\n",
       "      <th>glipizide</th>\n",
       "      <th>glyburide</th>\n",
       "      <th>tolbutamide</th>\n",
       "      <th>pioglitazone</th>\n",
       "      <th>rosiglitazone</th>\n",
       "      <th>acarbose</th>\n",
       "      <th>miglitol</th>\n",
       "      <th>troglitazone</th>\n",
       "      <th>tolazamide</th>\n",
       "      <th>examide</th>\n",
       "      <th>citoglipton</th>\n",
       "      <th>insulin</th>\n",
       "      <th>glyburide.metformin</th>\n",
       "      <th>glipizide.metformin</th>\n",
       "      <th>glimepiride.pioglitazone</th>\n",
       "      <th>metformin.rosiglitazone</th>\n",
       "      <th>metformin.pioglitazone</th>\n",
       "      <th>change</th>\n",
       "      <th>diabetesMed</th>\n",
       "      <th>readmitted</th>\n",
       "      <th>diag_1_desc</th>\n",
       "      <th>diag_2_desc</th>\n",
       "      <th>diag_3_desc</th>\n",
       "    </tr>\n",
       "  </thead>\n",
       "  <tbody>\n",
       "    <tr>\n",
       "      <th>0</th>\n",
       "      <td>Caucasian</td>\n",
       "      <td>Female</td>\n",
       "      <td>Elective</td>\n",
       "      <td>1</td>\n",
       "      <td>CP</td>\n",
       "      <td>Surgery-Neuro</td>\n",
       "      <td>35</td>\n",
       "      <td>4</td>\n",
       "      <td>21</td>\n",
       "      <td>0</td>\n",
       "      <td>0</td>\n",
       "      <td>0</td>\n",
       "      <td>723</td>\n",
       "      <td>723</td>\n",
       "      <td>719</td>\n",
       "      <td>9</td>\n",
       "      <td>None</td>\n",
       "      <td>None</td>\n",
       "      <td>No</td>\n",
       "      <td>No</td>\n",
       "      <td>No</td>\n",
       "      <td>No</td>\n",
       "      <td>No</td>\n",
       "      <td>No</td>\n",
       "      <td>No</td>\n",
       "      <td>No</td>\n",
       "      <td>No</td>\n",
       "      <td>No</td>\n",
       "      <td>No</td>\n",
       "      <td>No</td>\n",
       "      <td>No</td>\n",
       "      <td>No</td>\n",
       "      <td>No</td>\n",
       "      <td>No</td>\n",
       "      <td>No</td>\n",
       "      <td>No</td>\n",
       "      <td>No</td>\n",
       "      <td>No</td>\n",
       "      <td>No</td>\n",
       "      <td>No</td>\n",
       "      <td>No</td>\n",
       "      <td>No</td>\n",
       "      <td>No</td>\n",
       "      <td>False</td>\n",
       "      <td>Spinal stenosis in cervical region</td>\n",
       "      <td>Spinal stenosis in cervical region</td>\n",
       "      <td>Effusion of joint, site unspecified</td>\n",
       "    </tr>\n",
       "    <tr>\n",
       "      <th>2</th>\n",
       "      <td>Caucasian</td>\n",
       "      <td>Male</td>\n",
       "      <td>Not Available</td>\n",
       "      <td>7</td>\n",
       "      <td>MC</td>\n",
       "      <td>Family/GeneralPractice</td>\n",
       "      <td>12</td>\n",
       "      <td>0</td>\n",
       "      <td>21</td>\n",
       "      <td>0</td>\n",
       "      <td>0</td>\n",
       "      <td>1</td>\n",
       "      <td>481</td>\n",
       "      <td>428</td>\n",
       "      <td>276</td>\n",
       "      <td>9</td>\n",
       "      <td>&gt;200</td>\n",
       "      <td>None</td>\n",
       "      <td>No</td>\n",
       "      <td>No</td>\n",
       "      <td>No</td>\n",
       "      <td>No</td>\n",
       "      <td>No</td>\n",
       "      <td>No</td>\n",
       "      <td>No</td>\n",
       "      <td>No</td>\n",
       "      <td>No</td>\n",
       "      <td>No</td>\n",
       "      <td>No</td>\n",
       "      <td>No</td>\n",
       "      <td>No</td>\n",
       "      <td>No</td>\n",
       "      <td>No</td>\n",
       "      <td>No</td>\n",
       "      <td>No</td>\n",
       "      <td>Steady</td>\n",
       "      <td>No</td>\n",
       "      <td>No</td>\n",
       "      <td>No</td>\n",
       "      <td>No</td>\n",
       "      <td>No</td>\n",
       "      <td>No</td>\n",
       "      <td>Yes</td>\n",
       "      <td>True</td>\n",
       "      <td>Pneumococcal pneumonia [Streptococcus pneumoni...</td>\n",
       "      <td>Congestive heart failure, unspecified</td>\n",
       "      <td>Hyperosmolality and/or hypernatremia</td>\n",
       "    </tr>\n",
       "    <tr>\n",
       "      <th>6</th>\n",
       "      <td>Caucasian</td>\n",
       "      <td>Female</td>\n",
       "      <td>Elective</td>\n",
       "      <td>6</td>\n",
       "      <td>MC</td>\n",
       "      <td>InternalMedicine</td>\n",
       "      <td>46</td>\n",
       "      <td>1</td>\n",
       "      <td>20</td>\n",
       "      <td>0</td>\n",
       "      <td>0</td>\n",
       "      <td>0</td>\n",
       "      <td>434</td>\n",
       "      <td>345</td>\n",
       "      <td>584</td>\n",
       "      <td>8</td>\n",
       "      <td>None</td>\n",
       "      <td>None</td>\n",
       "      <td>No</td>\n",
       "      <td>No</td>\n",
       "      <td>No</td>\n",
       "      <td>No</td>\n",
       "      <td>No</td>\n",
       "      <td>No</td>\n",
       "      <td>No</td>\n",
       "      <td>No</td>\n",
       "      <td>No</td>\n",
       "      <td>No</td>\n",
       "      <td>No</td>\n",
       "      <td>No</td>\n",
       "      <td>No</td>\n",
       "      <td>No</td>\n",
       "      <td>No</td>\n",
       "      <td>No</td>\n",
       "      <td>No</td>\n",
       "      <td>Steady</td>\n",
       "      <td>No</td>\n",
       "      <td>No</td>\n",
       "      <td>No</td>\n",
       "      <td>No</td>\n",
       "      <td>No</td>\n",
       "      <td>No</td>\n",
       "      <td>Yes</td>\n",
       "      <td>False</td>\n",
       "      <td>Cerebral thrombosis without mention of cerebra...</td>\n",
       "      <td>Generalized nonconvulsive epilepsy, without me...</td>\n",
       "      <td>Acute kidney failure</td>\n",
       "    </tr>\n",
       "    <tr>\n",
       "      <th>10</th>\n",
       "      <td>Caucasian</td>\n",
       "      <td>Male</td>\n",
       "      <td>Urgent</td>\n",
       "      <td>14</td>\n",
       "      <td>MC</td>\n",
       "      <td>Surgery-Cardiovascular/Thoracic</td>\n",
       "      <td>45</td>\n",
       "      <td>2</td>\n",
       "      <td>44</td>\n",
       "      <td>0</td>\n",
       "      <td>0</td>\n",
       "      <td>0</td>\n",
       "      <td>997</td>\n",
       "      <td>428</td>\n",
       "      <td>511</td>\n",
       "      <td>9</td>\n",
       "      <td>None</td>\n",
       "      <td>&gt;7</td>\n",
       "      <td>Down</td>\n",
       "      <td>No</td>\n",
       "      <td>No</td>\n",
       "      <td>No</td>\n",
       "      <td>No</td>\n",
       "      <td>No</td>\n",
       "      <td>Steady</td>\n",
       "      <td>Steady</td>\n",
       "      <td>No</td>\n",
       "      <td>No</td>\n",
       "      <td>No</td>\n",
       "      <td>No</td>\n",
       "      <td>No</td>\n",
       "      <td>No</td>\n",
       "      <td>No</td>\n",
       "      <td>No</td>\n",
       "      <td>No</td>\n",
       "      <td>Down</td>\n",
       "      <td>No</td>\n",
       "      <td>No</td>\n",
       "      <td>No</td>\n",
       "      <td>No</td>\n",
       "      <td>No</td>\n",
       "      <td>Ch</td>\n",
       "      <td>Yes</td>\n",
       "      <td>False</td>\n",
       "      <td>Nervous system complication, unspecified</td>\n",
       "      <td>Congestive heart failure, unspecified</td>\n",
       "      <td>Pleurisy without mention of effusion or curren...</td>\n",
       "    </tr>\n",
       "    <tr>\n",
       "      <th>11</th>\n",
       "      <td>AfricanAmerican</td>\n",
       "      <td>Male</td>\n",
       "      <td>Emergency</td>\n",
       "      <td>2</td>\n",
       "      <td>MC</td>\n",
       "      <td>Family/GeneralPractice</td>\n",
       "      <td>60</td>\n",
       "      <td>0</td>\n",
       "      <td>8</td>\n",
       "      <td>0</td>\n",
       "      <td>0</td>\n",
       "      <td>1</td>\n",
       "      <td>250.8</td>\n",
       "      <td>799</td>\n",
       "      <td>401</td>\n",
       "      <td>5</td>\n",
       "      <td>None</td>\n",
       "      <td>None</td>\n",
       "      <td>No</td>\n",
       "      <td>No</td>\n",
       "      <td>No</td>\n",
       "      <td>No</td>\n",
       "      <td>No</td>\n",
       "      <td>No</td>\n",
       "      <td>No</td>\n",
       "      <td>No</td>\n",
       "      <td>No</td>\n",
       "      <td>No</td>\n",
       "      <td>No</td>\n",
       "      <td>No</td>\n",
       "      <td>No</td>\n",
       "      <td>No</td>\n",
       "      <td>No</td>\n",
       "      <td>No</td>\n",
       "      <td>No</td>\n",
       "      <td>Steady</td>\n",
       "      <td>No</td>\n",
       "      <td>No</td>\n",
       "      <td>No</td>\n",
       "      <td>No</td>\n",
       "      <td>No</td>\n",
       "      <td>No</td>\n",
       "      <td>Yes</td>\n",
       "      <td>False</td>\n",
       "      <td>Diabetes with other specified manifestations, ...</td>\n",
       "      <td>Other ill-defined and unknown causes of morbid...</td>\n",
       "      <td>Malignant essential hypertension</td>\n",
       "    </tr>\n",
       "  </tbody>\n",
       "</table>\n",
       "</div>"
      ],
      "text/plain": [
       "               race  gender admission_type_id  time_in_hospital payer_code  \\\n",
       "0         Caucasian  Female          Elective                 1         CP   \n",
       "2         Caucasian    Male     Not Available                 7         MC   \n",
       "6         Caucasian  Female          Elective                 6         MC   \n",
       "10        Caucasian    Male            Urgent                14         MC   \n",
       "11  AfricanAmerican    Male         Emergency                 2         MC   \n",
       "\n",
       "                  medical_specialty  num_lab_procedures  num_procedures  \\\n",
       "0                     Surgery-Neuro                  35               4   \n",
       "2            Family/GeneralPractice                  12               0   \n",
       "6                  InternalMedicine                  46               1   \n",
       "10  Surgery-Cardiovascular/Thoracic                  45               2   \n",
       "11           Family/GeneralPractice                  60               0   \n",
       "\n",
       "    num_medications  number_outpatient  number_emergency  number_inpatient  \\\n",
       "0                21                  0                 0                 0   \n",
       "2                21                  0                 0                 1   \n",
       "6                20                  0                 0                 0   \n",
       "10               44                  0                 0                 0   \n",
       "11                8                  0                 0                 1   \n",
       "\n",
       "   diag_1 diag_2 diag_3  number_diagnoses max_glu_serum A1Cresult metformin  \\\n",
       "0     723    723    719                 9          None      None        No   \n",
       "2     481    428    276                 9          >200      None        No   \n",
       "6     434    345    584                 8          None      None        No   \n",
       "10    997    428    511                 9          None        >7      Down   \n",
       "11  250.8    799    401                 5          None      None        No   \n",
       "\n",
       "   repaglinide nateglinide chlorpropamide glimepiride acetohexamide glipizide  \\\n",
       "0           No          No             No          No            No        No   \n",
       "2           No          No             No          No            No        No   \n",
       "6           No          No             No          No            No        No   \n",
       "10          No          No             No          No            No    Steady   \n",
       "11          No          No             No          No            No        No   \n",
       "\n",
       "   glyburide tolbutamide pioglitazone rosiglitazone acarbose miglitol  \\\n",
       "0         No          No           No            No       No       No   \n",
       "2         No          No           No            No       No       No   \n",
       "6         No          No           No            No       No       No   \n",
       "10    Steady          No           No            No       No       No   \n",
       "11        No          No           No            No       No       No   \n",
       "\n",
       "   troglitazone tolazamide examide citoglipton insulin glyburide.metformin  \\\n",
       "0            No         No      No          No      No                  No   \n",
       "2            No         No      No          No  Steady                  No   \n",
       "6            No         No      No          No  Steady                  No   \n",
       "10           No         No      No          No    Down                  No   \n",
       "11           No         No      No          No  Steady                  No   \n",
       "\n",
       "   glipizide.metformin glimepiride.pioglitazone metformin.rosiglitazone  \\\n",
       "0                   No                       No                      No   \n",
       "2                   No                       No                      No   \n",
       "6                   No                       No                      No   \n",
       "10                  No                       No                      No   \n",
       "11                  No                       No                      No   \n",
       "\n",
       "   metformin.pioglitazone change diabetesMed  readmitted  \\\n",
       "0                      No     No          No       False   \n",
       "2                      No     No         Yes        True   \n",
       "6                      No     No         Yes       False   \n",
       "10                     No     Ch         Yes       False   \n",
       "11                     No     No         Yes       False   \n",
       "\n",
       "                                          diag_1_desc  \\\n",
       "0                  Spinal stenosis in cervical region   \n",
       "2   Pneumococcal pneumonia [Streptococcus pneumoni...   \n",
       "6   Cerebral thrombosis without mention of cerebra...   \n",
       "10           Nervous system complication, unspecified   \n",
       "11  Diabetes with other specified manifestations, ...   \n",
       "\n",
       "                                          diag_2_desc  \\\n",
       "0                  Spinal stenosis in cervical region   \n",
       "2               Congestive heart failure, unspecified   \n",
       "6   Generalized nonconvulsive epilepsy, without me...   \n",
       "10              Congestive heart failure, unspecified   \n",
       "11  Other ill-defined and unknown causes of morbid...   \n",
       "\n",
       "                                          diag_3_desc  \n",
       "0                 Effusion of joint, site unspecified  \n",
       "2                Hyperosmolality and/or hypernatremia  \n",
       "6                                Acute kidney failure  \n",
       "10  Pleurisy without mention of effusion or curren...  \n",
       "11                   Malignant essential hypertension  "
      ]
     },
     "execution_count": 35,
     "metadata": {},
     "output_type": "execute_result"
    }
   ],
   "source": [
    "df.head()"
   ]
  },
  {
   "cell_type": "code",
   "execution_count": 36,
   "metadata": {},
   "outputs": [
    {
     "data": {
      "application/vnd.plotly.v1+json": {
       "config": {
        "plotlyServerURL": "https://plot.ly"
       },
       "data": [
        {
         "alignmentgroup": "True",
         "hovertemplate": "variable=number_inpatient<br>readmitted=%{x}<br>value=%{y}<extra></extra>",
         "legendgroup": "number_inpatient",
         "marker": {
          "color": "#636efa",
          "pattern": {
           "shape": ""
          }
         },
         "name": "number_inpatient",
         "offsetgroup": "number_inpatient",
         "orientation": "v",
         "showlegend": true,
         "textposition": "auto",
         "type": "bar",
         "x": [
          false,
          true
         ],
         "xaxis": "x",
         "y": [
          0.2537673297166968,
          0.5509049773755657
         ],
         "yaxis": "y"
        },
        {
         "alignmentgroup": "True",
         "hovertemplate": "variable=number_outpatient<br>readmitted=%{x}<br>value=%{y}<extra></extra>",
         "legendgroup": "number_outpatient",
         "marker": {
          "color": "#EF553B",
          "pattern": {
           "shape": ""
          }
         },
         "name": "number_outpatient",
         "offsetgroup": "number_outpatient",
         "orientation": "v",
         "showlegend": true,
         "textposition": "auto",
         "type": "bar",
         "x": [
          false,
          true
         ],
         "xaxis": "x",
         "y": [
          0.20313441832429174,
          0.4083710407239819
         ],
         "yaxis": "y"
        }
       ],
       "layout": {
        "barmode": "relative",
        "legend": {
         "title": {
          "text": "variable"
         },
         "tracegroupgap": 0
        },
        "margin": {
         "t": 60
        },
        "template": {
         "data": {
          "bar": [
           {
            "error_x": {
             "color": "#2a3f5f"
            },
            "error_y": {
             "color": "#2a3f5f"
            },
            "marker": {
             "line": {
              "color": "#E5ECF6",
              "width": 0.5
             },
             "pattern": {
              "fillmode": "overlay",
              "size": 10,
              "solidity": 0.2
             }
            },
            "type": "bar"
           }
          ],
          "barpolar": [
           {
            "marker": {
             "line": {
              "color": "#E5ECF6",
              "width": 0.5
             },
             "pattern": {
              "fillmode": "overlay",
              "size": 10,
              "solidity": 0.2
             }
            },
            "type": "barpolar"
           }
          ],
          "carpet": [
           {
            "aaxis": {
             "endlinecolor": "#2a3f5f",
             "gridcolor": "white",
             "linecolor": "white",
             "minorgridcolor": "white",
             "startlinecolor": "#2a3f5f"
            },
            "baxis": {
             "endlinecolor": "#2a3f5f",
             "gridcolor": "white",
             "linecolor": "white",
             "minorgridcolor": "white",
             "startlinecolor": "#2a3f5f"
            },
            "type": "carpet"
           }
          ],
          "choropleth": [
           {
            "colorbar": {
             "outlinewidth": 0,
             "ticks": ""
            },
            "type": "choropleth"
           }
          ],
          "contour": [
           {
            "colorbar": {
             "outlinewidth": 0,
             "ticks": ""
            },
            "colorscale": [
             [
              0,
              "#0d0887"
             ],
             [
              0.1111111111111111,
              "#46039f"
             ],
             [
              0.2222222222222222,
              "#7201a8"
             ],
             [
              0.3333333333333333,
              "#9c179e"
             ],
             [
              0.4444444444444444,
              "#bd3786"
             ],
             [
              0.5555555555555556,
              "#d8576b"
             ],
             [
              0.6666666666666666,
              "#ed7953"
             ],
             [
              0.7777777777777778,
              "#fb9f3a"
             ],
             [
              0.8888888888888888,
              "#fdca26"
             ],
             [
              1,
              "#f0f921"
             ]
            ],
            "type": "contour"
           }
          ],
          "contourcarpet": [
           {
            "colorbar": {
             "outlinewidth": 0,
             "ticks": ""
            },
            "type": "contourcarpet"
           }
          ],
          "heatmap": [
           {
            "colorbar": {
             "outlinewidth": 0,
             "ticks": ""
            },
            "colorscale": [
             [
              0,
              "#0d0887"
             ],
             [
              0.1111111111111111,
              "#46039f"
             ],
             [
              0.2222222222222222,
              "#7201a8"
             ],
             [
              0.3333333333333333,
              "#9c179e"
             ],
             [
              0.4444444444444444,
              "#bd3786"
             ],
             [
              0.5555555555555556,
              "#d8576b"
             ],
             [
              0.6666666666666666,
              "#ed7953"
             ],
             [
              0.7777777777777778,
              "#fb9f3a"
             ],
             [
              0.8888888888888888,
              "#fdca26"
             ],
             [
              1,
              "#f0f921"
             ]
            ],
            "type": "heatmap"
           }
          ],
          "heatmapgl": [
           {
            "colorbar": {
             "outlinewidth": 0,
             "ticks": ""
            },
            "colorscale": [
             [
              0,
              "#0d0887"
             ],
             [
              0.1111111111111111,
              "#46039f"
             ],
             [
              0.2222222222222222,
              "#7201a8"
             ],
             [
              0.3333333333333333,
              "#9c179e"
             ],
             [
              0.4444444444444444,
              "#bd3786"
             ],
             [
              0.5555555555555556,
              "#d8576b"
             ],
             [
              0.6666666666666666,
              "#ed7953"
             ],
             [
              0.7777777777777778,
              "#fb9f3a"
             ],
             [
              0.8888888888888888,
              "#fdca26"
             ],
             [
              1,
              "#f0f921"
             ]
            ],
            "type": "heatmapgl"
           }
          ],
          "histogram": [
           {
            "marker": {
             "pattern": {
              "fillmode": "overlay",
              "size": 10,
              "solidity": 0.2
             }
            },
            "type": "histogram"
           }
          ],
          "histogram2d": [
           {
            "colorbar": {
             "outlinewidth": 0,
             "ticks": ""
            },
            "colorscale": [
             [
              0,
              "#0d0887"
             ],
             [
              0.1111111111111111,
              "#46039f"
             ],
             [
              0.2222222222222222,
              "#7201a8"
             ],
             [
              0.3333333333333333,
              "#9c179e"
             ],
             [
              0.4444444444444444,
              "#bd3786"
             ],
             [
              0.5555555555555556,
              "#d8576b"
             ],
             [
              0.6666666666666666,
              "#ed7953"
             ],
             [
              0.7777777777777778,
              "#fb9f3a"
             ],
             [
              0.8888888888888888,
              "#fdca26"
             ],
             [
              1,
              "#f0f921"
             ]
            ],
            "type": "histogram2d"
           }
          ],
          "histogram2dcontour": [
           {
            "colorbar": {
             "outlinewidth": 0,
             "ticks": ""
            },
            "colorscale": [
             [
              0,
              "#0d0887"
             ],
             [
              0.1111111111111111,
              "#46039f"
             ],
             [
              0.2222222222222222,
              "#7201a8"
             ],
             [
              0.3333333333333333,
              "#9c179e"
             ],
             [
              0.4444444444444444,
              "#bd3786"
             ],
             [
              0.5555555555555556,
              "#d8576b"
             ],
             [
              0.6666666666666666,
              "#ed7953"
             ],
             [
              0.7777777777777778,
              "#fb9f3a"
             ],
             [
              0.8888888888888888,
              "#fdca26"
             ],
             [
              1,
              "#f0f921"
             ]
            ],
            "type": "histogram2dcontour"
           }
          ],
          "mesh3d": [
           {
            "colorbar": {
             "outlinewidth": 0,
             "ticks": ""
            },
            "type": "mesh3d"
           }
          ],
          "parcoords": [
           {
            "line": {
             "colorbar": {
              "outlinewidth": 0,
              "ticks": ""
             }
            },
            "type": "parcoords"
           }
          ],
          "pie": [
           {
            "automargin": true,
            "type": "pie"
           }
          ],
          "scatter": [
           {
            "marker": {
             "colorbar": {
              "outlinewidth": 0,
              "ticks": ""
             }
            },
            "type": "scatter"
           }
          ],
          "scatter3d": [
           {
            "line": {
             "colorbar": {
              "outlinewidth": 0,
              "ticks": ""
             }
            },
            "marker": {
             "colorbar": {
              "outlinewidth": 0,
              "ticks": ""
             }
            },
            "type": "scatter3d"
           }
          ],
          "scattercarpet": [
           {
            "marker": {
             "colorbar": {
              "outlinewidth": 0,
              "ticks": ""
             }
            },
            "type": "scattercarpet"
           }
          ],
          "scattergeo": [
           {
            "marker": {
             "colorbar": {
              "outlinewidth": 0,
              "ticks": ""
             }
            },
            "type": "scattergeo"
           }
          ],
          "scattergl": [
           {
            "marker": {
             "colorbar": {
              "outlinewidth": 0,
              "ticks": ""
             }
            },
            "type": "scattergl"
           }
          ],
          "scattermapbox": [
           {
            "marker": {
             "colorbar": {
              "outlinewidth": 0,
              "ticks": ""
             }
            },
            "type": "scattermapbox"
           }
          ],
          "scatterpolar": [
           {
            "marker": {
             "colorbar": {
              "outlinewidth": 0,
              "ticks": ""
             }
            },
            "type": "scatterpolar"
           }
          ],
          "scatterpolargl": [
           {
            "marker": {
             "colorbar": {
              "outlinewidth": 0,
              "ticks": ""
             }
            },
            "type": "scatterpolargl"
           }
          ],
          "scatterternary": [
           {
            "marker": {
             "colorbar": {
              "outlinewidth": 0,
              "ticks": ""
             }
            },
            "type": "scatterternary"
           }
          ],
          "surface": [
           {
            "colorbar": {
             "outlinewidth": 0,
             "ticks": ""
            },
            "colorscale": [
             [
              0,
              "#0d0887"
             ],
             [
              0.1111111111111111,
              "#46039f"
             ],
             [
              0.2222222222222222,
              "#7201a8"
             ],
             [
              0.3333333333333333,
              "#9c179e"
             ],
             [
              0.4444444444444444,
              "#bd3786"
             ],
             [
              0.5555555555555556,
              "#d8576b"
             ],
             [
              0.6666666666666666,
              "#ed7953"
             ],
             [
              0.7777777777777778,
              "#fb9f3a"
             ],
             [
              0.8888888888888888,
              "#fdca26"
             ],
             [
              1,
              "#f0f921"
             ]
            ],
            "type": "surface"
           }
          ],
          "table": [
           {
            "cells": {
             "fill": {
              "color": "#EBF0F8"
             },
             "line": {
              "color": "white"
             }
            },
            "header": {
             "fill": {
              "color": "#C8D4E3"
             },
             "line": {
              "color": "white"
             }
            },
            "type": "table"
           }
          ]
         },
         "layout": {
          "annotationdefaults": {
           "arrowcolor": "#2a3f5f",
           "arrowhead": 0,
           "arrowwidth": 1
          },
          "autotypenumbers": "strict",
          "coloraxis": {
           "colorbar": {
            "outlinewidth": 0,
            "ticks": ""
           }
          },
          "colorscale": {
           "diverging": [
            [
             0,
             "#8e0152"
            ],
            [
             0.1,
             "#c51b7d"
            ],
            [
             0.2,
             "#de77ae"
            ],
            [
             0.3,
             "#f1b6da"
            ],
            [
             0.4,
             "#fde0ef"
            ],
            [
             0.5,
             "#f7f7f7"
            ],
            [
             0.6,
             "#e6f5d0"
            ],
            [
             0.7,
             "#b8e186"
            ],
            [
             0.8,
             "#7fbc41"
            ],
            [
             0.9,
             "#4d9221"
            ],
            [
             1,
             "#276419"
            ]
           ],
           "sequential": [
            [
             0,
             "#0d0887"
            ],
            [
             0.1111111111111111,
             "#46039f"
            ],
            [
             0.2222222222222222,
             "#7201a8"
            ],
            [
             0.3333333333333333,
             "#9c179e"
            ],
            [
             0.4444444444444444,
             "#bd3786"
            ],
            [
             0.5555555555555556,
             "#d8576b"
            ],
            [
             0.6666666666666666,
             "#ed7953"
            ],
            [
             0.7777777777777778,
             "#fb9f3a"
            ],
            [
             0.8888888888888888,
             "#fdca26"
            ],
            [
             1,
             "#f0f921"
            ]
           ],
           "sequentialminus": [
            [
             0,
             "#0d0887"
            ],
            [
             0.1111111111111111,
             "#46039f"
            ],
            [
             0.2222222222222222,
             "#7201a8"
            ],
            [
             0.3333333333333333,
             "#9c179e"
            ],
            [
             0.4444444444444444,
             "#bd3786"
            ],
            [
             0.5555555555555556,
             "#d8576b"
            ],
            [
             0.6666666666666666,
             "#ed7953"
            ],
            [
             0.7777777777777778,
             "#fb9f3a"
            ],
            [
             0.8888888888888888,
             "#fdca26"
            ],
            [
             1,
             "#f0f921"
            ]
           ]
          },
          "colorway": [
           "#636efa",
           "#EF553B",
           "#00cc96",
           "#ab63fa",
           "#FFA15A",
           "#19d3f3",
           "#FF6692",
           "#B6E880",
           "#FF97FF",
           "#FECB52"
          ],
          "font": {
           "color": "#2a3f5f"
          },
          "geo": {
           "bgcolor": "white",
           "lakecolor": "white",
           "landcolor": "#E5ECF6",
           "showlakes": true,
           "showland": true,
           "subunitcolor": "white"
          },
          "hoverlabel": {
           "align": "left"
          },
          "hovermode": "closest",
          "mapbox": {
           "style": "light"
          },
          "paper_bgcolor": "white",
          "plot_bgcolor": "#E5ECF6",
          "polar": {
           "angularaxis": {
            "gridcolor": "white",
            "linecolor": "white",
            "ticks": ""
           },
           "bgcolor": "#E5ECF6",
           "radialaxis": {
            "gridcolor": "white",
            "linecolor": "white",
            "ticks": ""
           }
          },
          "scene": {
           "xaxis": {
            "backgroundcolor": "#E5ECF6",
            "gridcolor": "white",
            "gridwidth": 2,
            "linecolor": "white",
            "showbackground": true,
            "ticks": "",
            "zerolinecolor": "white"
           },
           "yaxis": {
            "backgroundcolor": "#E5ECF6",
            "gridcolor": "white",
            "gridwidth": 2,
            "linecolor": "white",
            "showbackground": true,
            "ticks": "",
            "zerolinecolor": "white"
           },
           "zaxis": {
            "backgroundcolor": "#E5ECF6",
            "gridcolor": "white",
            "gridwidth": 2,
            "linecolor": "white",
            "showbackground": true,
            "ticks": "",
            "zerolinecolor": "white"
           }
          },
          "shapedefaults": {
           "line": {
            "color": "#2a3f5f"
           }
          },
          "ternary": {
           "aaxis": {
            "gridcolor": "white",
            "linecolor": "white",
            "ticks": ""
           },
           "baxis": {
            "gridcolor": "white",
            "linecolor": "white",
            "ticks": ""
           },
           "bgcolor": "#E5ECF6",
           "caxis": {
            "gridcolor": "white",
            "linecolor": "white",
            "ticks": ""
           }
          },
          "title": {
           "x": 0.05
          },
          "xaxis": {
           "automargin": true,
           "gridcolor": "white",
           "linecolor": "white",
           "ticks": "",
           "title": {
            "standoff": 15
           },
           "zerolinecolor": "white",
           "zerolinewidth": 2
          },
          "yaxis": {
           "automargin": true,
           "gridcolor": "white",
           "linecolor": "white",
           "ticks": "",
           "title": {
            "standoff": 15
           },
           "zerolinecolor": "white",
           "zerolinewidth": 2
          }
         }
        },
        "title": {
         "text": "Average no. of Inpatient and Outpatient Visits in the Preceding Year (True = Readmitted Patient)"
        },
        "uniformtext": {
         "minsize": 8,
         "mode": "hide"
        },
        "xaxis": {
         "anchor": "y",
         "domain": [
          0,
          1
         ],
         "title": {
          "text": "Average no. of Inpatient and Outpatient"
         }
        },
        "yaxis": {
         "anchor": "x",
         "domain": [
          0,
          1
         ],
         "title": {
          "text": "Re-admitted"
         }
        }
       }
      }
     },
     "metadata": {},
     "output_type": "display_data"
    }
   ],
   "source": [
    "df1 = df.groupby('readmitted').agg({'number_inpatient': 'mean', 'number_outpatient': 'mean'})\n",
    "fig = px.bar(df1)\n",
    "fig.update_layout(\n",
    "    uniformtext_minsize=8, uniformtext_mode='hide',\n",
    "    title=\"Average no. of Inpatient and Outpatient Visits in the Preceding Year (True = Readmitted Patient)\",\n",
    "    xaxis_title=\"Average no. of Inpatient and Outpatient\",\n",
    "    yaxis_title=\"Re-admitted\",\n",
    ")\n",
    "fig.show()"
   ]
  },
  {
   "cell_type": "code",
   "execution_count": 37,
   "metadata": {},
   "outputs": [
    {
     "data": {
      "application/vnd.plotly.v1+json": {
       "config": {
        "plotlyServerURL": "https://plot.ly"
       },
       "data": [
        {
         "alignmentgroup": "True",
         "hovertemplate": "admission_type_id=%{x}<br>readmitted=%{y}<extra></extra>",
         "legendgroup": "",
         "marker": {
          "color": "#636efa",
          "pattern": {
           "shape": ""
          }
         },
         "name": "",
         "offsetgroup": "",
         "orientation": "v",
         "showlegend": false,
         "textposition": "auto",
         "type": "bar",
         "x": [
          "Elective",
          "Emergency",
          "Not Available",
          "Urgent"
         ],
         "xaxis": "x",
         "y": [
          0.3790446841294299,
          0.3273986152324431,
          0.22772277227722773,
          0.3631713554987212
         ],
         "yaxis": "y"
        }
       ],
       "layout": {
        "barmode": "relative",
        "legend": {
         "tracegroupgap": 0
        },
        "margin": {
         "t": 60
        },
        "template": {
         "data": {
          "bar": [
           {
            "error_x": {
             "color": "#2a3f5f"
            },
            "error_y": {
             "color": "#2a3f5f"
            },
            "marker": {
             "line": {
              "color": "#E5ECF6",
              "width": 0.5
             },
             "pattern": {
              "fillmode": "overlay",
              "size": 10,
              "solidity": 0.2
             }
            },
            "type": "bar"
           }
          ],
          "barpolar": [
           {
            "marker": {
             "line": {
              "color": "#E5ECF6",
              "width": 0.5
             },
             "pattern": {
              "fillmode": "overlay",
              "size": 10,
              "solidity": 0.2
             }
            },
            "type": "barpolar"
           }
          ],
          "carpet": [
           {
            "aaxis": {
             "endlinecolor": "#2a3f5f",
             "gridcolor": "white",
             "linecolor": "white",
             "minorgridcolor": "white",
             "startlinecolor": "#2a3f5f"
            },
            "baxis": {
             "endlinecolor": "#2a3f5f",
             "gridcolor": "white",
             "linecolor": "white",
             "minorgridcolor": "white",
             "startlinecolor": "#2a3f5f"
            },
            "type": "carpet"
           }
          ],
          "choropleth": [
           {
            "colorbar": {
             "outlinewidth": 0,
             "ticks": ""
            },
            "type": "choropleth"
           }
          ],
          "contour": [
           {
            "colorbar": {
             "outlinewidth": 0,
             "ticks": ""
            },
            "colorscale": [
             [
              0,
              "#0d0887"
             ],
             [
              0.1111111111111111,
              "#46039f"
             ],
             [
              0.2222222222222222,
              "#7201a8"
             ],
             [
              0.3333333333333333,
              "#9c179e"
             ],
             [
              0.4444444444444444,
              "#bd3786"
             ],
             [
              0.5555555555555556,
              "#d8576b"
             ],
             [
              0.6666666666666666,
              "#ed7953"
             ],
             [
              0.7777777777777778,
              "#fb9f3a"
             ],
             [
              0.8888888888888888,
              "#fdca26"
             ],
             [
              1,
              "#f0f921"
             ]
            ],
            "type": "contour"
           }
          ],
          "contourcarpet": [
           {
            "colorbar": {
             "outlinewidth": 0,
             "ticks": ""
            },
            "type": "contourcarpet"
           }
          ],
          "heatmap": [
           {
            "colorbar": {
             "outlinewidth": 0,
             "ticks": ""
            },
            "colorscale": [
             [
              0,
              "#0d0887"
             ],
             [
              0.1111111111111111,
              "#46039f"
             ],
             [
              0.2222222222222222,
              "#7201a8"
             ],
             [
              0.3333333333333333,
              "#9c179e"
             ],
             [
              0.4444444444444444,
              "#bd3786"
             ],
             [
              0.5555555555555556,
              "#d8576b"
             ],
             [
              0.6666666666666666,
              "#ed7953"
             ],
             [
              0.7777777777777778,
              "#fb9f3a"
             ],
             [
              0.8888888888888888,
              "#fdca26"
             ],
             [
              1,
              "#f0f921"
             ]
            ],
            "type": "heatmap"
           }
          ],
          "heatmapgl": [
           {
            "colorbar": {
             "outlinewidth": 0,
             "ticks": ""
            },
            "colorscale": [
             [
              0,
              "#0d0887"
             ],
             [
              0.1111111111111111,
              "#46039f"
             ],
             [
              0.2222222222222222,
              "#7201a8"
             ],
             [
              0.3333333333333333,
              "#9c179e"
             ],
             [
              0.4444444444444444,
              "#bd3786"
             ],
             [
              0.5555555555555556,
              "#d8576b"
             ],
             [
              0.6666666666666666,
              "#ed7953"
             ],
             [
              0.7777777777777778,
              "#fb9f3a"
             ],
             [
              0.8888888888888888,
              "#fdca26"
             ],
             [
              1,
              "#f0f921"
             ]
            ],
            "type": "heatmapgl"
           }
          ],
          "histogram": [
           {
            "marker": {
             "pattern": {
              "fillmode": "overlay",
              "size": 10,
              "solidity": 0.2
             }
            },
            "type": "histogram"
           }
          ],
          "histogram2d": [
           {
            "colorbar": {
             "outlinewidth": 0,
             "ticks": ""
            },
            "colorscale": [
             [
              0,
              "#0d0887"
             ],
             [
              0.1111111111111111,
              "#46039f"
             ],
             [
              0.2222222222222222,
              "#7201a8"
             ],
             [
              0.3333333333333333,
              "#9c179e"
             ],
             [
              0.4444444444444444,
              "#bd3786"
             ],
             [
              0.5555555555555556,
              "#d8576b"
             ],
             [
              0.6666666666666666,
              "#ed7953"
             ],
             [
              0.7777777777777778,
              "#fb9f3a"
             ],
             [
              0.8888888888888888,
              "#fdca26"
             ],
             [
              1,
              "#f0f921"
             ]
            ],
            "type": "histogram2d"
           }
          ],
          "histogram2dcontour": [
           {
            "colorbar": {
             "outlinewidth": 0,
             "ticks": ""
            },
            "colorscale": [
             [
              0,
              "#0d0887"
             ],
             [
              0.1111111111111111,
              "#46039f"
             ],
             [
              0.2222222222222222,
              "#7201a8"
             ],
             [
              0.3333333333333333,
              "#9c179e"
             ],
             [
              0.4444444444444444,
              "#bd3786"
             ],
             [
              0.5555555555555556,
              "#d8576b"
             ],
             [
              0.6666666666666666,
              "#ed7953"
             ],
             [
              0.7777777777777778,
              "#fb9f3a"
             ],
             [
              0.8888888888888888,
              "#fdca26"
             ],
             [
              1,
              "#f0f921"
             ]
            ],
            "type": "histogram2dcontour"
           }
          ],
          "mesh3d": [
           {
            "colorbar": {
             "outlinewidth": 0,
             "ticks": ""
            },
            "type": "mesh3d"
           }
          ],
          "parcoords": [
           {
            "line": {
             "colorbar": {
              "outlinewidth": 0,
              "ticks": ""
             }
            },
            "type": "parcoords"
           }
          ],
          "pie": [
           {
            "automargin": true,
            "type": "pie"
           }
          ],
          "scatter": [
           {
            "marker": {
             "colorbar": {
              "outlinewidth": 0,
              "ticks": ""
             }
            },
            "type": "scatter"
           }
          ],
          "scatter3d": [
           {
            "line": {
             "colorbar": {
              "outlinewidth": 0,
              "ticks": ""
             }
            },
            "marker": {
             "colorbar": {
              "outlinewidth": 0,
              "ticks": ""
             }
            },
            "type": "scatter3d"
           }
          ],
          "scattercarpet": [
           {
            "marker": {
             "colorbar": {
              "outlinewidth": 0,
              "ticks": ""
             }
            },
            "type": "scattercarpet"
           }
          ],
          "scattergeo": [
           {
            "marker": {
             "colorbar": {
              "outlinewidth": 0,
              "ticks": ""
             }
            },
            "type": "scattergeo"
           }
          ],
          "scattergl": [
           {
            "marker": {
             "colorbar": {
              "outlinewidth": 0,
              "ticks": ""
             }
            },
            "type": "scattergl"
           }
          ],
          "scattermapbox": [
           {
            "marker": {
             "colorbar": {
              "outlinewidth": 0,
              "ticks": ""
             }
            },
            "type": "scattermapbox"
           }
          ],
          "scatterpolar": [
           {
            "marker": {
             "colorbar": {
              "outlinewidth": 0,
              "ticks": ""
             }
            },
            "type": "scatterpolar"
           }
          ],
          "scatterpolargl": [
           {
            "marker": {
             "colorbar": {
              "outlinewidth": 0,
              "ticks": ""
             }
            },
            "type": "scatterpolargl"
           }
          ],
          "scatterternary": [
           {
            "marker": {
             "colorbar": {
              "outlinewidth": 0,
              "ticks": ""
             }
            },
            "type": "scatterternary"
           }
          ],
          "surface": [
           {
            "colorbar": {
             "outlinewidth": 0,
             "ticks": ""
            },
            "colorscale": [
             [
              0,
              "#0d0887"
             ],
             [
              0.1111111111111111,
              "#46039f"
             ],
             [
              0.2222222222222222,
              "#7201a8"
             ],
             [
              0.3333333333333333,
              "#9c179e"
             ],
             [
              0.4444444444444444,
              "#bd3786"
             ],
             [
              0.5555555555555556,
              "#d8576b"
             ],
             [
              0.6666666666666666,
              "#ed7953"
             ],
             [
              0.7777777777777778,
              "#fb9f3a"
             ],
             [
              0.8888888888888888,
              "#fdca26"
             ],
             [
              1,
              "#f0f921"
             ]
            ],
            "type": "surface"
           }
          ],
          "table": [
           {
            "cells": {
             "fill": {
              "color": "#EBF0F8"
             },
             "line": {
              "color": "white"
             }
            },
            "header": {
             "fill": {
              "color": "#C8D4E3"
             },
             "line": {
              "color": "white"
             }
            },
            "type": "table"
           }
          ]
         },
         "layout": {
          "annotationdefaults": {
           "arrowcolor": "#2a3f5f",
           "arrowhead": 0,
           "arrowwidth": 1
          },
          "autotypenumbers": "strict",
          "coloraxis": {
           "colorbar": {
            "outlinewidth": 0,
            "ticks": ""
           }
          },
          "colorscale": {
           "diverging": [
            [
             0,
             "#8e0152"
            ],
            [
             0.1,
             "#c51b7d"
            ],
            [
             0.2,
             "#de77ae"
            ],
            [
             0.3,
             "#f1b6da"
            ],
            [
             0.4,
             "#fde0ef"
            ],
            [
             0.5,
             "#f7f7f7"
            ],
            [
             0.6,
             "#e6f5d0"
            ],
            [
             0.7,
             "#b8e186"
            ],
            [
             0.8,
             "#7fbc41"
            ],
            [
             0.9,
             "#4d9221"
            ],
            [
             1,
             "#276419"
            ]
           ],
           "sequential": [
            [
             0,
             "#0d0887"
            ],
            [
             0.1111111111111111,
             "#46039f"
            ],
            [
             0.2222222222222222,
             "#7201a8"
            ],
            [
             0.3333333333333333,
             "#9c179e"
            ],
            [
             0.4444444444444444,
             "#bd3786"
            ],
            [
             0.5555555555555556,
             "#d8576b"
            ],
            [
             0.6666666666666666,
             "#ed7953"
            ],
            [
             0.7777777777777778,
             "#fb9f3a"
            ],
            [
             0.8888888888888888,
             "#fdca26"
            ],
            [
             1,
             "#f0f921"
            ]
           ],
           "sequentialminus": [
            [
             0,
             "#0d0887"
            ],
            [
             0.1111111111111111,
             "#46039f"
            ],
            [
             0.2222222222222222,
             "#7201a8"
            ],
            [
             0.3333333333333333,
             "#9c179e"
            ],
            [
             0.4444444444444444,
             "#bd3786"
            ],
            [
             0.5555555555555556,
             "#d8576b"
            ],
            [
             0.6666666666666666,
             "#ed7953"
            ],
            [
             0.7777777777777778,
             "#fb9f3a"
            ],
            [
             0.8888888888888888,
             "#fdca26"
            ],
            [
             1,
             "#f0f921"
            ]
           ]
          },
          "colorway": [
           "#636efa",
           "#EF553B",
           "#00cc96",
           "#ab63fa",
           "#FFA15A",
           "#19d3f3",
           "#FF6692",
           "#B6E880",
           "#FF97FF",
           "#FECB52"
          ],
          "font": {
           "color": "#2a3f5f"
          },
          "geo": {
           "bgcolor": "white",
           "lakecolor": "white",
           "landcolor": "#E5ECF6",
           "showlakes": true,
           "showland": true,
           "subunitcolor": "white"
          },
          "hoverlabel": {
           "align": "left"
          },
          "hovermode": "closest",
          "mapbox": {
           "style": "light"
          },
          "paper_bgcolor": "white",
          "plot_bgcolor": "#E5ECF6",
          "polar": {
           "angularaxis": {
            "gridcolor": "white",
            "linecolor": "white",
            "ticks": ""
           },
           "bgcolor": "#E5ECF6",
           "radialaxis": {
            "gridcolor": "white",
            "linecolor": "white",
            "ticks": ""
           }
          },
          "scene": {
           "xaxis": {
            "backgroundcolor": "#E5ECF6",
            "gridcolor": "white",
            "gridwidth": 2,
            "linecolor": "white",
            "showbackground": true,
            "ticks": "",
            "zerolinecolor": "white"
           },
           "yaxis": {
            "backgroundcolor": "#E5ECF6",
            "gridcolor": "white",
            "gridwidth": 2,
            "linecolor": "white",
            "showbackground": true,
            "ticks": "",
            "zerolinecolor": "white"
           },
           "zaxis": {
            "backgroundcolor": "#E5ECF6",
            "gridcolor": "white",
            "gridwidth": 2,
            "linecolor": "white",
            "showbackground": true,
            "ticks": "",
            "zerolinecolor": "white"
           }
          },
          "shapedefaults": {
           "line": {
            "color": "#2a3f5f"
           }
          },
          "ternary": {
           "aaxis": {
            "gridcolor": "white",
            "linecolor": "white",
            "ticks": ""
           },
           "baxis": {
            "gridcolor": "white",
            "linecolor": "white",
            "ticks": ""
           },
           "bgcolor": "#E5ECF6",
           "caxis": {
            "gridcolor": "white",
            "linecolor": "white",
            "ticks": ""
           }
          },
          "title": {
           "x": 0.05
          },
          "xaxis": {
           "automargin": true,
           "gridcolor": "white",
           "linecolor": "white",
           "ticks": "",
           "title": {
            "standoff": 15
           },
           "zerolinecolor": "white",
           "zerolinewidth": 2
          },
          "yaxis": {
           "automargin": true,
           "gridcolor": "white",
           "linecolor": "white",
           "ticks": "",
           "title": {
            "standoff": 15
           },
           "zerolinecolor": "white",
           "zerolinewidth": 2
          }
         }
        },
        "title": {
         "text": "Probability of Readmission by Admission Type"
        },
        "uniformtext": {
         "minsize": 8,
         "mode": "hide"
        },
        "xaxis": {
         "anchor": "y",
         "domain": [
          0,
          1
         ],
         "title": {
          "text": "Admission Type Id"
         }
        },
        "yaxis": {
         "anchor": "x",
         "domain": [
          0,
          1
         ],
         "title": {
          "text": "Re-admitted"
         }
        }
       }
      }
     },
     "metadata": {},
     "output_type": "display_data"
    }
   ],
   "source": [
    "df1 = df.where(df['readmitted'] == 1).groupby('admission_type_id').agg({'readmitted': 'count'})\n",
    "df2 = df.where(df['readmitted'] == 0).groupby('admission_type_id').agg({'readmitted': 'count'})\n",
    "df_perc = (df1/(df2+df1))\n",
    "fig = px.bar(df_perc, y='readmitted')\n",
    "fig.update_layout(\n",
    "    uniformtext_minsize=8, uniformtext_mode='hide',\n",
    "    title=\"Probability of Readmission by Admission Type\",\n",
    "    xaxis_title=\"Admission Type Id\",\n",
    "    yaxis_title=\"Re-admitted\",\n",
    ")\n",
    "fig.show()"
   ]
  },
  {
   "cell_type": "code",
   "execution_count": 38,
   "metadata": {},
   "outputs": [
    {
     "data": {
      "application/vnd.plotly.v1+json": {
       "config": {
        "plotlyServerURL": "https://plot.ly"
       },
       "data": [
        {
         "alignmentgroup": "True",
         "hovertemplate": "variable=number_diagnoses<br>readmitted=%{x}<br>value=%{y}<extra></extra>",
         "legendgroup": "number_diagnoses",
         "marker": {
          "color": "rgb(87, 59, 136)",
          "pattern": {
           "shape": ""
          }
         },
         "name": "number_diagnoses",
         "offsetgroup": "number_diagnoses",
         "orientation": "v",
         "showlegend": true,
         "textposition": "auto",
         "type": "bar",
         "x": [
          false,
          true
         ],
         "xaxis": "x",
         "y": [
          6.594333936106088,
          7.402714932126697
         ],
         "yaxis": "y"
        },
        {
         "alignmentgroup": "True",
         "hovertemplate": "variable=num_lab_procedures<br>readmitted=%{x}<br>value=%{y}<extra></extra>",
         "legendgroup": "num_lab_procedures",
         "marker": {
          "color": "rgb(131, 75, 160)",
          "pattern": {
           "shape": ""
          }
         },
         "name": "num_lab_procedures",
         "offsetgroup": "num_lab_procedures",
         "orientation": "v",
         "showlegend": true,
         "textposition": "auto",
         "type": "bar",
         "x": [
          false,
          true
         ],
         "xaxis": "x",
         "y": [
          39.62447257383966,
          40.43438914027149
         ],
         "yaxis": "y"
        },
        {
         "alignmentgroup": "True",
         "hovertemplate": "variable=num_medications<br>readmitted=%{x}<br>value=%{y}<extra></extra>",
         "legendgroup": "num_medications",
         "marker": {
          "color": "rgb(173, 95, 173)",
          "pattern": {
           "shape": ""
          }
         },
         "name": "num_medications",
         "offsetgroup": "num_medications",
         "orientation": "v",
         "showlegend": true,
         "textposition": "auto",
         "type": "bar",
         "x": [
          false,
          true
         ],
         "xaxis": "x",
         "y": [
          15.534056660638939,
          15.807692307692308
         ],
         "yaxis": "y"
        }
       ],
       "layout": {
        "barmode": "relative",
        "legend": {
         "title": {
          "text": "variable"
         },
         "tracegroupgap": 0
        },
        "margin": {
         "t": 60
        },
        "template": {
         "data": {
          "bar": [
           {
            "error_x": {
             "color": "#2a3f5f"
            },
            "error_y": {
             "color": "#2a3f5f"
            },
            "marker": {
             "line": {
              "color": "#E5ECF6",
              "width": 0.5
             },
             "pattern": {
              "fillmode": "overlay",
              "size": 10,
              "solidity": 0.2
             }
            },
            "type": "bar"
           }
          ],
          "barpolar": [
           {
            "marker": {
             "line": {
              "color": "#E5ECF6",
              "width": 0.5
             },
             "pattern": {
              "fillmode": "overlay",
              "size": 10,
              "solidity": 0.2
             }
            },
            "type": "barpolar"
           }
          ],
          "carpet": [
           {
            "aaxis": {
             "endlinecolor": "#2a3f5f",
             "gridcolor": "white",
             "linecolor": "white",
             "minorgridcolor": "white",
             "startlinecolor": "#2a3f5f"
            },
            "baxis": {
             "endlinecolor": "#2a3f5f",
             "gridcolor": "white",
             "linecolor": "white",
             "minorgridcolor": "white",
             "startlinecolor": "#2a3f5f"
            },
            "type": "carpet"
           }
          ],
          "choropleth": [
           {
            "colorbar": {
             "outlinewidth": 0,
             "ticks": ""
            },
            "type": "choropleth"
           }
          ],
          "contour": [
           {
            "colorbar": {
             "outlinewidth": 0,
             "ticks": ""
            },
            "colorscale": [
             [
              0,
              "#0d0887"
             ],
             [
              0.1111111111111111,
              "#46039f"
             ],
             [
              0.2222222222222222,
              "#7201a8"
             ],
             [
              0.3333333333333333,
              "#9c179e"
             ],
             [
              0.4444444444444444,
              "#bd3786"
             ],
             [
              0.5555555555555556,
              "#d8576b"
             ],
             [
              0.6666666666666666,
              "#ed7953"
             ],
             [
              0.7777777777777778,
              "#fb9f3a"
             ],
             [
              0.8888888888888888,
              "#fdca26"
             ],
             [
              1,
              "#f0f921"
             ]
            ],
            "type": "contour"
           }
          ],
          "contourcarpet": [
           {
            "colorbar": {
             "outlinewidth": 0,
             "ticks": ""
            },
            "type": "contourcarpet"
           }
          ],
          "heatmap": [
           {
            "colorbar": {
             "outlinewidth": 0,
             "ticks": ""
            },
            "colorscale": [
             [
              0,
              "#0d0887"
             ],
             [
              0.1111111111111111,
              "#46039f"
             ],
             [
              0.2222222222222222,
              "#7201a8"
             ],
             [
              0.3333333333333333,
              "#9c179e"
             ],
             [
              0.4444444444444444,
              "#bd3786"
             ],
             [
              0.5555555555555556,
              "#d8576b"
             ],
             [
              0.6666666666666666,
              "#ed7953"
             ],
             [
              0.7777777777777778,
              "#fb9f3a"
             ],
             [
              0.8888888888888888,
              "#fdca26"
             ],
             [
              1,
              "#f0f921"
             ]
            ],
            "type": "heatmap"
           }
          ],
          "heatmapgl": [
           {
            "colorbar": {
             "outlinewidth": 0,
             "ticks": ""
            },
            "colorscale": [
             [
              0,
              "#0d0887"
             ],
             [
              0.1111111111111111,
              "#46039f"
             ],
             [
              0.2222222222222222,
              "#7201a8"
             ],
             [
              0.3333333333333333,
              "#9c179e"
             ],
             [
              0.4444444444444444,
              "#bd3786"
             ],
             [
              0.5555555555555556,
              "#d8576b"
             ],
             [
              0.6666666666666666,
              "#ed7953"
             ],
             [
              0.7777777777777778,
              "#fb9f3a"
             ],
             [
              0.8888888888888888,
              "#fdca26"
             ],
             [
              1,
              "#f0f921"
             ]
            ],
            "type": "heatmapgl"
           }
          ],
          "histogram": [
           {
            "marker": {
             "pattern": {
              "fillmode": "overlay",
              "size": 10,
              "solidity": 0.2
             }
            },
            "type": "histogram"
           }
          ],
          "histogram2d": [
           {
            "colorbar": {
             "outlinewidth": 0,
             "ticks": ""
            },
            "colorscale": [
             [
              0,
              "#0d0887"
             ],
             [
              0.1111111111111111,
              "#46039f"
             ],
             [
              0.2222222222222222,
              "#7201a8"
             ],
             [
              0.3333333333333333,
              "#9c179e"
             ],
             [
              0.4444444444444444,
              "#bd3786"
             ],
             [
              0.5555555555555556,
              "#d8576b"
             ],
             [
              0.6666666666666666,
              "#ed7953"
             ],
             [
              0.7777777777777778,
              "#fb9f3a"
             ],
             [
              0.8888888888888888,
              "#fdca26"
             ],
             [
              1,
              "#f0f921"
             ]
            ],
            "type": "histogram2d"
           }
          ],
          "histogram2dcontour": [
           {
            "colorbar": {
             "outlinewidth": 0,
             "ticks": ""
            },
            "colorscale": [
             [
              0,
              "#0d0887"
             ],
             [
              0.1111111111111111,
              "#46039f"
             ],
             [
              0.2222222222222222,
              "#7201a8"
             ],
             [
              0.3333333333333333,
              "#9c179e"
             ],
             [
              0.4444444444444444,
              "#bd3786"
             ],
             [
              0.5555555555555556,
              "#d8576b"
             ],
             [
              0.6666666666666666,
              "#ed7953"
             ],
             [
              0.7777777777777778,
              "#fb9f3a"
             ],
             [
              0.8888888888888888,
              "#fdca26"
             ],
             [
              1,
              "#f0f921"
             ]
            ],
            "type": "histogram2dcontour"
           }
          ],
          "mesh3d": [
           {
            "colorbar": {
             "outlinewidth": 0,
             "ticks": ""
            },
            "type": "mesh3d"
           }
          ],
          "parcoords": [
           {
            "line": {
             "colorbar": {
              "outlinewidth": 0,
              "ticks": ""
             }
            },
            "type": "parcoords"
           }
          ],
          "pie": [
           {
            "automargin": true,
            "type": "pie"
           }
          ],
          "scatter": [
           {
            "marker": {
             "colorbar": {
              "outlinewidth": 0,
              "ticks": ""
             }
            },
            "type": "scatter"
           }
          ],
          "scatter3d": [
           {
            "line": {
             "colorbar": {
              "outlinewidth": 0,
              "ticks": ""
             }
            },
            "marker": {
             "colorbar": {
              "outlinewidth": 0,
              "ticks": ""
             }
            },
            "type": "scatter3d"
           }
          ],
          "scattercarpet": [
           {
            "marker": {
             "colorbar": {
              "outlinewidth": 0,
              "ticks": ""
             }
            },
            "type": "scattercarpet"
           }
          ],
          "scattergeo": [
           {
            "marker": {
             "colorbar": {
              "outlinewidth": 0,
              "ticks": ""
             }
            },
            "type": "scattergeo"
           }
          ],
          "scattergl": [
           {
            "marker": {
             "colorbar": {
              "outlinewidth": 0,
              "ticks": ""
             }
            },
            "type": "scattergl"
           }
          ],
          "scattermapbox": [
           {
            "marker": {
             "colorbar": {
              "outlinewidth": 0,
              "ticks": ""
             }
            },
            "type": "scattermapbox"
           }
          ],
          "scatterpolar": [
           {
            "marker": {
             "colorbar": {
              "outlinewidth": 0,
              "ticks": ""
             }
            },
            "type": "scatterpolar"
           }
          ],
          "scatterpolargl": [
           {
            "marker": {
             "colorbar": {
              "outlinewidth": 0,
              "ticks": ""
             }
            },
            "type": "scatterpolargl"
           }
          ],
          "scatterternary": [
           {
            "marker": {
             "colorbar": {
              "outlinewidth": 0,
              "ticks": ""
             }
            },
            "type": "scatterternary"
           }
          ],
          "surface": [
           {
            "colorbar": {
             "outlinewidth": 0,
             "ticks": ""
            },
            "colorscale": [
             [
              0,
              "#0d0887"
             ],
             [
              0.1111111111111111,
              "#46039f"
             ],
             [
              0.2222222222222222,
              "#7201a8"
             ],
             [
              0.3333333333333333,
              "#9c179e"
             ],
             [
              0.4444444444444444,
              "#bd3786"
             ],
             [
              0.5555555555555556,
              "#d8576b"
             ],
             [
              0.6666666666666666,
              "#ed7953"
             ],
             [
              0.7777777777777778,
              "#fb9f3a"
             ],
             [
              0.8888888888888888,
              "#fdca26"
             ],
             [
              1,
              "#f0f921"
             ]
            ],
            "type": "surface"
           }
          ],
          "table": [
           {
            "cells": {
             "fill": {
              "color": "#EBF0F8"
             },
             "line": {
              "color": "white"
             }
            },
            "header": {
             "fill": {
              "color": "#C8D4E3"
             },
             "line": {
              "color": "white"
             }
            },
            "type": "table"
           }
          ]
         },
         "layout": {
          "annotationdefaults": {
           "arrowcolor": "#2a3f5f",
           "arrowhead": 0,
           "arrowwidth": 1
          },
          "autotypenumbers": "strict",
          "coloraxis": {
           "colorbar": {
            "outlinewidth": 0,
            "ticks": ""
           }
          },
          "colorscale": {
           "diverging": [
            [
             0,
             "#8e0152"
            ],
            [
             0.1,
             "#c51b7d"
            ],
            [
             0.2,
             "#de77ae"
            ],
            [
             0.3,
             "#f1b6da"
            ],
            [
             0.4,
             "#fde0ef"
            ],
            [
             0.5,
             "#f7f7f7"
            ],
            [
             0.6,
             "#e6f5d0"
            ],
            [
             0.7,
             "#b8e186"
            ],
            [
             0.8,
             "#7fbc41"
            ],
            [
             0.9,
             "#4d9221"
            ],
            [
             1,
             "#276419"
            ]
           ],
           "sequential": [
            [
             0,
             "#0d0887"
            ],
            [
             0.1111111111111111,
             "#46039f"
            ],
            [
             0.2222222222222222,
             "#7201a8"
            ],
            [
             0.3333333333333333,
             "#9c179e"
            ],
            [
             0.4444444444444444,
             "#bd3786"
            ],
            [
             0.5555555555555556,
             "#d8576b"
            ],
            [
             0.6666666666666666,
             "#ed7953"
            ],
            [
             0.7777777777777778,
             "#fb9f3a"
            ],
            [
             0.8888888888888888,
             "#fdca26"
            ],
            [
             1,
             "#f0f921"
            ]
           ],
           "sequentialminus": [
            [
             0,
             "#0d0887"
            ],
            [
             0.1111111111111111,
             "#46039f"
            ],
            [
             0.2222222222222222,
             "#7201a8"
            ],
            [
             0.3333333333333333,
             "#9c179e"
            ],
            [
             0.4444444444444444,
             "#bd3786"
            ],
            [
             0.5555555555555556,
             "#d8576b"
            ],
            [
             0.6666666666666666,
             "#ed7953"
            ],
            [
             0.7777777777777778,
             "#fb9f3a"
            ],
            [
             0.8888888888888888,
             "#fdca26"
            ],
            [
             1,
             "#f0f921"
            ]
           ]
          },
          "colorway": [
           "#636efa",
           "#EF553B",
           "#00cc96",
           "#ab63fa",
           "#FFA15A",
           "#19d3f3",
           "#FF6692",
           "#B6E880",
           "#FF97FF",
           "#FECB52"
          ],
          "font": {
           "color": "#2a3f5f"
          },
          "geo": {
           "bgcolor": "white",
           "lakecolor": "white",
           "landcolor": "#E5ECF6",
           "showlakes": true,
           "showland": true,
           "subunitcolor": "white"
          },
          "hoverlabel": {
           "align": "left"
          },
          "hovermode": "closest",
          "mapbox": {
           "style": "light"
          },
          "paper_bgcolor": "white",
          "plot_bgcolor": "#E5ECF6",
          "polar": {
           "angularaxis": {
            "gridcolor": "white",
            "linecolor": "white",
            "ticks": ""
           },
           "bgcolor": "#E5ECF6",
           "radialaxis": {
            "gridcolor": "white",
            "linecolor": "white",
            "ticks": ""
           }
          },
          "scene": {
           "xaxis": {
            "backgroundcolor": "#E5ECF6",
            "gridcolor": "white",
            "gridwidth": 2,
            "linecolor": "white",
            "showbackground": true,
            "ticks": "",
            "zerolinecolor": "white"
           },
           "yaxis": {
            "backgroundcolor": "#E5ECF6",
            "gridcolor": "white",
            "gridwidth": 2,
            "linecolor": "white",
            "showbackground": true,
            "ticks": "",
            "zerolinecolor": "white"
           },
           "zaxis": {
            "backgroundcolor": "#E5ECF6",
            "gridcolor": "white",
            "gridwidth": 2,
            "linecolor": "white",
            "showbackground": true,
            "ticks": "",
            "zerolinecolor": "white"
           }
          },
          "shapedefaults": {
           "line": {
            "color": "#2a3f5f"
           }
          },
          "ternary": {
           "aaxis": {
            "gridcolor": "white",
            "linecolor": "white",
            "ticks": ""
           },
           "baxis": {
            "gridcolor": "white",
            "linecolor": "white",
            "ticks": ""
           },
           "bgcolor": "#E5ECF6",
           "caxis": {
            "gridcolor": "white",
            "linecolor": "white",
            "ticks": ""
           }
          },
          "title": {
           "x": 0.05
          },
          "xaxis": {
           "automargin": true,
           "gridcolor": "white",
           "linecolor": "white",
           "ticks": "",
           "title": {
            "standoff": 15
           },
           "zerolinecolor": "white",
           "zerolinewidth": 2
          },
          "yaxis": {
           "automargin": true,
           "gridcolor": "white",
           "linecolor": "white",
           "ticks": "",
           "title": {
            "standoff": 15
           },
           "zerolinecolor": "white",
           "zerolinewidth": 2
          }
         }
        },
        "title": {
         "text": "No. of Diagnoses, Procedures, and Medications Per Patient (True = Readmitted Patient)"
        },
        "uniformtext": {
         "minsize": 8,
         "mode": "hide"
        },
        "xaxis": {
         "anchor": "y",
         "domain": [
          0,
          1
         ],
         "title": {
          "text": "Re-admitted"
         }
        },
        "yaxis": {
         "anchor": "x",
         "domain": [
          0,
          1
         ],
         "title": {
          "text": "Count"
         }
        }
       }
      }
     },
     "metadata": {},
     "output_type": "display_data"
    }
   ],
   "source": [
    "df1 = df.groupby('readmitted').agg({'number_diagnoses': 'mean', 'num_lab_procedures': 'mean', 'num_medications':'mean'})\n",
    "fig = px.bar(df1, color_discrete_sequence= px.colors.sequential.Purpor_r)\n",
    "# fig = px.bar(df_perc, y='readmitted', color_discrete_sequence= px.colors.sequential.Purpor_r)\n",
    "fig.update_layout(\n",
    "    uniformtext_minsize=8, uniformtext_mode='hide',\n",
    "    title=\"No. of Diagnoses, Procedures, and Medications Per Patient (True = Readmitted Patient)\",\n",
    "    xaxis_title=\"Re-admitted\",\n",
    "    yaxis_title=\"Count\",\n",
    ")\n",
    "fig.show()"
   ]
  },
  {
   "cell_type": "code",
   "execution_count": 47,
   "metadata": {},
   "outputs": [
    {
     "data": {
      "image/png": "[encoded data removed]",
      "text/plain": [
       "<Figure size 1440x720 with 1 Axes>"
      ]
     },
     "metadata": {},
     "output_type": "display_data"
    }
   ],
   "source": [
    "# We first review the 'Status' relation with categorical variables\n",
    "sns.set(rc={'figure.figsize':(20,10)})\n",
    "sns.countplot(x='race', hue='readmitted', data=df).set(title='Race vs Readmission', xlabel='Readmission', ylabel='Race Count');"
   ]
  },
  {
   "cell_type": "code",
   "execution_count": 48,
   "metadata": {},
   "outputs": [
    {
     "data": {
      "image/png": "[encoded data removed]",
      "text/plain": [
       "<Figure size 1440x720 with 1 Axes>"
      ]
     },
     "metadata": {},
     "output_type": "display_data"
    }
   ],
   "source": [
    "sns.countplot(x='gender', hue='readmitted', data=df).set(title='Gender vs Readmission', xlabel='Readmission', ylabel='Gender Count');"
   ]
  },
  {
   "cell_type": "code",
   "execution_count": 49,
   "metadata": {},
   "outputs": [
    {
     "data": {
      "image/png": "[encoded data removed]",
      "text/plain": [
       "<Figure size 1440x720 with 1 Axes>"
      ]
     },
     "metadata": {},
     "output_type": "display_data"
    }
   ],
   "source": [
    "sns.countplot(x='time_in_hospital', hue='readmitted', data=df).set(title='Time in Hospital vs Readmission', xlabel='Readmission Count', ylabel='Time in Hospital (in Days)');"
   ]
  },
  {
   "cell_type": "code",
   "execution_count": 50,
   "metadata": {},
   "outputs": [],
   "source": [
    "X = df.drop([\"readmitted\"], axis=1)\n",
    "y = df[\"readmitted\"]"
   ]
  },
  {
   "cell_type": "markdown",
   "metadata": {},
   "source": [
    "## Model fitting and selection"
   ]
  },
  {
   "cell_type": "code",
   "execution_count": 51,
   "metadata": {},
   "outputs": [],
   "source": [
    "import evalml\n",
    "from evalml.automl import AutoMLSearch\n",
    "problem_type = 'binary'\n",
    "\n",
    "X_train, X_test, y_train, y_test = evalml.preprocessing.split_data(X, y, problem_type = problem_type, test_size=.2)\n",
    "\n",
    "# perform a search across multiple pipelines and hyperparameters\n",
    "automl = AutoMLSearch(X_train, y_train, problem_type=problem_type)\n",
    "automl.search()"
   ]
  },
  {
   "cell_type": "code",
   "execution_count": 52,
   "metadata": {},
   "outputs": [
    {
     "data": {
      "text/plain": [
       "8800     True\n",
       "5537     True\n",
       "7106     True\n",
       "1654     True\n",
       "2160    False\n",
       "9873     True\n",
       "9894     True\n",
       "1065    False\n",
       "937      True\n",
       "6215    False\n",
       "1054     True\n",
       "4749     True\n",
       "3178     True\n",
       "1511     True\n",
       "5589    False\n",
       "5146     True\n",
       "1878    False\n",
       "8584    False\n",
       "6251    False\n",
       "4285     True\n",
       "7953     True\n",
       "5084     True\n",
       "4823     True\n",
       "8238     True\n",
       "8986     True\n",
       "2931     True\n",
       "436     False\n",
       "955     False\n",
       "1434     True\n",
       "5460     True\n",
       "1672     True\n",
       "2426     True\n",
       "7554     True\n",
       "5737    False\n",
       "6095     True\n",
       "7139    False\n",
       "4672     True\n",
       "4861    False\n",
       "8194     True\n",
       "4385     True\n",
       "4905     True\n",
       "2997     True\n",
       "633      True\n",
       "2926    False\n",
       "754      True\n",
       "1091     True\n",
       "4223     True\n",
       "6690     True\n",
       "7094     True\n",
       "9302     True\n",
       "6718     True\n",
       "7180    False\n",
       "3735     True\n",
       "3496     True\n",
       "7939     True\n",
       "7119     True\n",
       "1848    False\n",
       "3208     True\n",
       "281      True\n",
       "9509    False\n",
       "4667     True\n",
       "7132     True\n",
       "3164     True\n",
       "8927     True\n",
       "3132     True\n",
       "935     False\n",
       "2238     True\n",
       "7996     True\n",
       "958      True\n",
       "1378    False\n",
       "6922     True\n",
       "4148    False\n",
       "6124    False\n",
       "8902     True\n",
       "3703     True\n",
       "9089     True\n",
       "1781     True\n",
       "3585     True\n",
       "2673     True\n",
       "287      True\n",
       "3624     True\n",
       "6253     True\n",
       "3014     True\n",
       "9205     True\n",
       "3948     True\n",
       "9889     True\n",
       "7998     True\n",
       "8380     True\n",
       "5903    False\n",
       "9547     True\n",
       "210      True\n",
       "4927    False\n",
       "8225     True\n",
       "5743     True\n",
       "5518     True\n",
       "2175     True\n",
       "7804     True\n",
       "1645     True\n",
       "8727     True\n",
       "5552    False\n",
       "457      True\n",
       "9096     True\n",
       "7780     True\n",
       "800      True\n",
       "499      True\n",
       "632      True\n",
       "7118     True\n",
       "2988     True\n",
       "5434     True\n",
       "2955     True\n",
       "7934    False\n",
       "7311     True\n",
       "7882     True\n",
       "9654     True\n",
       "948      True\n",
       "144      True\n",
       "9698     True\n",
       "9994    False\n",
       "647      True\n",
       "9079     True\n",
       "8456     True\n",
       "3699     True\n",
       "4119     True\n",
       "1040     True\n",
       "9840     True\n",
       "2827     True\n",
       "9423     True\n",
       "5845     True\n",
       "5718     True\n",
       "7000     True\n",
       "4701     True\n",
       "3361     True\n",
       "6128     True\n",
       "6235     True\n",
       "6197    False\n",
       "4697     True\n",
       "5752     True\n",
       "227      True\n",
       "2128     True\n",
       "1811     True\n",
       "9912     True\n",
       "6942    False\n",
       "9010     True\n",
       "9227     True\n",
       "6517     True\n",
       "6958     True\n",
       "5278     True\n",
       "3544     True\n",
       "9790     True\n",
       "5949     True\n",
       "1089    False\n",
       "1379     True\n",
       "1152     True\n",
       "2161     True\n",
       "6746     True\n",
       "4733     True\n",
       "5453     True\n",
       "7009     True\n",
       "429      True\n",
       "2241    False\n",
       "7513     True\n",
       "4469     True\n",
       "6072    False\n",
       "4378     True\n",
       "5315    False\n",
       "8246    False\n",
       "4306     True\n",
       "3711     True\n",
       "178      True\n",
       "4389     True\n",
       "3327    False\n",
       "1694     True\n",
       "7633     True\n",
       "7521     True\n",
       "2872     True\n",
       "2586    False\n",
       "5137     True\n",
       "2214    False\n",
       "1636     True\n",
       "9667     True\n",
       "3883    False\n",
       "9176     True\n",
       "5061     True\n",
       "146      True\n",
       "2542    False\n",
       "6541     True\n",
       "2597     True\n",
       "5094    False\n",
       "5406     True\n",
       "7567     True\n",
       "3149     True\n",
       "4836     True\n",
       "6965     True\n",
       "1715    False\n",
       "2660    False\n",
       "778      True\n",
       "9066    False\n",
       "1168     True\n",
       "7971     True\n",
       "2198     True\n",
       "3452    False\n",
       "5355     True\n",
       "9565     True\n",
       "1008     True\n",
       "9069     True\n",
       "8946     True\n",
       "599      True\n",
       "6801     True\n",
       "7611     True\n",
       "6106     True\n",
       "2874     True\n",
       "4999     True\n",
       "7387     True\n",
       "855      True\n",
       "2694     True\n",
       "5654    False\n",
       "1015     True\n",
       "4110     True\n",
       "6735    False\n",
       "7318    False\n",
       "5778     True\n",
       "3847    False\n",
       "1211    False\n",
       "4293     True\n",
       "1028     True\n",
       "5783     True\n",
       "5586     True\n",
       "5215    False\n",
       "8621     True\n",
       "614      True\n",
       "1606    False\n",
       "3746     True\n",
       "684      True\n",
       "9844     True\n",
       "5913    False\n",
       "4472     True\n",
       "6461     True\n",
       "3259     True\n",
       "568      True\n",
       "5791    False\n",
       "6113     True\n",
       "8883     True\n",
       "7740     True\n",
       "7195    False\n",
       "9350     True\n",
       "5526     True\n",
       "7357     True\n",
       "9987     True\n",
       "1842     True\n",
       "5576     True\n",
       "3425     True\n",
       "9402    False\n",
       "7184    False\n",
       "8906    False\n",
       "1818     True\n",
       "1847     True\n",
       "5741     True\n",
       "4396     True\n",
       "8820     True\n",
       "918      True\n",
       "126      True\n",
       "207      True\n",
       "9696     True\n",
       "7790     True\n",
       "1587    False\n",
       "552     False\n",
       "2655     True\n",
       "5914     True\n",
       "5163     True\n",
       "4160     True\n",
       "165      True\n",
       "4830     True\n",
       "3555     True\n",
       "8537     True\n",
       "2907     True\n",
       "8585     True\n",
       "9965     True\n",
       "8984     True\n",
       "8726    False\n",
       "9087     True\n",
       "4546     True\n",
       "4515     True\n",
       "6272    False\n",
       "4374     True\n",
       "5426     True\n",
       "2844     True\n",
       "9809     True\n",
       "3965    False\n",
       "1669     True\n",
       "8320     True\n",
       "9839    False\n",
       "9764     True\n",
       "7390     True\n",
       "5734     True\n",
       "9019     True\n",
       "4222     True\n",
       "32       True\n",
       "869      True\n",
       "8158     True\n",
       "6683     True\n",
       "6544     True\n",
       "4257     True\n",
       "2701     True\n",
       "3628     True\n",
       "1129     True\n",
       "4265     True\n",
       "5097     True\n",
       "3068    False\n",
       "1037     True\n",
       "5671    False\n",
       "9489     True\n",
       "5396    False\n",
       "3418    False\n",
       "5657     True\n",
       "4810     True\n",
       "1437     True\n",
       "8497     True\n",
       "4601     True\n",
       "1238     True\n",
       "4477     True\n",
       "6766     True\n",
       "4693    False\n",
       "3302     True\n",
       "4134     True\n",
       "6255     True\n",
       "2999    False\n",
       "2114    False\n",
       "183      True\n",
       "6832     True\n",
       "1921     True\n",
       "6625     True\n",
       "2528     True\n",
       "1346     True\n",
       "1882     True\n",
       "6840    False\n",
       "8866     True\n",
       "3454     True\n",
       "977      True\n",
       "7396     True\n",
       "1340     True\n",
       "3165     True\n",
       "4243     True\n",
       "3582     True\n",
       "1038     True\n",
       "1918    False\n",
       "8960     True\n",
       "4270     True\n",
       "8686     True\n",
       "4853     True\n",
       "9193     True\n",
       "9012    False\n",
       "9094     True\n",
       "9930     True\n",
       "6423    False\n",
       "1031     True\n",
       "2681     True\n",
       "808      True\n",
       "3943    False\n",
       "2523     True\n",
       "9215     True\n",
       "9779     True\n",
       "8118     True\n",
       "5286     True\n",
       "7233     True\n",
       "4881     True\n",
       "1070     True\n",
       "9703     True\n",
       "4055     True\n",
       "1282     True\n",
       "2094     True\n",
       "6577    False\n",
       "4018     True\n",
       "1185     True\n",
       "420      True\n",
       "7192    False\n",
       "3501    False\n",
       "7729     True\n",
       "3713     True\n",
       "1260    False\n",
       "959      True\n",
       "994     False\n",
       "7130     True\n",
       "4565     True\n",
       "1674     True\n",
       "1246     True\n",
       "4176     True\n",
       "1172     True\n",
       "3131     True\n",
       "5246     True\n",
       "8027     True\n",
       "9807     True\n",
       "5060     True\n",
       "9326     True\n",
       "6375    False\n",
       "5643     True\n",
       "4845    False\n",
       "2780     True\n",
       "406     False\n",
       "8195     True\n",
       "3843    False\n",
       "7686     True\n",
       "3548     True\n",
       "1219     True\n",
       "4802     True\n",
       "3971    False\n",
       "7378     True\n",
       "8789     True\n",
       "8033     True\n",
       "2164     True\n",
       "1709    False\n",
       "8111     True\n",
       "5655     True\n",
       "807      True\n",
       "5768    False\n",
       "8463    False\n",
       "8307    False\n",
       "4708     True\n",
       "6329     True\n",
       "5735     True\n",
       "4812    False\n",
       "4414     True\n",
       "3666     True\n",
       "813      True\n",
       "1583     True\n",
       "2059     True\n",
       "377     False\n",
       "154      True\n",
       "704      True\n",
       "3294    False\n",
       "8170     True\n",
       "469      True\n",
       "8785     True\n",
       "804     False\n",
       "5695     True\n",
       "1193     True\n",
       "9455     True\n",
       "5532     True\n",
       "7322     True\n",
       "9399     True\n",
       "7214    False\n",
       "5411     True\n",
       "9748     True\n",
       "2283    False\n",
       "6088     True\n",
       "5468    False\n",
       "9560     True\n",
       "1850     True\n",
       "7099     True\n",
       "364     False\n",
       "6237     True\n",
       "8918     True\n",
       "6771    False\n",
       "670      True\n",
       "4770    False\n",
       "886      True\n",
       "9260     True\n",
       "5998     True\n",
       "6607    False\n",
       "3602     True\n",
       "3538     True\n",
       "3257    False\n",
       "3669     True\n",
       "5983     True\n",
       "4974     True\n",
       "9911     True\n",
       "3173    False\n",
       "9105     True\n",
       "3677    False\n",
       "6341     True\n",
       "7071     True\n",
       "9539     True\n",
       "7135     True\n",
       "3692     True\n",
       "6785     True\n",
       "2838     True\n",
       "7198     True\n",
       "5659    False\n",
       "2477     True\n",
       "9449    False\n",
       "3545     True\n",
       "3204    False\n",
       "1504     True\n",
       "5191     True\n",
       "8401     True\n",
       "4511     True\n",
       "2060     True\n",
       "7653    False\n",
       "1602     True\n",
       "5264    False\n",
       "524     False\n",
       "7397     True\n",
       "6571    False\n",
       "1867     True\n",
       "5151    False\n",
       "617      True\n",
       "5665     True\n",
       "1585     True\n",
       "4613     True\n",
       "2987     True\n",
       "286      True\n",
       "7779     True\n",
       "4649    False\n",
       "3019     True\n",
       "6823     True\n",
       "1897     True\n",
       "4197    False\n",
       "5368     True\n",
       "1216     True\n",
       "5134     True\n",
       "Name: readmitted, dtype: bool"
      ]
     },
     "execution_count": 52,
     "metadata": {},
     "output_type": "execute_result"
    }
   ],
   "source": [
    "# the best pipeline is already refitted on the entire training data\n",
    "best_pipeline = automl.best_pipeline\n",
    "best_pipeline.predict(X_test)"
   ]
  },
  {
   "cell_type": "code",
   "execution_count": 53,
   "metadata": {},
   "outputs": [
    {
     "data": {
      "text/html": [
       "<div>\n",
       "<style scoped>\n",
       "    .dataframe tbody tr th:only-of-type {\n",
       "        vertical-align: middle;\n",
       "    }\n",
       "\n",
       "    .dataframe tbody tr th {\n",
       "        vertical-align: top;\n",
       "    }\n",
       "\n",
       "    .dataframe thead th {\n",
       "        text-align: right;\n",
       "    }\n",
       "</style>\n",
       "<table border=\"1\" class=\"dataframe\">\n",
       "  <thead>\n",
       "    <tr style=\"text-align: right;\">\n",
       "      <th></th>\n",
       "      <th>id</th>\n",
       "      <th>pipeline_name</th>\n",
       "      <th>search_order</th>\n",
       "      <th>mean_cv_score</th>\n",
       "      <th>standard_deviation_cv_score</th>\n",
       "      <th>validation_score</th>\n",
       "      <th>percent_better_than_baseline</th>\n",
       "      <th>high_variance_cv</th>\n",
       "      <th>parameters</th>\n",
       "    </tr>\n",
       "  </thead>\n",
       "  <tbody>\n",
       "    <tr>\n",
       "      <th>0</th>\n",
       "      <td>6</td>\n",
       "      <td>Random Forest Classifier w/ Label Encoder + Im...</td>\n",
       "      <td>6</td>\n",
       "      <td>0.611339</td>\n",
       "      <td>0.003303</td>\n",
       "      <td>0.608083</td>\n",
       "      <td>94.907785</td>\n",
       "      <td>False</td>\n",
       "      <td>{'Imputer': {'categorical_impute_strategy': 'm...</td>\n",
       "    </tr>\n",
       "    <tr>\n",
       "      <th>1</th>\n",
       "      <td>8</td>\n",
       "      <td>Extra Trees Classifier w/ Label Encoder + Impu...</td>\n",
       "      <td>8</td>\n",
       "      <td>0.620671</td>\n",
       "      <td>0.002353</td>\n",
       "      <td>0.618076</td>\n",
       "      <td>94.830050</td>\n",
       "      <td>False</td>\n",
       "      <td>{'Imputer': {'categorical_impute_strategy': 'm...</td>\n",
       "    </tr>\n",
       "    <tr>\n",
       "      <th>2</th>\n",
       "      <td>5</td>\n",
       "      <td>CatBoost Classifier w/ Label Encoder + Imputer</td>\n",
       "      <td>5</td>\n",
       "      <td>0.662204</td>\n",
       "      <td>0.001590</td>\n",
       "      <td>0.661207</td>\n",
       "      <td>94.484099</td>\n",
       "      <td>False</td>\n",
       "      <td>{'Imputer': {'categorical_impute_strategy': 'm...</td>\n",
       "    </tr>\n",
       "    <tr>\n",
       "      <th>3</th>\n",
       "      <td>3</td>\n",
       "      <td>XGBoost Classifier w/ Label Encoder + Imputer ...</td>\n",
       "      <td>3</td>\n",
       "      <td>0.666061</td>\n",
       "      <td>0.022247</td>\n",
       "      <td>0.647496</td>\n",
       "      <td>94.451969</td>\n",
       "      <td>False</td>\n",
       "      <td>{'Imputer': {'categorical_impute_strategy': 'm...</td>\n",
       "    </tr>\n",
       "    <tr>\n",
       "      <th>4</th>\n",
       "      <td>1</td>\n",
       "      <td>Elastic Net Classifier w/ Label Encoder + Impu...</td>\n",
       "      <td>1</td>\n",
       "      <td>0.667608</td>\n",
       "      <td>0.039432</td>\n",
       "      <td>0.636556</td>\n",
       "      <td>94.439086</td>\n",
       "      <td>False</td>\n",
       "      <td>{'Imputer': {'categorical_impute_strategy': 'm...</td>\n",
       "    </tr>\n",
       "    <tr>\n",
       "      <th>5</th>\n",
       "      <td>2</td>\n",
       "      <td>Logistic Regression Classifier w/ Label Encode...</td>\n",
       "      <td>2</td>\n",
       "      <td>0.672865</td>\n",
       "      <td>0.038854</td>\n",
       "      <td>0.641956</td>\n",
       "      <td>94.395297</td>\n",
       "      <td>False</td>\n",
       "      <td>{'Imputer': {'categorical_impute_strategy': 'm...</td>\n",
       "    </tr>\n",
       "    <tr>\n",
       "      <th>6</th>\n",
       "      <td>4</td>\n",
       "      <td>LightGBM Classifier w/ Label Encoder + Imputer...</td>\n",
       "      <td>4</td>\n",
       "      <td>0.730416</td>\n",
       "      <td>0.043496</td>\n",
       "      <td>0.685805</td>\n",
       "      <td>93.915925</td>\n",
       "      <td>False</td>\n",
       "      <td>{'Imputer': {'categorical_impute_strategy': 'm...</td>\n",
       "    </tr>\n",
       "    <tr>\n",
       "      <th>7</th>\n",
       "      <td>7</td>\n",
       "      <td>Decision Tree Classifier w/ Label Encoder + Im...</td>\n",
       "      <td>7</td>\n",
       "      <td>1.407970</td>\n",
       "      <td>0.229435</td>\n",
       "      <td>1.672048</td>\n",
       "      <td>88.272161</td>\n",
       "      <td>False</td>\n",
       "      <td>{'Imputer': {'categorical_impute_strategy': 'm...</td>\n",
       "    </tr>\n",
       "    <tr>\n",
       "      <th>8</th>\n",
       "      <td>0</td>\n",
       "      <td>Mode Baseline Binary Classification Pipeline</td>\n",
       "      <td>0</td>\n",
       "      <td>12.005366</td>\n",
       "      <td>0.029411</td>\n",
       "      <td>11.971405</td>\n",
       "      <td>0.000000</td>\n",
       "      <td>False</td>\n",
       "      <td>{'Baseline Classifier': {'strategy': 'mode'}}</td>\n",
       "    </tr>\n",
       "  </tbody>\n",
       "</table>\n",
       "</div>"
      ],
      "text/plain": [
       "   id                                      pipeline_name  search_order  \\\n",
       "0   6  Random Forest Classifier w/ Label Encoder + Im...             6   \n",
       "1   8  Extra Trees Classifier w/ Label Encoder + Impu...             8   \n",
       "2   5     CatBoost Classifier w/ Label Encoder + Imputer             5   \n",
       "3   3  XGBoost Classifier w/ Label Encoder + Imputer ...             3   \n",
       "4   1  Elastic Net Classifier w/ Label Encoder + Impu...             1   \n",
       "5   2  Logistic Regression Classifier w/ Label Encode...             2   \n",
       "6   4  LightGBM Classifier w/ Label Encoder + Imputer...             4   \n",
       "7   7  Decision Tree Classifier w/ Label Encoder + Im...             7   \n",
       "8   0       Mode Baseline Binary Classification Pipeline             0   \n",
       "\n",
       "   mean_cv_score  standard_deviation_cv_score  validation_score  \\\n",
       "0       0.611339                     0.003303          0.608083   \n",
       "1       0.620671                     0.002353          0.618076   \n",
       "2       0.662204                     0.001590          0.661207   \n",
       "3       0.666061                     0.022247          0.647496   \n",
       "4       0.667608                     0.039432          0.636556   \n",
       "5       0.672865                     0.038854          0.641956   \n",
       "6       0.730416                     0.043496          0.685805   \n",
       "7       1.407970                     0.229435          1.672048   \n",
       "8      12.005366                     0.029411         11.971405   \n",
       "\n",
       "   percent_better_than_baseline  high_variance_cv  \\\n",
       "0                     94.907785             False   \n",
       "1                     94.830050             False   \n",
       "2                     94.484099             False   \n",
       "3                     94.451969             False   \n",
       "4                     94.439086             False   \n",
       "5                     94.395297             False   \n",
       "6                     93.915925             False   \n",
       "7                     88.272161             False   \n",
       "8                      0.000000             False   \n",
       "\n",
       "                                          parameters  \n",
       "0  {'Imputer': {'categorical_impute_strategy': 'm...  \n",
       "1  {'Imputer': {'categorical_impute_strategy': 'm...  \n",
       "2  {'Imputer': {'categorical_impute_strategy': 'm...  \n",
       "3  {'Imputer': {'categorical_impute_strategy': 'm...  \n",
       "4  {'Imputer': {'categorical_impute_strategy': 'm...  \n",
       "5  {'Imputer': {'categorical_impute_strategy': 'm...  \n",
       "6  {'Imputer': {'categorical_impute_strategy': 'm...  \n",
       "7  {'Imputer': {'categorical_impute_strategy': 'm...  \n",
       "8      {'Baseline Classifier': {'strategy': 'mode'}}  "
      ]
     },
     "execution_count": 53,
     "metadata": {},
     "output_type": "execute_result"
    }
   ],
   "source": [
    "automl.rankings"
   ]
  },
  {
   "cell_type": "code",
   "execution_count": 54,
   "metadata": {},
   "outputs": [
    {
     "name": "stdout",
     "output_type": "stream",
     "text": [
      "\n",
      "*************************************************************************\n",
      "* Random Forest Classifier w/ Label Encoder + Imputer + One Hot Encoder *\n",
      "*************************************************************************\n",
      "\n",
      "Problem Type: binary\n",
      "Model Family: Random Forest\n",
      "\n",
      "Pipeline Steps\n",
      "==============\n",
      "1. Label Encoder\n",
      "2. Imputer\n",
      "\t * categorical_impute_strategy : most_frequent\n",
      "\t * numeric_impute_strategy : mean\n",
      "\t * categorical_fill_value : None\n",
      "\t * numeric_fill_value : None\n",
      "3. One Hot Encoder\n",
      "\t * top_n : 10\n",
      "\t * features_to_encode : None\n",
      "\t * categories : None\n",
      "\t * drop : if_binary\n",
      "\t * handle_unknown : ignore\n",
      "\t * handle_missing : error\n",
      "4. Random Forest Classifier\n",
      "\t * n_estimators : 100\n",
      "\t * max_depth : 6\n",
      "\t * n_jobs : -1\n",
      "\n",
      "Training\n",
      "========\n",
      "Training for binary problems.\n",
      "Total training time (including CV): 4.4 seconds\n",
      "\n",
      "Cross Validation\n",
      "----------------\n",
      "             Log Loss Binary  MCC Binary  Gini   AUC  Precision    F1  Balanced Accuracy Binary  Accuracy Binary # Training # Validation\n",
      "0                      0.608       0.126 0.371 0.685      0.368 0.529                     0.541            0.417      1,356          678\n",
      "1                      0.615       0.221 0.320 0.660      0.419 0.556                     0.608            0.541      1,356          678\n",
      "2                      0.611       0.258 0.352 0.676      0.455 0.565                     0.634            0.600      1,356          678\n",
      "mean                   0.611       0.202 0.348 0.674      0.414 0.550                     0.594            0.520          -            -\n",
      "std                    0.003       0.068 0.026 0.013      0.044 0.019                     0.048            0.093          -            -\n",
      "coef of var            0.005       0.339 0.074 0.019      0.106 0.034                     0.081            0.180          -            -\n"
     ]
    }
   ],
   "source": [
    "automl.describe_pipeline(automl.rankings.iloc[0][\"id\"])"
   ]
  },
  {
   "cell_type": "code",
   "execution_count": 55,
   "metadata": {},
   "outputs": [
    {
     "name": "stdout",
     "output_type": "stream",
     "text": [
      "0.6649819617452862\n"
     ]
    }
   ],
   "source": [
    "scores = best_pipeline.score(X_test, y_test,  objectives=[\"auc\"])\n",
    "print(scores['AUC'])"
   ]
  },
  {
   "cell_type": "code",
   "execution_count": 56,
   "metadata": {},
   "outputs": [
    {
     "data": {
      "image/svg+xml": "<?xml version=\"1.0\" encoding=\"UTF-8\" standalone=\"no\"?>\r\n<!DOCTYPE svg PUBLIC \"-//W3C//DTD SVG 1.1//EN\"\r\n \"http://www.w3.org/Graphics/SVG/1.1/DTD/svg11.dtd\">\r\n<!-- Generated by graphviz version 2.38.0 (20140413.2041)\r\n -->\r\n<!-- Title: %3 Pages: 1 -->\r\n<svg width=\"877pt\" height=\"161pt\"\r\n viewBox=\"0.00 0.00 877.00 160.50\" xmlns=\"http://www.w3.org/2000/svg\" xmlns:xlink=\"http://www.w3.org/1999/xlink\">\r\n<g id=\"graph0\" class=\"graph\" transform=\"scale(1 1) rotate(0) translate(4 156.5)\">\r\n<title>%3</title>\r\n<polygon fill=\"white\" stroke=\"none\" points=\"-4,4 -4,-156.5 873,-156.5 873,4 -4,4\"/>\r\n<!-- Label Encoder -->\r\n<g id=\"node1\" class=\"node\"><title>Label Encoder</title>\r\n<polygon fill=\"none\" stroke=\"black\" points=\"72,-11 72,-58 170,-58 170,-11 72,-11\"/>\r\n<text text-anchor=\"middle\" x=\"121\" y=\"-42.8\" font-family=\"Times New Roman,serif\" font-size=\"14.00\">Label Encoder</text>\r\n<polyline fill=\"none\" stroke=\"black\" points=\"72,-35 170,-35 \"/>\r\n</g>\r\n<!-- Imputer -->\r\n<g id=\"node2\" class=\"node\"><title>Imputer</title>\r\n<polygon fill=\"none\" stroke=\"black\" points=\"206,-61 206,-152 470,-152 470,-61 206,-61\"/>\r\n<text text-anchor=\"middle\" x=\"338\" y=\"-136.8\" font-family=\"Times New Roman,serif\" font-size=\"14.00\">Imputer</text>\r\n<polyline fill=\"none\" stroke=\"black\" points=\"206,-129 470,-129 \"/>\r\n<text text-anchor=\"start\" x=\"214\" y=\"-113.8\" font-family=\"Times New Roman,serif\" font-size=\"14.00\">categorical_impute_strategy : most_frequent</text>\r\n<text text-anchor=\"start\" x=\"214\" y=\"-98.8\" font-family=\"Times New Roman,serif\" font-size=\"14.00\">numeric_impute_strategy : mean</text>\r\n<text text-anchor=\"start\" x=\"214\" y=\"-83.8\" font-family=\"Times New Roman,serif\" font-size=\"14.00\">categorical_fill_value : None</text>\r\n<text text-anchor=\"start\" x=\"214\" y=\"-68.8\" font-family=\"Times New Roman,serif\" font-size=\"14.00\">numeric_fill_value : None</text>\r\n</g>\r\n<!-- Label Encoder&#45;&gt;Imputer -->\r\n<g id=\"edge5\" class=\"edge\"><title>Label Encoder&#45;&gt;Imputer</title>\r\n<path fill=\"none\" stroke=\"black\" stroke-dasharray=\"1,5\" d=\"M170.25,-50.6582C178.336,-53.3661 187.073,-56.2919 196.162,-59.3358\"/>\r\n<polygon fill=\"black\" stroke=\"black\" points=\"195.156,-62.6897 205.75,-62.5465 197.379,-56.052 195.156,-62.6897\"/>\r\n</g>\r\n<!-- One Hot Encoder -->\r\n<g id=\"node3\" class=\"node\"><title>One Hot Encoder</title>\r\n<polygon fill=\"none\" stroke=\"black\" points=\"506,-23 506,-144 673,-144 673,-23 506,-23\"/>\r\n<text text-anchor=\"middle\" x=\"589.5\" y=\"-128.8\" font-family=\"Times New Roman,serif\" font-size=\"14.00\">One Hot Encoder</text>\r\n<polyline fill=\"none\" stroke=\"black\" points=\"506,-121 673,-121 \"/>\r\n<text text-anchor=\"start\" x=\"514\" y=\"-105.8\" font-family=\"Times New Roman,serif\" font-size=\"14.00\">top_n : 10</text>\r\n<text text-anchor=\"start\" x=\"514\" y=\"-90.8\" font-family=\"Times New Roman,serif\" font-size=\"14.00\">features_to_encode : None</text>\r\n<text text-anchor=\"start\" x=\"514\" y=\"-75.8\" font-family=\"Times New Roman,serif\" font-size=\"14.00\">categories : None</text>\r\n<text text-anchor=\"start\" x=\"514\" y=\"-60.8\" font-family=\"Times New Roman,serif\" font-size=\"14.00\">drop : if_binary</text>\r\n<text text-anchor=\"start\" x=\"514\" y=\"-45.8\" font-family=\"Times New Roman,serif\" font-size=\"14.00\">handle_unknown : ignore</text>\r\n<text text-anchor=\"start\" x=\"514\" y=\"-30.8\" font-family=\"Times New Roman,serif\" font-size=\"14.00\">handle_missing : error</text>\r\n</g>\r\n<!-- Label Encoder&#45;&gt;One Hot Encoder -->\r\n<g id=\"edge6\" class=\"edge\"><title>Label Encoder&#45;&gt;One Hot Encoder</title>\r\n<path fill=\"none\" stroke=\"black\" stroke-dasharray=\"1,5\" d=\"M170.18,-33.6011C237.656,-33.0786 363.941,-34.7887 470,-51.5 478.488,-52.8375 487.243,-54.5476 495.969,-56.4797\"/>\r\n<polygon fill=\"black\" stroke=\"black\" points=\"495.262,-59.9085 505.793,-58.7475 496.836,-53.0879 495.262,-59.9085\"/>\r\n</g>\r\n<!-- Random Forest Classifier -->\r\n<g id=\"node4\" class=\"node\"><title>Random Forest Classifier</title>\r\n<polygon fill=\"none\" stroke=\"black\" points=\"709,-0.5 709,-76.5 869,-76.5 869,-0.5 709,-0.5\"/>\r\n<text text-anchor=\"middle\" x=\"789\" y=\"-61.3\" font-family=\"Times New Roman,serif\" font-size=\"14.00\">Random Forest Classifier</text>\r\n<polyline fill=\"none\" stroke=\"black\" points=\"709,-53.5 869,-53.5 \"/>\r\n<text text-anchor=\"start\" x=\"717\" y=\"-38.3\" font-family=\"Times New Roman,serif\" font-size=\"14.00\">n_estimators : 100</text>\r\n<text text-anchor=\"start\" x=\"717\" y=\"-23.3\" font-family=\"Times New Roman,serif\" font-size=\"14.00\">max_depth : 6</text>\r\n<text text-anchor=\"start\" x=\"717\" y=\"-8.3\" font-family=\"Times New Roman,serif\" font-size=\"14.00\">n_jobs : &#45;1</text>\r\n</g>\r\n<!-- Label Encoder&#45;&gt;Random Forest Classifier -->\r\n<g id=\"edge7\" class=\"edge\"><title>Label Encoder&#45;&gt;Random Forest Classifier</title>\r\n<path fill=\"none\" stroke=\"black\" stroke-dasharray=\"1,5\" d=\"M170.068,-28.0027C265.991,-16.0655 487.872,6.3903 673,-13.5 681.487,-14.4118 690.267,-15.6919 699.017,-17.1956\"/>\r\n<polygon fill=\"black\" stroke=\"black\" points=\"698.404,-20.6414 708.868,-18.9808 699.652,-13.7536 698.404,-20.6414\"/>\r\n</g>\r\n<!-- Imputer&#45;&gt;One Hot Encoder -->\r\n<g id=\"edge1\" class=\"edge\"><title>Imputer&#45;&gt;One Hot Encoder</title>\r\n<path fill=\"none\" stroke=\"black\" d=\"M470.326,-94.3938C478.923,-93.6013 487.477,-92.8127 495.827,-92.043\"/>\r\n<polygon fill=\"black\" stroke=\"black\" points=\"496.261,-95.5179 505.898,-91.1146 495.619,-88.5474 496.261,-95.5179\"/>\r\n</g>\r\n<!-- One Hot Encoder&#45;&gt;Random Forest Classifier -->\r\n<g id=\"edge2\" class=\"edge\"><title>One Hot Encoder&#45;&gt;Random Forest Classifier</title>\r\n<path fill=\"none\" stroke=\"black\" d=\"M673.113,-64.6767C681.623,-62.7379 690.296,-60.7617 698.872,-58.8077\"/>\r\n<polygon fill=\"black\" stroke=\"black\" points=\"699.906,-62.1619 708.878,-56.5277 698.351,-55.3368 699.906,-62.1619\"/>\r\n</g>\r\n<!-- X -->\r\n<g id=\"node5\" class=\"node\"><title>X</title>\r\n<ellipse fill=\"none\" stroke=\"black\" cx=\"18\" cy=\"-98.5\" rx=\"18\" ry=\"18\"/>\r\n<text text-anchor=\"middle\" x=\"18\" y=\"-94.8\" font-family=\"Times New Roman,serif\" font-size=\"14.00\">X</text>\r\n</g>\r\n<!-- X&#45;&gt;Label Encoder -->\r\n<g id=\"edge3\" class=\"edge\"><title>X&#45;&gt;Label Encoder</title>\r\n<path fill=\"none\" stroke=\"black\" d=\"M33.9029,-89.0566C44.6365,-82.2551 59.7355,-72.6874 74.2975,-63.46\"/>\r\n<polygon fill=\"black\" stroke=\"black\" points=\"76.1988,-66.3988 82.7724,-58.0898 72.452,-60.4859 76.1988,-66.3988\"/>\r\n</g>\r\n<!-- X&#45;&gt;Imputer -->\r\n<g id=\"edge4\" class=\"edge\"><title>X&#45;&gt;Imputer</title>\r\n<path fill=\"none\" stroke=\"black\" d=\"M36.0971,-98.9301C66.5887,-99.6972 133.052,-101.369 195.778,-102.947\"/>\r\n<polygon fill=\"black\" stroke=\"black\" points=\"195.722,-106.447 205.807,-103.2 195.898,-99.4491 195.722,-106.447\"/>\r\n</g>\r\n<!-- y -->\r\n<g id=\"node6\" class=\"node\"><title>y</title>\r\n<ellipse fill=\"none\" stroke=\"black\" cx=\"18\" cy=\"-34.5\" rx=\"18\" ry=\"18\"/>\r\n<text text-anchor=\"middle\" x=\"18\" y=\"-30.8\" font-family=\"Times New Roman,serif\" font-size=\"14.00\">y</text>\r\n</g>\r\n<!-- y&#45;&gt;Label Encoder -->\r\n<g id=\"edge8\" class=\"edge\"><title>y&#45;&gt;Label Encoder</title>\r\n<path fill=\"none\" stroke=\"black\" stroke-dasharray=\"1,5\" d=\"M36.1333,-34.5C43.4076,-34.5 52.3537,-34.5 61.6641,-34.5\"/>\r\n<polygon fill=\"black\" stroke=\"black\" points=\"61.848,-38.0001 71.8479,-34.5 61.8479,-31.0001 61.848,-38.0001\"/>\r\n</g>\r\n</g>\r\n</svg>\r\n",
      "text/plain": [
       "<graphviz.dot.Digraph at 0x25ef4059308>"
      ]
     },
     "execution_count": 56,
     "metadata": {},
     "output_type": "execute_result"
    }
   ],
   "source": [
    "best_pipeline.graph()"
   ]
  },
  {
   "cell_type": "code",
   "execution_count": null,
   "metadata": {},
   "outputs": [],
   "source": []
  }
 ],
 "metadata": {
  "kernelspec": {
   "display_name": "Python 3",
   "language": "python",
   "name": "python3"
  },
  "language_info": {
   "codemirror_mode": {
    "name": "ipython",
    "version": 3
   },
   "file_extension": ".py",
   "mimetype": "text/x-python",
   "name": "python",
   "nbconvert_exporter": "python",
   "pygments_lexer": "ipython3",
   "version": "3.7.4"
  }
 },
 "nbformat": 4,
 "nbformat_minor": 1
}
