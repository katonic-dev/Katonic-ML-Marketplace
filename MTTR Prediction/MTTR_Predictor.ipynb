{
 "cells": [
  {
   "cell_type": "markdown",
   "metadata": {},
   "source": [
    "# Usage Instructions - MTTR Predictor\n",
    "The MTTR (Mean Time to Resolution) predictor is an AI/ML based solution which predicts the time taken by a service agent to solve a specific ticket or incident request. The solution learns the efficiency, experience and workload management metrics for various ticket types solved by service agents to arrive at the predictions. The solution helps business in optimal ticket allocation leading to a low MTTR, shorter wait time, fewer open incidents leading to improved efficiency and SLA (Service Level Agreement) adherence.\n",
    "\n",
    "\n",
    "\n",
    "\n",
    "\n"
   ]
  },
  {
   "cell_type": "markdown",
   "metadata": {},
   "source": [
    "## Contents\n",
    "\n",
    "1. Import Libraries\n",
    "1. Sample Input Data\n",
    "1. Input Transformation\n",
    "1. Encoding Features\n",
    "1. Training and Optimizing the model\n",
    "1. Predicting the Unassigned data"
   ]
  },
  {
   "cell_type": "markdown",
   "metadata": {},
   "source": [
    "### Prerequisite\n",
    "\n",
    "To run this algorithm you need to have access to the following packages:\n",
    "- scikit-learn.\n",
    "- pandas,numpy\n",
    "- optuna.\n"
   ]
  },
  {
   "cell_type": "markdown",
   "metadata": {},
   "source": [
    "### Input format\n",
    "#### Input1:\n",
    "Name of the file: <b>”Assigned.csv”</b><br>\n",
    "This file contains historical incidents that have been resolved. The solution uses the following incident specific inputs to derive specific productivity measures such as efficiency, experience and workload management across incident types for incident managers to make the predictions.<br><br>\n",
    "\n",
    "</ul>\n",
    "<li> Request ID: Unique identifier for the request- alphanumeric e.g. SRV101_254859</li>\n",
    "<li> Request Submitted Date and Time: The data and time when the request was submitted (Preferred format: YYYY-MM-DD HH:MM:SS)</li>\n",
    "\n",
    "<li> Request Priority: Priority of the request e.g. High, Medium, Low</li>\n",
    "<li> Request Resolved Date and Time: The date and time when the request was closed (Only for closed requests, Preferred format: YYYY-MM-DD HH:MM:SS)</li>\n",
    "<li> Request Category: Type of request e.g. \"Authentication issue\", \"Server failure issue\", \"Access grant request\"</li>\n",
    "<li> Request Status: Status of the request e.g. Open/Closed</li>\n",
    "<li> Request Resolved By: Service Provider ID/name who solved the incident (for closed incidents) or whom incident has been assigned for resolution (for open incidents).</li>\n",
    "</ul><br>\n",
    "NOTE:\n",
    "</ul>\n",
    "<li>For Assigned requests, all the above data fields are mandatory (\"Request resolved by\" should NOT be blank).</li>\n",
    "<li>Provide a minimum of 10000 records (of assigned requests) for better results</li>\n",
    "</ul>\n",
    "\n",
    "#### Input2:\n",
    "<br>\n",
    "Name of the file:<b> “Unassigned.csv”</b>\n",
    "<ul>\n",
    "\t\n",
    "<li>This file contains those incidents which have not been assigned to any service provider.</li>\n",
    " <li> This File also requires above mentioned incident specific inputs except the following two inputs:</li>\n",
    "<li>Request Resolved Date and Time  and Request Resolved By</li>\n",
    "</ul>\n",
    "\n",
    "\n"
   ]
  },
  {
   "cell_type": "markdown",
   "metadata": {
    "tags": []
   },
   "source": [
    "## Import Libraries"
   ]
  },
  {
   "cell_type": "code",
   "execution_count": 1,
   "metadata": {
    "tags": []
   },
   "outputs": [],
   "source": [
    "import pandas as pd\n",
    "import numpy as np\n",
    "import optuna\n",
    "from sklearn.ensemble import GradientBoostingRegressor\n",
    "from sklearn.preprocessing import OrdinalEncoder\n",
    "from sklearn.model_selection import cross_val_score"
   ]
  },
  {
   "cell_type": "markdown",
   "metadata": {},
   "source": [
    "### Sample input data\n",
    "\n",
    "reading input data"
   ]
  },
  {
   "cell_type": "code",
   "execution_count": 2,
   "metadata": {},
   "outputs": [],
   "source": [
    "Assigned = pd.read_csv('Assigned.csv',parse_dates=['Request Submitted Date and Time','Request Resolved Date and Time'])\n",
    "Unassigned=pd.read_csv('Unassigned.csv',parse_dates=['Request Submitted Date and Time'])"
   ]
  },
  {
   "cell_type": "code",
   "execution_count": 3,
   "metadata": {},
   "outputs": [
    {
     "data": {
      "text/html": [
       "<div>\n",
       "<style scoped>\n",
       "    .dataframe tbody tr th:only-of-type {\n",
       "        vertical-align: middle;\n",
       "    }\n",
       "\n",
       "    .dataframe tbody tr th {\n",
       "        vertical-align: top;\n",
       "    }\n",
       "\n",
       "    .dataframe thead th {\n",
       "        text-align: right;\n",
       "    }\n",
       "</style>\n",
       "<table border=\"1\" class=\"dataframe\">\n",
       "  <thead>\n",
       "    <tr style=\"text-align: right;\">\n",
       "      <th></th>\n",
       "      <th>Request ID</th>\n",
       "      <th>Request Resolved By</th>\n",
       "      <th>Request Submitted Date and Time</th>\n",
       "      <th>Request Priority</th>\n",
       "      <th>Request Resolved Date and Time</th>\n",
       "      <th>Request Category</th>\n",
       "      <th>Request Status</th>\n",
       "    </tr>\n",
       "  </thead>\n",
       "  <tbody>\n",
       "    <tr>\n",
       "      <th>0</th>\n",
       "      <td>INC_1</td>\n",
       "      <td>Solver_1</td>\n",
       "      <td>2016-04-01 04:04:00</td>\n",
       "      <td>3-Low</td>\n",
       "      <td>2016-04-02 10:16:00</td>\n",
       "      <td>Request_Category_1</td>\n",
       "      <td>Closed</td>\n",
       "    </tr>\n",
       "    <tr>\n",
       "      <th>1</th>\n",
       "      <td>INC_2</td>\n",
       "      <td>Solver_2</td>\n",
       "      <td>2016-04-01 04:52:00</td>\n",
       "      <td>3-Low</td>\n",
       "      <td>2016-04-01 04:52:00</td>\n",
       "      <td>request_Category_2</td>\n",
       "      <td>Closed</td>\n",
       "    </tr>\n",
       "    <tr>\n",
       "      <th>2</th>\n",
       "      <td>INC_3</td>\n",
       "      <td>Solver_3</td>\n",
       "      <td>2016-04-01 04:23:00</td>\n",
       "      <td>3-Low</td>\n",
       "      <td>2016-04-01 04:23:00</td>\n",
       "      <td>request_Category_2</td>\n",
       "      <td>Closed</td>\n",
       "    </tr>\n",
       "    <tr>\n",
       "      <th>3</th>\n",
       "      <td>INC_4</td>\n",
       "      <td>Solver_4</td>\n",
       "      <td>2016-04-01 04:10:00</td>\n",
       "      <td>3-Low</td>\n",
       "      <td>2016-04-01 04:31:00</td>\n",
       "      <td>Request_Category_3</td>\n",
       "      <td>Closed</td>\n",
       "    </tr>\n",
       "    <tr>\n",
       "      <th>4</th>\n",
       "      <td>INC_5</td>\n",
       "      <td>Solver_5</td>\n",
       "      <td>2016-04-01 05:27:00</td>\n",
       "      <td>3-Low</td>\n",
       "      <td>2016-04-01 05:31:00</td>\n",
       "      <td>Request_Category_4</td>\n",
       "      <td>Closed</td>\n",
       "    </tr>\n",
       "  </tbody>\n",
       "</table>\n",
       "</div>"
      ],
      "text/plain": [
       "  Request ID Request Resolved By Request Submitted Date and Time  \\\n",
       "0      INC_1            Solver_1             2016-04-01 04:04:00   \n",
       "1      INC_2            Solver_2             2016-04-01 04:52:00   \n",
       "2      INC_3            Solver_3             2016-04-01 04:23:00   \n",
       "3      INC_4            Solver_4             2016-04-01 04:10:00   \n",
       "4      INC_5            Solver_5             2016-04-01 05:27:00   \n",
       "\n",
       "  Request Priority Request Resolved Date and Time    Request Category  \\\n",
       "0            3-Low            2016-04-02 10:16:00  Request_Category_1   \n",
       "1            3-Low            2016-04-01 04:52:00  request_Category_2   \n",
       "2            3-Low            2016-04-01 04:23:00  request_Category_2   \n",
       "3            3-Low            2016-04-01 04:31:00  Request_Category_3   \n",
       "4            3-Low            2016-04-01 05:31:00  Request_Category_4   \n",
       "\n",
       "  Request Status  \n",
       "0         Closed  \n",
       "1         Closed  \n",
       "2         Closed  \n",
       "3         Closed  \n",
       "4         Closed  "
      ]
     },
     "execution_count": 3,
     "metadata": {},
     "output_type": "execute_result"
    }
   ],
   "source": [
    "Assigned.head(5)"
   ]
  },
  {
   "cell_type": "code",
   "execution_count": 4,
   "metadata": {},
   "outputs": [
    {
     "data": {
      "text/html": [
       "<div>\n",
       "<style scoped>\n",
       "    .dataframe tbody tr th:only-of-type {\n",
       "        vertical-align: middle;\n",
       "    }\n",
       "\n",
       "    .dataframe tbody tr th {\n",
       "        vertical-align: top;\n",
       "    }\n",
       "\n",
       "    .dataframe thead th {\n",
       "        text-align: right;\n",
       "    }\n",
       "</style>\n",
       "<table border=\"1\" class=\"dataframe\">\n",
       "  <thead>\n",
       "    <tr style=\"text-align: right;\">\n",
       "      <th></th>\n",
       "      <th>Request ID</th>\n",
       "      <th>Request Submitted Date and Time</th>\n",
       "      <th>Request Priority</th>\n",
       "      <th>Request Category</th>\n",
       "      <th>Request Status</th>\n",
       "    </tr>\n",
       "  </thead>\n",
       "  <tbody>\n",
       "    <tr>\n",
       "      <th>0</th>\n",
       "      <td>INC_10483</td>\n",
       "      <td>2016-04-01 14:32:00</td>\n",
       "      <td>3-Low</td>\n",
       "      <td>Request_Category_242</td>\n",
       "      <td>Open</td>\n",
       "    </tr>\n",
       "    <tr>\n",
       "      <th>1</th>\n",
       "      <td>INC_10484</td>\n",
       "      <td>2016-04-01 14:13:00</td>\n",
       "      <td>3-Low</td>\n",
       "      <td>Request_Category_5</td>\n",
       "      <td>Open</td>\n",
       "    </tr>\n",
       "    <tr>\n",
       "      <th>2</th>\n",
       "      <td>INC_10485</td>\n",
       "      <td>2016-04-01 14:27:00</td>\n",
       "      <td>3-Low</td>\n",
       "      <td>Request_Category_3</td>\n",
       "      <td>Open</td>\n",
       "    </tr>\n",
       "    <tr>\n",
       "      <th>3</th>\n",
       "      <td>INC_10486</td>\n",
       "      <td>2016-04-01 14:54:00</td>\n",
       "      <td>3-Low</td>\n",
       "      <td>Request_Category_20</td>\n",
       "      <td>Open</td>\n",
       "    </tr>\n",
       "    <tr>\n",
       "      <th>4</th>\n",
       "      <td>INC_10487</td>\n",
       "      <td>2016-04-01 14:46:00</td>\n",
       "      <td>3-Low</td>\n",
       "      <td>Request_Category_33</td>\n",
       "      <td>Open</td>\n",
       "    </tr>\n",
       "  </tbody>\n",
       "</table>\n",
       "</div>"
      ],
      "text/plain": [
       "  Request ID Request Submitted Date and Time Request Priority  \\\n",
       "0  INC_10483             2016-04-01 14:32:00            3-Low   \n",
       "1  INC_10484             2016-04-01 14:13:00            3-Low   \n",
       "2  INC_10485             2016-04-01 14:27:00            3-Low   \n",
       "3  INC_10486             2016-04-01 14:54:00            3-Low   \n",
       "4  INC_10487             2016-04-01 14:46:00            3-Low   \n",
       "\n",
       "       Request Category Request Status  \n",
       "0  Request_Category_242           Open  \n",
       "1    Request_Category_5           Open  \n",
       "2    Request_Category_3           Open  \n",
       "3   Request_Category_20           Open  \n",
       "4   Request_Category_33           Open  "
      ]
     },
     "execution_count": 4,
     "metadata": {},
     "output_type": "execute_result"
    }
   ],
   "source": [
    "Unassigned.head(5)"
   ]
  },
  {
   "cell_type": "markdown",
   "metadata": {
    "tags": []
   },
   "source": [
    "### Input Transformation"
   ]
  },
  {
   "cell_type": "code",
   "execution_count": 5,
   "metadata": {},
   "outputs": [
    {
     "name": "stderr",
     "output_type": "stream",
     "text": [
      "/opt/miniconda/lib/python3.7/site-packages/ipykernel_launcher.py:5: SettingWithCopyWarning: \n",
      "A value is trying to be set on a copy of a slice from a DataFrame\n",
      "\n",
      "See the caveats in the documentation: https://pandas.pydata.org/pandas-docs/stable/user_guide/indexing.html#returning-a-view-versus-a-copy\n",
      "  \"\"\"\n"
     ]
    }
   ],
   "source": [
    "Assigned = Assigned[Assigned['Request Status']=='Closed'].reset_index(drop=True)\n",
    "Assigned['mttr']=Assigned['Request Resolved Date and Time']-Assigned['Request Submitted Date and Time']\n",
    "Assigned['mttr']=Assigned['mttr'].apply(lambda x: x.total_seconds()/60)\n",
    "Assigned['Request Priority'] = Assigned['Request Priority'].apply(lambda x:x.split(\"-\")[0])\n",
    "Assigned['mttr'][Assigned['mttr']<0]=0\n",
    "## creating label\n",
    "label = np.log(Assigned['mttr']+1)\n",
    "Assigned.drop(columns = ['Request ID', 'Request Resolved By', 'Request Submitted Date and Time','Request Resolved Date and Time','Request Status','mttr'], inplace = True)"
   ]
  },
  {
   "cell_type": "markdown",
   "metadata": {
    "tags": []
   },
   "source": [
    "### Encoding Features"
   ]
  },
  {
   "cell_type": "code",
   "execution_count": 6,
   "metadata": {},
   "outputs": [
    {
     "data": {
      "text/html": [
       "<div>\n",
       "<style scoped>\n",
       "    .dataframe tbody tr th:only-of-type {\n",
       "        vertical-align: middle;\n",
       "    }\n",
       "\n",
       "    .dataframe tbody tr th {\n",
       "        vertical-align: top;\n",
       "    }\n",
       "\n",
       "    .dataframe thead th {\n",
       "        text-align: right;\n",
       "    }\n",
       "</style>\n",
       "<table border=\"1\" class=\"dataframe\">\n",
       "  <thead>\n",
       "    <tr style=\"text-align: right;\">\n",
       "      <th></th>\n",
       "      <th>Request Priority</th>\n",
       "      <th>Request Category</th>\n",
       "    </tr>\n",
       "  </thead>\n",
       "  <tbody>\n",
       "    <tr>\n",
       "      <th>0</th>\n",
       "      <td>3</td>\n",
       "      <td>0.0</td>\n",
       "    </tr>\n",
       "    <tr>\n",
       "      <th>1</th>\n",
       "      <td>3</td>\n",
       "      <td>713.0</td>\n",
       "    </tr>\n",
       "    <tr>\n",
       "      <th>2</th>\n",
       "      <td>3</td>\n",
       "      <td>713.0</td>\n",
       "    </tr>\n",
       "    <tr>\n",
       "      <th>3</th>\n",
       "      <td>3</td>\n",
       "      <td>220.0</td>\n",
       "    </tr>\n",
       "    <tr>\n",
       "      <th>4</th>\n",
       "      <td>3</td>\n",
       "      <td>331.0</td>\n",
       "    </tr>\n",
       "  </tbody>\n",
       "</table>\n",
       "</div>"
      ],
      "text/plain": [
       "  Request Priority  Request Category\n",
       "0                3               0.0\n",
       "1                3             713.0\n",
       "2                3             713.0\n",
       "3                3             220.0\n",
       "4                3             331.0"
      ]
     },
     "execution_count": 6,
     "metadata": {},
     "output_type": "execute_result"
    }
   ],
   "source": [
    "\n",
    "oe = OrdinalEncoder(handle_unknown='use_encoded_value',\n",
    "    unknown_value=-99)\n",
    "Assigned[\"Request Category\"] = oe.fit_transform(Assigned[\"Request Category\"].values.reshape(-1,1))\n",
    "Assigned.head()"
   ]
  },
  {
   "cell_type": "markdown",
   "metadata": {
    "tags": []
   },
   "source": [
    "## Training and Optimizing the model."
   ]
  },
  {
   "cell_type": "code",
   "execution_count": 7,
   "metadata": {},
   "outputs": [
    {
     "name": "stderr",
     "output_type": "stream",
     "text": [
      "\u001b[32m[I 2021-11-25 14:48:04,139]\u001b[0m A new study created in memory with name: no-name-0fbfe5aa-a90d-4399-9d6c-a59af7ae920f\u001b[0m\n",
      "\u001b[32m[I 2021-11-25 14:48:04,264]\u001b[0m Trial 0 finished with value: 0.031646317495677555 and parameters: {'n_estimators': 80, 'max_depth': 1.720760944399821, 'min_samples_leaf': 1.5396019866814692, 'min_samples_split': 19.507452795784488, 'learning_rate': 0.03018196791234342}. Best is trial 0 with value: 0.031646317495677555.\u001b[0m\n",
      "\u001b[32m[I 2021-11-25 14:48:04,454]\u001b[0m Trial 1 finished with value: 0.02035272746383676 and parameters: {'n_estimators': 70, 'max_depth': 2.6623993365732117, 'min_samples_leaf': 2.3908698763487384, 'min_samples_split': 31.467729443723183, 'learning_rate': 0.005659481164494329}. Best is trial 0 with value: 0.031646317495677555.\u001b[0m\n",
      "\u001b[32m[I 2021-11-25 14:48:04,660]\u001b[0m Trial 2 finished with value: 0.019361790477052887 and parameters: {'n_estimators': 140, 'max_depth': 1.1396151402150123, 'min_samples_leaf': 4.994918692793642, 'min_samples_split': 48.00854323677309, 'learning_rate': 0.008578797084458186}. Best is trial 0 with value: 0.031646317495677555.\u001b[0m\n",
      "\u001b[32m[I 2021-11-25 14:48:04,890]\u001b[0m Trial 3 finished with value: 0.12454970106929919 and parameters: {'n_estimators': 90, 'max_depth': 2.470143031148998, 'min_samples_leaf': 1.4033161390948083, 'min_samples_split': 19.187236722801256, 'learning_rate': 0.07647851505797085}. Best is trial 3 with value: 0.12454970106929919.\u001b[0m\n",
      "\u001b[32m[I 2021-11-25 14:48:05,367]\u001b[0m Trial 4 finished with value: 0.15206613489954546 and parameters: {'n_estimators': 200, 'max_depth': 2.397303395505026, 'min_samples_leaf': 4.901298453715122, 'min_samples_split': 42.11744235046525, 'learning_rate': 0.05762841853463205}. Best is trial 4 with value: 0.15206613489954546.\u001b[0m\n",
      "\u001b[32m[I 2021-11-25 14:48:05,580]\u001b[0m Trial 5 finished with value: 0.08362049322934524 and parameters: {'n_estimators': 50, 'max_depth': 3.51474477353573, 'min_samples_leaf': 1.3631770016608005, 'min_samples_split': 54.30565404525006, 'learning_rate': 0.021633754620955896}. Best is trial 4 with value: 0.15206613489954546.\u001b[0m\n",
      "\u001b[32m[I 2021-11-25 14:48:05,806]\u001b[0m Trial 6 finished with value: 0.15983014320872677 and parameters: {'n_estimators': 80, 'max_depth': 2.9781746252016577, 'min_samples_leaf': 1.3280981402265744, 'min_samples_split': 10.983228843581603, 'learning_rate': 0.16899708184551554}. Best is trial 6 with value: 0.15983014320872677.\u001b[0m\n",
      "\u001b[32m[I 2021-11-25 14:48:06,547]\u001b[0m Trial 7 finished with value: 0.1687642165006303 and parameters: {'n_estimators': 180, 'max_depth': 3.599795457748676, 'min_samples_leaf': 2.236448376292489, 'min_samples_split': 25.174440188998343, 'learning_rate': 0.024707536206227003}. Best is trial 7 with value: 0.1687642165006303.\u001b[0m\n",
      "\u001b[32m[I 2021-11-25 14:48:07,330]\u001b[0m Trial 8 finished with value: 0.09307637031030495 and parameters: {'n_estimators': 190, 'max_depth': 3.4492769479354255, 'min_samples_leaf': 2.154954996413497, 'min_samples_split': 25.570135502307775, 'learning_rate': 0.006054644267130084}. Best is trial 7 with value: 0.1687642165006303.\u001b[0m\n",
      "\u001b[32m[I 2021-11-25 14:48:07,558]\u001b[0m Trial 9 finished with value: 0.0201577667897704 and parameters: {'n_estimators': 150, 'max_depth': 1.2249329896995962, 'min_samples_leaf': 3.3436946543700126, 'min_samples_split': 31.355208299627506, 'learning_rate': 0.008383797563181607}. Best is trial 7 with value: 0.1687642165006303.\u001b[0m\n",
      "\u001b[32m[I 2021-11-25 14:48:08,334]\u001b[0m Trial 10 finished with value: 0.16148182714898088 and parameters: {'n_estimators': 140, 'max_depth': 4.574270002275714, 'min_samples_leaf': 1.0103149810355174, 'min_samples_split': 98.85761048568752, 'learning_rate': 0.015538113914408212}. Best is trial 7 with value: 0.1687642165006303.\u001b[0m\n",
      "\u001b[32m[I 2021-11-25 14:48:09,143]\u001b[0m Trial 11 finished with value: 0.16902383247465483 and parameters: {'n_estimators': 140, 'max_depth': 4.9998319503565885, 'min_samples_leaf': 2.1650544908495393, 'min_samples_split': 98.49821882415648, 'learning_rate': 0.01607667785306073}. Best is trial 11 with value: 0.16902383247465483.\u001b[0m\n",
      "\u001b[32m[I 2021-11-25 14:48:10,116]\u001b[0m Trial 12 finished with value: 0.17748161350167194 and parameters: {'n_estimators': 170, 'max_depth': 4.92505377699287, 'min_samples_leaf': 2.3001199775817036, 'min_samples_split': 99.89332961135545, 'learning_rate': 0.015566968271549204}. Best is trial 12 with value: 0.17748161350167194.\u001b[0m\n",
      "\u001b[32m[I 2021-11-25 14:48:10,828]\u001b[0m Trial 13 finished with value: 0.1527855012367653 and parameters: {'n_estimators': 120, 'max_depth': 4.857006444282735, 'min_samples_leaf': 2.9239067041367117, 'min_samples_split': 96.95726439823262, 'learning_rate': 0.01385924126675985}. Best is trial 12 with value: 0.17748161350167194.\u001b[0m\n",
      "\u001b[32m[I 2021-11-25 14:48:11,078]\u001b[0m Trial 14 finished with value: 0.06250413365441765 and parameters: {'n_estimators': 160, 'max_depth': 1.7312077270257742, 'min_samples_leaf': 1.9740813183993167, 'min_samples_split': 69.83928131241122, 'learning_rate': 0.0498520726147796}. Best is trial 12 with value: 0.17748161350167194.\u001b[0m\n",
      "\u001b[32m[I 2021-11-25 14:48:11,184]\u001b[0m Trial 15 finished with value: 0.019326521190445495 and parameters: {'n_estimators': 10, 'max_depth': 4.9553865345528, 'min_samples_leaf': 3.1947509378523486, 'min_samples_split': 69.3287026617501, 'learning_rate': 0.010573684407409177}. Best is trial 12 with value: 0.17748161350167194.\u001b[0m\n",
      "\u001b[32m[I 2021-11-25 14:48:11,735]\u001b[0m Trial 16 finished with value: 0.12741082646517474 and parameters: {'n_estimators': 120, 'max_depth': 3.993653818603834, 'min_samples_leaf': 1.677398258796572, 'min_samples_split': 71.23766343371301, 'learning_rate': 0.018210986060044863}. Best is trial 12 with value: 0.17748161350167194.\u001b[0m\n",
      "\u001b[32m[I 2021-11-25 14:48:11,999]\u001b[0m Trial 17 finished with value: 0.05912900719114408 and parameters: {'n_estimators': 170, 'max_depth': 1.7252082780279574, 'min_samples_leaf': 2.731692764677462, 'min_samples_split': 82.48728043488595, 'learning_rate': 0.04124951057008828}. Best is trial 12 with value: 0.17748161350167194.\u001b[0m\n",
      "\u001b[32m[I 2021-11-25 14:48:12,750]\u001b[0m Trial 18 finished with value: 0.2657832253612263 and parameters: {'n_estimators': 130, 'max_depth': 4.066476119327325, 'min_samples_leaf': 3.8734171049235337, 'min_samples_split': 58.612762306252534, 'learning_rate': 0.08826486880218273}. Best is trial 18 with value: 0.2657832253612263.\u001b[0m\n",
      "\u001b[32m[I 2021-11-25 14:48:13,380]\u001b[0m Trial 19 finished with value: 0.2868952616751009 and parameters: {'n_estimators': 110, 'max_depth': 4.047535646604895, 'min_samples_leaf': 3.9070670971268764, 'min_samples_split': 57.39614138420268, 'learning_rate': 0.16837395629060115}. Best is trial 19 with value: 0.2868952616751009.\u001b[0m\n",
      "\u001b[32m[I 2021-11-25 14:48:13,870]\u001b[0m Trial 20 finished with value: 0.27002890345048175 and parameters: {'n_estimators': 110, 'max_depth': 3.0749519531536884, 'min_samples_leaf': 3.962796812327759, 'min_samples_split': 40.712564862385186, 'learning_rate': 0.19941022872645128}. Best is trial 19 with value: 0.2868952616751009.\u001b[0m\n",
      "\u001b[32m[I 2021-11-25 14:48:14,343]\u001b[0m Trial 21 finished with value: 0.26669330280770187 and parameters: {'n_estimators': 110, 'max_depth': 3.033986583090949, 'min_samples_leaf': 3.8897398875831333, 'min_samples_split': 39.891402353757705, 'learning_rate': 0.18913933743967498}. Best is trial 19 with value: 0.2868952616751009.\u001b[0m\n",
      "\u001b[32m[I 2021-11-25 14:48:14,631]\u001b[0m Trial 22 finished with value: 0.17872440655587105 and parameters: {'n_estimators': 100, 'max_depth': 2.692668475233307, 'min_samples_leaf': 4.002603458281626, 'min_samples_split': 39.76137130902016, 'learning_rate': 0.17491850134414336}. Best is trial 19 with value: 0.2868952616751009.\u001b[0m\n",
      "\u001b[32m[I 2021-11-25 14:48:14,943]\u001b[0m Trial 23 finished with value: 0.1689820232927098 and parameters: {'n_estimators': 110, 'max_depth': 2.0402863151664183, 'min_samples_leaf': 4.058024968991624, 'min_samples_split': 38.63726343882116, 'learning_rate': 0.12505150631032086}. Best is trial 19 with value: 0.2868952616751009.\u001b[0m\n",
      "\u001b[32m[I 2021-11-25 14:48:15,132]\u001b[0m Trial 24 finished with value: 0.17994523431507556 and parameters: {'n_estimators': 40, 'max_depth': 3.0624688538308895, 'min_samples_leaf': 3.6107273814569965, 'min_samples_split': 51.07578016190997, 'learning_rate': 0.13142515852518222}. Best is trial 19 with value: 0.2868952616751009.\u001b[0m\n",
      "\u001b[32m[I 2021-11-25 14:48:15,569]\u001b[0m Trial 25 finished with value: 0.2618836797384684 and parameters: {'n_estimators': 100, 'max_depth': 3.1108893636852124, 'min_samples_leaf': 4.405558926851184, 'min_samples_split': 36.44965999487833, 'learning_rate': 0.19472128933517305}. Best is trial 19 with value: 0.2868952616751009.\u001b[0m\n",
      "\u001b[32m[I 2021-11-25 14:48:15,745]\u001b[0m Trial 26 finished with value: 0.12352934624485072 and parameters: {'n_estimators': 60, 'max_depth': 2.078405502289474, 'min_samples_leaf': 2.698974067962396, 'min_samples_split': 46.43758874402423, 'learning_rate': 0.11716769032032288}. Best is trial 19 with value: 0.2868952616751009.\u001b[0m\n",
      "\u001b[32m[I 2021-11-25 14:48:16,394]\u001b[0m Trial 27 finished with value: 0.26104016101319455 and parameters: {'n_estimators': 110, 'max_depth': 4.125162020477551, 'min_samples_leaf': 4.345406078847392, 'min_samples_split': 26.075889607029076, 'learning_rate': 0.09095006793208099}. Best is trial 19 with value: 0.2868952616751009.\u001b[0m\n",
      "\u001b[32m[I 2021-11-25 14:48:16,800]\u001b[0m Trial 28 finished with value: 0.23481565981375171 and parameters: {'n_estimators': 90, 'max_depth': 3.3977079511319297, 'min_samples_leaf': 3.304105373545487, 'min_samples_split': 60.782146405730394, 'learning_rate': 0.13927404526713896}. Best is trial 19 with value: 0.2868952616751009.\u001b[0m\n",
      "\u001b[32m[I 2021-11-25 14:48:17,052]\u001b[0m Trial 29 finished with value: 0.13263045465800702 and parameters: {'n_estimators': 80, 'max_depth': 2.9275167661438495, 'min_samples_leaf': 3.539093064633702, 'min_samples_split': 18.74852370777531, 'learning_rate': 0.09700468058603799}. Best is trial 19 with value: 0.2868952616751009.\u001b[0m\n",
      "\u001b[32m[I 2021-11-25 14:48:17,268]\u001b[0m Trial 30 finished with value: 0.06232116148261979 and parameters: {'n_estimators': 120, 'max_depth': 1.3830892700534658, 'min_samples_leaf': 2.976815129802268, 'min_samples_split': 34.64325910504956, 'learning_rate': 0.062411994925358545}. Best is trial 19 with value: 0.2868952616751009.\u001b[0m\n",
      "\u001b[32m[I 2021-11-25 14:48:18,017]\u001b[0m Trial 31 finished with value: 0.29544569500277446 and parameters: {'n_estimators': 130, 'max_depth': 4.057226611119083, 'min_samples_leaf': 3.796613726197209, 'min_samples_split': 60.32861299105458, 'learning_rate': 0.19741222317418536}. Best is trial 31 with value: 0.29544569500277446.\u001b[0m\n",
      "\u001b[32m[I 2021-11-25 14:48:18,575]\u001b[0m Trial 32 finished with value: 0.265925116301579 and parameters: {'n_estimators': 130, 'max_depth': 3.8793661407409243, 'min_samples_leaf': 4.4201068655832945, 'min_samples_split': 46.090720938378276, 'learning_rate': 0.1535339702830903}. Best is trial 31 with value: 0.29544569500277446.\u001b[0m\n",
      "\u001b[32m[I 2021-11-25 14:48:19,160]\u001b[0m Trial 33 finished with value: 0.2890947718101651 and parameters: {'n_estimators': 100, 'max_depth': 4.382445874807106, 'min_samples_leaf': 3.689006481590229, 'min_samples_split': 61.449845651929046, 'learning_rate': 0.19624108371447643}. Best is trial 31 with value: 0.29544569500277446.\u001b[0m\n",
      "\u001b[32m[I 2021-11-25 14:48:19,581]\u001b[0m Trial 34 finished with value: 0.23355881112638854 and parameters: {'n_estimators': 90, 'max_depth': 4.36717419082001, 'min_samples_leaf': 4.679117416470201, 'min_samples_split': 77.9217166422745, 'learning_rate': 0.10727228715021712}. Best is trial 31 with value: 0.29544569500277446.\u001b[0m\n",
      "\u001b[32m[I 2021-11-25 14:48:19,891]\u001b[0m Trial 35 finished with value: 0.18029309703889573 and parameters: {'n_estimators': 70, 'max_depth': 3.726850046938664, 'min_samples_leaf': 3.62488931601971, 'min_samples_split': 60.328459550355326, 'learning_rate': 0.07658821331267798}. Best is trial 31 with value: 0.29544569500277446.\u001b[0m\n",
      "\u001b[32m[I 2021-11-25 14:48:20,435]\u001b[0m Trial 36 finished with value: 0.2602043209324148 and parameters: {'n_estimators': 130, 'max_depth': 3.3068689741666413, 'min_samples_leaf': 2.574672505620861, 'min_samples_split': 53.67698276784063, 'learning_rate': 0.14909934068712102}. Best is trial 31 with value: 0.29544569500277446.\u001b[0m\n",
      "\u001b[32m[I 2021-11-25 14:48:20,905]\u001b[0m Trial 37 finished with value: 0.27038310228037876 and parameters: {'n_estimators': 100, 'max_depth': 4.411897247595322, 'min_samples_leaf': 4.982608687263238, 'min_samples_split': 63.677368597476736, 'learning_rate': 0.18938788080793448}. Best is trial 31 with value: 0.29544569500277446.\u001b[0m\n",
      "\u001b[32m[I 2021-11-25 14:48:21,241]\u001b[0m Trial 38 finished with value: 0.14727145095698038 and parameters: {'n_estimators': 70, 'max_depth': 4.405788349004591, 'min_samples_leaf': 4.908338509472332, 'min_samples_split': 79.5074886996113, 'learning_rate': 0.034549282349580414}. Best is trial 31 with value: 0.29544569500277446.\u001b[0m\n",
      "\u001b[32m[I 2021-11-25 14:48:21,936]\u001b[0m Trial 39 finished with value: 0.27554810269134367 and parameters: {'n_estimators': 150, 'max_depth': 4.510960863515073, 'min_samples_leaf': 4.535923735018389, 'min_samples_split': 64.79190705575739, 'learning_rate': 0.1491399331818858}. Best is trial 31 with value: 0.29544569500277446.\u001b[0m\n",
      "\u001b[32m[I 2021-11-25 14:48:22,599]\u001b[0m Trial 40 finished with value: 0.22662047146472486 and parameters: {'n_estimators': 150, 'max_depth': 3.9461896982195785, 'min_samples_leaf': 4.311512815617534, 'min_samples_split': 55.09180391052356, 'learning_rate': 0.07006944312780211}. Best is trial 31 with value: 0.29544569500277446.\u001b[0m\n",
      "\u001b[32m[I 2021-11-25 14:48:23,295]\u001b[0m Trial 41 finished with value: 0.28181280258928293 and parameters: {'n_estimators': 150, 'max_depth': 4.4275042687276684, 'min_samples_leaf': 4.667579448250247, 'min_samples_split': 61.39084524069164, 'learning_rate': 0.1596717041826403}. Best is trial 31 with value: 0.29544569500277446.\u001b[0m\n",
      "\u001b[32m[I 2021-11-25 14:48:23,941]\u001b[0m Trial 42 finished with value: 0.2658889231527434 and parameters: {'n_estimators': 150, 'max_depth': 3.721468612960077, 'min_samples_leaf': 4.4916081738968225, 'min_samples_split': 82.56150128220655, 'learning_rate': 0.14405471036369275}. Best is trial 31 with value: 0.29544569500277446.\u001b[0m\n",
      "\u001b[32m[I 2021-11-25 14:48:24,874]\u001b[0m Trial 43 finished with value: 0.2838749492312597 and parameters: {'n_estimators': 160, 'max_depth': 4.56318951007395, 'min_samples_leaf': 3.0962074584382524, 'min_samples_split': 49.02402147455081, 'learning_rate': 0.10976582981210391}. Best is trial 31 with value: 0.29544569500277446.\u001b[0m\n",
      "\u001b[32m[I 2021-11-25 14:48:26,046]\u001b[0m Trial 44 finished with value: 0.2911288970696833 and parameters: {'n_estimators': 200, 'max_depth': 4.2372200002301215, 'min_samples_leaf': 3.0733029257400823, 'min_samples_split': 48.99312093092438, 'learning_rate': 0.11441944124918998}. Best is trial 31 with value: 0.29544569500277446.\u001b[0m\n",
      "\u001b[32m[I 2021-11-25 14:48:26,982]\u001b[0m Trial 45 finished with value: 0.2642747254335858 and parameters: {'n_estimators': 200, 'max_depth': 3.5969410112404283, 'min_samples_leaf': 3.1274429196760765, 'min_samples_split': 44.716345204577856, 'learning_rate': 0.10809715413786945}. Best is trial 31 with value: 0.29544569500277446.\u001b[0m\n",
      "\u001b[32m[I 2021-11-25 14:48:28,208]\u001b[0m Trial 46 finished with value: 0.2756358929359666 and parameters: {'n_estimators': 180, 'max_depth': 4.198247024499799, 'min_samples_leaf': 3.415834424796687, 'min_samples_split': 50.187653739175026, 'learning_rate': 0.08051765955211129}. Best is trial 31 with value: 0.29544569500277446.\u001b[0m\n",
      "\u001b[32m[I 2021-11-25 14:48:29,252]\u001b[0m Trial 47 finished with value: 0.28726748784912015 and parameters: {'n_estimators': 170, 'max_depth': 4.704142543665235, 'min_samples_leaf': 2.5051637306868506, 'min_samples_split': 29.25942623413299, 'learning_rate': 0.11842827544887116}. Best is trial 31 with value: 0.29544569500277446.\u001b[0m\n",
      "\u001b[32m[I 2021-11-25 14:48:29,814]\u001b[0m Trial 48 finished with value: 0.147440323307122 and parameters: {'n_estimators': 200, 'max_depth': 2.6181258410664907, 'min_samples_leaf': 1.9039317289271727, 'min_samples_split': 29.95170193525942, 'learning_rate': 0.049460782721110264}. Best is trial 31 with value: 0.29544569500277446.\u001b[0m\n",
      "\u001b[32m[I 2021-11-25 14:48:30,902]\u001b[0m Trial 49 finished with value: 0.291699757229146 and parameters: {'n_estimators': 190, 'max_depth': 4.718370854001926, 'min_samples_leaf': 2.470931560858907, 'min_samples_split': 16.52803380526412, 'learning_rate': 0.12485296984259601}. Best is trial 31 with value: 0.29544569500277446.\u001b[0m\n",
      "\u001b[32m[I 2021-11-25 14:48:31,962]\u001b[0m Trial 50 finished with value: 0.2901131699956078 and parameters: {'n_estimators': 190, 'max_depth': 4.799319941557102, 'min_samples_leaf': 2.415565378772456, 'min_samples_split': 14.848193405873491, 'learning_rate': 0.12068680771090137}. Best is trial 31 with value: 0.29544569500277446.\u001b[0m\n",
      "\u001b[32m[I 2021-11-25 14:48:33,000]\u001b[0m Trial 51 finished with value: 0.2900153688058185 and parameters: {'n_estimators': 190, 'max_depth': 4.718834451496181, 'min_samples_leaf': 2.4900529951440373, 'min_samples_split': 14.78487118678485, 'learning_rate': 0.12435465559470038}. Best is trial 31 with value: 0.29544569500277446.\u001b[0m\n",
      "\u001b[32m[I 2021-11-25 14:48:34,121]\u001b[0m Trial 52 finished with value: 0.2839782610483646 and parameters: {'n_estimators': 190, 'max_depth': 4.976395141760032, 'min_samples_leaf': 2.4407357594982457, 'min_samples_split': 13.705807260186788, 'learning_rate': 0.09933992092320008}. Best is trial 31 with value: 0.29544569500277446.\u001b[0m\n",
      "\u001b[32m[I 2021-11-25 14:48:35,169]\u001b[0m Trial 53 finished with value: 0.2896112607137775 and parameters: {'n_estimators': 190, 'max_depth': 4.742838266967994, 'min_samples_leaf': 2.054365263626594, 'min_samples_split': 15.906499390385518, 'learning_rate': 0.12835807857231454}. Best is trial 31 with value: 0.29544569500277446.\u001b[0m\n",
      "\u001b[32m[I 2021-11-25 14:48:36,223]\u001b[0m Trial 54 finished with value: 0.29199260165143265 and parameters: {'n_estimators': 190, 'max_depth': 4.730528086737472, 'min_samples_leaf': 1.760517708381696, 'min_samples_split': 16.665601508799572, 'learning_rate': 0.12939418969669517}. Best is trial 31 with value: 0.29544569500277446.\u001b[0m\n",
      "\u001b[32m[I 2021-11-25 14:48:37,242]\u001b[0m Trial 55 finished with value: 0.2614907646693518 and parameters: {'n_estimators': 180, 'max_depth': 4.207782901545923, 'min_samples_leaf': 1.8422886518955162, 'min_samples_split': 11.44689467231498, 'learning_rate': 0.061594912287207426}. Best is trial 31 with value: 0.29544569500277446.\u001b[0m\n",
      "\u001b[32m[I 2021-11-25 14:48:38,328]\u001b[0m Trial 56 finished with value: 0.2771155913320949 and parameters: {'n_estimators': 200, 'max_depth': 4.728337578478882, 'min_samples_leaf': 1.4580818547500847, 'min_samples_split': 21.330414281961787, 'learning_rate': 0.08546857177703727}. Best is trial 31 with value: 0.29544569500277446.\u001b[0m\n",
      "\u001b[32m[I 2021-11-25 14:48:38,625]\u001b[0m Trial 57 finished with value: 0.04963711482513703 and parameters: {'n_estimators': 190, 'max_depth': 1.0270720084338487, 'min_samples_leaf': 1.7205984940048185, 'min_samples_split': 17.629053621316455, 'learning_rate': 0.02494706156484771}. Best is trial 31 with value: 0.29544569500277446.\u001b[0m\n",
      "\u001b[32m[I 2021-11-25 14:48:39,383]\u001b[0m Trial 58 finished with value: 0.27940584290865583 and parameters: {'n_estimators': 180, 'max_depth': 3.868858939840686, 'min_samples_leaf': 2.3012534874297486, 'min_samples_split': 13.458892824140271, 'learning_rate': 0.1679209295303959}. Best is trial 31 with value: 0.29544569500277446.\u001b[0m\n",
      "\u001b[32m[I 2021-11-25 14:48:40,391]\u001b[0m Trial 59 finished with value: 0.26871423848882553 and parameters: {'n_estimators': 170, 'max_depth': 4.759041571225165, 'min_samples_leaf': 2.798923800423312, 'min_samples_split': 21.800553006072178, 'learning_rate': 0.07098148287472528}. Best is trial 31 with value: 0.29544569500277446.\u001b[0m\n",
      "\u001b[32m[I 2021-11-25 14:48:41,045]\u001b[0m Trial 60 finished with value: 0.20355652278113257 and parameters: {'n_estimators': 160, 'max_depth': 3.298828081511956, 'min_samples_leaf': 1.039048479836122, 'min_samples_split': 14.771541316387678, 'learning_rate': 0.05251397978383088}. Best is trial 31 with value: 0.29544569500277446.\u001b[0m\n",
      "\u001b[32m[I 2021-11-25 14:48:42,104]\u001b[0m Trial 61 finished with value: 0.29365347526920255 and parameters: {'n_estimators': 190, 'max_depth': 4.712404241280287, 'min_samples_leaf': 2.0365025237271523, 'min_samples_split': 16.50468275227681, 'learning_rate': 0.1296671354998356}. Best is trial 31 with value: 0.29544569500277446.\u001b[0m\n",
      "\u001b[32m[I 2021-11-25 14:48:43,199]\u001b[0m Trial 62 finished with value: 0.2933190114648453 and parameters: {'n_estimators': 200, 'max_depth': 4.993850579261338, 'min_samples_leaf': 2.130857670181083, 'min_samples_split': 11.891282457783586, 'learning_rate': 0.12371829709921742}. Best is trial 31 with value: 0.29544569500277446.\u001b[0m\n",
      "\u001b[32m[I 2021-11-25 14:48:44,308]\u001b[0m Trial 63 finished with value: 0.2829025800405907 and parameters: {'n_estimators': 200, 'max_depth': 4.285790048563815, 'min_samples_leaf': 2.115829409100403, 'min_samples_split': 10.154340728011976, 'learning_rate': 0.09592457060438274}. Best is trial 31 with value: 0.29544569500277446.\u001b[0m\n",
      "\u001b[32m[I 2021-11-25 14:48:44,589]\u001b[0m Trial 64 finished with value: 0.10204936123242592 and parameters: {'n_estimators': 180, 'max_depth': 1.5734706411868162, 'min_samples_leaf': 1.7508753664114025, 'min_samples_split': 11.699850858593882, 'learning_rate': 0.1345522977793647}. Best is trial 31 with value: 0.29544569500277446.\u001b[0m\n",
      "\u001b[32m[I 2021-11-25 14:48:45,805]\u001b[0m Trial 65 finished with value: 0.13793958816932725 and parameters: {'n_estimators': 200, 'max_depth': 4.9146115889513045, 'min_samples_leaf': 2.269247542217812, 'min_samples_split': 12.585761017407826, 'learning_rate': 0.00669575027614911}. Best is trial 31 with value: 0.29544569500277446.\u001b[0m\n",
      "\u001b[32m[I 2021-11-25 14:48:46,879]\u001b[0m Trial 66 finished with value: 0.28534037939945184 and parameters: {'n_estimators': 190, 'max_depth': 4.074181868935509, 'min_samples_leaf': 1.6053747105610607, 'min_samples_split': 17.29658441329022, 'learning_rate': 0.1059894956385249}. Best is trial 31 with value: 0.29544569500277446.\u001b[0m\n",
      "\u001b[32m[I 2021-11-25 14:48:47,608]\u001b[0m Trial 67 finished with value: 0.27866535024518774 and parameters: {'n_estimators': 180, 'max_depth': 3.7639665740702677, 'min_samples_leaf': 1.9689575080969222, 'min_samples_split': 20.77406047245927, 'learning_rate': 0.17670287548104816}. Best is trial 31 with value: 0.29544569500277446.\u001b[0m\n",
      "\u001b[32m[I 2021-11-25 14:48:48,569]\u001b[0m Trial 68 finished with value: 0.2858098010088061 and parameters: {'n_estimators': 170, 'max_depth': 4.984299575511036, 'min_samples_leaf': 2.643313340939753, 'min_samples_split': 24.445094496827352, 'learning_rate': 0.11855507298001801}. Best is trial 31 with value: 0.29544569500277446.\u001b[0m\n",
      "\u001b[32m[I 2021-11-25 14:48:48,764]\u001b[0m Trial 69 finished with value: 0.21074268892200634 and parameters: {'n_estimators': 30, 'max_depth': 4.618323888552642, 'min_samples_leaf': 2.8746635566605856, 'min_samples_split': 16.087943256805357, 'learning_rate': 0.15898043226006134}. Best is trial 31 with value: 0.29544569500277446.\u001b[0m\n",
      "\u001b[32m[I 2021-11-25 14:48:49,808]\u001b[0m Trial 70 finished with value: 0.2931074073836262 and parameters: {'n_estimators': 190, 'max_depth': 4.141886760423026, 'min_samples_leaf': 2.1740987141825974, 'min_samples_split': 12.317342479917977, 'learning_rate': 0.13798855683808336}. Best is trial 31 with value: 0.29544569500277446.\u001b[0m\n",
      "\u001b[32m[I 2021-11-25 14:48:50,924]\u001b[0m Trial 71 finished with value: 0.29431121471740324 and parameters: {'n_estimators': 190, 'max_depth': 4.171883110067798, 'min_samples_leaf': 2.0314614246546947, 'min_samples_split': 13.65083626397939, 'learning_rate': 0.14468100249911625}. Best is trial 31 with value: 0.29544569500277446.\u001b[0m\n",
      "\u001b[32m[I 2021-11-25 14:48:52,023]\u001b[0m Trial 72 finished with value: 0.2986959701079408 and parameters: {'n_estimators': 200, 'max_depth': 4.017385468854081, 'min_samples_leaf': 2.0716409787754757, 'min_samples_split': 10.030652867050076, 'learning_rate': 0.1758327872377498}. Best is trial 72 with value: 0.2986959701079408.\u001b[0m\n",
      "\u001b[32m[I 2021-11-25 14:48:52,756]\u001b[0m Trial 73 finished with value: 0.2714286528164492 and parameters: {'n_estimators': 180, 'max_depth': 3.523058251226793, 'min_samples_leaf': 1.8159562719747302, 'min_samples_split': 12.571131373585581, 'learning_rate': 0.13948710620185514}. Best is trial 72 with value: 0.2986959701079408.\u001b[0m\n",
      "\u001b[32m[I 2021-11-25 14:48:53,558]\u001b[0m Trial 74 finished with value: 0.2807592429235363 and parameters: {'n_estimators': 190, 'max_depth': 3.8883664474238544, 'min_samples_leaf': 2.0332390995443967, 'min_samples_split': 10.121381948611436, 'learning_rate': 0.17084322157966936}. Best is trial 72 with value: 0.2986959701079408.\u001b[0m\n",
      "\u001b[32m[I 2021-11-25 14:48:54,486]\u001b[0m Trial 75 finished with value: 0.2943265341324886 and parameters: {'n_estimators': 170, 'max_depth': 4.0356636177176615, 'min_samples_leaf': 2.169752800973181, 'min_samples_split': 10.86439031101545, 'learning_rate': 0.13872464802991263}. Best is trial 72 with value: 0.2986959701079408.\u001b[0m\n",
      "\u001b[32m[I 2021-11-25 14:48:54,908]\u001b[0m Trial 76 finished with value: 0.21139664752021511 and parameters: {'n_estimators': 160, 'max_depth': 2.3147790780677133, 'min_samples_leaf': 2.1889618061200866, 'min_samples_split': 10.561321247459585, 'learning_rate': 0.18308138235003893}. Best is trial 72 with value: 0.2986959701079408.\u001b[0m\n",
      "\u001b[32m[I 2021-11-25 14:48:56,012]\u001b[0m Trial 77 finished with value: 0.30091325551600917 and parameters: {'n_estimators': 200, 'max_depth': 4.086207589113958, 'min_samples_leaf': 1.6003936489285848, 'min_samples_split': 12.281736893410903, 'learning_rate': 0.1563741915066204}. Best is trial 77 with value: 0.30091325551600917.\u001b[0m\n",
      "\u001b[32m[I 2021-11-25 14:48:56,854]\u001b[0m Trial 78 finished with value: 0.28737518086889524 and parameters: {'n_estimators': 200, 'max_depth': 3.6525611981955444, 'min_samples_leaf': 1.637483206059771, 'min_samples_split': 11.17187854673204, 'learning_rate': 0.19898133495765952}. Best is trial 77 with value: 0.30091325551600917.\u001b[0m\n",
      "\u001b[32m[I 2021-11-25 14:48:57,546]\u001b[0m Trial 79 finished with value: 0.27036700545430703 and parameters: {'n_estimators': 170, 'max_depth': 3.2876822746776853, 'min_samples_leaf': 1.945751456206462, 'min_samples_split': 13.138360205625213, 'learning_rate': 0.15409090556252705}. Best is trial 77 with value: 0.30091325551600917.\u001b[0m\n",
      "\u001b[32m[I 2021-11-25 14:48:58,643]\u001b[0m Trial 80 finished with value: 0.29444848742345 and parameters: {'n_estimators': 200, 'max_depth': 4.091787939000929, 'min_samples_leaf': 2.3312282741484114, 'min_samples_split': 12.048293887994951, 'learning_rate': 0.13991479492628867}. Best is trial 77 with value: 0.30091325551600917.\u001b[0m\n",
      "\u001b[32m[I 2021-11-25 14:48:59,764]\u001b[0m Trial 81 finished with value: 0.2933671604377745 and parameters: {'n_estimators': 200, 'max_depth': 4.077315627938249, 'min_samples_leaf': 1.2663052280477642, 'min_samples_split': 12.00275141786047, 'learning_rate': 0.14546850610848752}. Best is trial 77 with value: 0.30091325551600917.\u001b[0m\n",
      "\u001b[32m[I 2021-11-25 14:49:00,616]\u001b[0m Trial 82 finished with value: 0.2764372312920421 and parameters: {'n_estimators': 200, 'max_depth': 3.992005733079513, 'min_samples_leaf': 1.0693287739070072, 'min_samples_split': 11.842772534661625, 'learning_rate': 0.1542446781253244}. Best is trial 77 with value: 0.30091325551600917.\u001b[0m\n",
      "\u001b[32m[I 2021-11-25 14:49:01,411]\u001b[0m Trial 83 finished with value: 0.28218052068778626 and parameters: {'n_estimators': 200, 'max_depth': 3.3985490867607226, 'min_samples_leaf': 1.2656962646195071, 'min_samples_split': 10.684503242412777, 'learning_rate': 0.1772843645002744}. Best is trial 77 with value: 0.30091325551600917.\u001b[0m\n",
      "\u001b[32m[I 2021-11-25 14:49:02,246]\u001b[0m Trial 84 finished with value: 0.2730179362929119 and parameters: {'n_estimators': 180, 'max_depth': 3.7920035213980823, 'min_samples_leaf': 1.1861262720109709, 'min_samples_split': 14.13617036727773, 'learning_rate': 0.16343271086767736}. Best is trial 77 with value: 0.30091325551600917.\u001b[0m\n",
      "\u001b[32m[I 2021-11-25 14:49:03,319]\u001b[0m Trial 85 finished with value: 0.2938682449552274 and parameters: {'n_estimators': 200, 'max_depth': 4.491241724680441, 'min_samples_leaf': 1.469929820056713, 'min_samples_split': 11.181098813589388, 'learning_rate': 0.1418472263275439}. Best is trial 77 with value: 0.30091325551600917.\u001b[0m\n",
      "\u001b[32m[I 2021-11-25 14:49:03,863]\u001b[0m Trial 86 finished with value: 0.20956893972730362 and parameters: {'n_estimators': 200, 'max_depth': 2.883576083753963, 'min_samples_leaf': 1.4738380616077476, 'min_samples_split': 10.919702685247445, 'learning_rate': 0.14645034581651814}. Best is trial 77 with value: 0.30091325551600917.\u001b[0m\n",
      "\u001b[32m[I 2021-11-25 14:49:04,843]\u001b[0m Trial 87 finished with value: 0.2802142861381989 and parameters: {'n_estimators': 180, 'max_depth': 4.497075894363298, 'min_samples_leaf': 1.3206774376004375, 'min_samples_split': 12.990517529468608, 'learning_rate': 0.10405847673057408}. Best is trial 77 with value: 0.30091325551600917.\u001b[0m\n",
      "\u001b[32m[I 2021-11-25 14:49:05,630]\u001b[0m Trial 88 finished with value: 0.2898428166070987 and parameters: {'n_estimators': 140, 'max_depth': 4.01590128152279, 'min_samples_leaf': 1.1834976676089553, 'min_samples_split': 14.099366340679335, 'learning_rate': 0.17686301964826923}. Best is trial 77 with value: 0.30091325551600917.\u001b[0m\n",
      "\u001b[32m[I 2021-11-25 14:49:06,405]\u001b[0m Trial 89 finished with value: 0.288820790887632 and parameters: {'n_estimators': 190, 'max_depth': 3.5071460635185012, 'min_samples_leaf': 1.5368968948815207, 'min_samples_split': 11.133684632267189, 'learning_rate': 0.19916055919523665}. Best is trial 77 with value: 0.30091325551600917.\u001b[0m\n",
      "\u001b[32m[I 2021-11-25 14:49:07,518]\u001b[0m Trial 90 finished with value: 0.16605519486459186 and parameters: {'n_estimators': 200, 'max_depth': 4.288137152052999, 'min_samples_leaf': 1.3969466720408654, 'min_samples_split': 10.020381881002894, 'learning_rate': 0.01169812045122579}. Best is trial 77 with value: 0.30091325551600917.\u001b[0m\n",
      "\u001b[32m[I 2021-11-25 14:49:08,651]\u001b[0m Trial 91 finished with value: 0.2979054844041729 and parameters: {'n_estimators': 200, 'max_depth': 4.499118258480378, 'min_samples_leaf': 2.346483368980455, 'min_samples_split': 11.928050069662318, 'learning_rate': 0.1455078583422285}. Best is trial 77 with value: 0.30091325551600917.\u001b[0m\n",
      "\u001b[32m[I 2021-11-25 14:49:09,683]\u001b[0m Trial 92 finished with value: 0.29148657923658794 and parameters: {'n_estimators': 190, 'max_depth': 4.127873681913746, 'min_samples_leaf': 2.0745328616399528, 'min_samples_split': 12.308260183640842, 'learning_rate': 0.13990910788834324}. Best is trial 77 with value: 0.30091325551600917.\u001b[0m\n",
      "\u001b[32m[I 2021-11-25 14:49:10,780]\u001b[0m Trial 93 finished with value: 0.29941467277840456 and parameters: {'n_estimators': 200, 'max_depth': 4.474759912649312, 'min_samples_leaf': 2.3235923764047874, 'min_samples_split': 10.679224237012061, 'learning_rate': 0.16070729244846851}. Best is trial 77 with value: 0.30091325551600917.\u001b[0m\n",
      "\u001b[32m[I 2021-11-25 14:49:11,767]\u001b[0m Trial 94 finished with value: 0.29686491969284734 and parameters: {'n_estimators': 180, 'max_depth': 4.498122650699611, 'min_samples_leaf': 2.2999282308936353, 'min_samples_split': 10.593672218505482, 'learning_rate': 0.16035125054407862}. Best is trial 77 with value: 0.30091325551600917.\u001b[0m\n",
      "\u001b[32m[I 2021-11-25 14:49:12,760]\u001b[0m Trial 95 finished with value: 0.2968687180216405 and parameters: {'n_estimators': 180, 'max_depth': 4.304376315203341, 'min_samples_leaf': 2.374069574369335, 'min_samples_split': 10.608718418410758, 'learning_rate': 0.16632307924576134}. Best is trial 77 with value: 0.30091325551600917.\u001b[0m\n",
      "\u001b[32m[I 2021-11-25 14:49:13,708]\u001b[0m Trial 96 finished with value: 0.29277581728989793 and parameters: {'n_estimators': 160, 'max_depth': 4.350954042703393, 'min_samples_leaf': 1.8717738563663493, 'min_samples_split': 10.647154136415633, 'learning_rate': 0.16153549216723612}. Best is trial 77 with value: 0.30091325551600917.\u001b[0m\n",
      "\u001b[32m[I 2021-11-25 14:49:14,393]\u001b[0m Trial 97 finished with value: 0.2757084035484786 and parameters: {'n_estimators': 170, 'max_depth': 3.8693244844615644, 'min_samples_leaf': 2.3483204116167444, 'min_samples_split': 10.532981087594575, 'learning_rate': 0.18059381212156503}. Best is trial 77 with value: 0.30091325551600917.\u001b[0m\n",
      "\u001b[32m[I 2021-11-25 14:49:15,113]\u001b[0m Trial 98 finished with value: 0.2809799233595659 and parameters: {'n_estimators': 180, 'max_depth': 3.682815303239664, 'min_samples_leaf': 2.3285321949496995, 'min_samples_split': 11.477491333122373, 'learning_rate': 0.1859951458819028}. Best is trial 77 with value: 0.30091325551600917.\u001b[0m\n",
      "\u001b[32m[I 2021-11-25 14:49:16,078]\u001b[0m Trial 99 finished with value: 0.29752142409046767 and parameters: {'n_estimators': 170, 'max_depth': 4.262787125737976, 'min_samples_leaf': 2.5684806322226024, 'min_samples_split': 12.89246165458544, 'learning_rate': 0.1676297705694304}. Best is trial 77 with value: 0.30091325551600917.\u001b[0m\n"
     ]
    },
    {
     "name": "stdout",
     "output_type": "stream",
     "text": [
      "r2_score: 0.30091325551600917\n",
      "Best hyperparameters: {'n_estimators': 200, 'max_depth': 4.086207589113958, 'min_samples_leaf': 1.6003936489285848, 'min_samples_split': 12.281736893410903, 'learning_rate': 0.1563741915066204}\n"
     ]
    }
   ],
   "source": [
    "def objective(trial):\n",
    "\n",
    "    n_estimators = trial.suggest_int('n_estimators', 10, 200,10)\n",
    "    max_depth = int(trial.suggest_loguniform('max_depth', 1, 5))\n",
    "    min_samples_leaf = round(trial.suggest_loguniform('min_samples_leaf', 1, 5))\n",
    "    min_samples_split = int(trial.suggest_loguniform('min_samples_split', 10, 100))\n",
    "    learning_rate = trial.suggest_float('learning_rate', 0.005, 0.2,log=True)\n",
    "    clf = GradientBoostingRegressor(max_depth=max_depth, max_features='sqrt', min_samples_leaf=min_samples_leaf,\n",
    "                           min_samples_split=min_samples_split, n_estimators=n_estimators,random_state = 42,learning_rate=learning_rate)\n",
    "    score = cross_val_score(clf,Assigned,label,cv=3)\n",
    "   \n",
    "    return np.mean(score)\n",
    "\n",
    "\n",
    "\n",
    "study = optuna.create_study(direction='maximize')\n",
    "study.optimize(objective, n_trials=100)\n",
    "\n",
    "trial = study.best_trial\n",
    "print('r2_score: {}'.format(trial.value))\n",
    "\n",
    "print(\"Best hyperparameters: {}\".format(trial.params))"
   ]
  },
  {
   "cell_type": "code",
   "execution_count": 8,
   "metadata": {},
   "outputs": [
    {
     "data": {
      "text/plain": [
       "GradientBoostingRegressor(learning_rate=0.1563741915066204,\n",
       "                          max_depth=4.086207589113958, max_features='sqrt',\n",
       "                          min_samples_leaf=2, min_samples_split=12,\n",
       "                          n_estimators=200, random_state=42)"
      ]
     },
     "execution_count": 8,
     "metadata": {},
     "output_type": "execute_result"
    }
   ],
   "source": [
    "clf = GradientBoostingRegressor(max_depth=trial.params['max_depth'],\n",
    "                                     max_features='sqrt', \n",
    "                                     min_samples_leaf=round(trial.params['min_samples_leaf']),\n",
    "                                     min_samples_split=round(trial.params['min_samples_split']), \n",
    "                                     n_estimators=trial.params['n_estimators'],\n",
    "                                     random_state = 42,\n",
    "                                     learning_rate=trial.params['learning_rate'])\n",
    "clf.fit(Assigned,label)"
   ]
  },
  {
   "cell_type": "markdown",
   "metadata": {
    "tags": []
   },
   "source": [
    "## Prdicting the Unassigned data"
   ]
  },
  {
   "cell_type": "markdown",
   "metadata": {
    "tags": []
   },
   "source": [
    "### Transforming the Unassigned data"
   ]
  },
  {
   "cell_type": "code",
   "execution_count": 10,
   "metadata": {},
   "outputs": [
    {
     "data": {
      "text/html": [
       "<div>\n",
       "<style scoped>\n",
       "    .dataframe tbody tr th:only-of-type {\n",
       "        vertical-align: middle;\n",
       "    }\n",
       "\n",
       "    .dataframe tbody tr th {\n",
       "        vertical-align: top;\n",
       "    }\n",
       "\n",
       "    .dataframe thead th {\n",
       "        text-align: right;\n",
       "    }\n",
       "</style>\n",
       "<table border=\"1\" class=\"dataframe\">\n",
       "  <thead>\n",
       "    <tr style=\"text-align: right;\">\n",
       "      <th></th>\n",
       "      <th>Request Priority</th>\n",
       "      <th>Request Category</th>\n",
       "    </tr>\n",
       "  </thead>\n",
       "  <tbody>\n",
       "    <tr>\n",
       "      <th>0</th>\n",
       "      <td>3</td>\n",
       "      <td>157.0</td>\n",
       "    </tr>\n",
       "    <tr>\n",
       "      <th>1</th>\n",
       "      <td>3</td>\n",
       "      <td>442.0</td>\n",
       "    </tr>\n",
       "    <tr>\n",
       "      <th>2</th>\n",
       "      <td>3</td>\n",
       "      <td>220.0</td>\n",
       "    </tr>\n",
       "    <tr>\n",
       "      <th>3</th>\n",
       "      <td>3</td>\n",
       "      <td>111.0</td>\n",
       "    </tr>\n",
       "    <tr>\n",
       "      <th>4</th>\n",
       "      <td>3</td>\n",
       "      <td>254.0</td>\n",
       "    </tr>\n",
       "  </tbody>\n",
       "</table>\n",
       "</div>"
      ],
      "text/plain": [
       "  Request Priority  Request Category\n",
       "0                3             157.0\n",
       "1                3             442.0\n",
       "2                3             220.0\n",
       "3                3             111.0\n",
       "4                3             254.0"
      ]
     },
     "execution_count": 10,
     "metadata": {},
     "output_type": "execute_result"
    }
   ],
   "source": [
    "Unassigned['Request Priority'] = Unassigned['Request Priority'].apply(lambda x:x.split(\"-\")[0])\n",
    "Unassigned['Request Category'] = oe.transform(Unassigned['Request Category'].values.reshape(-1,1))\n",
    "test = Unassigned[['Request Priority','Request Category']]\n",
    "test.head()"
   ]
  },
  {
   "cell_type": "code",
   "execution_count": 11,
   "metadata": {},
   "outputs": [],
   "source": [
    "data = pd.DataFrame()\n",
    "data['Request ID'] = Unassigned['Request ID']\n",
    "data['MTTR'] = clf.predict(test)\n",
    "data.to_csv('output.csv',index = False)"
   ]
  },
  {
   "cell_type": "code",
   "execution_count": null,
   "metadata": {},
   "outputs": [],
   "source": []
  }
 ],
 "metadata": {
  "kernelspec": {
   "display_name": "Python 3",
   "language": "python",
   "name": "python3"
  },
  "kubeflow_notebook": {
   "autosnapshot": false,
   "docker_image": "",
   "experiment": {
    "id": "",
    "name": ""
   },
   "experiment_name": "",
   "katib_metadata": {
    "algorithm": {
     "algorithmName": "grid"
    },
    "maxFailedTrialCount": 3,
    "maxTrialCount": 12,
    "objective": {
     "objectiveMetricName": "",
     "type": "minimize"
    },
    "parallelTrialCount": 3,
    "parameters": []
   },
   "katib_run": false,
   "pipeline_description": "",
   "pipeline_name": "",
   "snapshot_volumes": false,
   "steps_defaults": [],
   "volume_access_mode": "rwm",
   "volumes": []
  },
  "language_info": {
   "codemirror_mode": {
    "name": "ipython",
    "version": 3
   },
   "file_extension": ".py",
   "mimetype": "text/x-python",
   "name": "python",
   "nbconvert_exporter": "python",
   "pygments_lexer": "ipython3",
   "version": "3.7.9"
  }
 },
 "nbformat": 4,
 "nbformat_minor": 4
}
