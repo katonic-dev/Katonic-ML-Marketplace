{
 "cells": [
  {
   "cell_type": "markdown",
   "metadata": {},
   "source": [
    "# Usage Instructions - Time Series Ticket Priority Forecasting\n",
    "\n",
    "Time series ticket forecasting helps businesses assess the number of tickets that can be generate at each priority level based on historic data. This will help businesses assess the human resource required to resolve the issues and allocate more people if necessary. It uses VAR algorithms.  \n"
   ]
  },
  {
   "cell_type": "markdown",
   "metadata": {},
   "source": [
    "## Contents\n",
    "\n",
    "1. Prequisites\n",
    "1. Data Dictionary\n",
    "1. Import Libraries\n",
    "1. Sample Input Data\n",
    "1. Create Model\n",
    "1. Predict Future Datapoints\n",
    "1. Plot the DataFrame\n",
    "1. Saving Forcast"
   ]
  },
  {
   "cell_type": "markdown",
   "metadata": {},
   "source": [
    "### Prerequisites\n",
    "\n",
    "To run this algorithm you need to have install following packages:\n",
    "- \"pandas\" to read/save csv files.\n",
    "- \"numpy\"\n",
    "- \"statsmodels\" to forcast data.\n",
    "\n"
   ]
  },
  {
   "cell_type": "markdown",
   "metadata": {},
   "source": [
    "### Data Dictionary\n",
    "\n",
    "- The input has to be a '.csv' file with 'utf-8' encoding. PLEASE NOTE: If your input .csv file is not 'utf-8' encoded, model   will not perform as expected\n",
    "1. Have an unique identifier column called 'maskedsku'. eg. 'maskedsku' can be shipmentid\n",
    "2. The date format of the columns should be: 'YYYY-MM-DD'"
   ]
  },
  {
   "cell_type": "markdown",
   "metadata": {
    "tags": []
   },
   "source": [
    "## Import Libraries"
   ]
  },
  {
   "cell_type": "code",
   "execution_count": 1,
   "metadata": {},
   "outputs": [
    {
     "name": "stderr",
     "output_type": "stream",
     "text": [
      "Importing plotly failed. Interactive plots will not work.\n"
     ]
    }
   ],
   "source": [
    "import pandas as pd\n",
    "from prophet import Prophet"
   ]
  },
  {
   "cell_type": "code",
   "execution_count": 2,
   "metadata": {},
   "outputs": [],
   "source": [
    "import numpy as np\n",
    "\n",
    "import pandas\n",
    "\n",
    "import statsmodels.api as sm\n",
    "\n",
    "from statsmodels.tsa.api import VAR"
   ]
  },
  {
   "cell_type": "markdown",
   "metadata": {},
   "source": [
    "### Sample input data"
   ]
  },
  {
   "cell_type": "code",
   "execution_count": 3,
   "metadata": {},
   "outputs": [
    {
     "data": {
      "text/html": [
       "<div>\n",
       "<style scoped>\n",
       "    .dataframe tbody tr th:only-of-type {\n",
       "        vertical-align: middle;\n",
       "    }\n",
       "\n",
       "    .dataframe tbody tr th {\n",
       "        vertical-align: top;\n",
       "    }\n",
       "\n",
       "    .dataframe thead th {\n",
       "        text-align: right;\n",
       "    }\n",
       "</style>\n",
       "<table border=\"1\" class=\"dataframe\">\n",
       "  <thead>\n",
       "    <tr style=\"text-align: right;\">\n",
       "      <th>maskedsku</th>\n",
       "      <th>P1</th>\n",
       "      <th>P2</th>\n",
       "      <th>P3</th>\n",
       "    </tr>\n",
       "  </thead>\n",
       "  <tbody>\n",
       "    <tr>\n",
       "      <th>2018-08-01 12:00</th>\n",
       "      <td>13380.82192</td>\n",
       "      <td>20433.83014</td>\n",
       "      <td>14866.84932</td>\n",
       "    </tr>\n",
       "    <tr>\n",
       "      <th>2018-08-01 13:00</th>\n",
       "      <td>15244.93151</td>\n",
       "      <td>10600.76712</td>\n",
       "      <td>14915.34247</td>\n",
       "    </tr>\n",
       "    <tr>\n",
       "      <th>2018-08-01 14:00</th>\n",
       "      <td>14925.20548</td>\n",
       "      <td>12656.87671</td>\n",
       "      <td>17090.63014</td>\n",
       "    </tr>\n",
       "    <tr>\n",
       "      <th>2018-08-01 15:00</th>\n",
       "      <td>13585.97260</td>\n",
       "      <td>20317.80822</td>\n",
       "      <td>11294.46575</td>\n",
       "    </tr>\n",
       "    <tr>\n",
       "      <th>2018-08-01 16:00</th>\n",
       "      <td>11365.47945</td>\n",
       "      <td>14872.76712</td>\n",
       "      <td>20696.71233</td>\n",
       "    </tr>\n",
       "    <tr>\n",
       "      <th>2018-08-01 17:00</th>\n",
       "      <td>20060.54795</td>\n",
       "      <td>15046.35616</td>\n",
       "      <td>11879.67123</td>\n",
       "    </tr>\n",
       "    <tr>\n",
       "      <th>2018-08-01 18:00</th>\n",
       "      <td>12861.36986</td>\n",
       "      <td>19864.93151</td>\n",
       "      <td>12768.00000</td>\n",
       "    </tr>\n",
       "    <tr>\n",
       "      <th>2018-08-01 19:00</th>\n",
       "      <td>14945.22740</td>\n",
       "      <td>14184.98630</td>\n",
       "      <td>22173.69863</td>\n",
       "    </tr>\n",
       "    <tr>\n",
       "      <th>2018-08-01 20:00</th>\n",
       "      <td>14490.37808</td>\n",
       "      <td>12370.84932</td>\n",
       "      <td>16171.39726</td>\n",
       "    </tr>\n",
       "    <tr>\n",
       "      <th>2018-08-01 21:00</th>\n",
       "      <td>12208.53699</td>\n",
       "      <td>19949.58904</td>\n",
       "      <td>17321.45753</td>\n",
       "    </tr>\n",
       "    <tr>\n",
       "      <th>2018-08-01 22:00</th>\n",
       "      <td>14866.84932</td>\n",
       "      <td>13380.82192</td>\n",
       "      <td>20433.83014</td>\n",
       "    </tr>\n",
       "    <tr>\n",
       "      <th>2018-08-01 23:00</th>\n",
       "      <td>14915.34247</td>\n",
       "      <td>15244.93151</td>\n",
       "      <td>10600.76712</td>\n",
       "    </tr>\n",
       "    <tr>\n",
       "      <th>2018-08-02 0:00</th>\n",
       "      <td>17090.63014</td>\n",
       "      <td>14925.20548</td>\n",
       "      <td>12656.87671</td>\n",
       "    </tr>\n",
       "    <tr>\n",
       "      <th>2018-08-02 1:00</th>\n",
       "      <td>11294.46575</td>\n",
       "      <td>13585.97260</td>\n",
       "      <td>20317.80822</td>\n",
       "    </tr>\n",
       "    <tr>\n",
       "      <th>2018-08-02 2:00</th>\n",
       "      <td>20696.71233</td>\n",
       "      <td>11365.47945</td>\n",
       "      <td>14872.76712</td>\n",
       "    </tr>\n",
       "    <tr>\n",
       "      <th>2018-08-02 3:00</th>\n",
       "      <td>11879.67123</td>\n",
       "      <td>20060.54795</td>\n",
       "      <td>15046.35616</td>\n",
       "    </tr>\n",
       "    <tr>\n",
       "      <th>2018-08-02 4:00</th>\n",
       "      <td>12768.00000</td>\n",
       "      <td>12861.36986</td>\n",
       "      <td>19864.93151</td>\n",
       "    </tr>\n",
       "    <tr>\n",
       "      <th>2018-08-02 5:00</th>\n",
       "      <td>22173.69863</td>\n",
       "      <td>14945.22740</td>\n",
       "      <td>14184.98630</td>\n",
       "    </tr>\n",
       "    <tr>\n",
       "      <th>2018-08-02 6:00</th>\n",
       "      <td>16171.39726</td>\n",
       "      <td>14490.37808</td>\n",
       "      <td>12370.84932</td>\n",
       "    </tr>\n",
       "    <tr>\n",
       "      <th>2018-08-02 7:00</th>\n",
       "      <td>17321.45753</td>\n",
       "      <td>12208.53699</td>\n",
       "      <td>19949.58904</td>\n",
       "    </tr>\n",
       "    <tr>\n",
       "      <th>2018-08-02 8:00</th>\n",
       "      <td>20433.83014</td>\n",
       "      <td>14866.84932</td>\n",
       "      <td>13380.82192</td>\n",
       "    </tr>\n",
       "    <tr>\n",
       "      <th>2018-08-02 9:00</th>\n",
       "      <td>10600.76712</td>\n",
       "      <td>14915.34247</td>\n",
       "      <td>15244.93151</td>\n",
       "    </tr>\n",
       "    <tr>\n",
       "      <th>2018-08-02 10:00</th>\n",
       "      <td>12656.87671</td>\n",
       "      <td>17090.63014</td>\n",
       "      <td>14925.20548</td>\n",
       "    </tr>\n",
       "    <tr>\n",
       "      <th>2018-08-02 11:00</th>\n",
       "      <td>20317.80822</td>\n",
       "      <td>11294.46575</td>\n",
       "      <td>13585.97260</td>\n",
       "    </tr>\n",
       "    <tr>\n",
       "      <th>2018-08-02 12:00</th>\n",
       "      <td>14872.76712</td>\n",
       "      <td>20696.71233</td>\n",
       "      <td>11365.47945</td>\n",
       "    </tr>\n",
       "    <tr>\n",
       "      <th>2018-08-02 13:00</th>\n",
       "      <td>15046.35616</td>\n",
       "      <td>11879.67123</td>\n",
       "      <td>20060.54795</td>\n",
       "    </tr>\n",
       "    <tr>\n",
       "      <th>2018-08-02 14:00</th>\n",
       "      <td>19864.93151</td>\n",
       "      <td>12768.00000</td>\n",
       "      <td>12861.36986</td>\n",
       "    </tr>\n",
       "    <tr>\n",
       "      <th>2018-08-02 15:00</th>\n",
       "      <td>14184.98630</td>\n",
       "      <td>22173.69863</td>\n",
       "      <td>14945.22740</td>\n",
       "    </tr>\n",
       "    <tr>\n",
       "      <th>2018-08-02 16:00</th>\n",
       "      <td>12370.84932</td>\n",
       "      <td>16171.39726</td>\n",
       "      <td>14490.37808</td>\n",
       "    </tr>\n",
       "    <tr>\n",
       "      <th>2018-08-02 17:00</th>\n",
       "      <td>19949.58904</td>\n",
       "      <td>17321.45753</td>\n",
       "      <td>12208.53699</td>\n",
       "    </tr>\n",
       "    <tr>\n",
       "      <th>2018-08-02 18:00</th>\n",
       "      <td>14228.38356</td>\n",
       "      <td>15056.87671</td>\n",
       "      <td>16279.75890</td>\n",
       "    </tr>\n",
       "    <tr>\n",
       "      <th>2018-08-02 19:00</th>\n",
       "      <td>19529.55616</td>\n",
       "      <td>14330.95890</td>\n",
       "      <td>14228.38356</td>\n",
       "    </tr>\n",
       "    <tr>\n",
       "      <th>2018-08-02 20:00</th>\n",
       "      <td>16279.75890</td>\n",
       "      <td>16279.75890</td>\n",
       "      <td>15056.87671</td>\n",
       "    </tr>\n",
       "    <tr>\n",
       "      <th>2018-08-02 21:00</th>\n",
       "      <td>14330.95890</td>\n",
       "      <td>14228.38356</td>\n",
       "      <td>14330.95890</td>\n",
       "    </tr>\n",
       "    <tr>\n",
       "      <th>2018-08-02 22:00</th>\n",
       "      <td>15056.87671</td>\n",
       "      <td>19529.55616</td>\n",
       "      <td>14228.38356</td>\n",
       "    </tr>\n",
       "  </tbody>\n",
       "</table>\n",
       "</div>"
      ],
      "text/plain": [
       "maskedsku                  P1           P2           P3\n",
       "2018-08-01 12:00  13380.82192  20433.83014  14866.84932\n",
       "2018-08-01 13:00  15244.93151  10600.76712  14915.34247\n",
       "2018-08-01 14:00  14925.20548  12656.87671  17090.63014\n",
       "2018-08-01 15:00  13585.97260  20317.80822  11294.46575\n",
       "2018-08-01 16:00  11365.47945  14872.76712  20696.71233\n",
       "2018-08-01 17:00  20060.54795  15046.35616  11879.67123\n",
       "2018-08-01 18:00  12861.36986  19864.93151  12768.00000\n",
       "2018-08-01 19:00  14945.22740  14184.98630  22173.69863\n",
       "2018-08-01 20:00  14490.37808  12370.84932  16171.39726\n",
       "2018-08-01 21:00  12208.53699  19949.58904  17321.45753\n",
       "2018-08-01 22:00  14866.84932  13380.82192  20433.83014\n",
       "2018-08-01 23:00  14915.34247  15244.93151  10600.76712\n",
       "2018-08-02 0:00   17090.63014  14925.20548  12656.87671\n",
       "2018-08-02 1:00   11294.46575  13585.97260  20317.80822\n",
       "2018-08-02 2:00   20696.71233  11365.47945  14872.76712\n",
       "2018-08-02 3:00   11879.67123  20060.54795  15046.35616\n",
       "2018-08-02 4:00   12768.00000  12861.36986  19864.93151\n",
       "2018-08-02 5:00   22173.69863  14945.22740  14184.98630\n",
       "2018-08-02 6:00   16171.39726  14490.37808  12370.84932\n",
       "2018-08-02 7:00   17321.45753  12208.53699  19949.58904\n",
       "2018-08-02 8:00   20433.83014  14866.84932  13380.82192\n",
       "2018-08-02 9:00   10600.76712  14915.34247  15244.93151\n",
       "2018-08-02 10:00  12656.87671  17090.63014  14925.20548\n",
       "2018-08-02 11:00  20317.80822  11294.46575  13585.97260\n",
       "2018-08-02 12:00  14872.76712  20696.71233  11365.47945\n",
       "2018-08-02 13:00  15046.35616  11879.67123  20060.54795\n",
       "2018-08-02 14:00  19864.93151  12768.00000  12861.36986\n",
       "2018-08-02 15:00  14184.98630  22173.69863  14945.22740\n",
       "2018-08-02 16:00  12370.84932  16171.39726  14490.37808\n",
       "2018-08-02 17:00  19949.58904  17321.45753  12208.53699\n",
       "2018-08-02 18:00  14228.38356  15056.87671  16279.75890\n",
       "2018-08-02 19:00  19529.55616  14330.95890  14228.38356\n",
       "2018-08-02 20:00  16279.75890  16279.75890  15056.87671\n",
       "2018-08-02 21:00  14330.95890  14228.38356  14330.95890\n",
       "2018-08-02 22:00  15056.87671  19529.55616  14228.38356"
      ]
     },
     "execution_count": 3,
     "metadata": {},
     "output_type": "execute_result"
    }
   ],
   "source": [
    "# read the sample csv\n",
    "df = pd.read_csv(\"sample.csv\",index_col = [0])\n",
    "# Pivot the data\n",
    "df = df.T\n",
    "df"
   ]
  },
  {
   "cell_type": "code",
   "execution_count": 4,
   "metadata": {},
   "outputs": [],
   "source": [
    "#df = df.diff().dropna()"
   ]
  },
  {
   "cell_type": "markdown",
   "metadata": {
    "tags": []
   },
   "source": [
    "## Create Model\n",
    "\n",
    "Now we use the Model Package to create a model"
   ]
  },
  {
   "cell_type": "code",
   "execution_count": 5,
   "metadata": {},
   "outputs": [
    {
     "name": "stderr",
     "output_type": "stream",
     "text": [
      "/opt/miniconda/lib/python3.7/site-packages/statsmodels/tsa/base/tsa_model.py:539: ValueWarning: No frequency information was provided, so inferred frequency H will be used.\n",
      "  % freq, ValueWarning)\n",
      "/opt/miniconda/lib/python3.7/site-packages/statsmodels/tsa/vector_ar/var_model.py:1545: RuntimeWarning: invalid value encountered in sqrt\n",
      "  stderr = np.sqrt(np.diag(self.cov_params()))\n"
     ]
    },
    {
     "data": {
      "text/plain": [
       "  Summary of Regression Results   \n",
       "==================================\n",
       "Model:                         VAR\n",
       "Method:                        OLS\n",
       "Date:           Tue, 23, Nov, 2021\n",
       "Time:                     11:04:04\n",
       "--------------------------------------------------------------------\n",
       "No. of Equations:         3.00000    BIC:                   -138.501\n",
       "Nobs:                     25.0000    HQIC:                  -141.777\n",
       "Log likelihood:           1774.52    FPE:               -3.62750e-63\n",
       "AIC:                     -143.035    Det(Omega_mle):    -3.22748e-64\n",
       "--------------------------------------------------------------------\n",
       "Results for equation P1\n",
       "=========================================================================\n",
       "            coefficient       std. error           t-stat            prob\n",
       "-------------------------------------------------------------------------\n",
       "const          0.000002              NAN              NAN             NAN\n",
       "L1.P1          0.017041              NAN              NAN             NAN\n",
       "L1.P2         -0.131961              NAN              NAN             NAN\n",
       "L1.P3          0.138769         0.000000      9421180.875           0.000\n",
       "L2.P1          0.084793              NAN              NAN             NAN\n",
       "L2.P2          0.046443         0.000000      2935750.723           0.000\n",
       "L2.P3         -0.073143              NAN              NAN             NAN\n",
       "L3.P1          0.113500              NAN              NAN             NAN\n",
       "L3.P2          0.351643              NAN              NAN             NAN\n",
       "L3.P3         -0.119530              NAN              NAN             NAN\n",
       "L4.P1         -0.016584         0.000000     -1334702.305           0.000\n",
       "L4.P2          0.082573              NAN              NAN             NAN\n",
       "L4.P3          0.040386              NAN              NAN             NAN\n",
       "L5.P1          0.193035              NAN              NAN             NAN\n",
       "L5.P2         -0.111113         0.000000   -112427053.446           0.000\n",
       "L5.P3         -0.263922              NAN              NAN             NAN\n",
       "L6.P1         -0.008819              NAN              NAN             NAN\n",
       "L6.P2          0.026792         0.000000      6845586.827           0.000\n",
       "L6.P3         -0.191133              NAN              NAN             NAN\n",
       "L7.P1         -0.028304              NAN              NAN             NAN\n",
       "L7.P2          0.115365              NAN              NAN             NAN\n",
       "L7.P3         -0.007853         0.000000      -567642.094           0.000\n",
       "L8.P1         -0.092345         0.000000    -29363855.739           0.000\n",
       "L8.P2          0.008634              NAN              NAN             NAN\n",
       "L8.P3         -0.039449              NAN              NAN             NAN\n",
       "L9.P1          0.047410              NAN              NAN             NAN\n",
       "L9.P2          0.272920              NAN              NAN             NAN\n",
       "L9.P3         -0.039595              NAN              NAN             NAN\n",
       "L10.P1        -0.158735         0.000000    -13278722.789           0.000\n",
       "L10.P2         0.071754         0.000000     18948193.450           0.000\n",
       "L10.P3         0.712186              NAN              NAN             NAN\n",
       "=========================================================================\n",
       "\n",
       "Results for equation P2\n",
       "=========================================================================\n",
       "            coefficient       std. error           t-stat            prob\n",
       "-------------------------------------------------------------------------\n",
       "const          0.000004              NAN              NAN             NAN\n",
       "L1.P1          0.277110              NAN              NAN             NAN\n",
       "L1.P2         -0.050874              NAN              NAN             NAN\n",
       "L1.P3         -0.260401         0.000000    -29530985.003           0.000\n",
       "L2.P1         -0.035591              NAN              NAN             NAN\n",
       "L2.P2          0.089634         0.000000      9464402.278           0.000\n",
       "L2.P3          0.254981              NAN              NAN             NAN\n",
       "L3.P1         -0.015319              NAN              NAN             NAN\n",
       "L3.P2          0.048307              NAN              NAN             NAN\n",
       "L3.P3         -0.073147              NAN              NAN             NAN\n",
       "L4.P1         -0.167982         0.000000    -22583549.371           0.000\n",
       "L4.P2          0.126977              NAN              NAN             NAN\n",
       "L4.P3          0.080167              NAN              NAN             NAN\n",
       "L5.P1          0.215317              NAN              NAN             NAN\n",
       "L5.P2         -0.091000         0.000000   -153804219.515           0.000\n",
       "L5.P3         -0.005043              NAN              NAN             NAN\n",
       "L6.P1         -0.136854              NAN              NAN             NAN\n",
       "L6.P2         -0.323786         0.000000   -138195433.836           0.000\n",
       "L6.P3         -0.286241              NAN              NAN             NAN\n",
       "L7.P1         -0.045697              NAN              NAN             NAN\n",
       "L7.P2          0.411540              NAN              NAN             NAN\n",
       "L7.P3          0.466432         0.000000     56316536.083           0.000\n",
       "L8.P1          0.130418         0.000000     69272604.890           0.000\n",
       "L8.P2         -0.203002              NAN              NAN             NAN\n",
       "L8.P3          0.103438              NAN              NAN             NAN\n",
       "L9.P1          0.182466              NAN              NAN             NAN\n",
       "L9.P2          0.024462              NAN              NAN             NAN\n",
       "L9.P3         -0.124290              NAN              NAN             NAN\n",
       "L10.P1         0.621290         0.000000     86816497.022           0.000\n",
       "L10.P2        -0.044420         0.000000    -19594202.630           0.000\n",
       "L10.P3        -0.185304              NAN              NAN             NAN\n",
       "=========================================================================\n",
       "\n",
       "Results for equation P3\n",
       "=========================================================================\n",
       "            coefficient       std. error           t-stat            prob\n",
       "-------------------------------------------------------------------------\n",
       "const          0.000002              NAN              NAN             NAN\n",
       "L1.P1          0.049092              NAN              NAN             NAN\n",
       "L1.P2          0.211751              NAN              NAN             NAN\n",
       "L1.P3          0.049632         0.000000      1864005.014           0.000\n",
       "L2.P1          0.031628              NAN              NAN             NAN\n",
       "L2.P2          0.040358         0.000000      1411247.600           0.000\n",
       "L2.P3         -0.153945              NAN              NAN             NAN\n",
       "L3.P1          0.077885              NAN              NAN             NAN\n",
       "L3.P2          0.071386              NAN              NAN             NAN\n",
       "L3.P3          0.084328              NAN              NAN             NAN\n",
       "L4.P1         -0.073337         0.000000     -3265144.484           0.000\n",
       "L4.P2          0.008482              NAN              NAN             NAN\n",
       "L4.P3         -0.079361              NAN              NAN             NAN\n",
       "L5.P1         -0.211993              NAN              NAN             NAN\n",
       "L5.P2          0.031864         0.000000     17835092.426           0.000\n",
       "L5.P3         -0.055969              NAN              NAN             NAN\n",
       "L6.P1         -0.078811              NAN              NAN             NAN\n",
       "L6.P2         -0.025057         0.000000     -3541735.004           0.000\n",
       "L6.P3          0.504040              NAN              NAN             NAN\n",
       "L7.P1          0.141803              NAN              NAN             NAN\n",
       "L7.P2         -0.187910              NAN              NAN             NAN\n",
       "L7.P3         -0.072160         0.000000     -2885298.598           0.000\n",
       "L8.P1         -0.146547         0.000000    -25778040.883           0.000\n",
       "L8.P2          0.172606              NAN              NAN             NAN\n",
       "L8.P3          0.133770              NAN              NAN             NAN\n",
       "L9.P1         -0.155570              NAN              NAN             NAN\n",
       "L9.P2         -0.138172              NAN              NAN             NAN\n",
       "L9.P3          0.113588              NAN              NAN             NAN\n",
       "L10.P1         0.072136         0.000000      3338172.615           0.000\n",
       "L10.P2         0.466404         0.000000     68133022.786           0.000\n",
       "L10.P3         0.092003              NAN              NAN             NAN\n",
       "=========================================================================\n",
       "\n",
       "Correlation matrix of residuals\n",
       "            P1        P2        P3\n",
       "P1    1.000000  0.704241 -0.761790\n",
       "P2    0.704241  1.000000 -0.578233\n",
       "P3   -0.761790 -0.578233  1.000000\n",
       "\n"
      ]
     },
     "execution_count": 5,
     "metadata": {},
     "output_type": "execute_result"
    }
   ],
   "source": [
    "\n",
    "m = VAR(df)\n",
    "res = m.fit(10)\n",
    "\n",
    "res.summary()\n",
    "\n",
    "# Python\n"
   ]
  },
  {
   "cell_type": "markdown",
   "metadata": {
    "tags": []
   },
   "source": [
    "# Predict Future datapoints"
   ]
  },
  {
   "cell_type": "code",
   "execution_count": 6,
   "metadata": {},
   "outputs": [
    {
     "data": {
      "text/plain": [
       "array([[18781.8173216 , 11971.56464815, 12857.27832387],\n",
       "       [16673.80671196, 19801.30400442, 13094.12765941],\n",
       "       [17381.64073438, 14067.34731449, 17896.60150423],\n",
       "       [17728.09114463, 13265.54781495, 15275.4801406 ],\n",
       "       [14441.476253  , 19719.75634553, 14565.54460766],\n",
       "       [17764.09148827, 13520.1027192 , 14208.45409775],\n",
       "       [15902.17804214, 21457.14007729, 11595.86868397],\n",
       "       [15611.80895387, 11345.19835533, 16870.96738686],\n",
       "       [18379.95460488, 16650.40074515, 12493.06044428],\n",
       "       [15756.11717189, 16544.51563847, 17200.65985917],\n",
       "       [14834.97475817, 16809.74754504, 13056.18720977],\n",
       "       [15295.64143529, 19273.77914333, 14880.60482646]])"
      ]
     },
     "execution_count": 6,
     "metadata": {},
     "output_type": "execute_result"
    }
   ],
   "source": [
    "lag_order = res.k_ar\n",
    "res.forecast(df.values[-lag_order:], 12)"
   ]
  },
  {
   "cell_type": "markdown",
   "metadata": {
    "tags": []
   },
   "source": [
    "## Plot the forecast dataframe"
   ]
  },
  {
   "cell_type": "code",
   "execution_count": 7,
   "metadata": {},
   "outputs": [
    {
     "data": {
      "image/png": "[encoded data removed]",
      "text/plain": [
       "<Figure size 720x720 with 3 Axes>"
      ]
     },
     "metadata": {
      "needs_background": "light"
     },
     "output_type": "display_data"
    }
   ],
   "source": [
    "# Python\n",
    "fig1 = res.plot()"
   ]
  },
  {
   "cell_type": "markdown",
   "metadata": {
    "tags": []
   },
   "source": [
    "## Saving Forecast"
   ]
  },
  {
   "cell_type": "code",
   "execution_count": 8,
   "metadata": {},
   "outputs": [],
   "source": [
    "forecast =pd.DataFrame()\n",
    "forecast.index = pd.date_range(start ='2018-08-03 0:00',end='2018-08-03 22:00',freq='h')"
   ]
  },
  {
   "cell_type": "code",
   "execution_count": 10,
   "metadata": {},
   "outputs": [],
   "source": [
    "forecast[['P1','P2','P3']] = res.forecast(df.values[-lag_order:], 23)\n",
    "forecast.to_csv('result.csv',index=False)"
   ]
  },
  {
   "cell_type": "code",
   "execution_count": null,
   "metadata": {},
   "outputs": [],
   "source": []
  }
 ],
 "metadata": {
  "kernelspec": {
   "display_name": "Python 3",
   "language": "python",
   "name": "python3"
  },
  "kubeflow_notebook": {
   "autosnapshot": false,
   "docker_image": "",
   "experiment": {
    "id": "",
    "name": ""
   },
   "experiment_name": "",
   "katib_metadata": {
    "algorithm": {
     "algorithmName": "grid"
    },
    "maxFailedTrialCount": 3,
    "maxTrialCount": 12,
    "objective": {
     "objectiveMetricName": "",
     "type": "minimize"
    },
    "parallelTrialCount": 3,
    "parameters": []
   },
   "katib_run": false,
   "pipeline_description": "",
   "pipeline_name": "",
   "snapshot_volumes": false,
   "steps_defaults": [],
   "volume_access_mode": "rwm",
   "volumes": []
  },
  "language_info": {
   "codemirror_mode": {
    "name": "ipython",
    "version": 3
   },
   "file_extension": ".py",
   "mimetype": "text/x-python",
   "name": "python",
   "nbconvert_exporter": "python",
   "pygments_lexer": "ipython3",
   "version": "3.7.9"
  }
 },
 "nbformat": 4,
 "nbformat_minor": 4
}
