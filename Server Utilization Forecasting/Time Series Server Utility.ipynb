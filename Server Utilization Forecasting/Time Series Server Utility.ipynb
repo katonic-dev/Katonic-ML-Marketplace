{
 "cells": [
  {
   "cell_type": "markdown",
   "metadata": {},
   "source": [
    "# Usage Instructions - Time Series Server Utilization Forecasting\n",
    "\n",
    "Server Utilization Forecasting enables enterprises to optimize server allocation and utilization by generating 30 days of forward forecast of server usage. This helps enterprises to plan their server allocation strategy across the cloud and on premise scenarios using historical data. It uses ensemble ML algorithms with automatic model selection. This solution performs automated model selection to apply the right model based on the input data, thereby providing consistent and better results.\n"
   ]
  },
  {
   "cell_type": "markdown",
   "metadata": {},
   "source": [
    "## Contents\n",
    "\n",
    "1. [Prequisites](#Prerequisite)\n",
    "1. [Data Dictionary](#Data-Dictionary)\n",
    "1. [Set Up The Environment](#Set-up-the-environment)\n",
    "1. [Create The Model](#Create-Model)\n",
    "1. [Batch Transform Job](#Batch-Transform-Job)\n",
    "1. [Invoke Endpoint](#Invoking-through-Endpoint)"
   ]
  },
  {
   "cell_type": "markdown",
   "metadata": {},
   "source": [
    "### Prerequisites\n",
    "\n",
    "To run this algorithm you need to have access to the following AWS Services:\n",
    "- Access to AWS SageMaker and the model package.\n",
    "- An S3 bucket to specify input/output.\n",
    "- Role for AWS SageMaker to access input/output from S3.\n"
   ]
  },
  {
   "cell_type": "markdown",
   "metadata": {},
   "source": [
    "### Data Dictionary\n",
    "\n",
    "- The input has to be a '.csv' file with 'utf-8' encoding. PLEASE NOTE: If your input .csv file is not 'utf-8' encoded, model   will not perform as expected\n",
    "1. Have an unique identifier column called 'maskedsku'. eg. 'maskedsku' can be shipmentid\n",
    "2. The date format of the columns should be: 'YYYY-MM-DD'"
   ]
  },
  {
   "cell_type": "markdown",
   "metadata": {},
   "source": [
    "### Sample input data"
   ]
  },
  {
   "cell_type": "code",
   "execution_count": 1,
   "metadata": {},
   "outputs": [
    {
     "data": {
      "text/html": [
       "<div>\n",
       "<style scoped>\n",
       "    .dataframe tbody tr th:only-of-type {\n",
       "        vertical-align: middle;\n",
       "    }\n",
       "\n",
       "    .dataframe tbody tr th {\n",
       "        vertical-align: top;\n",
       "    }\n",
       "\n",
       "    .dataframe thead th {\n",
       "        text-align: right;\n",
       "    }\n",
       "</style>\n",
       "<table border=\"1\" class=\"dataframe\">\n",
       "  <thead>\n",
       "    <tr style=\"text-align: right;\">\n",
       "      <th></th>\n",
       "      <th>maskedsku</th>\n",
       "      <th>2017-05-01</th>\n",
       "      <th>2017-06-01</th>\n",
       "      <th>2017-07-01</th>\n",
       "      <th>2017-08-01</th>\n",
       "      <th>2017-09-01</th>\n",
       "      <th>2017-10-01</th>\n",
       "      <th>2017-11-01</th>\n",
       "      <th>2017-12-01</th>\n",
       "      <th>2018-01-01</th>\n",
       "      <th>...</th>\n",
       "      <th>2019-06-01</th>\n",
       "      <th>2019-07-01</th>\n",
       "      <th>2019-08-01</th>\n",
       "      <th>2019-09-01</th>\n",
       "      <th>2019-10-01</th>\n",
       "      <th>2019-11-01</th>\n",
       "      <th>2019-12-01</th>\n",
       "      <th>2020-01-01</th>\n",
       "      <th>2020-02-01</th>\n",
       "      <th>2020-03-01</th>\n",
       "    </tr>\n",
       "  </thead>\n",
       "  <tbody>\n",
       "    <tr>\n",
       "      <th>0</th>\n",
       "      <td>product_1</td>\n",
       "      <td>13380.82192</td>\n",
       "      <td>15244.93151</td>\n",
       "      <td>14925.20548</td>\n",
       "      <td>13585.9726</td>\n",
       "      <td>11365.47945</td>\n",
       "      <td>20060.54795</td>\n",
       "      <td>12861.36986</td>\n",
       "      <td>14945.2274</td>\n",
       "      <td>14490.37808</td>\n",
       "      <td>...</td>\n",
       "      <td>15046.35616</td>\n",
       "      <td>19864.93151</td>\n",
       "      <td>14184.9863</td>\n",
       "      <td>12370.84932</td>\n",
       "      <td>19949.58904</td>\n",
       "      <td>14228.38356</td>\n",
       "      <td>19529.55616</td>\n",
       "      <td>16279.7589</td>\n",
       "      <td>14330.9589</td>\n",
       "      <td>15056.87671</td>\n",
       "    </tr>\n",
       "  </tbody>\n",
       "</table>\n",
       "<p>1 rows × 36 columns</p>\n",
       "</div>"
      ],
      "text/plain": [
       "   maskedsku   2017-05-01   2017-06-01   2017-07-01  2017-08-01   2017-09-01  \\\n",
       "0  product_1  13380.82192  15244.93151  14925.20548  13585.9726  11365.47945   \n",
       "\n",
       "    2017-10-01   2017-11-01  2017-12-01   2018-01-01  ...   2019-06-01  \\\n",
       "0  20060.54795  12861.36986  14945.2274  14490.37808  ...  15046.35616   \n",
       "\n",
       "    2019-07-01  2019-08-01   2019-09-01   2019-10-01   2019-11-01  \\\n",
       "0  19864.93151  14184.9863  12370.84932  19949.58904  14228.38356   \n",
       "\n",
       "    2019-12-01  2020-01-01  2020-02-01   2020-03-01  \n",
       "0  19529.55616  16279.7589  14330.9589  15056.87671  \n",
       "\n",
       "[1 rows x 36 columns]"
      ]
     },
     "execution_count": 1,
     "metadata": {},
     "output_type": "execute_result"
    }
   ],
   "source": [
    "import pandas as pd\n",
    "df = pd.read_csv(\"sample.csv\")\n",
    "df.head(10)"
   ]
  },
  {
   "cell_type": "markdown",
   "metadata": {},
   "source": [
    "### Create the session\n",
    "\n",
    "The session remembers our connection parameters to SageMaker. We'll use it to perform all of our SageMaker operations."
   ]
  },
  {
   "cell_type": "code",
   "execution_count": 2,
   "metadata": {},
   "outputs": [],
   "source": [
    "import sagemaker as sage\n",
    "from time import gmtime, strftime\n",
    "from sagemaker import get_execution_role\n",
    "\n",
    "sess = sage.Session()\n",
    "role = get_execution_role()"
   ]
  },
  {
   "cell_type": "markdown",
   "metadata": {},
   "source": [
    "## Create Model\n",
    "\n",
    "Now we use the Model Package to create a model"
   ]
  },
  {
   "cell_type": "code",
   "execution_count": 3,
   "metadata": {},
   "outputs": [],
   "source": [
    "# Please use the appropriate ARN obtained after subscribing to the model to define 'model_package_arn'\n",
    "\n",
    "model_package_arn = 'arn:aws:sagemaker:us-east-2:786796469737:model-package/time-series-daily-forecast-v1'\n",
    "from sagemaker import ModelPackage\n",
    "import sagemaker as sage\n",
    "from sagemaker import get_execution_role\n",
    "\n",
    "role = get_execution_role()\n",
    "sagemaker_session = sage.Session()\n",
    "model = ModelPackage(model_package_arn=model_package_arn,\n",
    "                    role = role,\n",
    "                    sagemaker_session = sagemaker_session)\n"
   ]
  },
  {
   "cell_type": "markdown",
   "metadata": {},
   "source": [
    "## Input File\n",
    "\n",
    "Now we pull a sample input file for testing the model."
   ]
  },
  {
   "cell_type": "code",
   "execution_count": 4,
   "metadata": {},
   "outputs": [],
   "source": [
    "sample_txt=\"s3://mphasis-marketplace/timeseries/sample.csv\""
   ]
  },
  {
   "cell_type": "markdown",
   "metadata": {},
   "source": [
    "## Batch Transform Job\n",
    "\n",
    "Now let's use the model built to run a batch inference job and verify it works."
   ]
  },
  {
   "cell_type": "code",
   "execution_count": 5,
   "metadata": {},
   "outputs": [
    {
     "name": "stdout",
     "output_type": "stream",
     "text": [
      "...............\u001b[34mImporting plotly failed. Interactive plots will not work.\n",
      " * Serving Flask app \"serve\" (lazy loading)\n",
      " * Environment: production\n",
      "   WARNING: This is a development server. Do not use it in a production deployment.\n",
      "   Use a production WSGI server instead.\n",
      " * Debug mode: on\n",
      " * Running on http://0.0.0.0:8080/ (Press CTRL+C to quit)\n",
      " * Restarting with stat\u001b[0m\n",
      "\u001b[34mImporting plotly failed. Interactive plots will not work.\n",
      " * Debugger is active!\n",
      " * Debugger PIN: 211-588-791\u001b[0m\n",
      "\u001b[34m169.254.255.130 - - [06/May/2020 07:59:00] \"#033[37mGET /ping HTTP/1.1#033[0m\" 200 -\u001b[0m\n",
      "\u001b[34m169.254.255.130 - - [06/May/2020 07:59:00] \"#033[33mGET /execution-parameters HTTP/1.1#033[0m\" 404 -\n",
      "   maskedsku   2017-05-01   2017-06-01  ...  2020-01-01  2020-02-01   2020-03-01\u001b[0m\n",
      "\u001b[34m0  product_1  13380.82192  15244.93151  ...  16279.7589  14330.9589  15056.87671\n",
      "\u001b[0m\n",
      "\u001b[34m[1 rows x 36 columns]\u001b[0m\n",
      "\u001b[34m/usr/local/lib/python3.6/dist-packages/statsmodels/tsa/holtwinters.py:744: ConvergenceWarning: Optimization failed to converge. Check mle_retvals.\n",
      "  ConvergenceWarning)\u001b[0m\n",
      "\u001b[35m169.254.255.130 - - [06/May/2020 07:59:00] \"#033[37mGET /ping HTTP/1.1#033[0m\" 200 -\u001b[0m\n",
      "\u001b[35m169.254.255.130 - - [06/May/2020 07:59:00] \"#033[33mGET /execution-parameters HTTP/1.1#033[0m\" 404 -\n",
      "   maskedsku   2017-05-01   2017-06-01  ...  2020-01-01  2020-02-01   2020-03-01\u001b[0m\n",
      "\u001b[35m0  product_1  13380.82192  15244.93151  ...  16279.7589  14330.9589  15056.87671\n",
      "\u001b[0m\n",
      "\u001b[35m[1 rows x 36 columns]\u001b[0m\n",
      "\u001b[35m/usr/local/lib/python3.6/dist-packages/statsmodels/tsa/holtwinters.py:744: ConvergenceWarning: Optimization failed to converge. Check mle_retvals.\n",
      "  ConvergenceWarning)\u001b[0m\n",
      "\u001b[32m2020-05-06T07:59:00.438:[sagemaker logs]: MaxConcurrentTransforms=1, MaxPayloadInMB=6, BatchStrategy=MULTI_RECORD\u001b[0m\n",
      "\u001b[34m/usr/local/lib/python3.6/dist-packages/statsmodels/tsa/holtwinters.py:744: ConvergenceWarning: Optimization failed to converge. Check mle_retvals.\n",
      "  ConvergenceWarning)\u001b[0m\n",
      "\u001b[35m/usr/local/lib/python3.6/dist-packages/statsmodels/tsa/holtwinters.py:744: ConvergenceWarning: Optimization failed to converge. Check mle_retvals.\n",
      "  ConvergenceWarning)\u001b[0m\n",
      "\u001b[34m/usr/local/lib/python3.6/dist-packages/statsmodels/tsa/holtwinters.py:744: ConvergenceWarning: Optimization failed to converge. Check mle_retvals.\n",
      "  ConvergenceWarning)\u001b[0m\n",
      "\u001b[35m/usr/local/lib/python3.6/dist-packages/statsmodels/tsa/holtwinters.py:744: ConvergenceWarning: Optimization failed to converge. Check mle_retvals.\n",
      "  ConvergenceWarning)\u001b[0m\n",
      "\u001b[34m/usr/local/lib/python3.6/dist-packages/statsmodels/tsa/holtwinters.py:744: ConvergenceWarning: Optimization failed to converge. Check mle_retvals.\n",
      "  ConvergenceWarning)\u001b[0m\n",
      "\u001b[35m/usr/local/lib/python3.6/dist-packages/statsmodels/tsa/holtwinters.py:744: ConvergenceWarning: Optimization failed to converge. Check mle_retvals.\n",
      "  ConvergenceWarning)\u001b[0m\n",
      "\u001b[34m/usr/local/lib/python3.6/dist-packages/statsmodels/tsa/holtwinters.py:744: ConvergenceWarning: Optimization failed to converge. Check mle_retvals.\n",
      "  ConvergenceWarning)\u001b[0m\n",
      "\u001b[35m/usr/local/lib/python3.6/dist-packages/statsmodels/tsa/holtwinters.py:744: ConvergenceWarning: Optimization failed to converge. Check mle_retvals.\n",
      "  ConvergenceWarning)\u001b[0m\n",
      "\u001b[34m[[18800.86840301 17346.99722368 16615.47939156 20395.29275408\n",
      "  15807.85348161 14621.32257556 23281.10011288 16831.52042248\n",
      "  19451.87520196 19323.46981089 14953.41235292 16989.65126357\n",
      "  20188.14224263 18734.27106331 18002.75323118 21782.5665937\n",
      "  17195.12732123 16008.59641518 24668.3739525  18218.7942621\n",
      "  20839.14904158 20710.74365052 16340.68619254 18376.9251032\n",
      "  21575.41608225 20121.54490293 19390.0270708  23169.84043332\n",
      "  18582.40116085 17395.8702548 ]]\n",
      "   Unnamed: 0  maskedsku  ...  20200429_forecast  20200430_forecast\u001b[0m\n",
      "\u001b[34m0           0  product_1  ...       18582.401161       17395.870255\n",
      "\u001b[0m\n",
      "\u001b[34m[1 rows x 67 columns]\u001b[0m\n",
      "\u001b[34m169.254.255.130 - - [06/May/2020 07:59:19] \"#033[37mPOST /invocations HTTP/1.1#033[0m\" 200 -\u001b[0m\n",
      "\u001b[34mINFO:werkzeug:169.254.255.130 - - [06/May/2020 07:59:19] \"#033[37mPOST /invocations HTTP/1.1#033[0m\" 200 -\u001b[0m\n",
      "\u001b[35m[[18800.86840301 17346.99722368 16615.47939156 20395.29275408\n",
      "  15807.85348161 14621.32257556 23281.10011288 16831.52042248\n",
      "  19451.87520196 19323.46981089 14953.41235292 16989.65126357\n",
      "  20188.14224263 18734.27106331 18002.75323118 21782.5665937\n",
      "  17195.12732123 16008.59641518 24668.3739525  18218.7942621\n",
      "  20839.14904158 20710.74365052 16340.68619254 18376.9251032\n",
      "  21575.41608225 20121.54490293 19390.0270708  23169.84043332\n",
      "  18582.40116085 17395.8702548 ]]\n",
      "   Unnamed: 0  maskedsku  ...  20200429_forecast  20200430_forecast\u001b[0m\n",
      "\u001b[35m0           0  product_1  ...       18582.401161       17395.870255\n",
      "\u001b[0m\n",
      "\u001b[35m[1 rows x 67 columns]\u001b[0m\n",
      "\u001b[35m169.254.255.130 - - [06/May/2020 07:59:19] \"#033[37mPOST /invocations HTTP/1.1#033[0m\" 200 -\u001b[0m\n",
      "\u001b[35mINFO:werkzeug:169.254.255.130 - - [06/May/2020 07:59:19] \"#033[37mPOST /invocations HTTP/1.1#033[0m\" 200 -\u001b[0m\n",
      "\n",
      "Batch Transform complete\n"
     ]
    }
   ],
   "source": [
    "import json \n",
    "import uuid\n",
    "\n",
    "\n",
    "transformer = model.transformer(1, 'ml.m5.xlarge')\n",
    "transformer.transform(sample_txt, content_type='text/csv')\n",
    "transformer.wait()\n",
    "#transformer.output_path\n",
    "print(\"Batch Transform complete\")\n"
   ]
  },
  {
   "cell_type": "markdown",
   "metadata": {},
   "source": [
    "## Output from Batch Transform\n",
    "\n",
    "Note: Ensure that the following package is installed on the local system : boto3"
   ]
  },
  {
   "cell_type": "code",
   "execution_count": 6,
   "metadata": {},
   "outputs": [
    {
     "name": "stdout",
     "output_type": "stream",
     "text": [
      "s3://sagemaker-us-east-2-786796469737/time-series-daily-forecast-v1-2020-05-0-2020-05-06-07-56-12-878\n",
      "Output file loaded from bucket\n"
     ]
    }
   ],
   "source": [
    "import boto3\n",
    "print(transformer.output_path)\n",
    "bucketFolder = transformer.output_path.rsplit('/')[3]\n",
    "bucket_name=transformer.output_path.rsplit('/')[2]\n",
    "\n",
    "#print(s3bucket,s3prefix)\n",
    "s3_conn = boto3.client(\"s3\")\n",
    "bucket_name=\"sagemaker-us-east-2-786796469737\"\n",
    "with open('result.csv', 'wb') as f:\n",
    "    s3_conn.download_fileobj(bucket_name,bucketFolder+'/sample.csv.out', f)\n",
    "    print(\"Output file loaded from bucket\")"
   ]
  },
  {
   "cell_type": "code",
   "execution_count": 7,
   "metadata": {},
   "outputs": [
    {
     "data": {
      "text/html": [
       "<div>\n",
       "<style scoped>\n",
       "    .dataframe tbody tr th:only-of-type {\n",
       "        vertical-align: middle;\n",
       "    }\n",
       "\n",
       "    .dataframe tbody tr th {\n",
       "        vertical-align: top;\n",
       "    }\n",
       "\n",
       "    .dataframe thead th {\n",
       "        text-align: right;\n",
       "    }\n",
       "</style>\n",
       "<table border=\"1\" class=\"dataframe\">\n",
       "  <thead>\n",
       "    <tr style=\"text-align: right;\">\n",
       "      <th></th>\n",
       "      <th>Unnamed: 0</th>\n",
       "      <th>Unnamed: 0.1</th>\n",
       "      <th>maskedsku</th>\n",
       "      <th>2017-05-01</th>\n",
       "      <th>2017-06-01</th>\n",
       "      <th>2017-07-01</th>\n",
       "      <th>2017-08-01</th>\n",
       "      <th>2017-09-01</th>\n",
       "      <th>2017-10-01</th>\n",
       "      <th>2017-11-01</th>\n",
       "      <th>...</th>\n",
       "      <th>20200421_forecast</th>\n",
       "      <th>20200422_forecast</th>\n",
       "      <th>20200423_forecast</th>\n",
       "      <th>20200424_forecast</th>\n",
       "      <th>20200425_forecast</th>\n",
       "      <th>20200426_forecast</th>\n",
       "      <th>20200427_forecast</th>\n",
       "      <th>20200428_forecast</th>\n",
       "      <th>20200429_forecast</th>\n",
       "      <th>20200430_forecast</th>\n",
       "    </tr>\n",
       "  </thead>\n",
       "  <tbody>\n",
       "    <tr>\n",
       "      <th>0</th>\n",
       "      <td>0</td>\n",
       "      <td>0</td>\n",
       "      <td>product_1</td>\n",
       "      <td>13380.82192</td>\n",
       "      <td>15244.93151</td>\n",
       "      <td>14925.20548</td>\n",
       "      <td>13585.9726</td>\n",
       "      <td>11365.47945</td>\n",
       "      <td>20060.54795</td>\n",
       "      <td>12861.36986</td>\n",
       "      <td>...</td>\n",
       "      <td>20839.149042</td>\n",
       "      <td>20710.743651</td>\n",
       "      <td>16340.686193</td>\n",
       "      <td>18376.925103</td>\n",
       "      <td>21575.416082</td>\n",
       "      <td>20121.544903</td>\n",
       "      <td>19390.027071</td>\n",
       "      <td>23169.840433</td>\n",
       "      <td>18582.401161</td>\n",
       "      <td>17395.870255</td>\n",
       "    </tr>\n",
       "  </tbody>\n",
       "</table>\n",
       "<p>1 rows × 68 columns</p>\n",
       "</div>"
      ],
      "text/plain": [
       "   Unnamed: 0  Unnamed: 0.1  maskedsku   2017-05-01   2017-06-01   2017-07-01  \\\n",
       "0           0             0  product_1  13380.82192  15244.93151  14925.20548   \n",
       "\n",
       "   2017-08-01   2017-09-01   2017-10-01   2017-11-01  ...  20200421_forecast  \\\n",
       "0  13585.9726  11365.47945  20060.54795  12861.36986  ...       20839.149042   \n",
       "\n",
       "   20200422_forecast  20200423_forecast  20200424_forecast  20200425_forecast  \\\n",
       "0       20710.743651       16340.686193       18376.925103       21575.416082   \n",
       "\n",
       "   20200426_forecast  20200427_forecast  20200428_forecast  20200429_forecast  \\\n",
       "0       20121.544903       19390.027071       23169.840433       18582.401161   \n",
       "\n",
       "   20200430_forecast  \n",
       "0       17395.870255  \n",
       "\n",
       "[1 rows x 68 columns]"
      ]
     },
     "execution_count": 7,
     "metadata": {},
     "output_type": "execute_result"
    }
   ],
   "source": [
    "df = pd.read_csv(\"result.csv\")\n",
    "df.head(10)"
   ]
  },
  {
   "cell_type": "markdown",
   "metadata": {},
   "source": [
    "## Invoking through Endpoint\n",
    "This is another way of deploying the model that provides results as real time inference. Here is a sample endpoint for reference"
   ]
  },
  {
   "cell_type": "code",
   "execution_count": 8,
   "metadata": {},
   "outputs": [],
   "source": [
    "import json \n",
    "import uuid\n",
    "from sagemaker import ModelPackage\n",
    "import sagemaker as sage\n",
    "from sagemaker import get_execution_role\n",
    "from sagemaker import ModelPackage\n",
    "import boto3\n",
    "from IPython.display import Image\n",
    "from PIL import Image as ImageEdit\n",
    "\n",
    "role = get_execution_role()\n",
    "\n",
    "sagemaker_session = sage.Session()\n",
    "bucket=sagemaker_session.default_bucket()"
   ]
  },
  {
   "cell_type": "code",
   "execution_count": 9,
   "metadata": {},
   "outputs": [],
   "source": [
    "content_type='text/csv'\n",
    "model_name='timeseries-inventory'\n",
    "real_time_inference_instance_type='ml.c4.2xlarge'"
   ]
  },
  {
   "cell_type": "code",
   "execution_count": 10,
   "metadata": {},
   "outputs": [],
   "source": [
    "# Please use the appropriate ARN obtained after subscribing to the model to define 'model_package_arn'\n",
    "model_package_arn = 'arn:aws:sagemaker:us-east-2:786796469737:model-package/time-series-daily-forecast-v1'"
   ]
  },
  {
   "cell_type": "code",
   "execution_count": 11,
   "metadata": {},
   "outputs": [],
   "source": [
    "from sagemaker import ModelPackage\n",
    "import sagemaker as sage\n",
    "from sagemaker import get_execution_role\n",
    "\n",
    "role = get_execution_role()\n",
    "sagemaker_session = sage.Session()"
   ]
  },
  {
   "cell_type": "code",
   "execution_count": 12,
   "metadata": {},
   "outputs": [],
   "source": [
    "#Define predictor wrapper class\n",
    "def predict_wrapper(endpoint, session):\n",
    "    return sage.RealTimePredictor(endpoint, session,content_type=content_type)\n",
    "#create a deployable model from the model package.\n",
    "model = ModelPackage(role=role,\n",
    "                    model_package_arn=model_package_arn,\n",
    "                    sagemaker_session=sagemaker_session,\n",
    "                    predictor_cls=predict_wrapper)"
   ]
  },
  {
   "cell_type": "code",
   "execution_count": 13,
   "metadata": {},
   "outputs": [
    {
     "name": "stdout",
     "output_type": "stream",
     "text": [
      "-------------!"
     ]
    }
   ],
   "source": [
    "predictor = model.deploy(1, real_time_inference_instance_type, endpoint_name=model_name)"
   ]
  },
  {
   "cell_type": "markdown",
   "metadata": {},
   "source": [
    "###  1. Invoking endpoint result through CLI command"
   ]
  },
  {
   "cell_type": "code",
   "execution_count": 14,
   "metadata": {},
   "outputs": [],
   "source": [
    "file_name=\"sample.csv\""
   ]
  },
  {
   "cell_type": "code",
   "execution_count": 15,
   "metadata": {},
   "outputs": [
    {
     "name": "stdout",
     "output_type": "stream",
     "text": [
      "{\n",
      "    \"ContentType\": \"text/csv; charset=utf-8\",\n",
      "    \"InvokedProductionVariant\": \"AllTraffic\"\n",
      "}\n"
     ]
    }
   ],
   "source": [
    "!aws sagemaker-runtime invoke-endpoint --endpoint-name $model_name --body fileb://$file_name --content-type 'text/csv' --region us-east-2 result_endpoint.csv"
   ]
  },
  {
   "cell_type": "code",
   "execution_count": 16,
   "metadata": {},
   "outputs": [
    {
     "data": {
      "text/html": [
       "<div>\n",
       "<style scoped>\n",
       "    .dataframe tbody tr th:only-of-type {\n",
       "        vertical-align: middle;\n",
       "    }\n",
       "\n",
       "    .dataframe tbody tr th {\n",
       "        vertical-align: top;\n",
       "    }\n",
       "\n",
       "    .dataframe thead th {\n",
       "        text-align: right;\n",
       "    }\n",
       "</style>\n",
       "<table border=\"1\" class=\"dataframe\">\n",
       "  <thead>\n",
       "    <tr style=\"text-align: right;\">\n",
       "      <th></th>\n",
       "      <th>Unnamed: 0</th>\n",
       "      <th>maskedsku</th>\n",
       "      <th>2017-05-01</th>\n",
       "      <th>2017-06-01</th>\n",
       "      <th>2017-07-01</th>\n",
       "      <th>2017-08-01</th>\n",
       "      <th>2017-09-01</th>\n",
       "      <th>2017-10-01</th>\n",
       "      <th>2017-11-01</th>\n",
       "      <th>2017-12-01</th>\n",
       "      <th>...</th>\n",
       "      <th>20211201_forecast</th>\n",
       "      <th>20220101_forecast</th>\n",
       "      <th>20220201_forecast</th>\n",
       "      <th>20220301_forecast</th>\n",
       "      <th>20220401_forecast</th>\n",
       "      <th>20220501_forecast</th>\n",
       "      <th>20220601_forecast</th>\n",
       "      <th>20220701_forecast</th>\n",
       "      <th>20220801_forecast</th>\n",
       "      <th>20220901_forecast</th>\n",
       "    </tr>\n",
       "  </thead>\n",
       "  <tbody>\n",
       "    <tr>\n",
       "      <th>0</th>\n",
       "      <td>0</td>\n",
       "      <td>product_1</td>\n",
       "      <td>13380.82192</td>\n",
       "      <td>15244.93151</td>\n",
       "      <td>14925.20548</td>\n",
       "      <td>13585.9726</td>\n",
       "      <td>11365.47945</td>\n",
       "      <td>20060.54795</td>\n",
       "      <td>12861.36986</td>\n",
       "      <td>14945.2274</td>\n",
       "      <td>...</td>\n",
       "      <td>20839.149042</td>\n",
       "      <td>20710.743651</td>\n",
       "      <td>16340.686193</td>\n",
       "      <td>18376.925103</td>\n",
       "      <td>21575.416082</td>\n",
       "      <td>20121.544903</td>\n",
       "      <td>19390.027071</td>\n",
       "      <td>23169.840433</td>\n",
       "      <td>18582.401161</td>\n",
       "      <td>17395.870255</td>\n",
       "    </tr>\n",
       "  </tbody>\n",
       "</table>\n",
       "<p>1 rows × 67 columns</p>\n",
       "</div>"
      ],
      "text/plain": [
       "   Unnamed: 0  maskedsku   2017-05-01   2017-06-01   2017-07-01  2017-08-01  \\\n",
       "0           0  product_1  13380.82192  15244.93151  14925.20548  13585.9726   \n",
       "\n",
       "    2017-09-01   2017-10-01   2017-11-01  2017-12-01  ...  20211201_forecast  \\\n",
       "0  11365.47945  20060.54795  12861.36986  14945.2274  ...       20839.149042   \n",
       "\n",
       "   20220101_forecast  20220201_forecast  20220301_forecast  20220401_forecast  \\\n",
       "0       20710.743651       16340.686193       18376.925103       21575.416082   \n",
       "\n",
       "   20220501_forecast  20220601_forecast  20220701_forecast  20220801_forecast  \\\n",
       "0       20121.544903       19390.027071       23169.840433       18582.401161   \n",
       "\n",
       "   20220901_forecast  \n",
       "0       17395.870255  \n",
       "\n",
       "[1 rows x 67 columns]"
      ]
     },
     "execution_count": 16,
     "metadata": {},
     "output_type": "execute_result"
    }
   ],
   "source": [
    "df = pd.read_csv(\"result_endpoint.csv\")\n",
    "df.head(10)"
   ]
  },
  {
   "cell_type": "markdown",
   "metadata": {},
   "source": [
    "### 2. Invoking endpoint result through python code"
   ]
  },
  {
   "cell_type": "code",
   "execution_count": 17,
   "metadata": {},
   "outputs": [],
   "source": [
    "f = open('./sample.csv', mode='r')\n",
    "data=f.read()\n",
    "prediction = predictor.predict(data)"
   ]
  },
  {
   "cell_type": "code",
   "execution_count": 18,
   "metadata": {},
   "outputs": [
    {
     "data": {
      "text/html": [
       "<div>\n",
       "<style scoped>\n",
       "    .dataframe tbody tr th:only-of-type {\n",
       "        vertical-align: middle;\n",
       "    }\n",
       "\n",
       "    .dataframe tbody tr th {\n",
       "        vertical-align: top;\n",
       "    }\n",
       "\n",
       "    .dataframe thead th {\n",
       "        text-align: right;\n",
       "    }\n",
       "</style>\n",
       "<table border=\"1\" class=\"dataframe\">\n",
       "  <thead>\n",
       "    <tr style=\"text-align: right;\">\n",
       "      <th></th>\n",
       "      <th>Unnamed: 0</th>\n",
       "      <th>maskedsku</th>\n",
       "      <th>2017-05-01</th>\n",
       "      <th>2017-06-01</th>\n",
       "      <th>2017-07-01</th>\n",
       "      <th>2017-08-01</th>\n",
       "      <th>2017-09-01</th>\n",
       "      <th>2017-10-01</th>\n",
       "      <th>2017-11-01</th>\n",
       "      <th>2017-12-01</th>\n",
       "      <th>...</th>\n",
       "      <th>20211201_forecast</th>\n",
       "      <th>20220101_forecast</th>\n",
       "      <th>20220201_forecast</th>\n",
       "      <th>20220301_forecast</th>\n",
       "      <th>20220401_forecast</th>\n",
       "      <th>20220501_forecast</th>\n",
       "      <th>20220601_forecast</th>\n",
       "      <th>20220701_forecast</th>\n",
       "      <th>20220801_forecast</th>\n",
       "      <th>20220901_forecast</th>\n",
       "    </tr>\n",
       "  </thead>\n",
       "  <tbody>\n",
       "    <tr>\n",
       "      <th>0</th>\n",
       "      <td>0</td>\n",
       "      <td>product_1</td>\n",
       "      <td>13380.82192</td>\n",
       "      <td>15244.93151</td>\n",
       "      <td>14925.20548</td>\n",
       "      <td>13585.9726</td>\n",
       "      <td>11365.47945</td>\n",
       "      <td>20060.54795</td>\n",
       "      <td>12861.36986</td>\n",
       "      <td>14945.2274</td>\n",
       "      <td>...</td>\n",
       "      <td>20839.149042</td>\n",
       "      <td>20710.743651</td>\n",
       "      <td>16340.686193</td>\n",
       "      <td>18376.925103</td>\n",
       "      <td>21575.416082</td>\n",
       "      <td>20121.544903</td>\n",
       "      <td>19390.027071</td>\n",
       "      <td>23169.840433</td>\n",
       "      <td>18582.401161</td>\n",
       "      <td>17395.870255</td>\n",
       "    </tr>\n",
       "  </tbody>\n",
       "</table>\n",
       "<p>1 rows × 67 columns</p>\n",
       "</div>"
      ],
      "text/plain": [
       "   Unnamed: 0  maskedsku   2017-05-01   2017-06-01   2017-07-01  2017-08-01  \\\n",
       "0           0  product_1  13380.82192  15244.93151  14925.20548  13585.9726   \n",
       "\n",
       "    2017-09-01   2017-10-01   2017-11-01  2017-12-01  ...  20211201_forecast  \\\n",
       "0  11365.47945  20060.54795  12861.36986  14945.2274  ...       20839.149042   \n",
       "\n",
       "   20220101_forecast  20220201_forecast  20220301_forecast  20220401_forecast  \\\n",
       "0       20710.743651       16340.686193       18376.925103       21575.416082   \n",
       "\n",
       "   20220501_forecast  20220601_forecast  20220701_forecast  20220801_forecast  \\\n",
       "0       20121.544903       19390.027071       23169.840433       18582.401161   \n",
       "\n",
       "   20220901_forecast  \n",
       "0       17395.870255  \n",
       "\n",
       "[1 rows x 67 columns]"
      ]
     },
     "execution_count": 18,
     "metadata": {},
     "output_type": "execute_result"
    }
   ],
   "source": [
    "from io import StringIO\n",
    "\n",
    "s=str(prediction,'utf-8')\n",
    "data = StringIO(s) \n",
    "df=pd.read_csv(data)\n",
    "df"
   ]
  },
  {
   "cell_type": "code",
   "execution_count": 19,
   "metadata": {},
   "outputs": [],
   "source": [
    "predictor.delete_endpoint()"
   ]
  },
  {
   "cell_type": "code",
   "execution_count": null,
   "metadata": {},
   "outputs": [],
   "source": []
  }
 ],
 "metadata": {
  "kernelspec": {
   "display_name": "Python 3",
   "language": "python",
   "name": "python3"
  },
  "kubeflow_notebook": {
   "autosnapshot": false,
   "docker_image": "",
   "experiment": {
    "id": "",
    "name": ""
   },
   "experiment_name": "",
   "katib_run": false,
   "pipeline_description": "",
   "pipeline_name": "",
   "snapshot_volumes": false,
   "steps_defaults": [],
   "volume_access_mode": "rwm",
   "volumes": []
  },
  "language_info": {
   "codemirror_mode": {
    "name": "ipython",
    "version": 3
   },
   "file_extension": ".py",
   "mimetype": "text/x-python",
   "name": "python",
   "nbconvert_exporter": "python",
   "pygments_lexer": "ipython3",
   "version": "3.7.9"
  }
 },
 "nbformat": 4,
 "nbformat_minor": 4
}
