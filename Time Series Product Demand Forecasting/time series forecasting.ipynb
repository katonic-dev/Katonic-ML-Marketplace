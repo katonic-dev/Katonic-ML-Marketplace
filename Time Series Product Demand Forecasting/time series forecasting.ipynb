{
 "cells": [
  {
   "cell_type": "markdown",
   "metadata": {},
   "source": [
    "# Time Series Product Demand Forecasting\n",
    "\n",
    "Product Demand Forecasting generates 36 months of forward forecast of the demand using historical data. It uses ensemble ML algorithms with automatic model selection algorithms. This solution provides consistent and better results due to its ensemble learning approach.\n",
    "This solution performs automated model selection to apply the right model based on the input data.\n"
   ]
  },
  {
   "cell_type": "markdown",
   "metadata": {},
   "source": [
    "## Contents\n",
    "\n",
    "1. [Prequisites](#Prerequisite)\n",
    "1. [Data Dictionary](#Data-Dictionary)\n",
    "1. [Set Up The Environment](#Set-up-the-environment)\n",
    "1. [Create The Model](#Create-Model)\n",
    "1. [Batch Transform Job](#Batch-Transform-Job)\n",
    "1. [Invoke Endpoint](#Invoking-through-Endpoint)"
   ]
  },
  {
   "cell_type": "markdown",
   "metadata": {},
   "source": [
    "### Prerequisites\n",
    "\n",
    "To run this algorithm you need to have access to the following AWS Services:\n",
    "- Access to AWS SageMaker and the model package.\n",
    "- An S3 bucket to specify input/output.\n",
    "- Role for AWS SageMaker to access input/output from S3.\n"
   ]
  },
  {
   "cell_type": "markdown",
   "metadata": {},
   "source": [
    "### Data Dictionary\n",
    "\n",
    "- The input has to be a '.csv' file with 'utf-8' encoding. PLEASE NOTE: If your input .csv file is not 'utf-8' encoded, model   will not perform as expected\n",
    "1. Have an unique identifier column called 'maskedsku'. eg. 'maskedsku' can be shipmentid\n",
    "2. The date format of the columns should be: 'YYYY-MM-DD'"
   ]
  },
  {
   "cell_type": "markdown",
   "metadata": {},
   "source": [
    "### Sample input data"
   ]
  },
  {
   "cell_type": "code",
   "execution_count": 28,
   "metadata": {},
   "outputs": [
    {
     "data": {
      "text/html": [
       "<div>\n",
       "<style scoped>\n",
       "    .dataframe tbody tr th:only-of-type {\n",
       "        vertical-align: middle;\n",
       "    }\n",
       "\n",
       "    .dataframe tbody tr th {\n",
       "        vertical-align: top;\n",
       "    }\n",
       "\n",
       "    .dataframe thead th {\n",
       "        text-align: right;\n",
       "    }\n",
       "</style>\n",
       "<table border=\"1\" class=\"dataframe\">\n",
       "  <thead>\n",
       "    <tr style=\"text-align: right;\">\n",
       "      <th></th>\n",
       "      <th>maskedsku</th>\n",
       "      <th>2017-05-01</th>\n",
       "      <th>2017-06-01</th>\n",
       "      <th>2017-07-01</th>\n",
       "      <th>2017-08-01</th>\n",
       "      <th>2017-09-01</th>\n",
       "      <th>2017-10-01</th>\n",
       "      <th>2017-11-01</th>\n",
       "      <th>2017-12-01</th>\n",
       "      <th>2018-01-01</th>\n",
       "      <th>...</th>\n",
       "      <th>2019-07-01</th>\n",
       "      <th>2019-08-01</th>\n",
       "      <th>2019-09-01</th>\n",
       "      <th>2019-10-01</th>\n",
       "      <th>2019-11-01</th>\n",
       "      <th>2019-12-01</th>\n",
       "      <th>2020-01-01</th>\n",
       "      <th>2020-02-01</th>\n",
       "      <th>2020-03-01</th>\n",
       "      <th>Unnamed: 36</th>\n",
       "    </tr>\n",
       "  </thead>\n",
       "  <tbody>\n",
       "    <tr>\n",
       "      <th>0</th>\n",
       "      <td>product_1</td>\n",
       "      <td>13380.82192</td>\n",
       "      <td>15244.93151</td>\n",
       "      <td>14925.20548</td>\n",
       "      <td>13585.9726</td>\n",
       "      <td>11365.47945</td>\n",
       "      <td>20060.54795</td>\n",
       "      <td>12861.36986</td>\n",
       "      <td>14945.2274</td>\n",
       "      <td>14490.37808</td>\n",
       "      <td>...</td>\n",
       "      <td>19864.93151</td>\n",
       "      <td>14184.9863</td>\n",
       "      <td>12370.84932</td>\n",
       "      <td>19949.58904</td>\n",
       "      <td>14228.38356</td>\n",
       "      <td>19529.55616</td>\n",
       "      <td>16279.7589</td>\n",
       "      <td>14330.9589</td>\n",
       "      <td>15056.87671</td>\n",
       "      <td>NaN</td>\n",
       "    </tr>\n",
       "  </tbody>\n",
       "</table>\n",
       "<p>1 rows × 37 columns</p>\n",
       "</div>"
      ],
      "text/plain": [
       "   maskedsku   2017-05-01   2017-06-01   2017-07-01  2017-08-01   2017-09-01  \\\n",
       "0  product_1  13380.82192  15244.93151  14925.20548  13585.9726  11365.47945   \n",
       "\n",
       "    2017-10-01   2017-11-01  2017-12-01   2018-01-01  ...   2019-07-01  \\\n",
       "0  20060.54795  12861.36986  14945.2274  14490.37808  ...  19864.93151   \n",
       "\n",
       "   2019-08-01   2019-09-01   2019-10-01   2019-11-01   2019-12-01  2020-01-01  \\\n",
       "0  14184.9863  12370.84932  19949.58904  14228.38356  19529.55616  16279.7589   \n",
       "\n",
       "   2020-02-01   2020-03-01  Unnamed: 36  \n",
       "0  14330.9589  15056.87671          NaN  \n",
       "\n",
       "[1 rows x 37 columns]"
      ]
     },
     "execution_count": 28,
     "metadata": {},
     "output_type": "execute_result"
    }
   ],
   "source": [
    "import pandas as pd\n",
    "df = pd.read_csv(\"sample.csv\")\n",
    "df.head(10)"
   ]
  },
  {
   "cell_type": "markdown",
   "metadata": {},
   "source": [
    "### Create the session\n",
    "\n",
    "The session remembers our connection parameters to SageMaker. We'll use it to perform all of our SageMaker operations."
   ]
  },
  {
   "cell_type": "code",
   "execution_count": 29,
   "metadata": {},
   "outputs": [],
   "source": [
    "import sagemaker as sage\n",
    "from time import gmtime, strftime\n",
    "from sagemaker import get_execution_role\n",
    "\n",
    "sess = sage.Session()\n",
    "role = get_execution_role()"
   ]
  },
  {
   "cell_type": "markdown",
   "metadata": {},
   "source": [
    "## Create Model\n",
    "\n",
    "Now we use the Model Package to create a model"
   ]
  },
  {
   "cell_type": "code",
   "execution_count": 30,
   "metadata": {},
   "outputs": [],
   "source": [
    "# Please use the appropriate ARN obtained after subscribing to the model to define 'model_package_arn'\n",
    "\n",
    "model_package_arn = 'arn:aws:sagemaker:us-east-2:786796469737:model-package/marketplace-timeseries-prod'\n",
    "from sagemaker import ModelPackage\n",
    "import sagemaker as sage\n",
    "from sagemaker import get_execution_role\n",
    "\n",
    "role = get_execution_role()\n",
    "sagemaker_session = sage.Session()\n",
    "model = ModelPackage(model_package_arn=model_package_arn,\n",
    "                    role = role,\n",
    "                    sagemaker_session = sagemaker_session)\n"
   ]
  },
  {
   "cell_type": "markdown",
   "metadata": {},
   "source": [
    "## Input File\n",
    "\n",
    "Now we pull a sample input file for testing the model."
   ]
  },
  {
   "cell_type": "code",
   "execution_count": 31,
   "metadata": {},
   "outputs": [],
   "source": [
    "sample_txt=\"s3://mphasis-marketplace/mphasis-timeseries/sample.csv\""
   ]
  },
  {
   "cell_type": "markdown",
   "metadata": {},
   "source": [
    "## Batch Transform Job\n",
    "\n",
    "Now let's use the model built to run a batch inference job and verify it works."
   ]
  },
  {
   "cell_type": "code",
   "execution_count": 32,
   "metadata": {},
   "outputs": [
    {
     "name": "stdout",
     "output_type": "stream",
     "text": [
      "....................\u001b[34mImporting plotly failed. Interactive plots will not work.\n",
      " * Serving Flask app \"serve\" (lazy loading)\n",
      " * Environment: production\n",
      "   WARNING: This is a development server. Do not use it in a production deployment.\n",
      "   Use a production WSGI server instead.\n",
      " * Debug mode: off\n",
      " * Running on http://0.0.0.0:8080/ (Press CTRL+C to quit)\u001b[0m\n",
      "\u001b[34m169.254.255.130 - - [16/Apr/2020 07:50:11] \"#033[37mGET /ping HTTP/1.1#033[0m\" 200 -\u001b[0m\n",
      "\u001b[34m169.254.255.130 - - [16/Apr/2020 07:50:11] \"#033[33mGET /execution-parameters HTTP/1.1#033[0m\" 404 -\n",
      "   maskedsku   2017-05-01   2017-06-01  ...  2020-02-01   2020-03-01  Unnamed: 36\u001b[0m\n",
      "\u001b[34m0  product_1  13380.82192  15244.93151  ...  14330.9589  15056.87671          NaN\n",
      "\u001b[0m\n",
      "\u001b[34m[1 rows x 37 columns]\u001b[0m\n",
      "\u001b[35m169.254.255.130 - - [16/Apr/2020 07:50:11] \"#033[37mGET /ping HTTP/1.1#033[0m\" 200 -\u001b[0m\n",
      "\u001b[35m169.254.255.130 - - [16/Apr/2020 07:50:11] \"#033[33mGET /execution-parameters HTTP/1.1#033[0m\" 404 -\n",
      "   maskedsku   2017-05-01   2017-06-01  ...  2020-02-01   2020-03-01  Unnamed: 36\u001b[0m\n",
      "\u001b[35m0  product_1  13380.82192  15244.93151  ...  14330.9589  15056.87671          NaN\n",
      "\u001b[0m\n",
      "\u001b[35m[1 rows x 37 columns]\u001b[0m\n",
      "\u001b[34m/usr/local/lib/python3.6/dist-packages/statsmodels/tsa/holtwinters.py:744: ConvergenceWarning: Optimization failed to converge. Check mle_retvals.\n",
      "  ConvergenceWarning)\u001b[0m\n",
      "\u001b[35m/usr/local/lib/python3.6/dist-packages/statsmodels/tsa/holtwinters.py:744: ConvergenceWarning: Optimization failed to converge. Check mle_retvals.\n",
      "  ConvergenceWarning)\u001b[0m\n",
      "\u001b[32m2020-04-16T07:50:11.213:[sagemaker logs]: MaxConcurrentTransforms=1, MaxPayloadInMB=6, BatchStrategy=MULTI_RECORD\u001b[0m\n",
      "\u001b[34m/usr/local/lib/python3.6/dist-packages/statsmodels/tsa/holtwinters.py:744: ConvergenceWarning: Optimization failed to converge. Check mle_retvals.\n",
      "  ConvergenceWarning)\u001b[0m\n",
      "\u001b[35m/usr/local/lib/python3.6/dist-packages/statsmodels/tsa/holtwinters.py:744: ConvergenceWarning: Optimization failed to converge. Check mle_retvals.\n",
      "  ConvergenceWarning)\u001b[0m\n",
      "\u001b[34m/usr/local/lib/python3.6/dist-packages/statsmodels/tsa/holtwinters.py:744: ConvergenceWarning: Optimization failed to converge. Check mle_retvals.\n",
      "  ConvergenceWarning)\u001b[0m\n",
      "\u001b[35m/usr/local/lib/python3.6/dist-packages/statsmodels/tsa/holtwinters.py:744: ConvergenceWarning: Optimization failed to converge. Check mle_retvals.\n",
      "  ConvergenceWarning)\u001b[0m\n",
      "\u001b[34m/usr/local/lib/python3.6/dist-packages/statsmodels/tsa/holtwinters.py:744: ConvergenceWarning: Optimization failed to converge. Check mle_retvals.\n",
      "  ConvergenceWarning)\u001b[0m\n",
      "\u001b[35m/usr/local/lib/python3.6/dist-packages/statsmodels/tsa/holtwinters.py:744: ConvergenceWarning: Optimization failed to converge. Check mle_retvals.\n",
      "  ConvergenceWarning)\u001b[0m\n",
      "\u001b[34m/usr/local/lib/python3.6/dist-packages/statsmodels/tsa/holtwinters.py:744: ConvergenceWarning: Optimization failed to converge. Check mle_retvals.\n",
      "  ConvergenceWarning)\u001b[0m\n",
      "\u001b[35m/usr/local/lib/python3.6/dist-packages/statsmodels/tsa/holtwinters.py:744: ConvergenceWarning: Optimization failed to converge. Check mle_retvals.\n",
      "  ConvergenceWarning)\u001b[0m\n",
      "\u001b[34m[[18800.86840301 17346.99722368 16615.47939156 20395.29275408\n",
      "  15807.85348161 14621.32257556 23281.10011288 16831.52042248\n",
      "  19451.87520196 19323.46981089 14953.41235292 16989.65126357\n",
      "  20188.14224263 18734.27106331 18002.75323118 21782.5665937\n",
      "  17195.12732123 16008.59641518 24668.3739525  18218.7942621\n",
      "  20839.14904158 20710.74365052 16340.68619254 18376.9251032\n",
      "  21575.41608225 20121.54490293 19390.0270708  23169.84043332\n",
      "  18582.40116085 17395.8702548  26055.64779212 19606.06810172\n",
      "  22226.4228812  22098.01749014 17727.96003216 19764.19894282]]\n",
      "   maskedsku 2017-05-01  ... 20230201_forecast 20230301_forecast\u001b[0m\n",
      "\u001b[34m0  product_1    13380.8  ...             17728           19764.2\n",
      "\u001b[0m\n",
      "\u001b[34m[1 rows x 72 columns]\u001b[0m\n",
      "\u001b[34m169.254.255.130 - - [16/Apr/2020 07:50:29] \"#033[37mPOST /invocations HTTP/1.1#033[0m\" 200 -\u001b[0m\n",
      "\u001b[34mINFO:werkzeug:169.254.255.130 - - [16/Apr/2020 07:50:29] \"#033[37mPOST /invocations HTTP/1.1#033[0m\" 200 -\n",
      "   Unnamed: 0  maskedsku  ...  20230201_forecast  20230301_forecast\u001b[0m\n",
      "\u001b[34m0           0  product_1  ...       17727.960032       19764.198943\n",
      "\u001b[0m\n",
      "\u001b[34m[1 rows x 73 columns]\u001b[0m\n",
      "\u001b[34m/usr/local/lib/python3.6/dist-packages/statsmodels/tsa/holtwinters.py:744: ConvergenceWarning: Optimization failed to converge. Check mle_retvals.\n",
      "  ConvergenceWarning)\u001b[0m\n",
      "\u001b[35m[[18800.86840301 17346.99722368 16615.47939156 20395.29275408\n",
      "  15807.85348161 14621.32257556 23281.10011288 16831.52042248\n",
      "  19451.87520196 19323.46981089 14953.41235292 16989.65126357\n",
      "  20188.14224263 18734.27106331 18002.75323118 21782.5665937\n",
      "  17195.12732123 16008.59641518 24668.3739525  18218.7942621\n",
      "  20839.14904158 20710.74365052 16340.68619254 18376.9251032\n",
      "  21575.41608225 20121.54490293 19390.0270708  23169.84043332\n",
      "  18582.40116085 17395.8702548  26055.64779212 19606.06810172\n",
      "  22226.4228812  22098.01749014 17727.96003216 19764.19894282]]\n",
      "   maskedsku 2017-05-01  ... 20230201_forecast 20230301_forecast\u001b[0m\n",
      "\u001b[35m0  product_1    13380.8  ...             17728           19764.2\n",
      "\u001b[0m\n",
      "\u001b[35m[1 rows x 72 columns]\u001b[0m\n",
      "\u001b[35m169.254.255.130 - - [16/Apr/2020 07:50:29] \"#033[37mPOST /invocations HTTP/1.1#033[0m\" 200 -\u001b[0m\n",
      "\u001b[35mINFO:werkzeug:169.254.255.130 - - [16/Apr/2020 07:50:29] \"#033[37mPOST /invocations HTTP/1.1#033[0m\" 200 -\n",
      "   Unnamed: 0  maskedsku  ...  20230201_forecast  20230301_forecast\u001b[0m\n",
      "\u001b[35m0           0  product_1  ...       17727.960032       19764.198943\n",
      "\u001b[0m\n",
      "\u001b[35m[1 rows x 73 columns]\u001b[0m\n",
      "\u001b[35m/usr/local/lib/python3.6/dist-packages/statsmodels/tsa/holtwinters.py:744: ConvergenceWarning: Optimization failed to converge. Check mle_retvals.\n",
      "  ConvergenceWarning)\u001b[0m\n",
      "\u001b[34m169.254.255.130 - - [16/Apr/2020 07:50:48] \"#033[37mPOST /invocations HTTP/1.1#033[0m\" 200 -\u001b[0m\n",
      "\u001b[34mINFO:werkzeug:169.254.255.130 - - [16/Apr/2020 07:50:48] \"#033[37mPOST /invocations HTTP/1.1#033[0m\" 200 -\u001b[0m\n",
      "\u001b[35m169.254.255.130 - - [16/Apr/2020 07:50:48] \"#033[37mPOST /invocations HTTP/1.1#033[0m\" 200 -\u001b[0m\n",
      "\u001b[35mINFO:werkzeug:169.254.255.130 - - [16/Apr/2020 07:50:48] \"#033[37mPOST /invocations HTTP/1.1#033[0m\" 200 -\u001b[0m\n",
      "\n",
      "Batch Transform complete\n"
     ]
    }
   ],
   "source": [
    "import json \n",
    "import uuid\n",
    "\n",
    "\n",
    "transformer = model.transformer(1, 'ml.m5.xlarge')\n",
    "transformer.transform(sample_txt, content_type='text/csv')\n",
    "transformer.wait()\n",
    "#transformer.output_path\n",
    "print(\"Batch Transform complete\")\n"
   ]
  },
  {
   "cell_type": "markdown",
   "metadata": {},
   "source": [
    "## Output from Batch Transform\n",
    "\n",
    "Note: Ensure that the following package is installed on the local system : boto3"
   ]
  },
  {
   "cell_type": "code",
   "execution_count": 33,
   "metadata": {},
   "outputs": [
    {
     "name": "stdout",
     "output_type": "stream",
     "text": [
      "s3://sagemaker-us-east-2-786796469737/marketplace-timeseries-prod-2020-04-16--2020-04-16-07-46-41-545\n",
      "Output file loaded from bucket\n"
     ]
    }
   ],
   "source": [
    "import boto3\n",
    "print(transformer.output_path)\n",
    "bucketFolder = transformer.output_path.rsplit('/')[3]\n",
    "bucket_name=transformer.output_path.rsplit('/')[2]\n",
    "\n",
    "#print(s3bucket,s3prefix)\n",
    "s3_conn = boto3.client(\"s3\")\n",
    "bucket_name=\"sagemaker-us-east-2-786796469737\"\n",
    "with open('result.csv', 'wb') as f:\n",
    "    s3_conn.download_fileobj(bucket_name,bucketFolder+'/sample.csv.out', f)\n",
    "    print(\"Output file loaded from bucket\")"
   ]
  },
  {
   "cell_type": "code",
   "execution_count": 34,
   "metadata": {},
   "outputs": [
    {
     "data": {
      "text/html": [
       "<div>\n",
       "<style scoped>\n",
       "    .dataframe tbody tr th:only-of-type {\n",
       "        vertical-align: middle;\n",
       "    }\n",
       "\n",
       "    .dataframe tbody tr th {\n",
       "        vertical-align: top;\n",
       "    }\n",
       "\n",
       "    .dataframe thead th {\n",
       "        text-align: right;\n",
       "    }\n",
       "</style>\n",
       "<table border=\"1\" class=\"dataframe\">\n",
       "  <thead>\n",
       "    <tr style=\"text-align: right;\">\n",
       "      <th></th>\n",
       "      <th>Unnamed: 0</th>\n",
       "      <th>maskedsku</th>\n",
       "      <th>2017-05-01</th>\n",
       "      <th>2017-06-01</th>\n",
       "      <th>2017-07-01</th>\n",
       "      <th>2017-08-01</th>\n",
       "      <th>2017-09-01</th>\n",
       "      <th>2017-10-01</th>\n",
       "      <th>2017-11-01</th>\n",
       "      <th>2017-12-01</th>\n",
       "      <th>...</th>\n",
       "      <th>20220601_forecast</th>\n",
       "      <th>20220701_forecast</th>\n",
       "      <th>20220801_forecast</th>\n",
       "      <th>20220901_forecast</th>\n",
       "      <th>20221001_forecast</th>\n",
       "      <th>20221101_forecast</th>\n",
       "      <th>20221201_forecast</th>\n",
       "      <th>20230101_forecast</th>\n",
       "      <th>20230201_forecast</th>\n",
       "      <th>20230301_forecast</th>\n",
       "    </tr>\n",
       "  </thead>\n",
       "  <tbody>\n",
       "    <tr>\n",
       "      <th>0</th>\n",
       "      <td>0</td>\n",
       "      <td>product_1</td>\n",
       "      <td>13380.82192</td>\n",
       "      <td>15244.93151</td>\n",
       "      <td>14925.20548</td>\n",
       "      <td>13585.9726</td>\n",
       "      <td>11365.47945</td>\n",
       "      <td>20060.54795</td>\n",
       "      <td>12861.36986</td>\n",
       "      <td>14945.2274</td>\n",
       "      <td>...</td>\n",
       "      <td>19390.027071</td>\n",
       "      <td>23169.840433</td>\n",
       "      <td>18582.401161</td>\n",
       "      <td>17395.870255</td>\n",
       "      <td>26055.647792</td>\n",
       "      <td>19606.068102</td>\n",
       "      <td>22226.422881</td>\n",
       "      <td>22098.01749</td>\n",
       "      <td>17727.960032</td>\n",
       "      <td>19764.198943</td>\n",
       "    </tr>\n",
       "  </tbody>\n",
       "</table>\n",
       "<p>1 rows × 73 columns</p>\n",
       "</div>"
      ],
      "text/plain": [
       "   Unnamed: 0  maskedsku   2017-05-01   2017-06-01   2017-07-01  2017-08-01  \\\n",
       "0           0  product_1  13380.82192  15244.93151  14925.20548  13585.9726   \n",
       "\n",
       "    2017-09-01   2017-10-01   2017-11-01  2017-12-01  ...  20220601_forecast  \\\n",
       "0  11365.47945  20060.54795  12861.36986  14945.2274  ...       19390.027071   \n",
       "\n",
       "   20220701_forecast  20220801_forecast  20220901_forecast  20221001_forecast  \\\n",
       "0       23169.840433       18582.401161       17395.870255       26055.647792   \n",
       "\n",
       "   20221101_forecast  20221201_forecast  20230101_forecast  20230201_forecast  \\\n",
       "0       19606.068102       22226.422881        22098.01749       17727.960032   \n",
       "\n",
       "   20230301_forecast  \n",
       "0       19764.198943  \n",
       "\n",
       "[1 rows x 73 columns]"
      ]
     },
     "execution_count": 34,
     "metadata": {},
     "output_type": "execute_result"
    }
   ],
   "source": [
    "df = pd.read_csv(\"result.csv\")\n",
    "df.head(10)"
   ]
  },
  {
   "cell_type": "markdown",
   "metadata": {},
   "source": [
    "## Invoking through Endpoint\n",
    "This is another way of deploying the model that provides results as real time inference. Here is a sample endpoint for reference"
   ]
  },
  {
   "cell_type": "code",
   "execution_count": 46,
   "metadata": {},
   "outputs": [],
   "source": [
    "import json \n",
    "import uuid\n",
    "from sagemaker import ModelPackage\n",
    "import sagemaker as sage\n",
    "from sagemaker import get_execution_role\n",
    "from sagemaker import ModelPackage\n",
    "import boto3\n",
    "from IPython.display import Image\n",
    "from PIL import Image as ImageEdit\n",
    "\n",
    "role = get_execution_role()\n",
    "\n",
    "sagemaker_session = sage.Session()\n",
    "bucket=sagemaker_session.default_bucket()"
   ]
  },
  {
   "cell_type": "code",
   "execution_count": 47,
   "metadata": {},
   "outputs": [],
   "source": [
    "content_type='text/csv'\n",
    "model_name='timeseries'\n",
    "real_time_inference_instance_type='ml.c4.2xlarge'"
   ]
  },
  {
   "cell_type": "code",
   "execution_count": 48,
   "metadata": {},
   "outputs": [],
   "source": [
    "# Please use the appropriate ARN obtained after subscribing to the model to define 'model_package_arn'\n",
    "model_package_arn = 'arn:aws:sagemaker:us-east-2:786796469737:model-package/marketplace-timeseries-prod'"
   ]
  },
  {
   "cell_type": "code",
   "execution_count": 49,
   "metadata": {},
   "outputs": [],
   "source": [
    "from sagemaker import ModelPackage\n",
    "import sagemaker as sage\n",
    "from sagemaker import get_execution_role\n",
    "\n",
    "role = get_execution_role()\n",
    "sagemaker_session = sage.Session()"
   ]
  },
  {
   "cell_type": "code",
   "execution_count": 50,
   "metadata": {},
   "outputs": [],
   "source": [
    "#Define predictor wrapper class\n",
    "def predict_wrapper(endpoint, session):\n",
    "    return sage.RealTimePredictor(endpoint, session,content_type=content_type)\n",
    "#create a deployable model from the model package.\n",
    "model = ModelPackage(role=role,\n",
    "                    model_package_arn=model_package_arn,\n",
    "                    sagemaker_session=sagemaker_session,\n",
    "                    predictor_cls=predict_wrapper)"
   ]
  },
  {
   "cell_type": "code",
   "execution_count": 51,
   "metadata": {},
   "outputs": [
    {
     "name": "stdout",
     "output_type": "stream",
     "text": [
      "-----------!"
     ]
    }
   ],
   "source": [
    "predictor = model.deploy(1, real_time_inference_instance_type, endpoint_name=model_name)"
   ]
  },
  {
   "cell_type": "markdown",
   "metadata": {},
   "source": [
    "###  1. Invoking endpoint result through CLI command"
   ]
  },
  {
   "cell_type": "code",
   "execution_count": 57,
   "metadata": {},
   "outputs": [],
   "source": [
    "file_name=\"sample.csv\""
   ]
  },
  {
   "cell_type": "code",
   "execution_count": 58,
   "metadata": {},
   "outputs": [
    {
     "name": "stdout",
     "output_type": "stream",
     "text": [
      "{\n",
      "    \"ContentType\": \"text/csv; charset=utf-8\",\n",
      "    \"InvokedProductionVariant\": \"AllTraffic\"\n",
      "}\n"
     ]
    }
   ],
   "source": [
    "!aws sagemaker-runtime invoke-endpoint --endpoint-name $model_name --body fileb://$file_name --content-type 'text/csv' --region us-east-2 result.csv"
   ]
  },
  {
   "cell_type": "code",
   "execution_count": 59,
   "metadata": {},
   "outputs": [
    {
     "data": {
      "text/html": [
       "<div>\n",
       "<style scoped>\n",
       "    .dataframe tbody tr th:only-of-type {\n",
       "        vertical-align: middle;\n",
       "    }\n",
       "\n",
       "    .dataframe tbody tr th {\n",
       "        vertical-align: top;\n",
       "    }\n",
       "\n",
       "    .dataframe thead th {\n",
       "        text-align: right;\n",
       "    }\n",
       "</style>\n",
       "<table border=\"1\" class=\"dataframe\">\n",
       "  <thead>\n",
       "    <tr style=\"text-align: right;\">\n",
       "      <th></th>\n",
       "      <th>Unnamed: 0</th>\n",
       "      <th>maskedsku</th>\n",
       "      <th>2017-05-01</th>\n",
       "      <th>2017-06-01</th>\n",
       "      <th>2017-07-01</th>\n",
       "      <th>2017-08-01</th>\n",
       "      <th>2017-09-01</th>\n",
       "      <th>2017-10-01</th>\n",
       "      <th>2017-11-01</th>\n",
       "      <th>2017-12-01</th>\n",
       "      <th>...</th>\n",
       "      <th>20220601_forecast</th>\n",
       "      <th>20220701_forecast</th>\n",
       "      <th>20220801_forecast</th>\n",
       "      <th>20220901_forecast</th>\n",
       "      <th>20221001_forecast</th>\n",
       "      <th>20221101_forecast</th>\n",
       "      <th>20221201_forecast</th>\n",
       "      <th>20230101_forecast</th>\n",
       "      <th>20230201_forecast</th>\n",
       "      <th>20230301_forecast</th>\n",
       "    </tr>\n",
       "  </thead>\n",
       "  <tbody>\n",
       "    <tr>\n",
       "      <th>0</th>\n",
       "      <td>0</td>\n",
       "      <td>product_1</td>\n",
       "      <td>13380.82192</td>\n",
       "      <td>15244.93151</td>\n",
       "      <td>14925.20548</td>\n",
       "      <td>13585.9726</td>\n",
       "      <td>11365.47945</td>\n",
       "      <td>20060.54795</td>\n",
       "      <td>12861.36986</td>\n",
       "      <td>14945.2274</td>\n",
       "      <td>...</td>\n",
       "      <td>19390.027071</td>\n",
       "      <td>23169.840433</td>\n",
       "      <td>18582.401161</td>\n",
       "      <td>17395.870255</td>\n",
       "      <td>26055.647792</td>\n",
       "      <td>19606.068102</td>\n",
       "      <td>22226.422881</td>\n",
       "      <td>22098.01749</td>\n",
       "      <td>17727.960032</td>\n",
       "      <td>19764.198943</td>\n",
       "    </tr>\n",
       "  </tbody>\n",
       "</table>\n",
       "<p>1 rows × 73 columns</p>\n",
       "</div>"
      ],
      "text/plain": [
       "   Unnamed: 0  maskedsku   2017-05-01   2017-06-01   2017-07-01  2017-08-01  \\\n",
       "0           0  product_1  13380.82192  15244.93151  14925.20548  13585.9726   \n",
       "\n",
       "    2017-09-01   2017-10-01   2017-11-01  2017-12-01  ...  20220601_forecast  \\\n",
       "0  11365.47945  20060.54795  12861.36986  14945.2274  ...       19390.027071   \n",
       "\n",
       "   20220701_forecast  20220801_forecast  20220901_forecast  20221001_forecast  \\\n",
       "0       23169.840433       18582.401161       17395.870255       26055.647792   \n",
       "\n",
       "   20221101_forecast  20221201_forecast  20230101_forecast  20230201_forecast  \\\n",
       "0       19606.068102       22226.422881        22098.01749       17727.960032   \n",
       "\n",
       "   20230301_forecast  \n",
       "0       19764.198943  \n",
       "\n",
       "[1 rows x 73 columns]"
      ]
     },
     "execution_count": 59,
     "metadata": {},
     "output_type": "execute_result"
    }
   ],
   "source": [
    "df = pd.read_csv(\"result.csv\")\n",
    "df.head(10)"
   ]
  },
  {
   "cell_type": "markdown",
   "metadata": {},
   "source": [
    "### 2. Invoking endpoint result through python code"
   ]
  },
  {
   "cell_type": "code",
   "execution_count": 55,
   "metadata": {},
   "outputs": [],
   "source": [
    "f = open('./sample.csv', mode='r')\n",
    "data=f.read()\n",
    "prediction = predictor.predict(data)"
   ]
  },
  {
   "cell_type": "code",
   "execution_count": 56,
   "metadata": {},
   "outputs": [
    {
     "data": {
      "text/html": [
       "<div>\n",
       "<style scoped>\n",
       "    .dataframe tbody tr th:only-of-type {\n",
       "        vertical-align: middle;\n",
       "    }\n",
       "\n",
       "    .dataframe tbody tr th {\n",
       "        vertical-align: top;\n",
       "    }\n",
       "\n",
       "    .dataframe thead th {\n",
       "        text-align: right;\n",
       "    }\n",
       "</style>\n",
       "<table border=\"1\" class=\"dataframe\">\n",
       "  <thead>\n",
       "    <tr style=\"text-align: right;\">\n",
       "      <th></th>\n",
       "      <th>Unnamed: 0</th>\n",
       "      <th>maskedsku</th>\n",
       "      <th>2017-05-01</th>\n",
       "      <th>2017-06-01</th>\n",
       "      <th>2017-07-01</th>\n",
       "      <th>2017-08-01</th>\n",
       "      <th>2017-09-01</th>\n",
       "      <th>2017-10-01</th>\n",
       "      <th>2017-11-01</th>\n",
       "      <th>2017-12-01</th>\n",
       "      <th>...</th>\n",
       "      <th>20220601_forecast</th>\n",
       "      <th>20220701_forecast</th>\n",
       "      <th>20220801_forecast</th>\n",
       "      <th>20220901_forecast</th>\n",
       "      <th>20221001_forecast</th>\n",
       "      <th>20221101_forecast</th>\n",
       "      <th>20221201_forecast</th>\n",
       "      <th>20230101_forecast</th>\n",
       "      <th>20230201_forecast</th>\n",
       "      <th>20230301_forecast</th>\n",
       "    </tr>\n",
       "  </thead>\n",
       "  <tbody>\n",
       "    <tr>\n",
       "      <th>0</th>\n",
       "      <td>0</td>\n",
       "      <td>product_1</td>\n",
       "      <td>13380.82192</td>\n",
       "      <td>15244.93151</td>\n",
       "      <td>14925.20548</td>\n",
       "      <td>13585.9726</td>\n",
       "      <td>11365.47945</td>\n",
       "      <td>20060.54795</td>\n",
       "      <td>12861.36986</td>\n",
       "      <td>14945.2274</td>\n",
       "      <td>...</td>\n",
       "      <td>19390.027071</td>\n",
       "      <td>23169.840433</td>\n",
       "      <td>18582.401161</td>\n",
       "      <td>17395.870255</td>\n",
       "      <td>26055.647792</td>\n",
       "      <td>19606.068102</td>\n",
       "      <td>22226.422881</td>\n",
       "      <td>22098.01749</td>\n",
       "      <td>17727.960032</td>\n",
       "      <td>19764.198943</td>\n",
       "    </tr>\n",
       "  </tbody>\n",
       "</table>\n",
       "<p>1 rows × 73 columns</p>\n",
       "</div>"
      ],
      "text/plain": [
       "   Unnamed: 0  maskedsku   2017-05-01   2017-06-01   2017-07-01  2017-08-01  \\\n",
       "0           0  product_1  13380.82192  15244.93151  14925.20548  13585.9726   \n",
       "\n",
       "    2017-09-01   2017-10-01   2017-11-01  2017-12-01  ...  20220601_forecast  \\\n",
       "0  11365.47945  20060.54795  12861.36986  14945.2274  ...       19390.027071   \n",
       "\n",
       "   20220701_forecast  20220801_forecast  20220901_forecast  20221001_forecast  \\\n",
       "0       23169.840433       18582.401161       17395.870255       26055.647792   \n",
       "\n",
       "   20221101_forecast  20221201_forecast  20230101_forecast  20230201_forecast  \\\n",
       "0       19606.068102       22226.422881        22098.01749       17727.960032   \n",
       "\n",
       "   20230301_forecast  \n",
       "0       19764.198943  \n",
       "\n",
       "[1 rows x 73 columns]"
      ]
     },
     "execution_count": 56,
     "metadata": {},
     "output_type": "execute_result"
    }
   ],
   "source": [
    "from io import StringIO\n",
    "\n",
    "s=str(prediction,'utf-8')\n",
    "data = StringIO(s) \n",
    "df=pd.read_csv(data)\n",
    "df"
   ]
  },
  {
   "cell_type": "code",
   "execution_count": null,
   "metadata": {},
   "outputs": [],
   "source": []
  }
 ],
 "metadata": {
  "kernelspec": {
   "display_name": "Python 3",
   "language": "python",
   "name": "python3"
  },
  "language_info": {
   "codemirror_mode": {
    "name": "ipython",
    "version": 3
   },
   "file_extension": ".py",
   "mimetype": "text/x-python",
   "name": "python",
   "nbconvert_exporter": "python",
   "pygments_lexer": "ipython3",
   "version": "3.7.9"
  }
 },
 "nbformat": 4,
 "nbformat_minor": 4
}
