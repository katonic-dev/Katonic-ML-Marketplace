{
 "cells": [
  {
   "cell_type": "markdown",
   "metadata": {},
   "source": [
    "# Recommending Netflix Movies and TV Shows"
   ]
  },
  {
   "cell_type": "markdown",
   "metadata": {
    "papermill": {
     "duration": 0.067302,
     "end_time": "2021-02-25T06:29:53.803231",
     "exception": false,
     "start_time": "2021-02-25T06:29:53.735929",
     "status": "completed"
    },
    "tags": []
   },
   "source": [
    "<!-- ![](https://media.giphy.com/media/oenruB2DKC7p6/giphy.gif) -->\n",
    "![](netflix.png)"
   ]
  },
  {
   "cell_type": "code",
   "execution_count": 2,
   "metadata": {},
   "outputs": [],
   "source": [
    "import warnings\n",
    "warnings.filterwarnings('ignore')"
   ]
  },
  {
   "cell_type": "code",
   "execution_count": 3,
   "metadata": {
    "_kg_hide-input": true,
    "papermill": {
     "duration": 1.130196,
     "end_time": "2021-02-25T06:29:55.138918",
     "exception": false,
     "start_time": "2021-02-25T06:29:54.008722",
     "status": "completed"
    },
    "tags": []
   },
   "outputs": [],
   "source": [
    "import numpy as np # linear algebra\n",
    "import pandas as pd # data processing, CSV file I/O (e.g. pd.read_csv)\n",
    "import seaborn as sns\n",
    "import matplotlib.pyplot as plt"
   ]
  },
  {
   "cell_type": "markdown",
   "metadata": {
    "papermill": {
     "duration": 0.066059,
     "end_time": "2021-02-25T06:29:55.272130",
     "exception": false,
     "start_time": "2021-02-25T06:29:55.206071",
     "status": "completed"
    },
    "tags": []
   },
   "source": [
    "# Loading the dataset"
   ]
  },
  {
   "cell_type": "code",
   "execution_count": 4,
   "metadata": {
    "_cell_guid": "79c7e3d0-c299-4dcb-8224-4455121ee9b0",
    "_kg_hide-input": false,
    "_kg_hide-output": false,
    "_uuid": "d629ff2d2480ee46fbb7e2d37f6b5fab8052498a",
    "papermill": {
     "duration": 0.246427,
     "end_time": "2021-02-25T06:29:55.585364",
     "exception": false,
     "start_time": "2021-02-25T06:29:55.338937",
     "status": "completed"
    },
    "tags": []
   },
   "outputs": [
    {
     "data": {
      "text/html": [
       "<div>\n",
       "<style scoped>\n",
       "    .dataframe tbody tr th:only-of-type {\n",
       "        vertical-align: middle;\n",
       "    }\n",
       "\n",
       "    .dataframe tbody tr th {\n",
       "        vertical-align: top;\n",
       "    }\n",
       "\n",
       "    .dataframe thead th {\n",
       "        text-align: right;\n",
       "    }\n",
       "</style>\n",
       "<table border=\"1\" class=\"dataframe\">\n",
       "  <thead>\n",
       "    <tr style=\"text-align: right;\">\n",
       "      <th></th>\n",
       "      <th>show_id</th>\n",
       "      <th>type</th>\n",
       "      <th>title</th>\n",
       "      <th>director</th>\n",
       "      <th>cast</th>\n",
       "      <th>country</th>\n",
       "      <th>date_added</th>\n",
       "      <th>release_year</th>\n",
       "      <th>rating</th>\n",
       "      <th>duration</th>\n",
       "      <th>listed_in</th>\n",
       "      <th>description</th>\n",
       "    </tr>\n",
       "  </thead>\n",
       "  <tbody>\n",
       "    <tr>\n",
       "      <th>0</th>\n",
       "      <td>s1</td>\n",
       "      <td>TV Show</td>\n",
       "      <td>3%</td>\n",
       "      <td>NaN</td>\n",
       "      <td>João Miguel, Bianca Comparato, Michel Gomes, R...</td>\n",
       "      <td>Brazil</td>\n",
       "      <td>August 14, 2020</td>\n",
       "      <td>2020</td>\n",
       "      <td>TV-MA</td>\n",
       "      <td>4 Seasons</td>\n",
       "      <td>International TV Shows, TV Dramas, TV Sci-Fi &amp;...</td>\n",
       "      <td>In a future where the elite inhabit an island ...</td>\n",
       "    </tr>\n",
       "    <tr>\n",
       "      <th>1</th>\n",
       "      <td>s2</td>\n",
       "      <td>Movie</td>\n",
       "      <td>7:19</td>\n",
       "      <td>Jorge Michel Grau</td>\n",
       "      <td>Demián Bichir, Héctor Bonilla, Oscar Serrano, ...</td>\n",
       "      <td>Mexico</td>\n",
       "      <td>December 23, 2016</td>\n",
       "      <td>2016</td>\n",
       "      <td>TV-MA</td>\n",
       "      <td>93 min</td>\n",
       "      <td>Dramas, International Movies</td>\n",
       "      <td>After a devastating earthquake hits Mexico Cit...</td>\n",
       "    </tr>\n",
       "    <tr>\n",
       "      <th>2</th>\n",
       "      <td>s3</td>\n",
       "      <td>Movie</td>\n",
       "      <td>23:59</td>\n",
       "      <td>Gilbert Chan</td>\n",
       "      <td>Tedd Chan, Stella Chung, Henley Hii, Lawrence ...</td>\n",
       "      <td>Singapore</td>\n",
       "      <td>December 20, 2018</td>\n",
       "      <td>2011</td>\n",
       "      <td>R</td>\n",
       "      <td>78 min</td>\n",
       "      <td>Horror Movies, International Movies</td>\n",
       "      <td>When an army recruit is found dead, his fellow...</td>\n",
       "    </tr>\n",
       "    <tr>\n",
       "      <th>3</th>\n",
       "      <td>s4</td>\n",
       "      <td>Movie</td>\n",
       "      <td>9</td>\n",
       "      <td>Shane Acker</td>\n",
       "      <td>Elijah Wood, John C. Reilly, Jennifer Connelly...</td>\n",
       "      <td>United States</td>\n",
       "      <td>November 16, 2017</td>\n",
       "      <td>2009</td>\n",
       "      <td>PG-13</td>\n",
       "      <td>80 min</td>\n",
       "      <td>Action &amp; Adventure, Independent Movies, Sci-Fi...</td>\n",
       "      <td>In a postapocalyptic world, rag-doll robots hi...</td>\n",
       "    </tr>\n",
       "    <tr>\n",
       "      <th>4</th>\n",
       "      <td>s5</td>\n",
       "      <td>Movie</td>\n",
       "      <td>21</td>\n",
       "      <td>Robert Luketic</td>\n",
       "      <td>Jim Sturgess, Kevin Spacey, Kate Bosworth, Aar...</td>\n",
       "      <td>United States</td>\n",
       "      <td>January 1, 2020</td>\n",
       "      <td>2008</td>\n",
       "      <td>PG-13</td>\n",
       "      <td>123 min</td>\n",
       "      <td>Dramas</td>\n",
       "      <td>A brilliant group of students become card-coun...</td>\n",
       "    </tr>\n",
       "  </tbody>\n",
       "</table>\n",
       "</div>"
      ],
      "text/plain": [
       "  show_id     type  title           director  \\\n",
       "0      s1  TV Show     3%                NaN   \n",
       "1      s2    Movie   7:19  Jorge Michel Grau   \n",
       "2      s3    Movie  23:59       Gilbert Chan   \n",
       "3      s4    Movie      9        Shane Acker   \n",
       "4      s5    Movie     21     Robert Luketic   \n",
       "\n",
       "                                                cast        country  \\\n",
       "0  João Miguel, Bianca Comparato, Michel Gomes, R...         Brazil   \n",
       "1  Demián Bichir, Héctor Bonilla, Oscar Serrano, ...         Mexico   \n",
       "2  Tedd Chan, Stella Chung, Henley Hii, Lawrence ...      Singapore   \n",
       "3  Elijah Wood, John C. Reilly, Jennifer Connelly...  United States   \n",
       "4  Jim Sturgess, Kevin Spacey, Kate Bosworth, Aar...  United States   \n",
       "\n",
       "          date_added  release_year rating   duration  \\\n",
       "0    August 14, 2020          2020  TV-MA  4 Seasons   \n",
       "1  December 23, 2016          2016  TV-MA     93 min   \n",
       "2  December 20, 2018          2011      R     78 min   \n",
       "3  November 16, 2017          2009  PG-13     80 min   \n",
       "4    January 1, 2020          2008  PG-13    123 min   \n",
       "\n",
       "                                           listed_in  \\\n",
       "0  International TV Shows, TV Dramas, TV Sci-Fi &...   \n",
       "1                       Dramas, International Movies   \n",
       "2                Horror Movies, International Movies   \n",
       "3  Action & Adventure, Independent Movies, Sci-Fi...   \n",
       "4                                             Dramas   \n",
       "\n",
       "                                         description  \n",
       "0  In a future where the elite inhabit an island ...  \n",
       "1  After a devastating earthquake hits Mexico Cit...  \n",
       "2  When an army recruit is found dead, his fellow...  \n",
       "3  In a postapocalyptic world, rag-doll robots hi...  \n",
       "4  A brilliant group of students become card-coun...  "
      ]
     },
     "execution_count": 4,
     "metadata": {},
     "output_type": "execute_result"
    }
   ],
   "source": [
    "netflix_overall=pd.read_csv(\"netflix_titles.csv\")\n",
    "netflix_overall.head()"
   ]
  },
  {
   "cell_type": "markdown",
   "metadata": {
    "papermill": {
     "duration": 0.066136,
     "end_time": "2021-02-25T06:29:55.718357",
     "exception": false,
     "start_time": "2021-02-25T06:29:55.652221",
     "status": "completed"
    },
    "tags": []
   },
   "source": [
    "So, it is clear that the dataset contains 12 columns for exploratory analysis."
   ]
  },
  {
   "cell_type": "code",
   "execution_count": 5,
   "metadata": {
    "_kg_hide-input": true,
    "_kg_hide-output": true,
    "papermill": {
     "duration": 0.091772,
     "end_time": "2021-02-25T06:29:55.876733",
     "exception": false,
     "start_time": "2021-02-25T06:29:55.784961",
     "status": "completed"
    },
    "tags": []
   },
   "outputs": [
    {
     "data": {
      "text/plain": [
       "show_id         7787\n",
       "type            7787\n",
       "title           7787\n",
       "director        5398\n",
       "cast            7069\n",
       "country         7280\n",
       "date_added      7777\n",
       "release_year    7787\n",
       "rating          7780\n",
       "duration        7787\n",
       "listed_in       7787\n",
       "description     7787\n",
       "dtype: int64"
      ]
     },
     "execution_count": 5,
     "metadata": {},
     "output_type": "execute_result"
    }
   ],
   "source": [
    "netflix_overall.count()"
   ]
  },
  {
   "cell_type": "code",
   "execution_count": 6,
   "metadata": {
    "_kg_hide-input": true,
    "papermill": {
     "duration": 0.084895,
     "end_time": "2021-02-25T06:29:56.029279",
     "exception": false,
     "start_time": "2021-02-25T06:29:55.944384",
     "status": "completed"
    },
    "tags": []
   },
   "outputs": [],
   "source": [
    "netflix_shows=netflix_overall[netflix_overall['type']=='TV Show']"
   ]
  },
  {
   "cell_type": "code",
   "execution_count": 7,
   "metadata": {
    "_kg_hide-input": true,
    "papermill": {
     "duration": 0.085461,
     "end_time": "2021-02-25T06:29:56.181705",
     "exception": false,
     "start_time": "2021-02-25T06:29:56.096244",
     "status": "completed"
    },
    "tags": []
   },
   "outputs": [],
   "source": [
    "netflix_movies=netflix_overall[netflix_overall['type']=='Movie']"
   ]
  },
  {
   "cell_type": "markdown",
   "metadata": {
    "papermill": {
     "duration": 0.068831,
     "end_time": "2021-02-25T06:29:56.455553",
     "exception": false,
     "start_time": "2021-02-25T06:29:56.386722",
     "status": "completed"
    },
    "tags": []
   },
   "source": [
    "# Analysis of Movies vs TV Shows."
   ]
  },
  {
   "cell_type": "code",
   "execution_count": 8,
   "metadata": {
    "papermill": {
     "duration": 0.244335,
     "end_time": "2021-02-25T06:29:56.768521",
     "exception": false,
     "start_time": "2021-02-25T06:29:56.524186",
     "status": "completed"
    },
    "tags": []
   },
   "outputs": [
    {
     "data": {
      "image/png": "[encoded data removed]",
      "text/plain": [
       "<Figure size 432x288 with 1 Axes>"
      ]
     },
     "metadata": {},
     "output_type": "display_data"
    }
   ],
   "source": [
    "sns.set(style=\"darkgrid\")\n",
    "ax = sns.countplot(x=\"type\", data=netflix_overall, palette=\"Set2\")"
   ]
  },
  {
   "cell_type": "markdown",
   "metadata": {
    "papermill": {
     "duration": 0.06878,
     "end_time": "2021-02-25T06:29:56.905657",
     "exception": false,
     "start_time": "2021-02-25T06:29:56.836877",
     "status": "completed"
    },
    "tags": []
   },
   "source": [
    "It's shows that there are more Movies on Netflix than TV shows."
   ]
  },
  {
   "cell_type": "markdown",
   "metadata": {
    "papermill": {
     "duration": 0.068075,
     "end_time": "2021-02-25T06:29:57.042614",
     "exception": false,
     "start_time": "2021-02-25T06:29:56.974539",
     "status": "completed"
    },
    "tags": []
   },
   "source": [
    "### Month when least amount of content is added"
   ]
  },
  {
   "cell_type": "code",
   "execution_count": 9,
   "metadata": {
    "_kg_hide-input": true,
    "papermill": {
     "duration": 0.759949,
     "end_time": "2021-02-25T06:29:57.870491",
     "exception": false,
     "start_time": "2021-02-25T06:29:57.110542",
     "status": "completed"
    },
    "tags": []
   },
   "outputs": [
    {
     "data": {
      "image/png": "[encoded data removed]",
      "text/plain": [
       "<Figure size 2000x1400 with 2 Axes>"
      ]
     },
     "metadata": {},
     "output_type": "display_data"
    }
   ],
   "source": [
    "netflix_date = netflix_shows[['date_added']].dropna()\n",
    "netflix_date['year'] = netflix_date['date_added'].apply(lambda x : x.split(', ')[-1])\n",
    "netflix_date['month'] = netflix_date['date_added'].apply(lambda x : x.lstrip().split(' ')[0])\n",
    "\n",
    "month_order = ['January', 'February', 'March', 'April', 'May', 'June', 'July', 'August', 'September', 'October', 'November', 'December'][::-1]\n",
    "df = netflix_date.groupby('year')['month'].value_counts().unstack().fillna(0)[month_order].T\n",
    "plt.figure(figsize=(10, 7), dpi=200)\n",
    "plt.pcolor(df, cmap='afmhot_r', edgecolors='white', linewidths=2) # heatmap\n",
    "plt.xticks(np.arange(0.5, len(df.columns), 1), df.columns, fontsize=7, fontfamily='serif')\n",
    "plt.yticks(np.arange(0.5, len(df.index), 1), df.index, fontsize=7, fontfamily='serif')\n",
    "\n",
    "plt.title('Netflix Contents Update', fontsize=12, fontfamily='calibri', fontweight='bold', position=(0.20, 1.0+0.02))\n",
    "cbar = plt.colorbar()\n",
    "\n",
    "cbar.ax.tick_params(labelsize=8) \n",
    "cbar.ax.minorticks_on()\n",
    "plt.show()"
   ]
  },
  {
   "cell_type": "markdown",
   "metadata": {
    "papermill": {
     "duration": 0.070251,
     "end_time": "2021-02-25T06:29:58.013600",
     "exception": false,
     "start_time": "2021-02-25T06:29:57.943349",
     "status": "completed"
    },
    "tags": []
   },
   "source": [
    "If the latest year 2020 is considered, February and June were the months when comparatively much less content was released. Therefore, these months may be a good choice for the success of a new release!"
   ]
  },
  {
   "cell_type": "markdown",
   "metadata": {
    "papermill": {
     "duration": 0.077134,
     "end_time": "2021-02-25T06:29:58.162775",
     "exception": false,
     "start_time": "2021-02-25T06:29:58.085641",
     "status": "completed"
    },
    "tags": []
   },
   "source": [
    "### Movie ratings analysis"
   ]
  },
  {
   "cell_type": "code",
   "execution_count": 10,
   "metadata": {
    "papermill": {
     "duration": 0.426774,
     "end_time": "2021-02-25T06:29:58.674941",
     "exception": false,
     "start_time": "2021-02-25T06:29:58.248167",
     "status": "completed"
    },
    "tags": []
   },
   "outputs": [
    {
     "data": {
      "image/png": "[encoded data removed]",
      "text/plain": [
       "<Figure size 864x720 with 1 Axes>"
      ]
     },
     "metadata": {},
     "output_type": "display_data"
    }
   ],
   "source": [
    "plt.figure(figsize=(12,10))\n",
    "sns.set(style=\"darkgrid\")\n",
    "ax = sns.countplot(\n",
    "    x=\"rating\",\n",
    "    data=netflix_movies,\n",
    "    palette=\"Set2\",\n",
    "    order=netflix_movies['rating'].value_counts().index[:15],\n",
    ")"
   ]
  },
  {
   "cell_type": "markdown",
   "metadata": {
    "papermill": {
     "duration": 0.071015,
     "end_time": "2021-02-25T06:29:58.819355",
     "exception": false,
     "start_time": "2021-02-25T06:29:58.748340",
     "status": "completed"
    },
    "tags": []
   },
   "source": [
    "The largest count of movies are made with the `TV-MA` rating. (`TV-MA` is a rating assigned by the TV Parental Guidelines to a television program that was designed for mature audiences only. )\n",
    "\n",
    "Second largest is the `TV-14` stands for content that may be inappropriate for children younger than 14 years of age.\n",
    "\n",
    "Third largest is the  very popular `R` rating. An R-rated film is a film that has been assessed as having material which may be unsuitable for children under the age of 17 by the Motion Picture Association of America; the MPAA writes \"Under 17 requires accompanying parent or adult guardian\"."
   ]
  },
  {
   "cell_type": "markdown",
   "metadata": {
    "papermill": {
     "duration": 0.073791,
     "end_time": "2021-02-25T06:30:05.880968",
     "exception": false,
     "start_time": "2021-02-25T06:30:05.807177",
     "status": "completed"
    },
    "tags": []
   },
   "source": [
    "### Year wise analysis"
   ]
  },
  {
   "cell_type": "code",
   "execution_count": 12,
   "metadata": {
    "papermill": {
     "duration": 0.481843,
     "end_time": "2021-02-25T06:30:06.437250",
     "exception": false,
     "start_time": "2021-02-25T06:30:05.955407",
     "status": "completed"
    },
    "tags": []
   },
   "outputs": [
    {
     "data": {
      "image/png": "[encoded data removed]",
      "text/plain": [
       "<Figure size 864x720 with 1 Axes>"
      ]
     },
     "metadata": {},
     "output_type": "display_data"
    }
   ],
   "source": [
    "plt.figure(figsize=(12,10))\n",
    "sns.set(style=\"darkgrid\")\n",
    "ax = sns.countplot(\n",
    "    y=\"release_year\",\n",
    "    data=netflix_movies,\n",
    "    palette=\"Set2\",\n",
    "    order=netflix_movies['release_year'].value_counts().index[:15],\n",
    ")"
   ]
  },
  {
   "cell_type": "markdown",
   "metadata": {
    "papermill": {
     "duration": 0.076723,
     "end_time": "2021-02-25T06:30:06.588236",
     "exception": false,
     "start_time": "2021-02-25T06:30:06.511513",
     "status": "completed"
    },
    "tags": []
   },
   "source": [
    "So, 2017 was the year when most of the movies were released."
   ]
  },
  {
   "cell_type": "code",
   "execution_count": 13,
   "metadata": {
    "_kg_hide-input": true,
    "_kg_hide-output": true,
    "papermill": {
     "duration": 0.122379,
     "end_time": "2021-02-25T06:30:06.786166",
     "exception": false,
     "start_time": "2021-02-25T06:30:06.663787",
     "status": "completed"
    },
    "tags": []
   },
   "outputs": [],
   "source": [
    "countries={}\n",
    "netflix_movies['country']=netflix_movies['country'].fillna('Unknown')\n",
    "cou=list(netflix_movies['country'])\n",
    "for i in cou:\n",
    "    #print(i)\n",
    "    i=list(i.split(','))\n",
    "    if len(i)==1:\n",
    "        if i in list(countries.keys()):\n",
    "            countries[i]+=1\n",
    "        else:\n",
    "            countries[i[0]]=1\n",
    "    else:\n",
    "        for j in i:\n",
    "            if j in list(countries.keys()):\n",
    "                countries[j]+=1\n",
    "            else:\n",
    "                countries[j]=1"
   ]
  },
  {
   "cell_type": "code",
   "execution_count": 14,
   "metadata": {
    "_kg_hide-input": true,
    "_kg_hide-output": true,
    "papermill": {
     "duration": 0.088951,
     "end_time": "2021-02-25T06:30:06.950351",
     "exception": false,
     "start_time": "2021-02-25T06:30:06.861400",
     "status": "completed"
    },
    "tags": []
   },
   "outputs": [],
   "source": [
    "countries_fin={}\n",
    "for country,no in countries.items():\n",
    "    country=country.replace(' ','')\n",
    "    if country in list(countries_fin.keys()):\n",
    "        countries_fin[country]+=no\n",
    "    else:\n",
    "        countries_fin[country]=no\n",
    "\n",
    "countries_fin = dict(\n",
    "    sorted(countries_fin.items(), key=lambda item: item[1], reverse=True)\n",
    ")"
   ]
  },
  {
   "cell_type": "markdown",
   "metadata": {
    "papermill": {
     "duration": 0.076366,
     "end_time": "2021-02-25T06:30:07.102328",
     "exception": false,
     "start_time": "2021-02-25T06:30:07.025962",
     "status": "completed"
    },
    "tags": []
   },
   "source": [
    "### TOP 10 MOVIE CONTENT CREATING COUNTRIES"
   ]
  },
  {
   "cell_type": "code",
   "execution_count": 17,
   "metadata": {
    "_kg_hide-input": true,
    "_kg_hide-output": true,
    "papermill": {
     "duration": 0.357813,
     "end_time": "2021-02-25T06:30:07.538356",
     "exception": false,
     "start_time": "2021-02-25T06:30:07.180543",
     "status": "completed"
    },
    "tags": []
   },
   "outputs": [
    {
     "data": {
      "image/png": "[encoded data removed]",
      "text/plain": [
       "<Figure size 576x576 with 1 Axes>"
      ]
     },
     "metadata": {},
     "output_type": "display_data"
    }
   ],
   "source": [
    "plt.figure(figsize=(8,8))\n",
    "ax = sns.barplot(\n",
    "    x=list(countries_fin.keys())[0:10], y=list(countries_fin.values())[:10]\n",
    ")\n",
    "\n",
    "ax.set_xticklabels(list(countries_fin.keys())[:10], rotation = 45);"
   ]
  },
  {
   "cell_type": "markdown",
   "metadata": {
    "papermill": {
     "duration": 0.077104,
     "end_time": "2021-02-25T06:30:07.691900",
     "exception": false,
     "start_time": "2021-02-25T06:30:07.614796",
     "status": "completed"
    },
    "tags": []
   },
   "source": [
    "### Analysis of duration of movies"
   ]
  },
  {
   "cell_type": "code",
   "execution_count": 18,
   "metadata": {
    "_kg_hide-input": true,
    "_kg_hide-output": true,
    "papermill": {
     "duration": 0.104963,
     "end_time": "2021-02-25T06:30:07.874601",
     "exception": false,
     "start_time": "2021-02-25T06:30:07.769638",
     "status": "completed"
    },
    "tags": []
   },
   "outputs": [
    {
     "data": {
      "text/plain": [
       "1        93\n",
       "2        78\n",
       "3        80\n",
       "4       123\n",
       "6        95\n",
       "       ... \n",
       "7781     88\n",
       "7782     99\n",
       "7783    111\n",
       "7784     44\n",
       "7786     90\n",
       "Name: duration, Length: 5377, dtype: int32"
      ]
     },
     "execution_count": 18,
     "metadata": {},
     "output_type": "execute_result"
    }
   ],
   "source": [
    "netflix_movies['duration']=netflix_movies['duration'].str.replace(' min','')\n",
    "netflix_movies['duration']=netflix_movies['duration'].astype(str).astype(int)\n",
    "netflix_movies['duration']"
   ]
  },
  {
   "cell_type": "code",
   "execution_count": 19,
   "metadata": {
    "papermill": {
     "duration": 0.391059,
     "end_time": "2021-02-25T06:30:08.344543",
     "exception": false,
     "start_time": "2021-02-25T06:30:07.953484",
     "status": "completed"
    },
    "tags": []
   },
   "outputs": [
    {
     "data": {
      "image/png": "[encoded data removed]",
      "text/plain": [
       "<Figure size 432x288 with 1 Axes>"
      ]
     },
     "metadata": {},
     "output_type": "display_data"
    }
   ],
   "source": [
    "sns.set(style=\"darkgrid\")\n",
    "sns.kdeplot(data=netflix_movies['duration'], shade=True);"
   ]
  },
  {
   "cell_type": "markdown",
   "metadata": {
    "papermill": {
     "duration": 0.079518,
     "end_time": "2021-02-25T06:30:08.504644",
     "exception": false,
     "start_time": "2021-02-25T06:30:08.425126",
     "status": "completed"
    },
    "tags": []
   },
   "source": [
    "So, a good amount of movies on Netflix are among the duration of 75-120 mins. It is acceptable considering the fact that a fair amount of the audience cannot watch a 3 hour movie in one sitting."
   ]
  },
  {
   "cell_type": "code",
   "execution_count": 20,
   "metadata": {
    "_kg_hide-input": true,
    "papermill": {
     "duration": 0.103304,
     "end_time": "2021-02-25T06:30:08.688301",
     "exception": false,
     "start_time": "2021-02-25T06:30:08.584997",
     "status": "completed"
    },
    "tags": []
   },
   "outputs": [],
   "source": [
    "from collections import Counter\n",
    "\n",
    "genres=list(netflix_movies['listed_in'])\n",
    "gen=[]\n",
    "\n",
    "for i in genres:\n",
    "    i=list(i.split(','))\n",
    "    for j in i:\n",
    "        gen.append(j.replace(' ',\"\"))\n",
    "g=Counter(gen)"
   ]
  },
  {
   "cell_type": "markdown",
   "metadata": {
    "papermill": {
     "duration": 0.080166,
     "end_time": "2021-02-25T06:30:08.850066",
     "exception": false,
     "start_time": "2021-02-25T06:30:08.769900",
     "status": "completed"
    },
    "tags": []
   },
   "source": [
    "### WordCloud for Genres."
   ]
  },
  {
   "cell_type": "code",
   "execution_count": 23,
   "metadata": {
    "papermill": {
     "duration": 1.35201,
     "end_time": "2021-02-25T06:30:10.284395",
     "exception": false,
     "start_time": "2021-02-25T06:30:08.932385",
     "status": "completed"
    },
    "tags": []
   },
   "outputs": [
    {
     "data": {
      "image/png": "[encoded data removed]",
      "text/plain": [
       "<Figure size 936x936 with 1 Axes>"
      ]
     },
     "metadata": {},
     "output_type": "display_data"
    }
   ],
   "source": [
    "from wordcloud import WordCloud\n",
    "from PIL import Image\n",
    "\n",
    "text = list(set(gen))\n",
    "plt.rcParams['figure.figsize'] = (13, 13)\n",
    "\n",
    "#assigning shape to the word cloud\n",
    "wordcloud = WordCloud(max_words=1000000, background_color=\"white\").generate(str(text))\n",
    "\n",
    "plt.imshow(wordcloud, interpolation=\"bilinear\")\n",
    "plt.axis(\"off\")\n",
    "plt.show()"
   ]
  },
  {
   "cell_type": "markdown",
   "metadata": {
    "papermill": {
     "duration": 0.082708,
     "end_time": "2021-02-25T06:30:10.451358",
     "exception": false,
     "start_time": "2021-02-25T06:30:10.368650",
     "status": "completed"
    },
    "tags": []
   },
   "source": [
    "### Lollipop plot of Genres vs their count on Netflix"
   ]
  },
  {
   "cell_type": "code",
   "execution_count": 28,
   "metadata": {
    "papermill": {
     "duration": 0.656359,
     "end_time": "2021-02-25T06:30:11.191421",
     "exception": false,
     "start_time": "2021-02-25T06:30:10.535062",
     "status": "completed"
    },
    "tags": []
   },
   "outputs": [
    {
     "data": {
      "image/png": "[encoded data removed]",
      "text/plain": [
       "<Figure size 936x936 with 1 Axes>"
      ]
     },
     "metadata": {},
     "output_type": "display_data"
    },
    {
     "data": {
      "text/plain": [
       "<Figure size 720x720 with 0 Axes>"
      ]
     },
     "metadata": {},
     "output_type": "display_data"
    }
   ],
   "source": [
    "g = dict(sorted(g.items(), key=lambda item: item[1], reverse= True))\n",
    "\n",
    "fig, ax = plt.subplots()\n",
    "fig = plt.figure(figsize = (10, 10))\n",
    "x=list(g.keys())\n",
    "y=list(g.values())\n",
    "ax.vlines(x, ymin=0, ymax=y, color='green')\n",
    "ax.plot(x, y, \"o\", color='maroon')\n",
    "ax.set_xticklabels(x, rotation = 90)\n",
    "ax.set_ylabel(\"Count of movies\")\n",
    "# set a title\n",
    "ax.set_title(\"Genres\");"
   ]
  },
  {
   "cell_type": "markdown",
   "metadata": {
    "papermill": {
     "duration": 0.084998,
     "end_time": "2021-02-25T06:30:11.361515",
     "exception": false,
     "start_time": "2021-02-25T06:30:11.276517",
     "status": "completed"
    },
    "tags": []
   },
   "source": [
    "Therefore, it is clear that international movies, dramas and comedies are the top three genres that have the highest amount of content on Netflix."
   ]
  },
  {
   "cell_type": "markdown",
   "metadata": {
    "papermill": {
     "duration": 0.084417,
     "end_time": "2021-02-25T06:30:11.530870",
     "exception": false,
     "start_time": "2021-02-25T06:30:11.446453",
     "status": "completed"
    },
    "tags": []
   },
   "source": [
    "### Analysis of TV SERIES on Netflix"
   ]
  },
  {
   "cell_type": "code",
   "execution_count": 29,
   "metadata": {
    "_kg_hide-input": true,
    "_kg_hide-output": true,
    "papermill": {
     "duration": 0.112221,
     "end_time": "2021-02-25T06:30:11.728190",
     "exception": false,
     "start_time": "2021-02-25T06:30:11.615969",
     "status": "completed"
    },
    "tags": []
   },
   "outputs": [],
   "source": [
    "countries1={}\n",
    "netflix_shows['country']=netflix_shows['country'].fillna('Unknown')\n",
    "cou1=list(netflix_shows['country'])\n",
    "for i in cou1:\n",
    "    #print(i)\n",
    "    i=list(i.split(','))\n",
    "    if len(i)==1:\n",
    "        if i in list(countries1.keys()):\n",
    "            countries1[i]+=1\n",
    "        else:\n",
    "            countries1[i[0]]=1\n",
    "    else:\n",
    "        for j in i:\n",
    "            if j in list(countries1.keys()):\n",
    "                countries1[j]+=1\n",
    "            else:\n",
    "                countries1[j]=1"
   ]
  },
  {
   "cell_type": "code",
   "execution_count": 30,
   "metadata": {
    "_kg_hide-input": true,
    "_kg_hide-output": true,
    "papermill": {
     "duration": 0.097673,
     "end_time": "2021-02-25T06:30:11.912218",
     "exception": false,
     "start_time": "2021-02-25T06:30:11.814545",
     "status": "completed"
    },
    "tags": []
   },
   "outputs": [],
   "source": [
    "countries_fin1={}\n",
    "for country,no in countries1.items():\n",
    "    country=country.replace(' ','')\n",
    "    if country in list(countries_fin1.keys()):\n",
    "        countries_fin1[country]+=no\n",
    "    else:\n",
    "        countries_fin1[country]=no\n",
    "\n",
    "countries_fin1 = dict(\n",
    "    sorted(countries_fin1.items(), key=lambda item: item[1], reverse=True)\n",
    ")"
   ]
  },
  {
   "cell_type": "markdown",
   "metadata": {
    "papermill": {
     "duration": 0.086108,
     "end_time": "2021-02-25T06:30:12.088851",
     "exception": false,
     "start_time": "2021-02-25T06:30:12.002743",
     "status": "completed"
    },
    "tags": []
   },
   "source": [
    "### Most content creating countries"
   ]
  },
  {
   "cell_type": "code",
   "execution_count": 31,
   "metadata": {
    "papermill": {
     "duration": 1.305106,
     "end_time": "2021-02-25T06:30:13.485526",
     "exception": false,
     "start_time": "2021-02-25T06:30:12.180420",
     "status": "completed"
    },
    "tags": []
   },
   "outputs": [
    {
     "data": {
      "image/png": "[encoded data removed]",
      "text/plain": [
       "<Figure size 1080x1080 with 1 Axes>"
      ]
     },
     "metadata": {},
     "output_type": "display_data"
    }
   ],
   "source": [
    "# Set the width and height of the figure\n",
    "plt.figure(figsize=(15,15))\n",
    "\n",
    "# Add title\n",
    "plt.title(\"Content creating countries\")\n",
    "\n",
    "# Bar chart showing average arrival delay for Spirit Airlines flights by month\n",
    "sns.barplot(y=list(countries_fin1.keys()), x=list(countries_fin1.values()))\n",
    "\n",
    "# Add label for vertical axis\n",
    "plt.ylabel(\"Arrival delay (in minutes)\");"
   ]
  },
  {
   "cell_type": "markdown",
   "metadata": {
    "papermill": {
     "duration": 0.08838,
     "end_time": "2021-02-25T06:30:13.672995",
     "exception": false,
     "start_time": "2021-02-25T06:30:13.584615",
     "status": "completed"
    },
    "tags": []
   },
   "source": [
    "United States has the most content that is created on netflix in the tv series category."
   ]
  },
  {
   "cell_type": "code",
   "execution_count": 32,
   "metadata": {
    "_kg_hide-input": true,
    "_kg_hide-output": true,
    "papermill": {
     "duration": 0.110229,
     "end_time": "2021-02-25T06:30:13.875038",
     "exception": false,
     "start_time": "2021-02-25T06:30:13.764809",
     "status": "completed"
    },
    "tags": []
   },
   "outputs": [],
   "source": [
    "features=['title','duration']\n",
    "durations= netflix_shows[features]\n",
    "\n",
    "durations['no_of_seasons']=durations['duration'].str.replace(' Season','')\n",
    "\n",
    "#durations['no_of_seasons']=durations['no_of_seasons'].astype(str).astype(int)\n",
    "durations['no_of_seasons']=durations['no_of_seasons'].str.replace('s','')"
   ]
  },
  {
   "cell_type": "code",
   "execution_count": 33,
   "metadata": {
    "_kg_hide-input": true,
    "_kg_hide-output": true,
    "papermill": {
     "duration": 0.10696,
     "end_time": "2021-02-25T06:30:14.073856",
     "exception": false,
     "start_time": "2021-02-25T06:30:13.966896",
     "status": "completed"
    },
    "tags": []
   },
   "outputs": [],
   "source": [
    "durations['no_of_seasons']=durations['no_of_seasons'].astype(str).astype(int)"
   ]
  },
  {
   "cell_type": "markdown",
   "metadata": {
    "papermill": {
     "duration": 0.091452,
     "end_time": "2021-02-25T06:30:16.420835",
     "exception": false,
     "start_time": "2021-02-25T06:30:16.329383",
     "status": "completed"
    },
    "tags": []
   },
   "source": [
    "### Word Cloud for Genres"
   ]
  },
  {
   "cell_type": "code",
   "execution_count": 35,
   "metadata": {
    "papermill": {
     "duration": 8.387621,
     "end_time": "2021-02-25T06:30:25.084999",
     "exception": false,
     "start_time": "2021-02-25T06:30:16.697378",
     "status": "completed"
    },
    "tags": []
   },
   "outputs": [
    {
     "data": {
      "image/png": "[encoded data removed]",
      "text/plain": [
       "<Figure size 936x936 with 1 Axes>"
      ]
     },
     "metadata": {},
     "output_type": "display_data"
    }
   ],
   "source": [
    "from wordcloud import WordCloud, STOPWORDS, ImageColorGenerator\n",
    "\n",
    "text = list(set(gen))\n",
    "\n",
    "wordcloud = WordCloud(max_words=1000000, background_color=\"black\", mask=None).generate(str(text))\n",
    "plt.rcParams['figure.figsize'] = (13, 13)\n",
    "plt.imshow(wordcloud,interpolation=\"bilinear\")\n",
    "plt.axis(\"off\")\n",
    "plt.show()"
   ]
  },
  {
   "cell_type": "code",
   "execution_count": 36,
   "metadata": {
    "papermill": {
     "duration": 0.108001,
     "end_time": "2021-02-25T06:30:25.290066",
     "exception": false,
     "start_time": "2021-02-25T06:30:25.182065",
     "status": "completed"
    },
    "tags": []
   },
   "outputs": [],
   "source": [
    "us_series_data=netflix_shows[netflix_shows['country']=='United States']"
   ]
  },
  {
   "cell_type": "code",
   "execution_count": 37,
   "metadata": {
    "papermill": {
     "duration": 0.105145,
     "end_time": "2021-02-25T06:30:25.491446",
     "exception": false,
     "start_time": "2021-02-25T06:30:25.386301",
     "status": "completed"
    },
    "tags": []
   },
   "outputs": [],
   "source": [
    "oldest_us_series = us_series_data.sort_values(by='release_year')[:20]"
   ]
  },
  {
   "cell_type": "code",
   "execution_count": 39,
   "metadata": {
    "papermill": {
     "duration": 0.258929,
     "end_time": "2021-02-25T06:30:25.846168",
     "exception": false,
     "start_time": "2021-02-25T06:30:25.587239",
     "status": "completed"
    },
    "tags": []
   },
   "outputs": [
    {
     "data": {
      "application/vnd.plotly.v1+json": {
       "config": {
        "plotlyServerURL": "https://plot.ly"
       },
       "data": [
        {
         "cells": {
          "fill": {
           "color": "pink"
          },
          "values": [
           [
            "Pioneers of African-American Cinema",
            "The Twilight Zone (Original Series)",
            "The Andy Griffith Show",
            "Star Trek",
            "Highway to Heaven",
            "High Risk",
            "Pee-wee's Playhouse",
            "Twin Peaks",
            "Ken Burns: The Civil War",
            "Cheers",
            "Star Trek: The Next Generation",
            "Supermarket Sweep",
            "V.R. Troopers",
            "Ken Burns: The West",
            "Sister, Sister",
            "Mystery Science Theater 3000",
            "Star Trek: Deep Space Nine",
            "Cold Case Files Classic",
            "Star Trek: Voyager",
            "Moesha"
           ],
           [
            1946,
            1963,
            1967,
            1968,
            1988,
            1988,
            1990,
            1990,
            1990,
            1992,
            1993,
            1993,
            1995,
            1996,
            1998,
            1999,
            1999,
            1999,
            2000,
            2000
           ]
          ]
         },
         "header": {
          "fill": {
           "color": "paleturquoise"
          },
          "values": [
           "Title",
           "Release Year"
          ]
         },
         "type": "table"
        }
       ],
       "layout": {
        "template": {
         "data": {
          "bar": [
           {
            "error_x": {
             "color": "#2a3f5f"
            },
            "error_y": {
             "color": "#2a3f5f"
            },
            "marker": {
             "line": {
              "color": "#E5ECF6",
              "width": 0.5
             },
             "pattern": {
              "fillmode": "overlay",
              "size": 10,
              "solidity": 0.2
             }
            },
            "type": "bar"
           }
          ],
          "barpolar": [
           {
            "marker": {
             "line": {
              "color": "#E5ECF6",
              "width": 0.5
             },
             "pattern": {
              "fillmode": "overlay",
              "size": 10,
              "solidity": 0.2
             }
            },
            "type": "barpolar"
           }
          ],
          "carpet": [
           {
            "aaxis": {
             "endlinecolor": "#2a3f5f",
             "gridcolor": "white",
             "linecolor": "white",
             "minorgridcolor": "white",
             "startlinecolor": "#2a3f5f"
            },
            "baxis": {
             "endlinecolor": "#2a3f5f",
             "gridcolor": "white",
             "linecolor": "white",
             "minorgridcolor": "white",
             "startlinecolor": "#2a3f5f"
            },
            "type": "carpet"
           }
          ],
          "choropleth": [
           {
            "colorbar": {
             "outlinewidth": 0,
             "ticks": ""
            },
            "type": "choropleth"
           }
          ],
          "contour": [
           {
            "colorbar": {
             "outlinewidth": 0,
             "ticks": ""
            },
            "colorscale": [
             [
              0,
              "#0d0887"
             ],
             [
              0.1111111111111111,
              "#46039f"
             ],
             [
              0.2222222222222222,
              "#7201a8"
             ],
             [
              0.3333333333333333,
              "#9c179e"
             ],
             [
              0.4444444444444444,
              "#bd3786"
             ],
             [
              0.5555555555555556,
              "#d8576b"
             ],
             [
              0.6666666666666666,
              "#ed7953"
             ],
             [
              0.7777777777777778,
              "#fb9f3a"
             ],
             [
              0.8888888888888888,
              "#fdca26"
             ],
             [
              1,
              "#f0f921"
             ]
            ],
            "type": "contour"
           }
          ],
          "contourcarpet": [
           {
            "colorbar": {
             "outlinewidth": 0,
             "ticks": ""
            },
            "type": "contourcarpet"
           }
          ],
          "heatmap": [
           {
            "colorbar": {
             "outlinewidth": 0,
             "ticks": ""
            },
            "colorscale": [
             [
              0,
              "#0d0887"
             ],
             [
              0.1111111111111111,
              "#46039f"
             ],
             [
              0.2222222222222222,
              "#7201a8"
             ],
             [
              0.3333333333333333,
              "#9c179e"
             ],
             [
              0.4444444444444444,
              "#bd3786"
             ],
             [
              0.5555555555555556,
              "#d8576b"
             ],
             [
              0.6666666666666666,
              "#ed7953"
             ],
             [
              0.7777777777777778,
              "#fb9f3a"
             ],
             [
              0.8888888888888888,
              "#fdca26"
             ],
             [
              1,
              "#f0f921"
             ]
            ],
            "type": "heatmap"
           }
          ],
          "heatmapgl": [
           {
            "colorbar": {
             "outlinewidth": 0,
             "ticks": ""
            },
            "colorscale": [
             [
              0,
              "#0d0887"
             ],
             [
              0.1111111111111111,
              "#46039f"
             ],
             [
              0.2222222222222222,
              "#7201a8"
             ],
             [
              0.3333333333333333,
              "#9c179e"
             ],
             [
              0.4444444444444444,
              "#bd3786"
             ],
             [
              0.5555555555555556,
              "#d8576b"
             ],
             [
              0.6666666666666666,
              "#ed7953"
             ],
             [
              0.7777777777777778,
              "#fb9f3a"
             ],
             [
              0.8888888888888888,
              "#fdca26"
             ],
             [
              1,
              "#f0f921"
             ]
            ],
            "type": "heatmapgl"
           }
          ],
          "histogram": [
           {
            "marker": {
             "pattern": {
              "fillmode": "overlay",
              "size": 10,
              "solidity": 0.2
             }
            },
            "type": "histogram"
           }
          ],
          "histogram2d": [
           {
            "colorbar": {
             "outlinewidth": 0,
             "ticks": ""
            },
            "colorscale": [
             [
              0,
              "#0d0887"
             ],
             [
              0.1111111111111111,
              "#46039f"
             ],
             [
              0.2222222222222222,
              "#7201a8"
             ],
             [
              0.3333333333333333,
              "#9c179e"
             ],
             [
              0.4444444444444444,
              "#bd3786"
             ],
             [
              0.5555555555555556,
              "#d8576b"
             ],
             [
              0.6666666666666666,
              "#ed7953"
             ],
             [
              0.7777777777777778,
              "#fb9f3a"
             ],
             [
              0.8888888888888888,
              "#fdca26"
             ],
             [
              1,
              "#f0f921"
             ]
            ],
            "type": "histogram2d"
           }
          ],
          "histogram2dcontour": [
           {
            "colorbar": {
             "outlinewidth": 0,
             "ticks": ""
            },
            "colorscale": [
             [
              0,
              "#0d0887"
             ],
             [
              0.1111111111111111,
              "#46039f"
             ],
             [
              0.2222222222222222,
              "#7201a8"
             ],
             [
              0.3333333333333333,
              "#9c179e"
             ],
             [
              0.4444444444444444,
              "#bd3786"
             ],
             [
              0.5555555555555556,
              "#d8576b"
             ],
             [
              0.6666666666666666,
              "#ed7953"
             ],
             [
              0.7777777777777778,
              "#fb9f3a"
             ],
             [
              0.8888888888888888,
              "#fdca26"
             ],
             [
              1,
              "#f0f921"
             ]
            ],
            "type": "histogram2dcontour"
           }
          ],
          "mesh3d": [
           {
            "colorbar": {
             "outlinewidth": 0,
             "ticks": ""
            },
            "type": "mesh3d"
           }
          ],
          "parcoords": [
           {
            "line": {
             "colorbar": {
              "outlinewidth": 0,
              "ticks": ""
             }
            },
            "type": "parcoords"
           }
          ],
          "pie": [
           {
            "automargin": true,
            "type": "pie"
           }
          ],
          "scatter": [
           {
            "marker": {
             "colorbar": {
              "outlinewidth": 0,
              "ticks": ""
             }
            },
            "type": "scatter"
           }
          ],
          "scatter3d": [
           {
            "line": {
             "colorbar": {
              "outlinewidth": 0,
              "ticks": ""
             }
            },
            "marker": {
             "colorbar": {
              "outlinewidth": 0,
              "ticks": ""
             }
            },
            "type": "scatter3d"
           }
          ],
          "scattercarpet": [
           {
            "marker": {
             "colorbar": {
              "outlinewidth": 0,
              "ticks": ""
             }
            },
            "type": "scattercarpet"
           }
          ],
          "scattergeo": [
           {
            "marker": {
             "colorbar": {
              "outlinewidth": 0,
              "ticks": ""
             }
            },
            "type": "scattergeo"
           }
          ],
          "scattergl": [
           {
            "marker": {
             "colorbar": {
              "outlinewidth": 0,
              "ticks": ""
             }
            },
            "type": "scattergl"
           }
          ],
          "scattermapbox": [
           {
            "marker": {
             "colorbar": {
              "outlinewidth": 0,
              "ticks": ""
             }
            },
            "type": "scattermapbox"
           }
          ],
          "scatterpolar": [
           {
            "marker": {
             "colorbar": {
              "outlinewidth": 0,
              "ticks": ""
             }
            },
            "type": "scatterpolar"
           }
          ],
          "scatterpolargl": [
           {
            "marker": {
             "colorbar": {
              "outlinewidth": 0,
              "ticks": ""
             }
            },
            "type": "scatterpolargl"
           }
          ],
          "scatterternary": [
           {
            "marker": {
             "colorbar": {
              "outlinewidth": 0,
              "ticks": ""
             }
            },
            "type": "scatterternary"
           }
          ],
          "surface": [
           {
            "colorbar": {
             "outlinewidth": 0,
             "ticks": ""
            },
            "colorscale": [
             [
              0,
              "#0d0887"
             ],
             [
              0.1111111111111111,
              "#46039f"
             ],
             [
              0.2222222222222222,
              "#7201a8"
             ],
             [
              0.3333333333333333,
              "#9c179e"
             ],
             [
              0.4444444444444444,
              "#bd3786"
             ],
             [
              0.5555555555555556,
              "#d8576b"
             ],
             [
              0.6666666666666666,
              "#ed7953"
             ],
             [
              0.7777777777777778,
              "#fb9f3a"
             ],
             [
              0.8888888888888888,
              "#fdca26"
             ],
             [
              1,
              "#f0f921"
             ]
            ],
            "type": "surface"
           }
          ],
          "table": [
           {
            "cells": {
             "fill": {
              "color": "#EBF0F8"
             },
             "line": {
              "color": "white"
             }
            },
            "header": {
             "fill": {
              "color": "#C8D4E3"
             },
             "line": {
              "color": "white"
             }
            },
            "type": "table"
           }
          ]
         },
         "layout": {
          "annotationdefaults": {
           "arrowcolor": "#2a3f5f",
           "arrowhead": 0,
           "arrowwidth": 1
          },
          "autotypenumbers": "strict",
          "coloraxis": {
           "colorbar": {
            "outlinewidth": 0,
            "ticks": ""
           }
          },
          "colorscale": {
           "diverging": [
            [
             0,
             "#8e0152"
            ],
            [
             0.1,
             "#c51b7d"
            ],
            [
             0.2,
             "#de77ae"
            ],
            [
             0.3,
             "#f1b6da"
            ],
            [
             0.4,
             "#fde0ef"
            ],
            [
             0.5,
             "#f7f7f7"
            ],
            [
             0.6,
             "#e6f5d0"
            ],
            [
             0.7,
             "#b8e186"
            ],
            [
             0.8,
             "#7fbc41"
            ],
            [
             0.9,
             "#4d9221"
            ],
            [
             1,
             "#276419"
            ]
           ],
           "sequential": [
            [
             0,
             "#0d0887"
            ],
            [
             0.1111111111111111,
             "#46039f"
            ],
            [
             0.2222222222222222,
             "#7201a8"
            ],
            [
             0.3333333333333333,
             "#9c179e"
            ],
            [
             0.4444444444444444,
             "#bd3786"
            ],
            [
             0.5555555555555556,
             "#d8576b"
            ],
            [
             0.6666666666666666,
             "#ed7953"
            ],
            [
             0.7777777777777778,
             "#fb9f3a"
            ],
            [
             0.8888888888888888,
             "#fdca26"
            ],
            [
             1,
             "#f0f921"
            ]
           ],
           "sequentialminus": [
            [
             0,
             "#0d0887"
            ],
            [
             0.1111111111111111,
             "#46039f"
            ],
            [
             0.2222222222222222,
             "#7201a8"
            ],
            [
             0.3333333333333333,
             "#9c179e"
            ],
            [
             0.4444444444444444,
             "#bd3786"
            ],
            [
             0.5555555555555556,
             "#d8576b"
            ],
            [
             0.6666666666666666,
             "#ed7953"
            ],
            [
             0.7777777777777778,
             "#fb9f3a"
            ],
            [
             0.8888888888888888,
             "#fdca26"
            ],
            [
             1,
             "#f0f921"
            ]
           ]
          },
          "colorway": [
           "#636efa",
           "#EF553B",
           "#00cc96",
           "#ab63fa",
           "#FFA15A",
           "#19d3f3",
           "#FF6692",
           "#B6E880",
           "#FF97FF",
           "#FECB52"
          ],
          "font": {
           "color": "#2a3f5f"
          },
          "geo": {
           "bgcolor": "white",
           "lakecolor": "white",
           "landcolor": "#E5ECF6",
           "showlakes": true,
           "showland": true,
           "subunitcolor": "white"
          },
          "hoverlabel": {
           "align": "left"
          },
          "hovermode": "closest",
          "mapbox": {
           "style": "light"
          },
          "paper_bgcolor": "white",
          "plot_bgcolor": "#E5ECF6",
          "polar": {
           "angularaxis": {
            "gridcolor": "white",
            "linecolor": "white",
            "ticks": ""
           },
           "bgcolor": "#E5ECF6",
           "radialaxis": {
            "gridcolor": "white",
            "linecolor": "white",
            "ticks": ""
           }
          },
          "scene": {
           "xaxis": {
            "backgroundcolor": "#E5ECF6",
            "gridcolor": "white",
            "gridwidth": 2,
            "linecolor": "white",
            "showbackground": true,
            "ticks": "",
            "zerolinecolor": "white"
           },
           "yaxis": {
            "backgroundcolor": "#E5ECF6",
            "gridcolor": "white",
            "gridwidth": 2,
            "linecolor": "white",
            "showbackground": true,
            "ticks": "",
            "zerolinecolor": "white"
           },
           "zaxis": {
            "backgroundcolor": "#E5ECF6",
            "gridcolor": "white",
            "gridwidth": 2,
            "linecolor": "white",
            "showbackground": true,
            "ticks": "",
            "zerolinecolor": "white"
           }
          },
          "shapedefaults": {
           "line": {
            "color": "#2a3f5f"
           }
          },
          "ternary": {
           "aaxis": {
            "gridcolor": "white",
            "linecolor": "white",
            "ticks": ""
           },
           "baxis": {
            "gridcolor": "white",
            "linecolor": "white",
            "ticks": ""
           },
           "bgcolor": "#E5ECF6",
           "caxis": {
            "gridcolor": "white",
            "linecolor": "white",
            "ticks": ""
           }
          },
          "title": {
           "x": 0.05
          },
          "xaxis": {
           "automargin": true,
           "gridcolor": "white",
           "linecolor": "white",
           "ticks": "",
           "title": {
            "standoff": 15
           },
           "zerolinecolor": "white",
           "zerolinewidth": 2
          },
          "yaxis": {
           "automargin": true,
           "gridcolor": "white",
           "linecolor": "white",
           "ticks": "",
           "title": {
            "standoff": 15
           },
           "zerolinecolor": "white",
           "zerolinewidth": 2
          }
         }
        }
       }
      }
     },
     "metadata": {},
     "output_type": "display_data"
    }
   ],
   "source": [
    "import plotly.graph_objects  as go\n",
    "\n",
    "fig = go.Figure(data=[go.Table(header=dict(values=['Title', 'Release Year'],fill_color='paleturquoise'),\n",
    "                 cells=dict(values=[oldest_us_series['title'],oldest_us_series['release_year']],fill_color='pink'))\n",
    "                     ])\n",
    "fig.show()"
   ]
  },
  {
   "cell_type": "markdown",
   "metadata": {
    "papermill": {
     "duration": 0.09977,
     "end_time": "2021-02-25T06:30:26.045281",
     "exception": false,
     "start_time": "2021-02-25T06:30:25.945511",
     "status": "completed"
    },
    "tags": []
   },
   "source": [
    "Above table shows the oldest US tv shows on Netflix."
   ]
  },
  {
   "cell_type": "code",
   "execution_count": 40,
   "metadata": {
    "papermill": {
     "duration": 0.110156,
     "end_time": "2021-02-25T06:30:26.254810",
     "exception": false,
     "start_time": "2021-02-25T06:30:26.144654",
     "status": "completed"
    },
    "tags": []
   },
   "outputs": [],
   "source": [
    "newest_us_series = us_series_data.sort_values(\n",
    "    by='release_year', ascending=False\n",
    ")[:50]"
   ]
  },
  {
   "cell_type": "code",
   "execution_count": 41,
   "metadata": {
    "papermill": {
     "duration": 0.261166,
     "end_time": "2021-02-25T06:30:26.613012",
     "exception": false,
     "start_time": "2021-02-25T06:30:26.351846",
     "status": "completed"
    },
    "tags": []
   },
   "outputs": [
    {
     "data": {
      "application/vnd.plotly.v1+json": {
       "config": {
        "plotlyServerURL": "https://plot.ly"
       },
       "data": [
        {
         "cells": {
          "fill": {
           "color": "lavender"
          },
          "values": [
           [
            "Carmen Sandiego",
            "Headspace Guide to Meditation",
            "Lupin",
            "Disenchantment",
            "Cobra Kai",
            "Surviving Death",
            "The Netflix Afterparty",
            "Dream Home Makeover",
            "Pretend It’s a City",
            "History of Swear Words",
            "Dragons: Rescue Riders",
            "Schulz Saves America",
            "Self Made: Inspired by the Life of Madam C.J. Walker",
            "Down to Earth with Zac Efron",
            "Roswell, New Mexico",
            "Sex, Explained",
            "She-Ra and the Princesses of Power",
            "Sing On!",
            "Say I Do",
            "(Un)Well",
            "Rhyme Time Town Singalongs",
            "Ratched",
            "Pup Academy",
            "Emily in Paris",
            "Emily's Wonder Lab",
            "Power Rangers Beast Morphers",
            "Family Reunion",
            "Fast & Furious Spy Racers",
            "Patton Oswalt: I Love Everything",
            "Fear City: New York vs The Mafia",
            "Queer Eye",
            "Skin Decision: Before and After",
            "Dirty Money",
            "Patriot Act with Hasan Minhaj",
            "Taco Chronicles",
            "Sweet Magnolias",
            "Surviving R. Kelly Part II: The Reckoning",
            "Cooked with Cannabis",
            "Coronavirus, Explained",
            "Country Ever After",
            "Sugar Rush Christmas",
            "Sugar Rush",
            "DASH & LILY",
            "StarBeam",
            "Spirit Riding Free: Riding Academy",
            "Spinning Out",
            "DC's Legends of Tomorrow",
            "Dead to Me",
            "Space Force",
            "Southern Survival"
           ],
           [
            2021,
            2021,
            2021,
            2021,
            2021,
            2021,
            2021,
            2021,
            2021,
            2021,
            2020,
            2020,
            2020,
            2020,
            2020,
            2020,
            2020,
            2020,
            2020,
            2020,
            2020,
            2020,
            2020,
            2020,
            2020,
            2020,
            2020,
            2020,
            2020,
            2020,
            2020,
            2020,
            2020,
            2020,
            2020,
            2020,
            2020,
            2020,
            2020,
            2020,
            2020,
            2020,
            2020,
            2020,
            2020,
            2020,
            2020,
            2020,
            2020,
            2020
           ]
          ]
         },
         "header": {
          "fill": {
           "color": "yellow"
          },
          "values": [
           "Title",
           "Release Year"
          ]
         },
         "type": "table"
        }
       ],
       "layout": {
        "template": {
         "data": {
          "bar": [
           {
            "error_x": {
             "color": "#2a3f5f"
            },
            "error_y": {
             "color": "#2a3f5f"
            },
            "marker": {
             "line": {
              "color": "#E5ECF6",
              "width": 0.5
             },
             "pattern": {
              "fillmode": "overlay",
              "size": 10,
              "solidity": 0.2
             }
            },
            "type": "bar"
           }
          ],
          "barpolar": [
           {
            "marker": {
             "line": {
              "color": "#E5ECF6",
              "width": 0.5
             },
             "pattern": {
              "fillmode": "overlay",
              "size": 10,
              "solidity": 0.2
             }
            },
            "type": "barpolar"
           }
          ],
          "carpet": [
           {
            "aaxis": {
             "endlinecolor": "#2a3f5f",
             "gridcolor": "white",
             "linecolor": "white",
             "minorgridcolor": "white",
             "startlinecolor": "#2a3f5f"
            },
            "baxis": {
             "endlinecolor": "#2a3f5f",
             "gridcolor": "white",
             "linecolor": "white",
             "minorgridcolor": "white",
             "startlinecolor": "#2a3f5f"
            },
            "type": "carpet"
           }
          ],
          "choropleth": [
           {
            "colorbar": {
             "outlinewidth": 0,
             "ticks": ""
            },
            "type": "choropleth"
           }
          ],
          "contour": [
           {
            "colorbar": {
             "outlinewidth": 0,
             "ticks": ""
            },
            "colorscale": [
             [
              0,
              "#0d0887"
             ],
             [
              0.1111111111111111,
              "#46039f"
             ],
             [
              0.2222222222222222,
              "#7201a8"
             ],
             [
              0.3333333333333333,
              "#9c179e"
             ],
             [
              0.4444444444444444,
              "#bd3786"
             ],
             [
              0.5555555555555556,
              "#d8576b"
             ],
             [
              0.6666666666666666,
              "#ed7953"
             ],
             [
              0.7777777777777778,
              "#fb9f3a"
             ],
             [
              0.8888888888888888,
              "#fdca26"
             ],
             [
              1,
              "#f0f921"
             ]
            ],
            "type": "contour"
           }
          ],
          "contourcarpet": [
           {
            "colorbar": {
             "outlinewidth": 0,
             "ticks": ""
            },
            "type": "contourcarpet"
           }
          ],
          "heatmap": [
           {
            "colorbar": {
             "outlinewidth": 0,
             "ticks": ""
            },
            "colorscale": [
             [
              0,
              "#0d0887"
             ],
             [
              0.1111111111111111,
              "#46039f"
             ],
             [
              0.2222222222222222,
              "#7201a8"
             ],
             [
              0.3333333333333333,
              "#9c179e"
             ],
             [
              0.4444444444444444,
              "#bd3786"
             ],
             [
              0.5555555555555556,
              "#d8576b"
             ],
             [
              0.6666666666666666,
              "#ed7953"
             ],
             [
              0.7777777777777778,
              "#fb9f3a"
             ],
             [
              0.8888888888888888,
              "#fdca26"
             ],
             [
              1,
              "#f0f921"
             ]
            ],
            "type": "heatmap"
           }
          ],
          "heatmapgl": [
           {
            "colorbar": {
             "outlinewidth": 0,
             "ticks": ""
            },
            "colorscale": [
             [
              0,
              "#0d0887"
             ],
             [
              0.1111111111111111,
              "#46039f"
             ],
             [
              0.2222222222222222,
              "#7201a8"
             ],
             [
              0.3333333333333333,
              "#9c179e"
             ],
             [
              0.4444444444444444,
              "#bd3786"
             ],
             [
              0.5555555555555556,
              "#d8576b"
             ],
             [
              0.6666666666666666,
              "#ed7953"
             ],
             [
              0.7777777777777778,
              "#fb9f3a"
             ],
             [
              0.8888888888888888,
              "#fdca26"
             ],
             [
              1,
              "#f0f921"
             ]
            ],
            "type": "heatmapgl"
           }
          ],
          "histogram": [
           {
            "marker": {
             "pattern": {
              "fillmode": "overlay",
              "size": 10,
              "solidity": 0.2
             }
            },
            "type": "histogram"
           }
          ],
          "histogram2d": [
           {
            "colorbar": {
             "outlinewidth": 0,
             "ticks": ""
            },
            "colorscale": [
             [
              0,
              "#0d0887"
             ],
             [
              0.1111111111111111,
              "#46039f"
             ],
             [
              0.2222222222222222,
              "#7201a8"
             ],
             [
              0.3333333333333333,
              "#9c179e"
             ],
             [
              0.4444444444444444,
              "#bd3786"
             ],
             [
              0.5555555555555556,
              "#d8576b"
             ],
             [
              0.6666666666666666,
              "#ed7953"
             ],
             [
              0.7777777777777778,
              "#fb9f3a"
             ],
             [
              0.8888888888888888,
              "#fdca26"
             ],
             [
              1,
              "#f0f921"
             ]
            ],
            "type": "histogram2d"
           }
          ],
          "histogram2dcontour": [
           {
            "colorbar": {
             "outlinewidth": 0,
             "ticks": ""
            },
            "colorscale": [
             [
              0,
              "#0d0887"
             ],
             [
              0.1111111111111111,
              "#46039f"
             ],
             [
              0.2222222222222222,
              "#7201a8"
             ],
             [
              0.3333333333333333,
              "#9c179e"
             ],
             [
              0.4444444444444444,
              "#bd3786"
             ],
             [
              0.5555555555555556,
              "#d8576b"
             ],
             [
              0.6666666666666666,
              "#ed7953"
             ],
             [
              0.7777777777777778,
              "#fb9f3a"
             ],
             [
              0.8888888888888888,
              "#fdca26"
             ],
             [
              1,
              "#f0f921"
             ]
            ],
            "type": "histogram2dcontour"
           }
          ],
          "mesh3d": [
           {
            "colorbar": {
             "outlinewidth": 0,
             "ticks": ""
            },
            "type": "mesh3d"
           }
          ],
          "parcoords": [
           {
            "line": {
             "colorbar": {
              "outlinewidth": 0,
              "ticks": ""
             }
            },
            "type": "parcoords"
           }
          ],
          "pie": [
           {
            "automargin": true,
            "type": "pie"
           }
          ],
          "scatter": [
           {
            "marker": {
             "colorbar": {
              "outlinewidth": 0,
              "ticks": ""
             }
            },
            "type": "scatter"
           }
          ],
          "scatter3d": [
           {
            "line": {
             "colorbar": {
              "outlinewidth": 0,
              "ticks": ""
             }
            },
            "marker": {
             "colorbar": {
              "outlinewidth": 0,
              "ticks": ""
             }
            },
            "type": "scatter3d"
           }
          ],
          "scattercarpet": [
           {
            "marker": {
             "colorbar": {
              "outlinewidth": 0,
              "ticks": ""
             }
            },
            "type": "scattercarpet"
           }
          ],
          "scattergeo": [
           {
            "marker": {
             "colorbar": {
              "outlinewidth": 0,
              "ticks": ""
             }
            },
            "type": "scattergeo"
           }
          ],
          "scattergl": [
           {
            "marker": {
             "colorbar": {
              "outlinewidth": 0,
              "ticks": ""
             }
            },
            "type": "scattergl"
           }
          ],
          "scattermapbox": [
           {
            "marker": {
             "colorbar": {
              "outlinewidth": 0,
              "ticks": ""
             }
            },
            "type": "scattermapbox"
           }
          ],
          "scatterpolar": [
           {
            "marker": {
             "colorbar": {
              "outlinewidth": 0,
              "ticks": ""
             }
            },
            "type": "scatterpolar"
           }
          ],
          "scatterpolargl": [
           {
            "marker": {
             "colorbar": {
              "outlinewidth": 0,
              "ticks": ""
             }
            },
            "type": "scatterpolargl"
           }
          ],
          "scatterternary": [
           {
            "marker": {
             "colorbar": {
              "outlinewidth": 0,
              "ticks": ""
             }
            },
            "type": "scatterternary"
           }
          ],
          "surface": [
           {
            "colorbar": {
             "outlinewidth": 0,
             "ticks": ""
            },
            "colorscale": [
             [
              0,
              "#0d0887"
             ],
             [
              0.1111111111111111,
              "#46039f"
             ],
             [
              0.2222222222222222,
              "#7201a8"
             ],
             [
              0.3333333333333333,
              "#9c179e"
             ],
             [
              0.4444444444444444,
              "#bd3786"
             ],
             [
              0.5555555555555556,
              "#d8576b"
             ],
             [
              0.6666666666666666,
              "#ed7953"
             ],
             [
              0.7777777777777778,
              "#fb9f3a"
             ],
             [
              0.8888888888888888,
              "#fdca26"
             ],
             [
              1,
              "#f0f921"
             ]
            ],
            "type": "surface"
           }
          ],
          "table": [
           {
            "cells": {
             "fill": {
              "color": "#EBF0F8"
             },
             "line": {
              "color": "white"
             }
            },
            "header": {
             "fill": {
              "color": "#C8D4E3"
             },
             "line": {
              "color": "white"
             }
            },
            "type": "table"
           }
          ]
         },
         "layout": {
          "annotationdefaults": {
           "arrowcolor": "#2a3f5f",
           "arrowhead": 0,
           "arrowwidth": 1
          },
          "autotypenumbers": "strict",
          "coloraxis": {
           "colorbar": {
            "outlinewidth": 0,
            "ticks": ""
           }
          },
          "colorscale": {
           "diverging": [
            [
             0,
             "#8e0152"
            ],
            [
             0.1,
             "#c51b7d"
            ],
            [
             0.2,
             "#de77ae"
            ],
            [
             0.3,
             "#f1b6da"
            ],
            [
             0.4,
             "#fde0ef"
            ],
            [
             0.5,
             "#f7f7f7"
            ],
            [
             0.6,
             "#e6f5d0"
            ],
            [
             0.7,
             "#b8e186"
            ],
            [
             0.8,
             "#7fbc41"
            ],
            [
             0.9,
             "#4d9221"
            ],
            [
             1,
             "#276419"
            ]
           ],
           "sequential": [
            [
             0,
             "#0d0887"
            ],
            [
             0.1111111111111111,
             "#46039f"
            ],
            [
             0.2222222222222222,
             "#7201a8"
            ],
            [
             0.3333333333333333,
             "#9c179e"
            ],
            [
             0.4444444444444444,
             "#bd3786"
            ],
            [
             0.5555555555555556,
             "#d8576b"
            ],
            [
             0.6666666666666666,
             "#ed7953"
            ],
            [
             0.7777777777777778,
             "#fb9f3a"
            ],
            [
             0.8888888888888888,
             "#fdca26"
            ],
            [
             1,
             "#f0f921"
            ]
           ],
           "sequentialminus": [
            [
             0,
             "#0d0887"
            ],
            [
             0.1111111111111111,
             "#46039f"
            ],
            [
             0.2222222222222222,
             "#7201a8"
            ],
            [
             0.3333333333333333,
             "#9c179e"
            ],
            [
             0.4444444444444444,
             "#bd3786"
            ],
            [
             0.5555555555555556,
             "#d8576b"
            ],
            [
             0.6666666666666666,
             "#ed7953"
            ],
            [
             0.7777777777777778,
             "#fb9f3a"
            ],
            [
             0.8888888888888888,
             "#fdca26"
            ],
            [
             1,
             "#f0f921"
            ]
           ]
          },
          "colorway": [
           "#636efa",
           "#EF553B",
           "#00cc96",
           "#ab63fa",
           "#FFA15A",
           "#19d3f3",
           "#FF6692",
           "#B6E880",
           "#FF97FF",
           "#FECB52"
          ],
          "font": {
           "color": "#2a3f5f"
          },
          "geo": {
           "bgcolor": "white",
           "lakecolor": "white",
           "landcolor": "#E5ECF6",
           "showlakes": true,
           "showland": true,
           "subunitcolor": "white"
          },
          "hoverlabel": {
           "align": "left"
          },
          "hovermode": "closest",
          "mapbox": {
           "style": "light"
          },
          "paper_bgcolor": "white",
          "plot_bgcolor": "#E5ECF6",
          "polar": {
           "angularaxis": {
            "gridcolor": "white",
            "linecolor": "white",
            "ticks": ""
           },
           "bgcolor": "#E5ECF6",
           "radialaxis": {
            "gridcolor": "white",
            "linecolor": "white",
            "ticks": ""
           }
          },
          "scene": {
           "xaxis": {
            "backgroundcolor": "#E5ECF6",
            "gridcolor": "white",
            "gridwidth": 2,
            "linecolor": "white",
            "showbackground": true,
            "ticks": "",
            "zerolinecolor": "white"
           },
           "yaxis": {
            "backgroundcolor": "#E5ECF6",
            "gridcolor": "white",
            "gridwidth": 2,
            "linecolor": "white",
            "showbackground": true,
            "ticks": "",
            "zerolinecolor": "white"
           },
           "zaxis": {
            "backgroundcolor": "#E5ECF6",
            "gridcolor": "white",
            "gridwidth": 2,
            "linecolor": "white",
            "showbackground": true,
            "ticks": "",
            "zerolinecolor": "white"
           }
          },
          "shapedefaults": {
           "line": {
            "color": "#2a3f5f"
           }
          },
          "ternary": {
           "aaxis": {
            "gridcolor": "white",
            "linecolor": "white",
            "ticks": ""
           },
           "baxis": {
            "gridcolor": "white",
            "linecolor": "white",
            "ticks": ""
           },
           "bgcolor": "#E5ECF6",
           "caxis": {
            "gridcolor": "white",
            "linecolor": "white",
            "ticks": ""
           }
          },
          "title": {
           "x": 0.05
          },
          "xaxis": {
           "automargin": true,
           "gridcolor": "white",
           "linecolor": "white",
           "ticks": "",
           "title": {
            "standoff": 15
           },
           "zerolinecolor": "white",
           "zerolinewidth": 2
          },
          "yaxis": {
           "automargin": true,
           "gridcolor": "white",
           "linecolor": "white",
           "ticks": "",
           "title": {
            "standoff": 15
           },
           "zerolinecolor": "white",
           "zerolinewidth": 2
          }
         }
        }
       }
      }
     },
     "metadata": {},
     "output_type": "display_data"
    }
   ],
   "source": [
    "fig = go.Figure(data=[go.Table(header=dict(values=['Title', 'Release Year'],fill_color='yellow'),\n",
    "                 cells=dict(values=[newest_us_series['title'],newest_us_series['release_year']],fill_color='lavender'))\n",
    "                     ])\n",
    "fig.show()"
   ]
  },
  {
   "cell_type": "markdown",
   "metadata": {
    "papermill": {
     "duration": 0.098988,
     "end_time": "2021-02-25T06:30:26.810978",
     "exception": false,
     "start_time": "2021-02-25T06:30:26.711990",
     "status": "completed"
    },
    "tags": []
   },
   "source": [
    "The above are latest released US television shows!"
   ]
  },
  {
   "cell_type": "markdown",
   "metadata": {
    "papermill": {
     "duration": 0.1012,
     "end_time": "2021-02-25T06:30:30.036397",
     "exception": false,
     "start_time": "2021-02-25T06:30:29.935197",
     "status": "completed"
    },
    "tags": []
   },
   "source": [
    "# Recommendation System (Content Based)"
   ]
  },
  {
   "cell_type": "markdown",
   "metadata": {
    "papermill": {
     "duration": 0.104707,
     "end_time": "2021-02-25T06:30:30.244474",
     "exception": false,
     "start_time": "2021-02-25T06:30:30.139767",
     "status": "completed"
    },
    "tags": []
   },
   "source": [
    "<img src='data:image/png;base64,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' >"
   ]
  },
  {
   "cell_type": "markdown",
   "metadata": {
    "papermill": {
     "duration": 0.101048,
     "end_time": "2021-02-25T06:30:30.447649",
     "exception": false,
     "start_time": "2021-02-25T06:30:30.346601",
     "status": "completed"
    },
    "tags": []
   },
   "source": [
    "The TF-IDF(Term Frequency-Inverse Document Frequency (TF-IDF)) score is the frequency of a word occurring in a document, down-weighted by the number of documents in which it occurs. This is done to reduce the importance of words that occur frequently in plot overviews and therefore, their significance in computing the final similarity score."
   ]
  },
  {
   "cell_type": "code",
   "execution_count": 42,
   "metadata": {
    "papermill": {
     "duration": 0.191776,
     "end_time": "2021-02-25T06:30:30.742003",
     "exception": false,
     "start_time": "2021-02-25T06:30:30.550227",
     "status": "completed"
    },
    "tags": []
   },
   "outputs": [],
   "source": [
    "from sklearn.feature_extraction.text import TfidfVectorizer"
   ]
  },
  {
   "cell_type": "code",
   "execution_count": 43,
   "metadata": {
    "papermill": {
     "duration": 0.463718,
     "end_time": "2021-02-25T06:30:31.308644",
     "exception": false,
     "start_time": "2021-02-25T06:30:30.844926",
     "status": "completed"
    },
    "tags": []
   },
   "outputs": [
    {
     "data": {
      "text/plain": [
       "(7787, 17905)"
      ]
     },
     "execution_count": 43,
     "metadata": {},
     "output_type": "execute_result"
    }
   ],
   "source": [
    "#removing stopwords\n",
    "tfidf = TfidfVectorizer(stop_words='english')\n",
    "\n",
    "#Replace NaN with an empty string\n",
    "netflix_overall['description'] = netflix_overall['description'].fillna('')\n",
    "\n",
    "#Construct the required TF-IDF matrix by fitting and transforming the data\n",
    "tfidf_matrix = tfidf.fit_transform(netflix_overall['description'])\n",
    "\n",
    "#Output the shape of tfidf_matrix\n",
    "tfidf_matrix.shape\n"
   ]
  },
  {
   "cell_type": "markdown",
   "metadata": {
    "papermill": {
     "duration": 0.101494,
     "end_time": "2021-02-25T06:30:31.512331",
     "exception": false,
     "start_time": "2021-02-25T06:30:31.410837",
     "status": "completed"
    },
    "tags": []
   },
   "source": [
    "There are about 16151 words described for the 6234 movies in this dataset."
   ]
  },
  {
   "cell_type": "markdown",
   "metadata": {
    "papermill": {
     "duration": 0.102594,
     "end_time": "2021-02-25T06:30:31.717186",
     "exception": false,
     "start_time": "2021-02-25T06:30:31.614592",
     "status": "completed"
    },
    "tags": []
   },
   "source": [
    "Here, The Cosine similarity score is used since it is independent of magnitude and is relatively easy and fast to calculate.\n",
    "\n",
    "<img src='https://i.stack.imgur.com/36r1U.png'>"
   ]
  },
  {
   "cell_type": "code",
   "execution_count": 44,
   "metadata": {
    "papermill": {
     "duration": 0.867555,
     "end_time": "2021-02-25T06:30:32.688388",
     "exception": false,
     "start_time": "2021-02-25T06:30:31.820833",
     "status": "completed"
    },
    "tags": []
   },
   "outputs": [],
   "source": [
    "# Import linear_kernel\n",
    "from sklearn.metrics.pairwise import linear_kernel\n",
    "\n",
    "# Compute the cosine similarity matrix\n",
    "cosine_sim = linear_kernel(tfidf_matrix, tfidf_matrix)"
   ]
  },
  {
   "cell_type": "code",
   "execution_count": 45,
   "metadata": {
    "papermill": {
     "duration": 0.116667,
     "end_time": "2021-02-25T06:30:32.906876",
     "exception": false,
     "start_time": "2021-02-25T06:30:32.790209",
     "status": "completed"
    },
    "tags": []
   },
   "outputs": [],
   "source": [
    "indices = pd.Series(netflix_overall.index, index=netflix_overall['title']).drop_duplicates()"
   ]
  },
  {
   "cell_type": "code",
   "execution_count": 46,
   "metadata": {
    "papermill": {
     "duration": 0.114792,
     "end_time": "2021-02-25T06:30:33.125146",
     "exception": false,
     "start_time": "2021-02-25T06:30:33.010354",
     "status": "completed"
    },
    "tags": []
   },
   "outputs": [],
   "source": [
    "def get_recommendations(title, cosine_sim=cosine_sim):\n",
    "    idx = indices[title]\n",
    "\n",
    "    # Get the pairwsie similarity scores of all movies with that movie\n",
    "    sim_scores = list(enumerate(cosine_sim[idx]))\n",
    "\n",
    "    # Sort the movies based on the similarity scores\n",
    "    sim_scores = sorted(sim_scores, key=lambda x: x[1], reverse=True)\n",
    "\n",
    "    # Get the scores of the 10 most similar movies\n",
    "    sim_scores = sim_scores[1:11]\n",
    "\n",
    "    # Get the movie indices\n",
    "    movie_indices = [i[0] for i in sim_scores]\n",
    "\n",
    "    # Return the top 10 most similar movies\n",
    "    return netflix_overall['title'].iloc[movie_indices]"
   ]
  },
  {
   "cell_type": "markdown",
   "metadata": {
    "papermill": {
     "duration": 0.101017,
     "end_time": "2021-02-25T06:30:33.327763",
     "exception": false,
     "start_time": "2021-02-25T06:30:33.226746",
     "status": "completed"
    },
    "tags": []
   },
   "source": [
    "This recommendation is just based on the Plot."
   ]
  },
  {
   "cell_type": "code",
   "execution_count": 47,
   "metadata": {
    "papermill": {
     "duration": 0.122499,
     "end_time": "2021-02-25T06:30:33.552162",
     "exception": false,
     "start_time": "2021-02-25T06:30:33.429663",
     "status": "completed"
    },
    "tags": []
   },
   "outputs": [
    {
     "data": {
      "text/plain": [
       "4692                    Our Godfather\n",
       "4358                   My Stupid Boss\n",
       "1807                              Don\n",
       "6344                         The Fear\n",
       "3219    Jonathan Strange & Mr Norrell\n",
       "4953                Power Rangers Zeo\n",
       "6783                       The Prison\n",
       "6950                       The Tudors\n",
       "6236                    The Con Is On\n",
       "6585     The Legend of Michael Mishra\n",
       "Name: title, dtype: object"
      ]
     },
     "execution_count": 47,
     "metadata": {},
     "output_type": "execute_result"
    }
   ],
   "source": [
    "get_recommendations('Peaky Blinders')"
   ]
  },
  {
   "cell_type": "code",
   "execution_count": 48,
   "metadata": {
    "papermill": {
     "duration": 0.12361,
     "end_time": "2021-02-25T06:30:33.776932",
     "exception": false,
     "start_time": "2021-02-25T06:30:33.653322",
     "status": "completed"
    },
    "tags": []
   },
   "outputs": [
    {
     "data": {
      "text/plain": [
       "4858                  PILI Fantasy: War of Dragons\n",
       "1920         Edgar Rice Burroughs' Tarzan and Jane\n",
       "2159                             Figures of Speech\n",
       "4314    My Entire High School Sinking Into the Sea\n",
       "2188                                     FirstBorn\n",
       "4994                                 Psychokinesis\n",
       "608                                 At First Light\n",
       "6958                          The Umbrella Academy\n",
       "1267                                     Chamatkar\n",
       "3864                              Maharakshak Devi\n",
       "Name: title, dtype: object"
      ]
     },
     "execution_count": 48,
     "metadata": {},
     "output_type": "execute_result"
    }
   ],
   "source": [
    "get_recommendations('Mortel')"
   ]
  },
  {
   "cell_type": "markdown",
   "metadata": {
    "papermill": {
     "duration": 0.103428,
     "end_time": "2021-02-25T06:30:33.983628",
     "exception": false,
     "start_time": "2021-02-25T06:30:33.880200",
     "status": "completed"
    },
    "tags": []
   },
   "source": [
    "It is seen that the model performs well, but is not very accurate.Therefore, more metrics are added to the model to improve performance."
   ]
  },
  {
   "cell_type": "markdown",
   "metadata": {
    "papermill": {
     "duration": 0.102312,
     "end_time": "2021-02-25T06:30:34.189060",
     "exception": false,
     "start_time": "2021-02-25T06:30:34.086748",
     "status": "completed"
    },
    "tags": []
   },
   "source": [
    "### Content based filtering on multiple metrics"
   ]
  },
  {
   "cell_type": "markdown",
   "metadata": {
    "papermill": {
     "duration": 0.102078,
     "end_time": "2021-02-25T06:30:34.393637",
     "exception": false,
     "start_time": "2021-02-25T06:30:34.291559",
     "status": "completed"
    },
    "tags": []
   },
   "source": [
    "Content based filtering on the following factors:\n",
    "* Title\n",
    "* Cast\n",
    "* Director\n",
    "* Listed in\n",
    "* Plot"
   ]
  },
  {
   "cell_type": "code",
   "execution_count": 49,
   "metadata": {
    "papermill": {
     "duration": 0.137797,
     "end_time": "2021-02-25T06:30:34.839012",
     "exception": false,
     "start_time": "2021-02-25T06:30:34.701215",
     "status": "completed"
    },
    "tags": []
   },
   "outputs": [
    {
     "data": {
      "text/html": [
       "<div>\n",
       "<style scoped>\n",
       "    .dataframe tbody tr th:only-of-type {\n",
       "        vertical-align: middle;\n",
       "    }\n",
       "\n",
       "    .dataframe tbody tr th {\n",
       "        vertical-align: top;\n",
       "    }\n",
       "\n",
       "    .dataframe thead th {\n",
       "        text-align: right;\n",
       "    }\n",
       "</style>\n",
       "<table border=\"1\" class=\"dataframe\">\n",
       "  <thead>\n",
       "    <tr style=\"text-align: right;\">\n",
       "      <th></th>\n",
       "      <th>show_id</th>\n",
       "      <th>type</th>\n",
       "      <th>title</th>\n",
       "      <th>director</th>\n",
       "      <th>cast</th>\n",
       "      <th>country</th>\n",
       "      <th>date_added</th>\n",
       "      <th>release_year</th>\n",
       "      <th>rating</th>\n",
       "      <th>duration</th>\n",
       "      <th>listed_in</th>\n",
       "      <th>description</th>\n",
       "    </tr>\n",
       "  </thead>\n",
       "  <tbody>\n",
       "    <tr>\n",
       "      <th>0</th>\n",
       "      <td>s1</td>\n",
       "      <td>TV Show</td>\n",
       "      <td>3%</td>\n",
       "      <td></td>\n",
       "      <td>João Miguel, Bianca Comparato, Michel Gomes, R...</td>\n",
       "      <td>Brazil</td>\n",
       "      <td>August 14, 2020</td>\n",
       "      <td>2020</td>\n",
       "      <td>TV-MA</td>\n",
       "      <td>4 Seasons</td>\n",
       "      <td>International TV Shows, TV Dramas, TV Sci-Fi &amp;...</td>\n",
       "      <td>In a future where the elite inhabit an island ...</td>\n",
       "    </tr>\n",
       "    <tr>\n",
       "      <th>1</th>\n",
       "      <td>s2</td>\n",
       "      <td>Movie</td>\n",
       "      <td>7:19</td>\n",
       "      <td>Jorge Michel Grau</td>\n",
       "      <td>Demián Bichir, Héctor Bonilla, Oscar Serrano, ...</td>\n",
       "      <td>Mexico</td>\n",
       "      <td>December 23, 2016</td>\n",
       "      <td>2016</td>\n",
       "      <td>TV-MA</td>\n",
       "      <td>93 min</td>\n",
       "      <td>Dramas, International Movies</td>\n",
       "      <td>After a devastating earthquake hits Mexico Cit...</td>\n",
       "    </tr>\n",
       "  </tbody>\n",
       "</table>\n",
       "</div>"
      ],
      "text/plain": [
       "  show_id     type title           director  \\\n",
       "0      s1  TV Show    3%                      \n",
       "1      s2    Movie  7:19  Jorge Michel Grau   \n",
       "\n",
       "                                                cast country  \\\n",
       "0  João Miguel, Bianca Comparato, Michel Gomes, R...  Brazil   \n",
       "1  Demián Bichir, Héctor Bonilla, Oscar Serrano, ...  Mexico   \n",
       "\n",
       "          date_added  release_year rating   duration  \\\n",
       "0    August 14, 2020          2020  TV-MA  4 Seasons   \n",
       "1  December 23, 2016          2016  TV-MA     93 min   \n",
       "\n",
       "                                           listed_in  \\\n",
       "0  International TV Shows, TV Dramas, TV Sci-Fi &...   \n",
       "1                       Dramas, International Movies   \n",
       "\n",
       "                                         description  \n",
       "0  In a future where the elite inhabit an island ...  \n",
       "1  After a devastating earthquake hits Mexico Cit...  "
      ]
     },
     "execution_count": 49,
     "metadata": {},
     "output_type": "execute_result"
    }
   ],
   "source": [
    "filledna=netflix_overall.fillna('')\n",
    "filledna.head(2)"
   ]
  },
  {
   "cell_type": "markdown",
   "metadata": {
    "papermill": {
     "duration": 0.103823,
     "end_time": "2021-02-25T06:30:35.046242",
     "exception": false,
     "start_time": "2021-02-25T06:30:34.942419",
     "status": "completed"
    },
    "tags": []
   },
   "source": [
    "Cleaning the data - making all the words lower case"
   ]
  },
  {
   "cell_type": "code",
   "execution_count": 51,
   "metadata": {
    "papermill": {
     "duration": 0.113259,
     "end_time": "2021-02-25T06:30:35.263917",
     "exception": false,
     "start_time": "2021-02-25T06:30:35.150658",
     "status": "completed"
    },
    "tags": []
   },
   "outputs": [],
   "source": [
    "def clean_data(x):\n",
    "        return str.lower(x.replace(\" \", \"\"))"
   ]
  },
  {
   "cell_type": "markdown",
   "metadata": {
    "papermill": {
     "duration": 0.102853,
     "end_time": "2021-02-25T06:30:35.470442",
     "exception": false,
     "start_time": "2021-02-25T06:30:35.367589",
     "status": "completed"
    },
    "tags": []
   },
   "source": [
    "Identifying features on which the model is to be filtered."
   ]
  },
  {
   "cell_type": "code",
   "execution_count": 53,
   "metadata": {
    "papermill": {
     "duration": 0.117674,
     "end_time": "2021-02-25T06:30:35.690847",
     "exception": false,
     "start_time": "2021-02-25T06:30:35.573173",
     "status": "completed"
    },
    "tags": []
   },
   "outputs": [],
   "source": [
    "features=['title', 'director', 'cast', 'listed_in', 'description']\n",
    "filledna=filledna[features]"
   ]
  },
  {
   "cell_type": "code",
   "execution_count": 54,
   "metadata": {
    "papermill": {
     "duration": 0.174653,
     "end_time": "2021-02-25T06:30:35.970162",
     "exception": false,
     "start_time": "2021-02-25T06:30:35.795509",
     "status": "completed"
    },
    "tags": []
   },
   "outputs": [
    {
     "data": {
      "text/html": [
       "<div>\n",
       "<style scoped>\n",
       "    .dataframe tbody tr th:only-of-type {\n",
       "        vertical-align: middle;\n",
       "    }\n",
       "\n",
       "    .dataframe tbody tr th {\n",
       "        vertical-align: top;\n",
       "    }\n",
       "\n",
       "    .dataframe thead th {\n",
       "        text-align: right;\n",
       "    }\n",
       "</style>\n",
       "<table border=\"1\" class=\"dataframe\">\n",
       "  <thead>\n",
       "    <tr style=\"text-align: right;\">\n",
       "      <th></th>\n",
       "      <th>title</th>\n",
       "      <th>director</th>\n",
       "      <th>cast</th>\n",
       "      <th>listed_in</th>\n",
       "      <th>description</th>\n",
       "    </tr>\n",
       "  </thead>\n",
       "  <tbody>\n",
       "    <tr>\n",
       "      <th>0</th>\n",
       "      <td>3%</td>\n",
       "      <td></td>\n",
       "      <td>joãomiguel,biancacomparato,michelgomes,rodolfo...</td>\n",
       "      <td>internationaltvshows,tvdramas,tvsci-fi&amp;fantasy</td>\n",
       "      <td>inafuturewheretheeliteinhabitanislandparadisef...</td>\n",
       "    </tr>\n",
       "    <tr>\n",
       "      <th>1</th>\n",
       "      <td>7:19</td>\n",
       "      <td>jorgemichelgrau</td>\n",
       "      <td>demiánbichir,héctorbonilla,oscarserrano,azalia...</td>\n",
       "      <td>dramas,internationalmovies</td>\n",
       "      <td>afteradevastatingearthquakehitsmexicocity,trap...</td>\n",
       "    </tr>\n",
       "  </tbody>\n",
       "</table>\n",
       "</div>"
      ],
      "text/plain": [
       "  title         director                                               cast  \\\n",
       "0    3%                   joãomiguel,biancacomparato,michelgomes,rodolfo...   \n",
       "1  7:19  jorgemichelgrau  demiánbichir,héctorbonilla,oscarserrano,azalia...   \n",
       "\n",
       "                                        listed_in  \\\n",
       "0  internationaltvshows,tvdramas,tvsci-fi&fantasy   \n",
       "1                      dramas,internationalmovies   \n",
       "\n",
       "                                         description  \n",
       "0  inafuturewheretheeliteinhabitanislandparadisef...  \n",
       "1  afteradevastatingearthquakehitsmexicocity,trap...  "
      ]
     },
     "execution_count": 54,
     "metadata": {},
     "output_type": "execute_result"
    }
   ],
   "source": [
    "for feature in features:\n",
    "    filledna[feature] = filledna[feature].apply(clean_data)\n",
    "    \n",
    "filledna.head(2)"
   ]
  },
  {
   "cell_type": "markdown",
   "metadata": {
    "papermill": {
     "duration": 0.107427,
     "end_time": "2021-02-25T06:30:36.180409",
     "exception": false,
     "start_time": "2021-02-25T06:30:36.072982",
     "status": "completed"
    },
    "tags": []
   },
   "source": [
    "Creating a \"soup\" or a \"bag of words\" for all rows."
   ]
  },
  {
   "cell_type": "code",
   "execution_count": 55,
   "metadata": {
    "papermill": {
     "duration": 0.112271,
     "end_time": "2021-02-25T06:30:36.396659",
     "exception": false,
     "start_time": "2021-02-25T06:30:36.284388",
     "status": "completed"
    },
    "tags": []
   },
   "outputs": [],
   "source": [
    "def create_soup(x):\n",
    "    return x['title']+ ' ' + x['director'] + ' ' + x['cast'] + ' ' +x['listed_in']+' '+ x['description']"
   ]
  },
  {
   "cell_type": "code",
   "execution_count": 56,
   "metadata": {
    "papermill": {
     "duration": 0.78437,
     "end_time": "2021-02-25T06:30:37.291600",
     "exception": false,
     "start_time": "2021-02-25T06:30:36.507230",
     "status": "completed"
    },
    "tags": []
   },
   "outputs": [],
   "source": [
    "filledna['soup'] = filledna.apply(create_soup, axis=1)"
   ]
  },
  {
   "cell_type": "markdown",
   "metadata": {
    "papermill": {
     "duration": 0.102319,
     "end_time": "2021-02-25T06:30:37.497003",
     "exception": false,
     "start_time": "2021-02-25T06:30:37.394684",
     "status": "completed"
    },
    "tags": []
   },
   "source": [
    "From here on, the code is basically similar to the upper model except the fact that count vectorizer is used instead of `tfidf`."
   ]
  },
  {
   "cell_type": "code",
   "execution_count": 58,
   "metadata": {
    "papermill": {
     "duration": 1.52557,
     "end_time": "2021-02-25T06:30:39.125530",
     "exception": false,
     "start_time": "2021-02-25T06:30:37.599960",
     "status": "completed"
    },
    "tags": []
   },
   "outputs": [],
   "source": [
    "from sklearn.feature_extraction.text import CountVectorizer\n",
    "from sklearn.metrics.pairwise import cosine_similarity\n",
    "\n",
    "count = CountVectorizer(stop_words='english')\n",
    "count_matrix = count.fit_transform(filledna['soup'])\n",
    "\n",
    "cosine_sim2 = cosine_similarity(count_matrix, count_matrix)"
   ]
  },
  {
   "cell_type": "code",
   "execution_count": 59,
   "metadata": {
    "papermill": {
     "duration": 0.117233,
     "end_time": "2021-02-25T06:30:39.346622",
     "exception": false,
     "start_time": "2021-02-25T06:30:39.229389",
     "status": "completed"
    },
    "tags": []
   },
   "outputs": [],
   "source": [
    "filledna=filledna.reset_index()\n",
    "indices = pd.Series(filledna.index, index=filledna['title'])"
   ]
  },
  {
   "cell_type": "code",
   "execution_count": 60,
   "metadata": {
    "papermill": {
     "duration": 0.115068,
     "end_time": "2021-02-25T06:30:39.565301",
     "exception": false,
     "start_time": "2021-02-25T06:30:39.450233",
     "status": "completed"
    },
    "tags": []
   },
   "outputs": [],
   "source": [
    "def get_recommendations_new(title, cosine_sim=cosine_sim):\n",
    "    title=title.replace(' ','').lower()\n",
    "    idx = indices[title]\n",
    "\n",
    "    # Get the pairwsie similarity scores of all movies with that movie\n",
    "    sim_scores = list(enumerate(cosine_sim[idx]))\n",
    "\n",
    "    # Sort the movies based on the similarity scores\n",
    "    sim_scores = sorted(sim_scores, key=lambda x: x[1], reverse=True)\n",
    "\n",
    "    # Get the scores of the 10 most similar movies\n",
    "    sim_scores = sim_scores[1:11]\n",
    "\n",
    "    # Get the movie indices\n",
    "    movie_indices = [i[0] for i in sim_scores]\n",
    "\n",
    "    # Return the top 10 most similar movies\n",
    "    return netflix_overall['title'].iloc[movie_indices]"
   ]
  },
  {
   "cell_type": "code",
   "execution_count": 61,
   "metadata": {
    "papermill": {
     "duration": 0.127648,
     "end_time": "2021-02-25T06:30:39.798213",
     "exception": false,
     "start_time": "2021-02-25T06:30:39.670565",
     "status": "completed"
    },
    "tags": []
   },
   "outputs": [
    {
     "data": {
      "text/plain": [
       "100                            3 Idiots\n",
       "6585       The Legend of Michael Mishra\n",
       "552                   Anthony Kaun Hai?\n",
       "2571                             Haapus\n",
       "5377                              Sanju\n",
       "5954                   Taare Zameen Par\n",
       "1261                    Chal Dhar Pakad\n",
       "1271                    Chance Pe Dance\n",
       "1831                            Dostana\n",
       "1988    EMI: Liya Hai To Chukana Padega\n",
       "Name: title, dtype: object"
      ]
     },
     "execution_count": 61,
     "metadata": {},
     "output_type": "execute_result"
    }
   ],
   "source": [
    "get_recommendations_new('PK', cosine_sim2)"
   ]
  },
  {
   "cell_type": "code",
   "execution_count": 62,
   "metadata": {
    "papermill": {
     "duration": 0.127012,
     "end_time": "2021-02-25T06:30:40.033115",
     "exception": false,
     "start_time": "2021-02-25T06:30:39.906103",
     "status": "completed"
    },
    "tags": []
   },
   "outputs": [
    {
     "data": {
      "text/plain": [
       "2419                                   Giri / Haji\n",
       "6374                   The Frankenstein Chronicles\n",
       "6693                         The Murder Detectives\n",
       "3692                                        Loaded\n",
       "3412                                 Kiss Me First\n",
       "2616                                  Happy Valley\n",
       "2381                                      Get Even\n",
       "2846    How to Live Mortgage Free with Sarah Beeny\n",
       "2886                                 I AM A KILLER\n",
       "3013                      Inside the Criminal Mind\n",
       "Name: title, dtype: object"
      ]
     },
     "execution_count": 62,
     "metadata": {},
     "output_type": "execute_result"
    }
   ],
   "source": [
    "get_recommendations_new('Peaky Blinders', cosine_sim2)"
   ]
  },
  {
   "cell_type": "code",
   "execution_count": 63,
   "metadata": {
    "papermill": {
     "duration": 0.127212,
     "end_time": "2021-02-25T06:30:40.268490",
     "exception": false,
     "start_time": "2021-02-25T06:30:40.141278",
     "status": "completed"
    },
    "tags": []
   },
   "outputs": [
    {
     "data": {
      "text/plain": [
       "2168                                        Find Yourself\n",
       "1590                                       Dancing Angels\n",
       "4024                     Melodies of Life - Born This Way\n",
       "3676                                        Little Things\n",
       "1435    Club Friday To Be Continued - My Beautiful Tomboy\n",
       "5219                                           Rishta.com\n",
       "38                                    แผนร้ายนายเจ้าเล่ห์\n",
       "294                                  Accidentally in Love\n",
       "720                                     Bangkok Bachelors\n",
       "1463                                      College Romance\n",
       "Name: title, dtype: object"
      ]
     },
     "execution_count": 63,
     "metadata": {},
     "output_type": "execute_result"
    }
   ],
   "source": [
    "get_recommendations_new('The Hook Up Plan', cosine_sim2)"
   ]
  },
  {
   "cell_type": "code",
   "execution_count": null,
   "metadata": {},
   "outputs": [],
   "source": []
  }
 ],
 "metadata": {
  "kernelspec": {
   "display_name": "Python 3",
   "language": "python",
   "name": "python3"
  },
  "language_info": {
   "codemirror_mode": {
    "name": "ipython",
    "version": 3
   },
   "file_extension": ".py",
   "mimetype": "text/x-python",
   "name": "python",
   "nbconvert_exporter": "python",
   "pygments_lexer": "ipython3",
   "version": "3.7.4"
  },
  "papermill": {
   "duration": 54.537311,
   "end_time": "2021-02-25T06:30:43.290253",
   "environment_variables": {},
   "exception": null,
   "input_path": "__notebook__.ipynb",
   "output_path": "__notebook__.ipynb",
   "parameters": {},
   "start_time": "2021-02-25T06:29:48.752942",
   "version": "1.2.1"
  }
 },
 "nbformat": 4,
 "nbformat_minor": 4
}
