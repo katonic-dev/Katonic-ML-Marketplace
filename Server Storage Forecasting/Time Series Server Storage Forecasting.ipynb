{
 "cells": [
  {
   "cell_type": "markdown",
   "metadata": {},
   "source": [
    "# Usage Instructions - Server Storage Forecasting\n",
    "\n",
    "Server storage forecasting helps businesses assess the storage space on their servers based on historic data. This will help businesses get an understanding of their server usage and help them plan better. It uses ensemble ML algorithms with automatic model selection algorithms. This solution provides consistent and better results due to its ensemble learning approach. This solution performs automated model selection to apply the right model based on the input data."
   ]
  },
  {
   "cell_type": "markdown",
   "metadata": {},
   "source": [
    "## Contents\n",
    "\n",
    "1. Prequisites\n",
    "1. Data Dictionary\n",
    "1. Import Libraries\n",
    "1. Sample Input Data\n",
    "1. Create Model\n",
    "1. Create Future Data\n",
    "1. Predict Future Datapoints\n",
    "1. Plot the DataFrame\n",
    "1. Saving Forcast"
   ]
  },
  {
   "cell_type": "markdown",
   "metadata": {},
   "source": [
    "### Prerequisites\n",
    "\n",
    "To run this algorithm you need to have install following packages:\n",
    "- \"pandas\" to read/save csv files.\n",
    "- \"pystan==2.19.1.1\"\n",
    "- \"prophet\" to forcast data.\n",
    "\n"
   ]
  },
  {
   "cell_type": "markdown",
   "metadata": {},
   "source": [
    "### Data Dictionary\n",
    "\n",
    "- The input has to be a '.csv' file with 'utf-8' encoding. PLEASE NOTE: If your input .csv file is not 'utf-8' encoded, model   will not perform as expected\n",
    "1. Have an unique identifier column called 'maskedsku'. eg. 'maskedsku' can be shipmentid\n",
    "2. The date format of the columns should be: 'YYYY-MM-DD'"
   ]
  },
  {
   "cell_type": "markdown",
   "metadata": {
    "tags": []
   },
   "source": [
    "## Import Libraries"
   ]
  },
  {
   "cell_type": "code",
   "execution_count": 1,
   "metadata": {},
   "outputs": [
    {
     "name": "stderr",
     "output_type": "stream",
     "text": [
      "Importing plotly failed. Interactive plots will not work.\n"
     ]
    }
   ],
   "source": [
    "import pandas as pd\n",
    "from prophet import Prophet"
   ]
  },
  {
   "cell_type": "markdown",
   "metadata": {},
   "source": [
    "### Sample input data"
   ]
  },
  {
   "cell_type": "code",
   "execution_count": 2,
   "metadata": {},
   "outputs": [
    {
     "data": {
      "text/html": [
       "<div>\n",
       "<style scoped>\n",
       "    .dataframe tbody tr th:only-of-type {\n",
       "        vertical-align: middle;\n",
       "    }\n",
       "\n",
       "    .dataframe tbody tr th {\n",
       "        vertical-align: top;\n",
       "    }\n",
       "\n",
       "    .dataframe thead th {\n",
       "        text-align: right;\n",
       "    }\n",
       "</style>\n",
       "<table border=\"1\" class=\"dataframe\">\n",
       "  <thead>\n",
       "    <tr style=\"text-align: right;\">\n",
       "      <th></th>\n",
       "      <th>ds</th>\n",
       "      <th>y</th>\n",
       "    </tr>\n",
       "  </thead>\n",
       "  <tbody>\n",
       "    <tr>\n",
       "      <th>1</th>\n",
       "      <td>2018-08-01 12:00</td>\n",
       "      <td>13380.82192</td>\n",
       "    </tr>\n",
       "    <tr>\n",
       "      <th>2</th>\n",
       "      <td>2018-08-01 13:00</td>\n",
       "      <td>15244.93151</td>\n",
       "    </tr>\n",
       "    <tr>\n",
       "      <th>3</th>\n",
       "      <td>2018-08-01 14:00</td>\n",
       "      <td>14925.20548</td>\n",
       "    </tr>\n",
       "    <tr>\n",
       "      <th>4</th>\n",
       "      <td>2018-08-01 15:00</td>\n",
       "      <td>13585.9726</td>\n",
       "    </tr>\n",
       "    <tr>\n",
       "      <th>5</th>\n",
       "      <td>2018-08-01 16:00</td>\n",
       "      <td>11365.47945</td>\n",
       "    </tr>\n",
       "    <tr>\n",
       "      <th>6</th>\n",
       "      <td>2018-08-01 17:00</td>\n",
       "      <td>20060.54795</td>\n",
       "    </tr>\n",
       "    <tr>\n",
       "      <th>7</th>\n",
       "      <td>2018-08-01 18:00</td>\n",
       "      <td>12861.36986</td>\n",
       "    </tr>\n",
       "    <tr>\n",
       "      <th>8</th>\n",
       "      <td>2018-08-01 19:00</td>\n",
       "      <td>14945.2274</td>\n",
       "    </tr>\n",
       "    <tr>\n",
       "      <th>9</th>\n",
       "      <td>2018-08-01 20:00</td>\n",
       "      <td>14490.37808</td>\n",
       "    </tr>\n",
       "    <tr>\n",
       "      <th>10</th>\n",
       "      <td>2018-08-01 21:00</td>\n",
       "      <td>12208.53699</td>\n",
       "    </tr>\n",
       "    <tr>\n",
       "      <th>11</th>\n",
       "      <td>2018-08-01 22:00</td>\n",
       "      <td>14866.84932</td>\n",
       "    </tr>\n",
       "    <tr>\n",
       "      <th>12</th>\n",
       "      <td>2018-08-01 23:00</td>\n",
       "      <td>14915.34247</td>\n",
       "    </tr>\n",
       "    <tr>\n",
       "      <th>13</th>\n",
       "      <td>2018-08-02 0:00</td>\n",
       "      <td>17090.63014</td>\n",
       "    </tr>\n",
       "    <tr>\n",
       "      <th>14</th>\n",
       "      <td>2018-08-02 1:00</td>\n",
       "      <td>11294.46575</td>\n",
       "    </tr>\n",
       "    <tr>\n",
       "      <th>15</th>\n",
       "      <td>2018-08-02 2:00</td>\n",
       "      <td>20696.71233</td>\n",
       "    </tr>\n",
       "    <tr>\n",
       "      <th>16</th>\n",
       "      <td>2018-08-02 3:00</td>\n",
       "      <td>11879.67123</td>\n",
       "    </tr>\n",
       "    <tr>\n",
       "      <th>17</th>\n",
       "      <td>2018-08-02 4:00</td>\n",
       "      <td>12768</td>\n",
       "    </tr>\n",
       "    <tr>\n",
       "      <th>18</th>\n",
       "      <td>2018-08-02 5:00</td>\n",
       "      <td>22173.69863</td>\n",
       "    </tr>\n",
       "    <tr>\n",
       "      <th>19</th>\n",
       "      <td>2018-08-02 6:00</td>\n",
       "      <td>16171.39726</td>\n",
       "    </tr>\n",
       "    <tr>\n",
       "      <th>20</th>\n",
       "      <td>2018-08-02 7:00</td>\n",
       "      <td>17321.45753</td>\n",
       "    </tr>\n",
       "    <tr>\n",
       "      <th>21</th>\n",
       "      <td>2018-08-02 8:00</td>\n",
       "      <td>20433.83014</td>\n",
       "    </tr>\n",
       "    <tr>\n",
       "      <th>22</th>\n",
       "      <td>2018-08-02 9:00</td>\n",
       "      <td>10600.76712</td>\n",
       "    </tr>\n",
       "    <tr>\n",
       "      <th>23</th>\n",
       "      <td>2018-08-02 10:00</td>\n",
       "      <td>12656.87671</td>\n",
       "    </tr>\n",
       "    <tr>\n",
       "      <th>24</th>\n",
       "      <td>2018-08-02 11:00</td>\n",
       "      <td>20317.80822</td>\n",
       "    </tr>\n",
       "    <tr>\n",
       "      <th>25</th>\n",
       "      <td>2018-08-02 12:00</td>\n",
       "      <td>14872.76712</td>\n",
       "    </tr>\n",
       "    <tr>\n",
       "      <th>26</th>\n",
       "      <td>2018-08-02 13:00</td>\n",
       "      <td>15046.35616</td>\n",
       "    </tr>\n",
       "    <tr>\n",
       "      <th>27</th>\n",
       "      <td>2018-08-02 14:00</td>\n",
       "      <td>19864.93151</td>\n",
       "    </tr>\n",
       "    <tr>\n",
       "      <th>28</th>\n",
       "      <td>2018-08-02 15:00</td>\n",
       "      <td>14184.9863</td>\n",
       "    </tr>\n",
       "    <tr>\n",
       "      <th>29</th>\n",
       "      <td>2018-08-02 16:00</td>\n",
       "      <td>12370.84932</td>\n",
       "    </tr>\n",
       "    <tr>\n",
       "      <th>30</th>\n",
       "      <td>2018-08-02 17:00</td>\n",
       "      <td>19949.58904</td>\n",
       "    </tr>\n",
       "    <tr>\n",
       "      <th>31</th>\n",
       "      <td>2018-08-02 18:00</td>\n",
       "      <td>14228.38356</td>\n",
       "    </tr>\n",
       "    <tr>\n",
       "      <th>32</th>\n",
       "      <td>2018-08-02 19:00</td>\n",
       "      <td>19529.55616</td>\n",
       "    </tr>\n",
       "    <tr>\n",
       "      <th>33</th>\n",
       "      <td>2018-08-02 20:00</td>\n",
       "      <td>16279.7589</td>\n",
       "    </tr>\n",
       "    <tr>\n",
       "      <th>34</th>\n",
       "      <td>2018-08-02 21:00</td>\n",
       "      <td>14330.9589</td>\n",
       "    </tr>\n",
       "    <tr>\n",
       "      <th>35</th>\n",
       "      <td>2018-08-02 22:00</td>\n",
       "      <td>15056.87671</td>\n",
       "    </tr>\n",
       "  </tbody>\n",
       "</table>\n",
       "</div>"
      ],
      "text/plain": [
       "                  ds            y\n",
       "1   2018-08-01 12:00  13380.82192\n",
       "2   2018-08-01 13:00  15244.93151\n",
       "3   2018-08-01 14:00  14925.20548\n",
       "4   2018-08-01 15:00   13585.9726\n",
       "5   2018-08-01 16:00  11365.47945\n",
       "6   2018-08-01 17:00  20060.54795\n",
       "7   2018-08-01 18:00  12861.36986\n",
       "8   2018-08-01 19:00   14945.2274\n",
       "9   2018-08-01 20:00  14490.37808\n",
       "10  2018-08-01 21:00  12208.53699\n",
       "11  2018-08-01 22:00  14866.84932\n",
       "12  2018-08-01 23:00  14915.34247\n",
       "13   2018-08-02 0:00  17090.63014\n",
       "14   2018-08-02 1:00  11294.46575\n",
       "15   2018-08-02 2:00  20696.71233\n",
       "16   2018-08-02 3:00  11879.67123\n",
       "17   2018-08-02 4:00        12768\n",
       "18   2018-08-02 5:00  22173.69863\n",
       "19   2018-08-02 6:00  16171.39726\n",
       "20   2018-08-02 7:00  17321.45753\n",
       "21   2018-08-02 8:00  20433.83014\n",
       "22   2018-08-02 9:00  10600.76712\n",
       "23  2018-08-02 10:00  12656.87671\n",
       "24  2018-08-02 11:00  20317.80822\n",
       "25  2018-08-02 12:00  14872.76712\n",
       "26  2018-08-02 13:00  15046.35616\n",
       "27  2018-08-02 14:00  19864.93151\n",
       "28  2018-08-02 15:00   14184.9863\n",
       "29  2018-08-02 16:00  12370.84932\n",
       "30  2018-08-02 17:00  19949.58904\n",
       "31  2018-08-02 18:00  14228.38356\n",
       "32  2018-08-02 19:00  19529.55616\n",
       "33  2018-08-02 20:00   16279.7589\n",
       "34  2018-08-02 21:00   14330.9589\n",
       "35  2018-08-02 22:00  15056.87671"
      ]
     },
     "execution_count": 2,
     "metadata": {},
     "output_type": "execute_result"
    }
   ],
   "source": [
    "# read the sample csv\n",
    "df = pd.read_csv(\"sample_server.csv\")\n",
    "# Pivot the data\n",
    "df = df.T.reset_index()\n",
    "# \n",
    "df = df.drop(index = [0],axis = 0)\n",
    "# naming is required as per prophet conditions.\n",
    "df = df.rename(mapper = {'index':'ds',0:'y'},axis = 1)\n",
    "df"
   ]
  },
  {
   "cell_type": "markdown",
   "metadata": {
    "tags": []
   },
   "source": [
    "## Create Model\n",
    "\n",
    "Now we use the Model Package to create a model"
   ]
  },
  {
   "cell_type": "code",
   "execution_count": 3,
   "metadata": {},
   "outputs": [
    {
     "name": "stderr",
     "output_type": "stream",
     "text": [
      "INFO:prophet:Disabling yearly seasonality. Run prophet with yearly_seasonality=True to override this.\n",
      "INFO:prophet:Disabling weekly seasonality. Run prophet with weekly_seasonality=True to override this.\n",
      "INFO:prophet:Disabling daily seasonality. Run prophet with daily_seasonality=True to override this.\n"
     ]
    },
    {
     "data": {
      "text/plain": [
       "<prophet.forecaster.Prophet at 0x7f334d028990>"
      ]
     },
     "execution_count": 3,
     "metadata": {},
     "output_type": "execute_result"
    }
   ],
   "source": [
    "\n",
    "m = Prophet()\n",
    "m.fit(df.iloc[1:,:])\n",
    "\n",
    "# Python\n"
   ]
  },
  {
   "cell_type": "markdown",
   "metadata": {
    "tags": []
   },
   "source": [
    "## Create the future data\n",
    "\n",
    "The prophet instance used to create future data."
   ]
  },
  {
   "cell_type": "code",
   "execution_count": 4,
   "metadata": {},
   "outputs": [
    {
     "data": {
      "text/html": [
       "<div>\n",
       "<style scoped>\n",
       "    .dataframe tbody tr th:only-of-type {\n",
       "        vertical-align: middle;\n",
       "    }\n",
       "\n",
       "    .dataframe tbody tr th {\n",
       "        vertical-align: top;\n",
       "    }\n",
       "\n",
       "    .dataframe thead th {\n",
       "        text-align: right;\n",
       "    }\n",
       "</style>\n",
       "<table border=\"1\" class=\"dataframe\">\n",
       "  <thead>\n",
       "    <tr style=\"text-align: right;\">\n",
       "      <th></th>\n",
       "      <th>ds</th>\n",
       "    </tr>\n",
       "  </thead>\n",
       "  <tbody>\n",
       "    <tr>\n",
       "      <th>59</th>\n",
       "      <td>2018-08-28 22:00:00</td>\n",
       "    </tr>\n",
       "    <tr>\n",
       "      <th>60</th>\n",
       "      <td>2018-08-29 22:00:00</td>\n",
       "    </tr>\n",
       "    <tr>\n",
       "      <th>61</th>\n",
       "      <td>2018-08-30 22:00:00</td>\n",
       "    </tr>\n",
       "    <tr>\n",
       "      <th>62</th>\n",
       "      <td>2018-08-31 22:00:00</td>\n",
       "    </tr>\n",
       "    <tr>\n",
       "      <th>63</th>\n",
       "      <td>2018-09-01 22:00:00</td>\n",
       "    </tr>\n",
       "  </tbody>\n",
       "</table>\n",
       "</div>"
      ],
      "text/plain": [
       "                    ds\n",
       "59 2018-08-28 22:00:00\n",
       "60 2018-08-29 22:00:00\n",
       "61 2018-08-30 22:00:00\n",
       "62 2018-08-31 22:00:00\n",
       "63 2018-09-01 22:00:00"
      ]
     },
     "execution_count": 4,
     "metadata": {},
     "output_type": "execute_result"
    }
   ],
   "source": [
    "future = m.make_future_dataframe(periods=30)\n",
    "future.tail()"
   ]
  },
  {
   "cell_type": "markdown",
   "metadata": {
    "tags": []
   },
   "source": [
    "# Predict Future datapoints"
   ]
  },
  {
   "cell_type": "code",
   "execution_count": 5,
   "metadata": {},
   "outputs": [
    {
     "data": {
      "text/html": [
       "<div>\n",
       "<style scoped>\n",
       "    .dataframe tbody tr th:only-of-type {\n",
       "        vertical-align: middle;\n",
       "    }\n",
       "\n",
       "    .dataframe tbody tr th {\n",
       "        vertical-align: top;\n",
       "    }\n",
       "\n",
       "    .dataframe thead th {\n",
       "        text-align: right;\n",
       "    }\n",
       "</style>\n",
       "<table border=\"1\" class=\"dataframe\">\n",
       "  <thead>\n",
       "    <tr style=\"text-align: right;\">\n",
       "      <th></th>\n",
       "      <th>ds</th>\n",
       "      <th>yhat</th>\n",
       "      <th>yhat_lower</th>\n",
       "      <th>yhat_upper</th>\n",
       "    </tr>\n",
       "  </thead>\n",
       "  <tbody>\n",
       "    <tr>\n",
       "      <th>59</th>\n",
       "      <td>2018-08-28 22:00:00</td>\n",
       "      <td>53873.099534</td>\n",
       "      <td>49579.462740</td>\n",
       "      <td>57650.353364</td>\n",
       "    </tr>\n",
       "    <tr>\n",
       "      <th>60</th>\n",
       "      <td>2018-08-29 22:00:00</td>\n",
       "      <td>55309.212078</td>\n",
       "      <td>51452.438184</td>\n",
       "      <td>59165.359411</td>\n",
       "    </tr>\n",
       "    <tr>\n",
       "      <th>61</th>\n",
       "      <td>2018-08-30 22:00:00</td>\n",
       "      <td>56745.324621</td>\n",
       "      <td>53002.507285</td>\n",
       "      <td>60656.041342</td>\n",
       "    </tr>\n",
       "    <tr>\n",
       "      <th>62</th>\n",
       "      <td>2018-08-31 22:00:00</td>\n",
       "      <td>58181.437165</td>\n",
       "      <td>54395.479956</td>\n",
       "      <td>62234.124563</td>\n",
       "    </tr>\n",
       "    <tr>\n",
       "      <th>63</th>\n",
       "      <td>2018-09-01 22:00:00</td>\n",
       "      <td>59617.549709</td>\n",
       "      <td>55831.790382</td>\n",
       "      <td>63347.087301</td>\n",
       "    </tr>\n",
       "  </tbody>\n",
       "</table>\n",
       "</div>"
      ],
      "text/plain": [
       "                    ds          yhat    yhat_lower    yhat_upper\n",
       "59 2018-08-28 22:00:00  53873.099534  49579.462740  57650.353364\n",
       "60 2018-08-29 22:00:00  55309.212078  51452.438184  59165.359411\n",
       "61 2018-08-30 22:00:00  56745.324621  53002.507285  60656.041342\n",
       "62 2018-08-31 22:00:00  58181.437165  54395.479956  62234.124563\n",
       "63 2018-09-01 22:00:00  59617.549709  55831.790382  63347.087301"
      ]
     },
     "execution_count": 5,
     "metadata": {},
     "output_type": "execute_result"
    }
   ],
   "source": [
    "forecast = m.predict(future)\n",
    "forecast[['ds', 'yhat', 'yhat_lower', 'yhat_upper']].tail()"
   ]
  },
  {
   "cell_type": "markdown",
   "metadata": {
    "tags": []
   },
   "source": [
    "## Plot the forecast dataframe"
   ]
  },
  {
   "cell_type": "code",
   "execution_count": 6,
   "metadata": {},
   "outputs": [
    {
     "data": {
      "image/png": "[encoded data removed]",
      "text/plain": [
       "<Figure size 720x432 with 1 Axes>"
      ]
     },
     "metadata": {},
     "output_type": "display_data"
    }
   ],
   "source": [
    "# Python\n",
    "fig1 = m.plot(forecast)"
   ]
  },
  {
   "cell_type": "code",
   "execution_count": 7,
   "metadata": {},
   "outputs": [
    {
     "data": {
      "image/png": "[encoded data removed]",
      "text/plain": [
       "<Figure size 648x216 with 1 Axes>"
      ]
     },
     "metadata": {},
     "output_type": "display_data"
    }
   ],
   "source": [
    "# Python\n",
    "fig2 = m.plot_components(forecast)"
   ]
  },
  {
   "cell_type": "markdown",
   "metadata": {
    "tags": []
   },
   "source": [
    "## Saving Forecast"
   ]
  },
  {
   "cell_type": "code",
   "execution_count": 8,
   "metadata": {},
   "outputs": [],
   "source": [
    "forecast = forecast[['ds', 'yhat', 'yhat_lower', 'yhat_upper']]\n",
    "forecast.to_csv('result_server.csv',index=False)"
   ]
  },
  {
   "cell_type": "code",
   "execution_count": 9,
   "metadata": {},
   "outputs": [
    {
     "data": {
      "text/html": [
       "<div>\n",
       "<style scoped>\n",
       "    .dataframe tbody tr th:only-of-type {\n",
       "        vertical-align: middle;\n",
       "    }\n",
       "\n",
       "    .dataframe tbody tr th {\n",
       "        vertical-align: top;\n",
       "    }\n",
       "\n",
       "    .dataframe thead th {\n",
       "        text-align: right;\n",
       "    }\n",
       "</style>\n",
       "<table border=\"1\" class=\"dataframe\">\n",
       "  <thead>\n",
       "    <tr style=\"text-align: right;\">\n",
       "      <th></th>\n",
       "      <th>ds</th>\n",
       "      <th>yhat</th>\n",
       "      <th>yhat_lower</th>\n",
       "      <th>yhat_upper</th>\n",
       "    </tr>\n",
       "  </thead>\n",
       "  <tbody>\n",
       "    <tr>\n",
       "      <th>0</th>\n",
       "      <td>2018-08-01 13:00:00</td>\n",
       "      <td>14559.518636</td>\n",
       "      <td>11038.310115</td>\n",
       "      <td>18625.650853</td>\n",
       "    </tr>\n",
       "    <tr>\n",
       "      <th>1</th>\n",
       "      <td>2018-08-01 14:00:00</td>\n",
       "      <td>14619.356659</td>\n",
       "      <td>10834.662408</td>\n",
       "      <td>18389.475163</td>\n",
       "    </tr>\n",
       "    <tr>\n",
       "      <th>2</th>\n",
       "      <td>2018-08-01 15:00:00</td>\n",
       "      <td>14679.194682</td>\n",
       "      <td>10878.626628</td>\n",
       "      <td>18590.963920</td>\n",
       "    </tr>\n",
       "    <tr>\n",
       "      <th>3</th>\n",
       "      <td>2018-08-01 16:00:00</td>\n",
       "      <td>14739.032705</td>\n",
       "      <td>10871.561672</td>\n",
       "      <td>18743.061943</td>\n",
       "    </tr>\n",
       "    <tr>\n",
       "      <th>4</th>\n",
       "      <td>2018-08-01 17:00:00</td>\n",
       "      <td>14798.870728</td>\n",
       "      <td>11021.924099</td>\n",
       "      <td>18718.064337</td>\n",
       "    </tr>\n",
       "    <tr>\n",
       "      <th>...</th>\n",
       "      <td>...</td>\n",
       "      <td>...</td>\n",
       "      <td>...</td>\n",
       "      <td>...</td>\n",
       "    </tr>\n",
       "    <tr>\n",
       "      <th>59</th>\n",
       "      <td>2018-08-28 22:00:00</td>\n",
       "      <td>53873.099534</td>\n",
       "      <td>49579.462740</td>\n",
       "      <td>57650.353364</td>\n",
       "    </tr>\n",
       "    <tr>\n",
       "      <th>60</th>\n",
       "      <td>2018-08-29 22:00:00</td>\n",
       "      <td>55309.212078</td>\n",
       "      <td>51452.438184</td>\n",
       "      <td>59165.359411</td>\n",
       "    </tr>\n",
       "    <tr>\n",
       "      <th>61</th>\n",
       "      <td>2018-08-30 22:00:00</td>\n",
       "      <td>56745.324621</td>\n",
       "      <td>53002.507285</td>\n",
       "      <td>60656.041342</td>\n",
       "    </tr>\n",
       "    <tr>\n",
       "      <th>62</th>\n",
       "      <td>2018-08-31 22:00:00</td>\n",
       "      <td>58181.437165</td>\n",
       "      <td>54395.479956</td>\n",
       "      <td>62234.124563</td>\n",
       "    </tr>\n",
       "    <tr>\n",
       "      <th>63</th>\n",
       "      <td>2018-09-01 22:00:00</td>\n",
       "      <td>59617.549709</td>\n",
       "      <td>55831.790382</td>\n",
       "      <td>63347.087301</td>\n",
       "    </tr>\n",
       "  </tbody>\n",
       "</table>\n",
       "<p>64 rows × 4 columns</p>\n",
       "</div>"
      ],
      "text/plain": [
       "                    ds          yhat    yhat_lower    yhat_upper\n",
       "0  2018-08-01 13:00:00  14559.518636  11038.310115  18625.650853\n",
       "1  2018-08-01 14:00:00  14619.356659  10834.662408  18389.475163\n",
       "2  2018-08-01 15:00:00  14679.194682  10878.626628  18590.963920\n",
       "3  2018-08-01 16:00:00  14739.032705  10871.561672  18743.061943\n",
       "4  2018-08-01 17:00:00  14798.870728  11021.924099  18718.064337\n",
       "..                 ...           ...           ...           ...\n",
       "59 2018-08-28 22:00:00  53873.099534  49579.462740  57650.353364\n",
       "60 2018-08-29 22:00:00  55309.212078  51452.438184  59165.359411\n",
       "61 2018-08-30 22:00:00  56745.324621  53002.507285  60656.041342\n",
       "62 2018-08-31 22:00:00  58181.437165  54395.479956  62234.124563\n",
       "63 2018-09-01 22:00:00  59617.549709  55831.790382  63347.087301\n",
       "\n",
       "[64 rows x 4 columns]"
      ]
     },
     "execution_count": 9,
     "metadata": {},
     "output_type": "execute_result"
    }
   ],
   "source": [
    "forecast"
   ]
  },
  {
   "cell_type": "code",
   "execution_count": null,
   "metadata": {},
   "outputs": [],
   "source": []
  }
 ],
 "metadata": {
  "kernelspec": {
   "display_name": "Python 3",
   "language": "python",
   "name": "python3"
  },
  "kubeflow_notebook": {
   "autosnapshot": false,
   "docker_image": "",
   "experiment": {
    "id": "",
    "name": ""
   },
   "experiment_name": "",
   "katib_metadata": {
    "algorithm": {
     "algorithmName": "grid"
    },
    "maxFailedTrialCount": 3,
    "maxTrialCount": 12,
    "objective": {
     "objectiveMetricName": "",
     "type": "minimize"
    },
    "parallelTrialCount": 3,
    "parameters": []
   },
   "katib_run": false,
   "pipeline_description": "",
   "pipeline_name": "",
   "snapshot_volumes": false,
   "steps_defaults": [],
   "volume_access_mode": "rwm",
   "volumes": []
  },
  "language_info": {
   "codemirror_mode": {
    "name": "ipython",
    "version": 3
   },
   "file_extension": ".py",
   "mimetype": "text/x-python",
   "name": "python",
   "nbconvert_exporter": "python",
   "pygments_lexer": "ipython3",
   "version": "3.7.9"
  }
 },
 "nbformat": 4,
 "nbformat_minor": 4
}
