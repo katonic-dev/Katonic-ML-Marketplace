{
 "cells": [
  {
   "cell_type": "markdown",
   "metadata": {
    "tags": []
   },
   "source": [
    "## Install Libraries"
   ]
  },
  {
   "cell_type": "code",
   "execution_count": 1,
   "metadata": {
    "tags": [
     "imports"
    ]
   },
   "outputs": [],
   "source": [
    "import os\n",
    "os.system(\"pip install pystan==2.19.1.1 fbprophet==0.06\")\n",
    "os.system(\"pip install slack\")\n",
    "os.system(\"pip install slackclient\")\n",
    "os.system(\"pip install yfinance\")\n",
    "os.system(\"pip install yahoofinancials\")\n",
    "os.system(\"pip install statsmodels\")\n",
    "os.system(\"pip install sklearn\")"
   ]
  },
  {
   "cell_type": "markdown",
   "metadata": {
    "tags": []
   },
   "source": [
    "## Import Packages"
   ]
  },
  {
   "cell_type": "code",
   "execution_count": 2,
   "metadata": {
    "tags": []
   },
   "outputs": [
    {
     "name": "stderr",
     "output_type": "stream",
     "text": [
      "Importing plotly failed. Interactive plots will not work.\n"
     ]
    }
   ],
   "source": [
    "import os\n",
    "import numpy as np\n",
    "import pandas as pd\n",
    "import matplotlib.pyplot as plt\n",
    "import math\n",
    "plt.style.use('fivethirtyeight')\n",
    "\n",
    "import yfinance as yf\n",
    "from yahoofinancials import YahooFinancials\n",
    "import statistics\n",
    "from statistics import stdev\n",
    "\n",
    "from statsmodels.tsa.stattools import adfuller\n",
    "from statsmodels.graphics.tsaplots import plot_acf\n",
    "from statsmodels.graphics.tsaplots import plot_pacf\n",
    "from numpy import log\n",
    "from sklearn.metrics import mean_squared_error\n",
    "from statsmodels.tsa.seasonal import seasonal_decompose\n",
    "from fbprophet import Prophet\n",
    "from datetime import date\n",
    "from sklearn.metrics import mean_squared_error, r2_score, mean_absolute_error\n",
    "from matplotlib import pyplot\n",
    "\n",
    "from typing import  List\n",
    "from datetime import datetime\n",
    "from io import StringIO\n",
    "import joblib\n",
    "\n",
    "from slack import WebClient\n",
    "from slack.errors import SlackApiError"
   ]
  },
  {
   "cell_type": "markdown",
   "metadata": {
    "tags": []
   },
   "source": [
    "## Pipeline Parameters\n",
    "- token : Slack token to send message to slck channel\n",
    "- channel : slack channel name\n",
    "- periods_prediction_in_days : Numer of days from today you want to predict the stock\n",
    "- path : path where you want to store the results and model\n",
    "- ticker : The ticker to which you want to predict the stock price. Name of the ticker can be found here https://www.nasdaq.com/market-activity/stocks/screener \n",
    "\n",
    "Note : You can predict stock for any ticker only if model is trained for that ticker. So if you want to predict for any new ticker, run modelling pipeline for that ticker"
   ]
  },
  {
   "cell_type": "code",
   "execution_count": 3,
   "metadata": {
    "tags": [
     "pipeline-parameters"
    ]
   },
   "outputs": [],
   "source": [
    "token = \"\"\n",
    "channel = '#test'\n",
    "periods_prediction_in_days = 5 #days\n",
    "path = \"/kfs_private/yahoo_stock/\"\n",
    "ticker = 'TSLA' "
   ]
  },
  {
   "cell_type": "markdown",
   "metadata": {
    "tags": []
   },
   "source": [
    "## Load Model\n",
    "- Load the model that is stored from modelling pipeline"
   ]
  },
  {
   "cell_type": "code",
   "execution_count": 4,
   "metadata": {
    "tags": [
     "block:load_model"
    ]
   },
   "outputs": [],
   "source": [
    "MODEL_NAME = \"yahoo_stock_model_\"+ticker"
   ]
  },
  {
   "cell_type": "markdown",
   "metadata": {
    "tags": []
   },
   "source": [
    "## Future Data\n",
    "- Create future data based on provided number of days to be predicted"
   ]
  },
  {
   "cell_type": "code",
   "execution_count": 5,
   "metadata": {
    "tags": [
     "block:future_prediction",
     "prev:load_model"
    ]
   },
   "outputs": [],
   "source": [
    "# run_id = \"cc047c20511e4f2182246f4466cafc9d\"\n",
    "# model_uri = \"runs:/\" + run_id + \"/model\"\n",
    "model = joblib.load(path+MODEL_NAME+\".joblib\")"
   ]
  },
  {
   "cell_type": "code",
   "execution_count": 6,
   "metadata": {
    "tags": []
   },
   "outputs": [],
   "source": [
    "#future=model.make_future_dataframe(periods=30,freq='D',include_history=False) #as the time stamp is Quaterly & 4 is for test data records\n",
    "today = date.today().strftime(\"%d-%m-%Y\")\n",
    "future = pd.date_range(start=today, periods=periods_prediction_in_days).to_frame(index = False, name='ds')"
   ]
  },
  {
   "cell_type": "markdown",
   "metadata": {
    "tags": []
   },
   "source": [
    "## Predict \n",
    "- predict the future stock price for the ticker"
   ]
  },
  {
   "cell_type": "code",
   "execution_count": 7,
   "metadata": {},
   "outputs": [
    {
     "data": {
      "text/html": [
       "<div>\n",
       "<style scoped>\n",
       "    .dataframe tbody tr th:only-of-type {\n",
       "        vertical-align: middle;\n",
       "    }\n",
       "\n",
       "    .dataframe tbody tr th {\n",
       "        vertical-align: top;\n",
       "    }\n",
       "\n",
       "    .dataframe thead th {\n",
       "        text-align: right;\n",
       "    }\n",
       "</style>\n",
       "<table border=\"1\" class=\"dataframe\">\n",
       "  <thead>\n",
       "    <tr style=\"text-align: right;\">\n",
       "      <th></th>\n",
       "      <th>ds</th>\n",
       "      <th>yhat</th>\n",
       "      <th>yhat_lower</th>\n",
       "      <th>yhat_upper</th>\n",
       "    </tr>\n",
       "  </thead>\n",
       "  <tbody>\n",
       "    <tr>\n",
       "      <th>0</th>\n",
       "      <td>2022-01-18</td>\n",
       "      <td>920.673486</td>\n",
       "      <td>823.540845</td>\n",
       "      <td>1014.107983</td>\n",
       "    </tr>\n",
       "    <tr>\n",
       "      <th>1</th>\n",
       "      <td>2022-01-19</td>\n",
       "      <td>921.498592</td>\n",
       "      <td>832.462249</td>\n",
       "      <td>1011.610321</td>\n",
       "    </tr>\n",
       "    <tr>\n",
       "      <th>2</th>\n",
       "      <td>2022-01-20</td>\n",
       "      <td>922.307858</td>\n",
       "      <td>833.251436</td>\n",
       "      <td>1013.731481</td>\n",
       "    </tr>\n",
       "    <tr>\n",
       "      <th>3</th>\n",
       "      <td>2022-01-21</td>\n",
       "      <td>922.413486</td>\n",
       "      <td>827.012058</td>\n",
       "      <td>1016.701708</td>\n",
       "    </tr>\n",
       "    <tr>\n",
       "      <th>4</th>\n",
       "      <td>2022-01-22</td>\n",
       "      <td>916.270592</td>\n",
       "      <td>820.066250</td>\n",
       "      <td>1011.387244</td>\n",
       "    </tr>\n",
       "  </tbody>\n",
       "</table>\n",
       "</div>"
      ],
      "text/plain": [
       "          ds        yhat  yhat_lower   yhat_upper\n",
       "0 2022-01-18  920.673486  823.540845  1014.107983\n",
       "1 2022-01-19  921.498592  832.462249  1011.610321\n",
       "2 2022-01-20  922.307858  833.251436  1013.731481\n",
       "3 2022-01-21  922.413486  827.012058  1016.701708\n",
       "4 2022-01-22  916.270592  820.066250  1011.387244"
      ]
     },
     "execution_count": 7,
     "metadata": {},
     "output_type": "execute_result"
    }
   ],
   "source": [
    "forecast=model.predict(future)\n",
    "forecast[['ds','yhat','yhat_lower','yhat_upper']].head()"
   ]
  },
  {
   "cell_type": "code",
   "execution_count": 10,
   "metadata": {
    "tags": []
   },
   "outputs": [
    {
     "data": {
      "image/png": "[encoded data removed]",
      "text/plain": [
       "<Figure size 720x432 with 1 Axes>"
      ]
     },
     "metadata": {},
     "output_type": "display_data"
    }
   ],
   "source": [
    "from matplotlib import pyplot\n",
    "model.plot(forecast)\n",
    "pyplot.show()"
   ]
  },
  {
   "cell_type": "markdown",
   "metadata": {
    "tags": []
   },
   "source": [
    "## Stack Message"
   ]
  },
  {
   "cell_type": "code",
   "execution_count": 9,
   "metadata": {
    "tags": [
     "block:slack_alert",
     "prev:future_prediction"
    ]
   },
   "outputs": [
    {
     "name": "stdout",
     "output_type": "stream",
     "text": [
      "Got an error: not_authed\n"
     ]
    }
   ],
   "source": [
    "forecast[['ds','yhat']].to_csv(path+\"output_\"+ticker+\".csv\",index=False)\n",
    "file = path+\"output_\"+ticker+\".csv\"\n",
    "title = \"Amazon Revenue\"\n",
    "text = \"Yahoo Stock Prediction for \" + ticker\n",
    "\n",
    "client = WebClient(token=token)\n",
    "\n",
    "try:\n",
    "    response = client.chat_postMessage(\n",
    "        channel=channel,\n",
    "        text=text)\n",
    "    response = client.files_upload(\n",
    "        channels=channel,\n",
    "        file=file,\n",
    "        title=title\n",
    ")\n",
    "except SlackApiError as e:\n",
    "    # You will get a SlackApiError if \"ok\" is False\n",
    "    assert e.response[\"ok\"] is False\n",
    "    assert e.response[\"error\"]  # str like 'invalid_auth', 'channel_not_found'\n",
    "    print(f\"Got an error: {e.response['error']}\")"
   ]
  },
  {
   "cell_type": "code",
   "execution_count": null,
   "metadata": {},
   "outputs": [],
   "source": []
  }
 ],
 "metadata": {
  "kernelspec": {
   "display_name": "Python 3 (ipykernel)",
   "language": "python",
   "name": "python3"
  },
  "kubeflow_notebook": {
   "autosnapshot": false,
   "docker_image": "katonic/usecaseb1:4.0",
   "experiment": {
    "id": "7b26c484-40b5-4226-9cbf-216548874e9e",
    "name": "yahoo-finance"
   },
   "experiment_name": "yahoo-finance",
   "katib_metadata": {
    "algorithm": {
     "algorithmName": "grid"
    },
    "maxFailedTrialCount": 3,
    "maxTrialCount": 12,
    "objective": {
     "objectiveMetricName": "",
     "type": "minimize"
    },
    "parallelTrialCount": 3,
    "parameters": []
   },
   "katib_run": false,
   "pipeline_description": "yahoo_stock_inference",
   "pipeline_name": "yahoo-stock-inference",
   "snapshot_volumes": false,
   "steps_defaults": [],
   "storage_class_name": "rook-cephfs",
   "volume_access_mode": "rwm",
   "volumes": [
    {
     "annotations": [],
     "mount_point": "/kfs_private",
     "name": "private-storage-63d2",
     "size": 1,
     "size_type": "Gi",
     "snapshot": false,
     "snapshot_name": "",
     "type": "pvc"
    }
   ]
  },
  "language_info": {
   "codemirror_mode": {
    "name": "ipython",
    "version": 3
   },
   "file_extension": ".py",
   "mimetype": "text/x-python",
   "name": "python",
   "nbconvert_exporter": "python",
   "pygments_lexer": "ipython3",
   "version": "3.8.12"
  }
 },
 "nbformat": 4,
 "nbformat_minor": 4
}
