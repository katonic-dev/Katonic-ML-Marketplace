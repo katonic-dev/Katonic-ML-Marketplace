{
 "cells": [
  {
   "cell_type": "markdown",
   "id": "0d9d33d5",
   "metadata": {},
   "source": [
    "# Anti Money Laundering"
   ]
  },
  {
   "cell_type": "markdown",
   "id": "b08e3df0",
   "metadata": {},
   "source": [
    "<img src=\"money_laundering-img.jpg\" style=\"width: 1000px;\"/>"
   ]
  },
  {
   "cell_type": "markdown",
   "id": "3c0ec039",
   "metadata": {},
   "source": [
    "## Introduction\n",
    "With its ability to dynamically learn patterns in complex data, AI will significantly improve accuracy in predicting which cases will result in a SAR filing. AI models for anti-money laundering can be deployed into the review process to score and rank all new cases. Any case that exceeds a predetermined threshold of risk is sent to the investigators for manual review. Meanwhile, any case that falls below the threshold can be automatically discarded or sent to a lighter review. Once AI models are deployed into production, they can be continuously retrained on new data to capture any novel behaviors of money laundering. This data will come from the feedback investigators\n",
    "\n",
    "In general, AI helps investigators focus their attention on cases that have the highest risk of AML while minimizing the time they spend reviewing false-positive cases. For banks with large volumes of daily transactions, improvements in the effectiveness and efficiency of their investigations ultimately results in fewer cases of money laundering that go unnoticed. This allows banks to enhance their regulatory compliance and reduce the volume of financial crime present within their network.\n",
    "\n",
    "## Data Preparation\n",
    "\n",
    "In this section we explore the structure of our data:\n",
    "\n",
    "1. To understand the input space of the data set\n",
    "2. And to prepare the sets for exploratory and prediction tasks as described in above"
   ]
  },
  {
   "cell_type": "markdown",
   "id": "d879449f",
   "metadata": {},
   "source": [
    "## Import Libraries"
   ]
  },
  {
   "cell_type": "code",
   "execution_count": 2,
   "id": "188d47a3",
   "metadata": {},
   "outputs": [],
   "source": [
    "# Ignore Warning\n",
    "import warnings\n",
    "warnings.filterwarnings(\"ignore\")"
   ]
  },
  {
   "cell_type": "code",
   "execution_count": 4,
   "id": "1844582b",
   "metadata": {},
   "outputs": [],
   "source": [
    "# For data wrangling \n",
    "import pandas as pd\n",
    "\n",
    "# For visualization\n",
    "import matplotlib.pyplot as plt\n",
    "%matplotlib inline\n",
    "import plotly.express as px\n",
    "pd.options.display.max_rows = None\n",
    "pd.options.display.max_columns = None"
   ]
  },
  {
   "cell_type": "code",
   "execution_count": 5,
   "id": "c8bbae45",
   "metadata": {},
   "outputs": [
    {
     "data": {
      "text/html": [
       "<div>\n",
       "<style scoped>\n",
       "    .dataframe tbody tr th:only-of-type {\n",
       "        vertical-align: middle;\n",
       "    }\n",
       "\n",
       "    .dataframe tbody tr th {\n",
       "        vertical-align: top;\n",
       "    }\n",
       "\n",
       "    .dataframe thead th {\n",
       "        text-align: right;\n",
       "    }\n",
       "</style>\n",
       "<table border=\"1\" class=\"dataframe\">\n",
       "  <thead>\n",
       "    <tr style=\"text-align: right;\">\n",
       "      <th></th>\n",
       "      <th>ALERT</th>\n",
       "      <th>SAR</th>\n",
       "      <th>kycRiskScore</th>\n",
       "      <th>income</th>\n",
       "      <th>tenureMonths</th>\n",
       "      <th>creditScore</th>\n",
       "      <th>state</th>\n",
       "      <th>nbrPurchases90d</th>\n",
       "      <th>avgTxnSize90d</th>\n",
       "      <th>totalSpend90d</th>\n",
       "      <th>csrNotes</th>\n",
       "      <th>nbrDistinctMerch90d</th>\n",
       "      <th>nbrMerchCredits90d</th>\n",
       "      <th>nbrMerchCreditsRndDollarAmt90d</th>\n",
       "      <th>totalMerchCred90d</th>\n",
       "      <th>nbrMerchCreditsWoOffsettingPurch</th>\n",
       "      <th>nbrPayments90d</th>\n",
       "      <th>totalPaymentAmt90d</th>\n",
       "      <th>overpaymentAmt90d</th>\n",
       "      <th>overpaymentInd90d</th>\n",
       "      <th>nbrCustReqRefunds90d</th>\n",
       "      <th>indCustReqRefund90d</th>\n",
       "      <th>totalRefundsToCust90d</th>\n",
       "      <th>nbrPaymentsCashLike90d</th>\n",
       "      <th>maxRevolveLine</th>\n",
       "      <th>indOwnsHome</th>\n",
       "      <th>nbrInquiries1y</th>\n",
       "      <th>nbrCollections3y</th>\n",
       "      <th>nbrWebLogins90d</th>\n",
       "      <th>nbrPointRed90d</th>\n",
       "      <th>PEP</th>\n",
       "    </tr>\n",
       "  </thead>\n",
       "  <tbody>\n",
       "    <tr>\n",
       "      <th>0</th>\n",
       "      <td>1</td>\n",
       "      <td>0</td>\n",
       "      <td>3</td>\n",
       "      <td>110300.0</td>\n",
       "      <td>5</td>\n",
       "      <td>757</td>\n",
       "      <td>PA</td>\n",
       "      <td>10</td>\n",
       "      <td>153.80</td>\n",
       "      <td>1538.00</td>\n",
       "      <td></td>\n",
       "      <td>7</td>\n",
       "      <td>2</td>\n",
       "      <td>0</td>\n",
       "      <td>308.98</td>\n",
       "      <td>0</td>\n",
       "      <td>5</td>\n",
       "      <td>76.90</td>\n",
       "      <td>0.00</td>\n",
       "      <td>0</td>\n",
       "      <td>1</td>\n",
       "      <td>1</td>\n",
       "      <td>45.82</td>\n",
       "      <td>5</td>\n",
       "      <td>6000</td>\n",
       "      <td>0</td>\n",
       "      <td>3</td>\n",
       "      <td>0</td>\n",
       "      <td>6</td>\n",
       "      <td>1</td>\n",
       "      <td>0</td>\n",
       "    </tr>\n",
       "    <tr>\n",
       "      <th>1</th>\n",
       "      <td>1</td>\n",
       "      <td>0</td>\n",
       "      <td>2</td>\n",
       "      <td>107800.0</td>\n",
       "      <td>6</td>\n",
       "      <td>715</td>\n",
       "      <td>NY</td>\n",
       "      <td>22</td>\n",
       "      <td>1.59</td>\n",
       "      <td>34.98</td>\n",
       "      <td>card replace billing address billing address</td>\n",
       "      <td>11</td>\n",
       "      <td>2</td>\n",
       "      <td>0</td>\n",
       "      <td>3.28</td>\n",
       "      <td>1</td>\n",
       "      <td>4</td>\n",
       "      <td>60.00</td>\n",
       "      <td>25.02</td>\n",
       "      <td>1</td>\n",
       "      <td>2</td>\n",
       "      <td>1</td>\n",
       "      <td>67.40</td>\n",
       "      <td>0</td>\n",
       "      <td>10000</td>\n",
       "      <td>1</td>\n",
       "      <td>3</td>\n",
       "      <td>0</td>\n",
       "      <td>87</td>\n",
       "      <td>0</td>\n",
       "      <td>0</td>\n",
       "    </tr>\n",
       "    <tr>\n",
       "      <th>2</th>\n",
       "      <td>1</td>\n",
       "      <td>0</td>\n",
       "      <td>1</td>\n",
       "      <td>74000.0</td>\n",
       "      <td>13</td>\n",
       "      <td>751</td>\n",
       "      <td>MA</td>\n",
       "      <td>7</td>\n",
       "      <td>57.64</td>\n",
       "      <td>403.48</td>\n",
       "      <td>billing address   customer call</td>\n",
       "      <td>4</td>\n",
       "      <td>0</td>\n",
       "      <td>0</td>\n",
       "      <td>0.00</td>\n",
       "      <td>0</td>\n",
       "      <td>4</td>\n",
       "      <td>796.63</td>\n",
       "      <td>393.15</td>\n",
       "      <td>1</td>\n",
       "      <td>2</td>\n",
       "      <td>1</td>\n",
       "      <td>450.69</td>\n",
       "      <td>0</td>\n",
       "      <td>10000</td>\n",
       "      <td>0</td>\n",
       "      <td>3</td>\n",
       "      <td>0</td>\n",
       "      <td>6</td>\n",
       "      <td>0</td>\n",
       "      <td>0</td>\n",
       "    </tr>\n",
       "    <tr>\n",
       "      <th>3</th>\n",
       "      <td>1</td>\n",
       "      <td>0</td>\n",
       "      <td>0</td>\n",
       "      <td>57700.0</td>\n",
       "      <td>1</td>\n",
       "      <td>659</td>\n",
       "      <td>NJ</td>\n",
       "      <td>14</td>\n",
       "      <td>29.52</td>\n",
       "      <td>413.28</td>\n",
       "      <td></td>\n",
       "      <td>7</td>\n",
       "      <td>2</td>\n",
       "      <td>0</td>\n",
       "      <td>59.14</td>\n",
       "      <td>1</td>\n",
       "      <td>3</td>\n",
       "      <td>413.28</td>\n",
       "      <td>0.00</td>\n",
       "      <td>0</td>\n",
       "      <td>1</td>\n",
       "      <td>1</td>\n",
       "      <td>71.43</td>\n",
       "      <td>0</td>\n",
       "      <td>8000</td>\n",
       "      <td>1</td>\n",
       "      <td>5</td>\n",
       "      <td>0</td>\n",
       "      <td>7</td>\n",
       "      <td>2</td>\n",
       "      <td>0</td>\n",
       "    </tr>\n",
       "    <tr>\n",
       "      <th>4</th>\n",
       "      <td>1</td>\n",
       "      <td>0</td>\n",
       "      <td>1</td>\n",
       "      <td>59800.0</td>\n",
       "      <td>3</td>\n",
       "      <td>709</td>\n",
       "      <td>PA</td>\n",
       "      <td>54</td>\n",
       "      <td>115.77</td>\n",
       "      <td>6251.58</td>\n",
       "      <td>change request statement late payment bitcoin</td>\n",
       "      <td>16</td>\n",
       "      <td>7</td>\n",
       "      <td>2</td>\n",
       "      <td>785.85</td>\n",
       "      <td>2</td>\n",
       "      <td>3</td>\n",
       "      <td>8928.41</td>\n",
       "      <td>2676.83</td>\n",
       "      <td>1</td>\n",
       "      <td>2</td>\n",
       "      <td>1</td>\n",
       "      <td>2731.39</td>\n",
       "      <td>3</td>\n",
       "      <td>7000</td>\n",
       "      <td>1</td>\n",
       "      <td>1</td>\n",
       "      <td>0</td>\n",
       "      <td>8</td>\n",
       "      <td>1</td>\n",
       "      <td>0</td>\n",
       "    </tr>\n",
       "  </tbody>\n",
       "</table>\n",
       "</div>"
      ],
      "text/plain": [
       "   ALERT  SAR  kycRiskScore    income  tenureMonths  creditScore state  \\\n",
       "0      1    0             3  110300.0             5          757    PA   \n",
       "1      1    0             2  107800.0             6          715    NY   \n",
       "2      1    0             1   74000.0            13          751    MA   \n",
       "3      1    0             0   57700.0             1          659    NJ   \n",
       "4      1    0             1   59800.0             3          709    PA   \n",
       "\n",
       "   nbrPurchases90d  avgTxnSize90d  totalSpend90d  \\\n",
       "0               10         153.80        1538.00   \n",
       "1               22           1.59          34.98   \n",
       "2                7          57.64         403.48   \n",
       "3               14          29.52         413.28   \n",
       "4               54         115.77        6251.58   \n",
       "\n",
       "                                        csrNotes  nbrDistinctMerch90d  \\\n",
       "0                                                                   7   \n",
       "1   card replace billing address billing address                   11   \n",
       "2                billing address   customer call                    4   \n",
       "3                                                                   7   \n",
       "4  change request statement late payment bitcoin                   16   \n",
       "\n",
       "   nbrMerchCredits90d  nbrMerchCreditsRndDollarAmt90d  totalMerchCred90d  \\\n",
       "0                   2                               0             308.98   \n",
       "1                   2                               0               3.28   \n",
       "2                   0                               0               0.00   \n",
       "3                   2                               0              59.14   \n",
       "4                   7                               2             785.85   \n",
       "\n",
       "   nbrMerchCreditsWoOffsettingPurch  nbrPayments90d  totalPaymentAmt90d  \\\n",
       "0                                 0               5               76.90   \n",
       "1                                 1               4               60.00   \n",
       "2                                 0               4              796.63   \n",
       "3                                 1               3              413.28   \n",
       "4                                 2               3             8928.41   \n",
       "\n",
       "   overpaymentAmt90d  overpaymentInd90d  nbrCustReqRefunds90d  \\\n",
       "0               0.00                  0                     1   \n",
       "1              25.02                  1                     2   \n",
       "2             393.15                  1                     2   \n",
       "3               0.00                  0                     1   \n",
       "4            2676.83                  1                     2   \n",
       "\n",
       "   indCustReqRefund90d  totalRefundsToCust90d  nbrPaymentsCashLike90d  \\\n",
       "0                    1                  45.82                       5   \n",
       "1                    1                  67.40                       0   \n",
       "2                    1                 450.69                       0   \n",
       "3                    1                  71.43                       0   \n",
       "4                    1                2731.39                       3   \n",
       "\n",
       "   maxRevolveLine  indOwnsHome  nbrInquiries1y  nbrCollections3y  \\\n",
       "0            6000            0               3                 0   \n",
       "1           10000            1               3                 0   \n",
       "2           10000            0               3                 0   \n",
       "3            8000            1               5                 0   \n",
       "4            7000            1               1                 0   \n",
       "\n",
       "   nbrWebLogins90d  nbrPointRed90d  PEP  \n",
       "0                6               1    0  \n",
       "1               87               0    0  \n",
       "2                6               0    0  \n",
       "3                7               2    0  \n",
       "4                8               1    0  "
      ]
     },
     "execution_count": 5,
     "metadata": {},
     "output_type": "execute_result"
    }
   ],
   "source": [
    "data_path = 'money_laudering_data.csv'\n",
    "df = pd.read_csv(data_path , delimiter=',')\n",
    "df.head()"
   ]
  },
  {
   "cell_type": "markdown",
   "id": "5e0f2901",
   "metadata": {},
   "source": [
    "The dataframe contains 10000 rows and 31 columns"
   ]
  },
  {
   "cell_type": "code",
   "execution_count": 6,
   "id": "9c4ab893",
   "metadata": {},
   "outputs": [
    {
     "data": {
      "text/plain": [
       "ALERT                                 0\n",
       "SAR                                   0\n",
       "kycRiskScore                          0\n",
       "income                              200\n",
       "tenureMonths                          0\n",
       "creditScore                           0\n",
       "state                                 0\n",
       "nbrPurchases90d                       0\n",
       "avgTxnSize90d                         0\n",
       "totalSpend90d                         0\n",
       "csrNotes                              0\n",
       "nbrDistinctMerch90d                   0\n",
       "nbrMerchCredits90d                    0\n",
       "nbrMerchCreditsRndDollarAmt90d        0\n",
       "totalMerchCred90d                     0\n",
       "nbrMerchCreditsWoOffsettingPurch      0\n",
       "nbrPayments90d                        0\n",
       "totalPaymentAmt90d                    0\n",
       "overpaymentAmt90d                     0\n",
       "overpaymentInd90d                     0\n",
       "nbrCustReqRefunds90d                  0\n",
       "indCustReqRefund90d                   0\n",
       "totalRefundsToCust90d                 0\n",
       "nbrPaymentsCashLike90d                0\n",
       "maxRevolveLine                        0\n",
       "indOwnsHome                           0\n",
       "nbrInquiries1y                        0\n",
       "nbrCollections3y                      0\n",
       "nbrWebLogins90d                       0\n",
       "nbrPointRed90d                        0\n",
       "PEP                                   0\n",
       "dtype: int64"
      ]
     },
     "execution_count": 6,
     "metadata": {},
     "output_type": "execute_result"
    }
   ],
   "source": [
    "# check which columns contain NaN values\n",
    "df.isna().sum()"
   ]
  },
  {
   "cell_type": "markdown",
   "id": "76929e49",
   "metadata": {},
   "source": [
    "The column `income` contains 200 NaN values"
   ]
  },
  {
   "cell_type": "code",
   "execution_count": 7,
   "id": "1b2d0566",
   "metadata": {},
   "outputs": [],
   "source": [
    "# Handling missing values\n",
    "df = df[df[\"income\"].isna()]"
   ]
  },
  {
   "cell_type": "code",
   "execution_count": 8,
   "id": "e921bd68",
   "metadata": {},
   "outputs": [
    {
     "data": {
      "text/html": [
       "<div>\n",
       "<style scoped>\n",
       "    .dataframe tbody tr th:only-of-type {\n",
       "        vertical-align: middle;\n",
       "    }\n",
       "\n",
       "    .dataframe tbody tr th {\n",
       "        vertical-align: top;\n",
       "    }\n",
       "\n",
       "    .dataframe thead th {\n",
       "        text-align: right;\n",
       "    }\n",
       "</style>\n",
       "<table border=\"1\" class=\"dataframe\">\n",
       "  <thead>\n",
       "    <tr style=\"text-align: right;\">\n",
       "      <th></th>\n",
       "      <th>ALERT</th>\n",
       "      <th>SAR</th>\n",
       "      <th>kycRiskScore</th>\n",
       "      <th>income</th>\n",
       "      <th>tenureMonths</th>\n",
       "      <th>creditScore</th>\n",
       "      <th>nbrPurchases90d</th>\n",
       "      <th>avgTxnSize90d</th>\n",
       "      <th>totalSpend90d</th>\n",
       "      <th>nbrDistinctMerch90d</th>\n",
       "      <th>nbrMerchCredits90d</th>\n",
       "      <th>nbrMerchCreditsRndDollarAmt90d</th>\n",
       "      <th>totalMerchCred90d</th>\n",
       "      <th>nbrMerchCreditsWoOffsettingPurch</th>\n",
       "      <th>nbrPayments90d</th>\n",
       "      <th>totalPaymentAmt90d</th>\n",
       "      <th>overpaymentAmt90d</th>\n",
       "      <th>overpaymentInd90d</th>\n",
       "      <th>nbrCustReqRefunds90d</th>\n",
       "      <th>indCustReqRefund90d</th>\n",
       "      <th>totalRefundsToCust90d</th>\n",
       "      <th>nbrPaymentsCashLike90d</th>\n",
       "      <th>maxRevolveLine</th>\n",
       "      <th>indOwnsHome</th>\n",
       "      <th>nbrInquiries1y</th>\n",
       "      <th>nbrCollections3y</th>\n",
       "      <th>nbrWebLogins90d</th>\n",
       "      <th>nbrPointRed90d</th>\n",
       "      <th>PEP</th>\n",
       "    </tr>\n",
       "  </thead>\n",
       "  <tbody>\n",
       "    <tr>\n",
       "      <th>ALERT</th>\n",
       "      <td>NaN</td>\n",
       "      <td>NaN</td>\n",
       "      <td>NaN</td>\n",
       "      <td>NaN</td>\n",
       "      <td>NaN</td>\n",
       "      <td>NaN</td>\n",
       "      <td>NaN</td>\n",
       "      <td>NaN</td>\n",
       "      <td>NaN</td>\n",
       "      <td>NaN</td>\n",
       "      <td>NaN</td>\n",
       "      <td>NaN</td>\n",
       "      <td>NaN</td>\n",
       "      <td>NaN</td>\n",
       "      <td>NaN</td>\n",
       "      <td>NaN</td>\n",
       "      <td>NaN</td>\n",
       "      <td>NaN</td>\n",
       "      <td>NaN</td>\n",
       "      <td>NaN</td>\n",
       "      <td>NaN</td>\n",
       "      <td>NaN</td>\n",
       "      <td>NaN</td>\n",
       "      <td>NaN</td>\n",
       "      <td>NaN</td>\n",
       "      <td>NaN</td>\n",
       "      <td>NaN</td>\n",
       "      <td>NaN</td>\n",
       "      <td>NaN</td>\n",
       "    </tr>\n",
       "    <tr>\n",
       "      <th>SAR</th>\n",
       "      <td>NaN</td>\n",
       "      <td>1.000000e+00</td>\n",
       "      <td>-0.035922</td>\n",
       "      <td>NaN</td>\n",
       "      <td>-0.042177</td>\n",
       "      <td>-0.123187</td>\n",
       "      <td>0.282779</td>\n",
       "      <td>0.177028</td>\n",
       "      <td>0.555082</td>\n",
       "      <td>0.286992</td>\n",
       "      <td>0.341874</td>\n",
       "      <td>0.268440</td>\n",
       "      <td>0.545702</td>\n",
       "      <td>0.242233</td>\n",
       "      <td>-1.821830e-17</td>\n",
       "      <td>0.449055</td>\n",
       "      <td>0.048490</td>\n",
       "      <td>0.064866</td>\n",
       "      <td>0.215431</td>\n",
       "      <td>NaN</td>\n",
       "      <td>0.047945</td>\n",
       "      <td>0.242469</td>\n",
       "      <td>0.019127</td>\n",
       "      <td>-0.041005</td>\n",
       "      <td>0.036479</td>\n",
       "      <td>-0.026129</td>\n",
       "      <td>0.051022</td>\n",
       "      <td>-0.023736</td>\n",
       "      <td>NaN</td>\n",
       "    </tr>\n",
       "    <tr>\n",
       "      <th>kycRiskScore</th>\n",
       "      <td>NaN</td>\n",
       "      <td>-3.592176e-02</td>\n",
       "      <td>1.000000</td>\n",
       "      <td>NaN</td>\n",
       "      <td>0.146078</td>\n",
       "      <td>0.040689</td>\n",
       "      <td>-0.050750</td>\n",
       "      <td>0.020942</td>\n",
       "      <td>-0.007753</td>\n",
       "      <td>-0.053237</td>\n",
       "      <td>-0.053693</td>\n",
       "      <td>0.001537</td>\n",
       "      <td>-0.024527</td>\n",
       "      <td>-0.013547</td>\n",
       "      <td>1.309546e-02</td>\n",
       "      <td>-0.007195</td>\n",
       "      <td>0.027133</td>\n",
       "      <td>-0.018539</td>\n",
       "      <td>0.060185</td>\n",
       "      <td>NaN</td>\n",
       "      <td>0.026920</td>\n",
       "      <td>0.042513</td>\n",
       "      <td>-0.053687</td>\n",
       "      <td>-0.074256</td>\n",
       "      <td>-0.014370</td>\n",
       "      <td>0.008998</td>\n",
       "      <td>0.008036</td>\n",
       "      <td>0.066838</td>\n",
       "      <td>NaN</td>\n",
       "    </tr>\n",
       "    <tr>\n",
       "      <th>income</th>\n",
       "      <td>NaN</td>\n",
       "      <td>NaN</td>\n",
       "      <td>NaN</td>\n",
       "      <td>NaN</td>\n",
       "      <td>NaN</td>\n",
       "      <td>NaN</td>\n",
       "      <td>NaN</td>\n",
       "      <td>NaN</td>\n",
       "      <td>NaN</td>\n",
       "      <td>NaN</td>\n",
       "      <td>NaN</td>\n",
       "      <td>NaN</td>\n",
       "      <td>NaN</td>\n",
       "      <td>NaN</td>\n",
       "      <td>NaN</td>\n",
       "      <td>NaN</td>\n",
       "      <td>NaN</td>\n",
       "      <td>NaN</td>\n",
       "      <td>NaN</td>\n",
       "      <td>NaN</td>\n",
       "      <td>NaN</td>\n",
       "      <td>NaN</td>\n",
       "      <td>NaN</td>\n",
       "      <td>NaN</td>\n",
       "      <td>NaN</td>\n",
       "      <td>NaN</td>\n",
       "      <td>NaN</td>\n",
       "      <td>NaN</td>\n",
       "      <td>NaN</td>\n",
       "    </tr>\n",
       "    <tr>\n",
       "      <th>tenureMonths</th>\n",
       "      <td>NaN</td>\n",
       "      <td>-4.217748e-02</td>\n",
       "      <td>0.146078</td>\n",
       "      <td>NaN</td>\n",
       "      <td>1.000000</td>\n",
       "      <td>-0.025988</td>\n",
       "      <td>-0.119936</td>\n",
       "      <td>0.069867</td>\n",
       "      <td>0.045818</td>\n",
       "      <td>-0.127943</td>\n",
       "      <td>-0.101425</td>\n",
       "      <td>-0.061499</td>\n",
       "      <td>0.079116</td>\n",
       "      <td>-0.068778</td>\n",
       "      <td>-1.427747e-01</td>\n",
       "      <td>0.090687</td>\n",
       "      <td>0.095424</td>\n",
       "      <td>-0.005749</td>\n",
       "      <td>-0.024381</td>\n",
       "      <td>NaN</td>\n",
       "      <td>0.093825</td>\n",
       "      <td>-0.054811</td>\n",
       "      <td>-0.062726</td>\n",
       "      <td>0.072487</td>\n",
       "      <td>-0.044389</td>\n",
       "      <td>0.009843</td>\n",
       "      <td>-0.020972</td>\n",
       "      <td>0.120075</td>\n",
       "      <td>NaN</td>\n",
       "    </tr>\n",
       "    <tr>\n",
       "      <th>creditScore</th>\n",
       "      <td>NaN</td>\n",
       "      <td>-1.231869e-01</td>\n",
       "      <td>0.040689</td>\n",
       "      <td>NaN</td>\n",
       "      <td>-0.025988</td>\n",
       "      <td>1.000000</td>\n",
       "      <td>-0.038691</td>\n",
       "      <td>0.078492</td>\n",
       "      <td>-0.105673</td>\n",
       "      <td>-0.048987</td>\n",
       "      <td>-0.067084</td>\n",
       "      <td>-0.034713</td>\n",
       "      <td>-0.118418</td>\n",
       "      <td>-0.003839</td>\n",
       "      <td>5.005995e-02</td>\n",
       "      <td>-0.023865</td>\n",
       "      <td>0.049344</td>\n",
       "      <td>0.055587</td>\n",
       "      <td>-0.007998</td>\n",
       "      <td>NaN</td>\n",
       "      <td>0.048513</td>\n",
       "      <td>-0.024393</td>\n",
       "      <td>-0.011007</td>\n",
       "      <td>-0.101829</td>\n",
       "      <td>0.070529</td>\n",
       "      <td>-0.177898</td>\n",
       "      <td>0.105729</td>\n",
       "      <td>0.060849</td>\n",
       "      <td>NaN</td>\n",
       "    </tr>\n",
       "    <tr>\n",
       "      <th>nbrPurchases90d</th>\n",
       "      <td>NaN</td>\n",
       "      <td>2.827791e-01</td>\n",
       "      <td>-0.050750</td>\n",
       "      <td>NaN</td>\n",
       "      <td>-0.119936</td>\n",
       "      <td>-0.038691</td>\n",
       "      <td>1.000000</td>\n",
       "      <td>-0.089321</td>\n",
       "      <td>0.539579</td>\n",
       "      <td>0.987802</td>\n",
       "      <td>0.900016</td>\n",
       "      <td>0.793119</td>\n",
       "      <td>0.438875</td>\n",
       "      <td>0.845813</td>\n",
       "      <td>-4.499693e-02</td>\n",
       "      <td>0.399061</td>\n",
       "      <td>0.039396</td>\n",
       "      <td>-0.099453</td>\n",
       "      <td>-0.047616</td>\n",
       "      <td>NaN</td>\n",
       "      <td>0.039530</td>\n",
       "      <td>0.300711</td>\n",
       "      <td>0.104664</td>\n",
       "      <td>-0.037679</td>\n",
       "      <td>0.111617</td>\n",
       "      <td>0.106507</td>\n",
       "      <td>0.061980</td>\n",
       "      <td>0.189828</td>\n",
       "      <td>NaN</td>\n",
       "    </tr>\n",
       "    <tr>\n",
       "      <th>avgTxnSize90d</th>\n",
       "      <td>NaN</td>\n",
       "      <td>1.770276e-01</td>\n",
       "      <td>0.020942</td>\n",
       "      <td>NaN</td>\n",
       "      <td>0.069867</td>\n",
       "      <td>0.078492</td>\n",
       "      <td>-0.089321</td>\n",
       "      <td>1.000000</td>\n",
       "      <td>0.444794</td>\n",
       "      <td>-0.080098</td>\n",
       "      <td>-0.057417</td>\n",
       "      <td>-0.038771</td>\n",
       "      <td>0.314325</td>\n",
       "      <td>-0.058829</td>\n",
       "      <td>2.534648e-02</td>\n",
       "      <td>0.485478</td>\n",
       "      <td>0.279979</td>\n",
       "      <td>-0.142744</td>\n",
       "      <td>0.050374</td>\n",
       "      <td>NaN</td>\n",
       "      <td>0.280716</td>\n",
       "      <td>0.185583</td>\n",
       "      <td>-0.116108</td>\n",
       "      <td>-0.005066</td>\n",
       "      <td>-0.003001</td>\n",
       "      <td>0.064774</td>\n",
       "      <td>0.059766</td>\n",
       "      <td>-0.118104</td>\n",
       "      <td>NaN</td>\n",
       "    </tr>\n",
       "    <tr>\n",
       "      <th>totalSpend90d</th>\n",
       "      <td>NaN</td>\n",
       "      <td>5.550825e-01</td>\n",
       "      <td>-0.007753</td>\n",
       "      <td>NaN</td>\n",
       "      <td>0.045818</td>\n",
       "      <td>-0.105673</td>\n",
       "      <td>0.539579</td>\n",
       "      <td>0.444794</td>\n",
       "      <td>1.000000</td>\n",
       "      <td>0.542390</td>\n",
       "      <td>0.581751</td>\n",
       "      <td>0.522944</td>\n",
       "      <td>0.897176</td>\n",
       "      <td>0.468632</td>\n",
       "      <td>-3.487382e-02</td>\n",
       "      <td>0.830131</td>\n",
       "      <td>0.174970</td>\n",
       "      <td>-0.216825</td>\n",
       "      <td>-0.080274</td>\n",
       "      <td>NaN</td>\n",
       "      <td>0.177027</td>\n",
       "      <td>0.426003</td>\n",
       "      <td>0.049259</td>\n",
       "      <td>0.052208</td>\n",
       "      <td>0.048041</td>\n",
       "      <td>0.002825</td>\n",
       "      <td>0.107919</td>\n",
       "      <td>0.025875</td>\n",
       "      <td>NaN</td>\n",
       "    </tr>\n",
       "    <tr>\n",
       "      <th>nbrDistinctMerch90d</th>\n",
       "      <td>NaN</td>\n",
       "      <td>2.869915e-01</td>\n",
       "      <td>-0.053237</td>\n",
       "      <td>NaN</td>\n",
       "      <td>-0.127943</td>\n",
       "      <td>-0.048987</td>\n",
       "      <td>0.987802</td>\n",
       "      <td>-0.080098</td>\n",
       "      <td>0.542390</td>\n",
       "      <td>1.000000</td>\n",
       "      <td>0.878415</td>\n",
       "      <td>0.771854</td>\n",
       "      <td>0.428917</td>\n",
       "      <td>0.824268</td>\n",
       "      <td>-4.985395e-02</td>\n",
       "      <td>0.393084</td>\n",
       "      <td>0.026456</td>\n",
       "      <td>-0.107989</td>\n",
       "      <td>-0.050654</td>\n",
       "      <td>NaN</td>\n",
       "      <td>0.026559</td>\n",
       "      <td>0.289224</td>\n",
       "      <td>0.121720</td>\n",
       "      <td>-0.045545</td>\n",
       "      <td>0.101694</td>\n",
       "      <td>0.089928</td>\n",
       "      <td>0.056094</td>\n",
       "      <td>0.186772</td>\n",
       "      <td>NaN</td>\n",
       "    </tr>\n",
       "    <tr>\n",
       "      <th>nbrMerchCredits90d</th>\n",
       "      <td>NaN</td>\n",
       "      <td>3.418737e-01</td>\n",
       "      <td>-0.053693</td>\n",
       "      <td>NaN</td>\n",
       "      <td>-0.101425</td>\n",
       "      <td>-0.067084</td>\n",
       "      <td>0.900016</td>\n",
       "      <td>-0.057417</td>\n",
       "      <td>0.581751</td>\n",
       "      <td>0.878415</td>\n",
       "      <td>1.000000</td>\n",
       "      <td>0.844903</td>\n",
       "      <td>0.607394</td>\n",
       "      <td>0.896070</td>\n",
       "      <td>9.868758e-03</td>\n",
       "      <td>0.440027</td>\n",
       "      <td>0.051471</td>\n",
       "      <td>-0.088413</td>\n",
       "      <td>-0.028199</td>\n",
       "      <td>NaN</td>\n",
       "      <td>0.051665</td>\n",
       "      <td>0.381126</td>\n",
       "      <td>0.092338</td>\n",
       "      <td>-0.071141</td>\n",
       "      <td>0.081210</td>\n",
       "      <td>0.079867</td>\n",
       "      <td>0.021563</td>\n",
       "      <td>0.168234</td>\n",
       "      <td>NaN</td>\n",
       "    </tr>\n",
       "    <tr>\n",
       "      <th>nbrMerchCreditsRndDollarAmt90d</th>\n",
       "      <td>NaN</td>\n",
       "      <td>2.684402e-01</td>\n",
       "      <td>0.001537</td>\n",
       "      <td>NaN</td>\n",
       "      <td>-0.061499</td>\n",
       "      <td>-0.034713</td>\n",
       "      <td>0.793119</td>\n",
       "      <td>-0.038771</td>\n",
       "      <td>0.522944</td>\n",
       "      <td>0.771854</td>\n",
       "      <td>0.844903</td>\n",
       "      <td>1.000000</td>\n",
       "      <td>0.531954</td>\n",
       "      <td>0.760996</td>\n",
       "      <td>-9.604565e-02</td>\n",
       "      <td>0.401003</td>\n",
       "      <td>0.009003</td>\n",
       "      <td>-0.114333</td>\n",
       "      <td>-0.025358</td>\n",
       "      <td>NaN</td>\n",
       "      <td>0.009240</td>\n",
       "      <td>0.258512</td>\n",
       "      <td>0.116592</td>\n",
       "      <td>-0.006203</td>\n",
       "      <td>-0.010892</td>\n",
       "      <td>0.087341</td>\n",
       "      <td>0.041791</td>\n",
       "      <td>0.180731</td>\n",
       "      <td>NaN</td>\n",
       "    </tr>\n",
       "    <tr>\n",
       "      <th>totalMerchCred90d</th>\n",
       "      <td>NaN</td>\n",
       "      <td>5.457020e-01</td>\n",
       "      <td>-0.024527</td>\n",
       "      <td>NaN</td>\n",
       "      <td>0.079116</td>\n",
       "      <td>-0.118418</td>\n",
       "      <td>0.438875</td>\n",
       "      <td>0.314325</td>\n",
       "      <td>0.897176</td>\n",
       "      <td>0.428917</td>\n",
       "      <td>0.607394</td>\n",
       "      <td>0.531954</td>\n",
       "      <td>1.000000</td>\n",
       "      <td>0.482371</td>\n",
       "      <td>-2.359221e-02</td>\n",
       "      <td>0.692024</td>\n",
       "      <td>0.140344</td>\n",
       "      <td>-0.171472</td>\n",
       "      <td>-0.068457</td>\n",
       "      <td>NaN</td>\n",
       "      <td>0.142182</td>\n",
       "      <td>0.417953</td>\n",
       "      <td>0.016463</td>\n",
       "      <td>0.048633</td>\n",
       "      <td>0.025745</td>\n",
       "      <td>0.010723</td>\n",
       "      <td>0.099613</td>\n",
       "      <td>0.030913</td>\n",
       "      <td>NaN</td>\n",
       "    </tr>\n",
       "    <tr>\n",
       "      <th>nbrMerchCreditsWoOffsettingPurch</th>\n",
       "      <td>NaN</td>\n",
       "      <td>2.422326e-01</td>\n",
       "      <td>-0.013547</td>\n",
       "      <td>NaN</td>\n",
       "      <td>-0.068778</td>\n",
       "      <td>-0.003839</td>\n",
       "      <td>0.845813</td>\n",
       "      <td>-0.058829</td>\n",
       "      <td>0.468632</td>\n",
       "      <td>0.824268</td>\n",
       "      <td>0.896070</td>\n",
       "      <td>0.760996</td>\n",
       "      <td>0.482371</td>\n",
       "      <td>1.000000</td>\n",
       "      <td>-2.076524e-02</td>\n",
       "      <td>0.349518</td>\n",
       "      <td>0.076745</td>\n",
       "      <td>-0.083243</td>\n",
       "      <td>-0.028729</td>\n",
       "      <td>NaN</td>\n",
       "      <td>0.076737</td>\n",
       "      <td>0.332925</td>\n",
       "      <td>0.045854</td>\n",
       "      <td>-0.056743</td>\n",
       "      <td>0.065991</td>\n",
       "      <td>0.101200</td>\n",
       "      <td>0.021300</td>\n",
       "      <td>0.150834</td>\n",
       "      <td>NaN</td>\n",
       "    </tr>\n",
       "    <tr>\n",
       "      <th>nbrPayments90d</th>\n",
       "      <td>NaN</td>\n",
       "      <td>-1.821830e-17</td>\n",
       "      <td>0.013095</td>\n",
       "      <td>NaN</td>\n",
       "      <td>-0.142775</td>\n",
       "      <td>0.050060</td>\n",
       "      <td>-0.044997</td>\n",
       "      <td>0.025346</td>\n",
       "      <td>-0.034874</td>\n",
       "      <td>-0.049854</td>\n",
       "      <td>0.009869</td>\n",
       "      <td>-0.096046</td>\n",
       "      <td>-0.023592</td>\n",
       "      <td>-0.020765</td>\n",
       "      <td>1.000000e+00</td>\n",
       "      <td>-0.038059</td>\n",
       "      <td>0.004952</td>\n",
       "      <td>-0.000785</td>\n",
       "      <td>0.047895</td>\n",
       "      <td>NaN</td>\n",
       "      <td>0.006340</td>\n",
       "      <td>0.363887</td>\n",
       "      <td>-0.033986</td>\n",
       "      <td>-0.119814</td>\n",
       "      <td>0.045733</td>\n",
       "      <td>0.046946</td>\n",
       "      <td>-0.012964</td>\n",
       "      <td>-0.007754</td>\n",
       "      <td>NaN</td>\n",
       "    </tr>\n",
       "    <tr>\n",
       "      <th>totalPaymentAmt90d</th>\n",
       "      <td>NaN</td>\n",
       "      <td>4.490549e-01</td>\n",
       "      <td>-0.007195</td>\n",
       "      <td>NaN</td>\n",
       "      <td>0.090687</td>\n",
       "      <td>-0.023865</td>\n",
       "      <td>0.399061</td>\n",
       "      <td>0.485478</td>\n",
       "      <td>0.830131</td>\n",
       "      <td>0.393084</td>\n",
       "      <td>0.440027</td>\n",
       "      <td>0.401003</td>\n",
       "      <td>0.692024</td>\n",
       "      <td>0.349518</td>\n",
       "      <td>-3.805865e-02</td>\n",
       "      <td>1.000000</td>\n",
       "      <td>0.453663</td>\n",
       "      <td>-0.071902</td>\n",
       "      <td>0.005674</td>\n",
       "      <td>NaN</td>\n",
       "      <td>0.455347</td>\n",
       "      <td>0.429241</td>\n",
       "      <td>0.019312</td>\n",
       "      <td>0.020419</td>\n",
       "      <td>0.059181</td>\n",
       "      <td>-0.017269</td>\n",
       "      <td>0.120030</td>\n",
       "      <td>0.008265</td>\n",
       "      <td>NaN</td>\n",
       "    </tr>\n",
       "    <tr>\n",
       "      <th>overpaymentAmt90d</th>\n",
       "      <td>NaN</td>\n",
       "      <td>4.849019e-02</td>\n",
       "      <td>0.027133</td>\n",
       "      <td>NaN</td>\n",
       "      <td>0.095424</td>\n",
       "      <td>0.049344</td>\n",
       "      <td>0.039396</td>\n",
       "      <td>0.279979</td>\n",
       "      <td>0.174970</td>\n",
       "      <td>0.026456</td>\n",
       "      <td>0.051471</td>\n",
       "      <td>0.009003</td>\n",
       "      <td>0.140344</td>\n",
       "      <td>0.076745</td>\n",
       "      <td>4.951532e-03</td>\n",
       "      <td>0.453663</td>\n",
       "      <td>1.000000</td>\n",
       "      <td>0.360121</td>\n",
       "      <td>0.244424</td>\n",
       "      <td>NaN</td>\n",
       "      <td>0.999846</td>\n",
       "      <td>0.277613</td>\n",
       "      <td>-0.135733</td>\n",
       "      <td>0.054419</td>\n",
       "      <td>0.017524</td>\n",
       "      <td>-0.063518</td>\n",
       "      <td>0.152362</td>\n",
       "      <td>0.031739</td>\n",
       "      <td>NaN</td>\n",
       "    </tr>\n",
       "    <tr>\n",
       "      <th>overpaymentInd90d</th>\n",
       "      <td>NaN</td>\n",
       "      <td>6.486581e-02</td>\n",
       "      <td>-0.018539</td>\n",
       "      <td>NaN</td>\n",
       "      <td>-0.005749</td>\n",
       "      <td>0.055587</td>\n",
       "      <td>-0.099453</td>\n",
       "      <td>-0.142744</td>\n",
       "      <td>-0.216825</td>\n",
       "      <td>-0.107989</td>\n",
       "      <td>-0.088413</td>\n",
       "      <td>-0.114333</td>\n",
       "      <td>-0.171472</td>\n",
       "      <td>-0.083243</td>\n",
       "      <td>-7.848266e-04</td>\n",
       "      <td>-0.071902</td>\n",
       "      <td>0.360121</td>\n",
       "      <td>1.000000</td>\n",
       "      <td>0.441931</td>\n",
       "      <td>NaN</td>\n",
       "      <td>0.353755</td>\n",
       "      <td>-0.070598</td>\n",
       "      <td>0.077802</td>\n",
       "      <td>0.048320</td>\n",
       "      <td>0.040590</td>\n",
       "      <td>-0.014406</td>\n",
       "      <td>0.032162</td>\n",
       "      <td>-0.057993</td>\n",
       "      <td>NaN</td>\n",
       "    </tr>\n",
       "    <tr>\n",
       "      <th>nbrCustReqRefunds90d</th>\n",
       "      <td>NaN</td>\n",
       "      <td>2.154308e-01</td>\n",
       "      <td>0.060185</td>\n",
       "      <td>NaN</td>\n",
       "      <td>-0.024381</td>\n",
       "      <td>-0.007998</td>\n",
       "      <td>-0.047616</td>\n",
       "      <td>0.050374</td>\n",
       "      <td>-0.080274</td>\n",
       "      <td>-0.050654</td>\n",
       "      <td>-0.028199</td>\n",
       "      <td>-0.025358</td>\n",
       "      <td>-0.068457</td>\n",
       "      <td>-0.028729</td>\n",
       "      <td>4.789532e-02</td>\n",
       "      <td>0.005674</td>\n",
       "      <td>0.244424</td>\n",
       "      <td>0.441931</td>\n",
       "      <td>1.000000</td>\n",
       "      <td>NaN</td>\n",
       "      <td>0.239152</td>\n",
       "      <td>-0.023123</td>\n",
       "      <td>-0.092300</td>\n",
       "      <td>-0.122015</td>\n",
       "      <td>0.097403</td>\n",
       "      <td>-0.028496</td>\n",
       "      <td>0.021032</td>\n",
       "      <td>-0.072227</td>\n",
       "      <td>NaN</td>\n",
       "    </tr>\n",
       "    <tr>\n",
       "      <th>indCustReqRefund90d</th>\n",
       "      <td>NaN</td>\n",
       "      <td>NaN</td>\n",
       "      <td>NaN</td>\n",
       "      <td>NaN</td>\n",
       "      <td>NaN</td>\n",
       "      <td>NaN</td>\n",
       "      <td>NaN</td>\n",
       "      <td>NaN</td>\n",
       "      <td>NaN</td>\n",
       "      <td>NaN</td>\n",
       "      <td>NaN</td>\n",
       "      <td>NaN</td>\n",
       "      <td>NaN</td>\n",
       "      <td>NaN</td>\n",
       "      <td>NaN</td>\n",
       "      <td>NaN</td>\n",
       "      <td>NaN</td>\n",
       "      <td>NaN</td>\n",
       "      <td>NaN</td>\n",
       "      <td>NaN</td>\n",
       "      <td>NaN</td>\n",
       "      <td>NaN</td>\n",
       "      <td>NaN</td>\n",
       "      <td>NaN</td>\n",
       "      <td>NaN</td>\n",
       "      <td>NaN</td>\n",
       "      <td>NaN</td>\n",
       "      <td>NaN</td>\n",
       "      <td>NaN</td>\n",
       "    </tr>\n",
       "    <tr>\n",
       "      <th>totalRefundsToCust90d</th>\n",
       "      <td>NaN</td>\n",
       "      <td>4.794529e-02</td>\n",
       "      <td>0.026920</td>\n",
       "      <td>NaN</td>\n",
       "      <td>0.093825</td>\n",
       "      <td>0.048513</td>\n",
       "      <td>0.039530</td>\n",
       "      <td>0.280716</td>\n",
       "      <td>0.177027</td>\n",
       "      <td>0.026559</td>\n",
       "      <td>0.051665</td>\n",
       "      <td>0.009240</td>\n",
       "      <td>0.142182</td>\n",
       "      <td>0.076737</td>\n",
       "      <td>6.339985e-03</td>\n",
       "      <td>0.455347</td>\n",
       "      <td>0.999846</td>\n",
       "      <td>0.353755</td>\n",
       "      <td>0.239152</td>\n",
       "      <td>NaN</td>\n",
       "      <td>1.000000</td>\n",
       "      <td>0.279282</td>\n",
       "      <td>-0.135443</td>\n",
       "      <td>0.054022</td>\n",
       "      <td>0.017895</td>\n",
       "      <td>-0.063166</td>\n",
       "      <td>0.152570</td>\n",
       "      <td>0.032443</td>\n",
       "      <td>NaN</td>\n",
       "    </tr>\n",
       "    <tr>\n",
       "      <th>nbrPaymentsCashLike90d</th>\n",
       "      <td>NaN</td>\n",
       "      <td>2.424687e-01</td>\n",
       "      <td>0.042513</td>\n",
       "      <td>NaN</td>\n",
       "      <td>-0.054811</td>\n",
       "      <td>-0.024393</td>\n",
       "      <td>0.300711</td>\n",
       "      <td>0.185583</td>\n",
       "      <td>0.426003</td>\n",
       "      <td>0.289224</td>\n",
       "      <td>0.381126</td>\n",
       "      <td>0.258512</td>\n",
       "      <td>0.417953</td>\n",
       "      <td>0.332925</td>\n",
       "      <td>3.638873e-01</td>\n",
       "      <td>0.429241</td>\n",
       "      <td>0.277613</td>\n",
       "      <td>-0.070598</td>\n",
       "      <td>-0.023123</td>\n",
       "      <td>NaN</td>\n",
       "      <td>0.279282</td>\n",
       "      <td>1.000000</td>\n",
       "      <td>-0.081008</td>\n",
       "      <td>-0.101703</td>\n",
       "      <td>0.117605</td>\n",
       "      <td>-0.066236</td>\n",
       "      <td>0.142380</td>\n",
       "      <td>0.162139</td>\n",
       "      <td>NaN</td>\n",
       "    </tr>\n",
       "    <tr>\n",
       "      <th>maxRevolveLine</th>\n",
       "      <td>NaN</td>\n",
       "      <td>1.912743e-02</td>\n",
       "      <td>-0.053687</td>\n",
       "      <td>NaN</td>\n",
       "      <td>-0.062726</td>\n",
       "      <td>-0.011007</td>\n",
       "      <td>0.104664</td>\n",
       "      <td>-0.116108</td>\n",
       "      <td>0.049259</td>\n",
       "      <td>0.121720</td>\n",
       "      <td>0.092338</td>\n",
       "      <td>0.116592</td>\n",
       "      <td>0.016463</td>\n",
       "      <td>0.045854</td>\n",
       "      <td>-3.398594e-02</td>\n",
       "      <td>0.019312</td>\n",
       "      <td>-0.135733</td>\n",
       "      <td>0.077802</td>\n",
       "      <td>-0.092300</td>\n",
       "      <td>NaN</td>\n",
       "      <td>-0.135443</td>\n",
       "      <td>-0.081008</td>\n",
       "      <td>1.000000</td>\n",
       "      <td>-0.065968</td>\n",
       "      <td>-0.021046</td>\n",
       "      <td>0.010258</td>\n",
       "      <td>-0.053112</td>\n",
       "      <td>0.079827</td>\n",
       "      <td>NaN</td>\n",
       "    </tr>\n",
       "    <tr>\n",
       "      <th>indOwnsHome</th>\n",
       "      <td>NaN</td>\n",
       "      <td>-4.100462e-02</td>\n",
       "      <td>-0.074256</td>\n",
       "      <td>NaN</td>\n",
       "      <td>0.072487</td>\n",
       "      <td>-0.101829</td>\n",
       "      <td>-0.037679</td>\n",
       "      <td>-0.005066</td>\n",
       "      <td>0.052208</td>\n",
       "      <td>-0.045545</td>\n",
       "      <td>-0.071141</td>\n",
       "      <td>-0.006203</td>\n",
       "      <td>0.048633</td>\n",
       "      <td>-0.056743</td>\n",
       "      <td>-1.198141e-01</td>\n",
       "      <td>0.020419</td>\n",
       "      <td>0.054419</td>\n",
       "      <td>0.048320</td>\n",
       "      <td>-0.122015</td>\n",
       "      <td>NaN</td>\n",
       "      <td>0.054022</td>\n",
       "      <td>-0.101703</td>\n",
       "      <td>-0.065968</td>\n",
       "      <td>1.000000</td>\n",
       "      <td>0.077034</td>\n",
       "      <td>-0.102051</td>\n",
       "      <td>0.007966</td>\n",
       "      <td>-0.108520</td>\n",
       "      <td>NaN</td>\n",
       "    </tr>\n",
       "    <tr>\n",
       "      <th>nbrInquiries1y</th>\n",
       "      <td>NaN</td>\n",
       "      <td>3.647902e-02</td>\n",
       "      <td>-0.014370</td>\n",
       "      <td>NaN</td>\n",
       "      <td>-0.044389</td>\n",
       "      <td>0.070529</td>\n",
       "      <td>0.111617</td>\n",
       "      <td>-0.003001</td>\n",
       "      <td>0.048041</td>\n",
       "      <td>0.101694</td>\n",
       "      <td>0.081210</td>\n",
       "      <td>-0.010892</td>\n",
       "      <td>0.025745</td>\n",
       "      <td>0.065991</td>\n",
       "      <td>4.573254e-02</td>\n",
       "      <td>0.059181</td>\n",
       "      <td>0.017524</td>\n",
       "      <td>0.040590</td>\n",
       "      <td>0.097403</td>\n",
       "      <td>NaN</td>\n",
       "      <td>0.017895</td>\n",
       "      <td>0.117605</td>\n",
       "      <td>-0.021046</td>\n",
       "      <td>0.077034</td>\n",
       "      <td>1.000000</td>\n",
       "      <td>-0.022766</td>\n",
       "      <td>-0.053866</td>\n",
       "      <td>0.063740</td>\n",
       "      <td>NaN</td>\n",
       "    </tr>\n",
       "    <tr>\n",
       "      <th>nbrCollections3y</th>\n",
       "      <td>NaN</td>\n",
       "      <td>-2.612873e-02</td>\n",
       "      <td>0.008998</td>\n",
       "      <td>NaN</td>\n",
       "      <td>0.009843</td>\n",
       "      <td>-0.177898</td>\n",
       "      <td>0.106507</td>\n",
       "      <td>0.064774</td>\n",
       "      <td>0.002825</td>\n",
       "      <td>0.089928</td>\n",
       "      <td>0.079867</td>\n",
       "      <td>0.087341</td>\n",
       "      <td>0.010723</td>\n",
       "      <td>0.101200</td>\n",
       "      <td>4.694643e-02</td>\n",
       "      <td>-0.017269</td>\n",
       "      <td>-0.063518</td>\n",
       "      <td>-0.014406</td>\n",
       "      <td>-0.028496</td>\n",
       "      <td>NaN</td>\n",
       "      <td>-0.063166</td>\n",
       "      <td>-0.066236</td>\n",
       "      <td>0.010258</td>\n",
       "      <td>-0.102051</td>\n",
       "      <td>-0.022766</td>\n",
       "      <td>1.000000</td>\n",
       "      <td>-0.036456</td>\n",
       "      <td>-0.075352</td>\n",
       "      <td>NaN</td>\n",
       "    </tr>\n",
       "    <tr>\n",
       "      <th>nbrWebLogins90d</th>\n",
       "      <td>NaN</td>\n",
       "      <td>5.102200e-02</td>\n",
       "      <td>0.008036</td>\n",
       "      <td>NaN</td>\n",
       "      <td>-0.020972</td>\n",
       "      <td>0.105729</td>\n",
       "      <td>0.061980</td>\n",
       "      <td>0.059766</td>\n",
       "      <td>0.107919</td>\n",
       "      <td>0.056094</td>\n",
       "      <td>0.021563</td>\n",
       "      <td>0.041791</td>\n",
       "      <td>0.099613</td>\n",
       "      <td>0.021300</td>\n",
       "      <td>-1.296387e-02</td>\n",
       "      <td>0.120030</td>\n",
       "      <td>0.152362</td>\n",
       "      <td>0.032162</td>\n",
       "      <td>0.021032</td>\n",
       "      <td>NaN</td>\n",
       "      <td>0.152570</td>\n",
       "      <td>0.142380</td>\n",
       "      <td>-0.053112</td>\n",
       "      <td>0.007966</td>\n",
       "      <td>-0.053866</td>\n",
       "      <td>-0.036456</td>\n",
       "      <td>1.000000</td>\n",
       "      <td>0.075178</td>\n",
       "      <td>NaN</td>\n",
       "    </tr>\n",
       "    <tr>\n",
       "      <th>nbrPointRed90d</th>\n",
       "      <td>NaN</td>\n",
       "      <td>-2.373563e-02</td>\n",
       "      <td>0.066838</td>\n",
       "      <td>NaN</td>\n",
       "      <td>0.120075</td>\n",
       "      <td>0.060849</td>\n",
       "      <td>0.189828</td>\n",
       "      <td>-0.118104</td>\n",
       "      <td>0.025875</td>\n",
       "      <td>0.186772</td>\n",
       "      <td>0.168234</td>\n",
       "      <td>0.180731</td>\n",
       "      <td>0.030913</td>\n",
       "      <td>0.150834</td>\n",
       "      <td>-7.753940e-03</td>\n",
       "      <td>0.008265</td>\n",
       "      <td>0.031739</td>\n",
       "      <td>-0.057993</td>\n",
       "      <td>-0.072227</td>\n",
       "      <td>NaN</td>\n",
       "      <td>0.032443</td>\n",
       "      <td>0.162139</td>\n",
       "      <td>0.079827</td>\n",
       "      <td>-0.108520</td>\n",
       "      <td>0.063740</td>\n",
       "      <td>-0.075352</td>\n",
       "      <td>0.075178</td>\n",
       "      <td>1.000000</td>\n",
       "      <td>NaN</td>\n",
       "    </tr>\n",
       "    <tr>\n",
       "      <th>PEP</th>\n",
       "      <td>NaN</td>\n",
       "      <td>NaN</td>\n",
       "      <td>NaN</td>\n",
       "      <td>NaN</td>\n",
       "      <td>NaN</td>\n",
       "      <td>NaN</td>\n",
       "      <td>NaN</td>\n",
       "      <td>NaN</td>\n",
       "      <td>NaN</td>\n",
       "      <td>NaN</td>\n",
       "      <td>NaN</td>\n",
       "      <td>NaN</td>\n",
       "      <td>NaN</td>\n",
       "      <td>NaN</td>\n",
       "      <td>NaN</td>\n",
       "      <td>NaN</td>\n",
       "      <td>NaN</td>\n",
       "      <td>NaN</td>\n",
       "      <td>NaN</td>\n",
       "      <td>NaN</td>\n",
       "      <td>NaN</td>\n",
       "      <td>NaN</td>\n",
       "      <td>NaN</td>\n",
       "      <td>NaN</td>\n",
       "      <td>NaN</td>\n",
       "      <td>NaN</td>\n",
       "      <td>NaN</td>\n",
       "      <td>NaN</td>\n",
       "      <td>NaN</td>\n",
       "    </tr>\n",
       "  </tbody>\n",
       "</table>\n",
       "</div>"
      ],
      "text/plain": [
       "                                  ALERT           SAR  kycRiskScore  income  \\\n",
       "ALERT                               NaN           NaN           NaN     NaN   \n",
       "SAR                                 NaN  1.000000e+00     -0.035922     NaN   \n",
       "kycRiskScore                        NaN -3.592176e-02      1.000000     NaN   \n",
       "income                              NaN           NaN           NaN     NaN   \n",
       "tenureMonths                        NaN -4.217748e-02      0.146078     NaN   \n",
       "creditScore                         NaN -1.231869e-01      0.040689     NaN   \n",
       "nbrPurchases90d                     NaN  2.827791e-01     -0.050750     NaN   \n",
       "avgTxnSize90d                       NaN  1.770276e-01      0.020942     NaN   \n",
       "totalSpend90d                       NaN  5.550825e-01     -0.007753     NaN   \n",
       "nbrDistinctMerch90d                 NaN  2.869915e-01     -0.053237     NaN   \n",
       "nbrMerchCredits90d                  NaN  3.418737e-01     -0.053693     NaN   \n",
       "nbrMerchCreditsRndDollarAmt90d      NaN  2.684402e-01      0.001537     NaN   \n",
       "totalMerchCred90d                   NaN  5.457020e-01     -0.024527     NaN   \n",
       "nbrMerchCreditsWoOffsettingPurch    NaN  2.422326e-01     -0.013547     NaN   \n",
       "nbrPayments90d                      NaN -1.821830e-17      0.013095     NaN   \n",
       "totalPaymentAmt90d                  NaN  4.490549e-01     -0.007195     NaN   \n",
       "overpaymentAmt90d                   NaN  4.849019e-02      0.027133     NaN   \n",
       "overpaymentInd90d                   NaN  6.486581e-02     -0.018539     NaN   \n",
       "nbrCustReqRefunds90d                NaN  2.154308e-01      0.060185     NaN   \n",
       "indCustReqRefund90d                 NaN           NaN           NaN     NaN   \n",
       "totalRefundsToCust90d               NaN  4.794529e-02      0.026920     NaN   \n",
       "nbrPaymentsCashLike90d              NaN  2.424687e-01      0.042513     NaN   \n",
       "maxRevolveLine                      NaN  1.912743e-02     -0.053687     NaN   \n",
       "indOwnsHome                         NaN -4.100462e-02     -0.074256     NaN   \n",
       "nbrInquiries1y                      NaN  3.647902e-02     -0.014370     NaN   \n",
       "nbrCollections3y                    NaN -2.612873e-02      0.008998     NaN   \n",
       "nbrWebLogins90d                     NaN  5.102200e-02      0.008036     NaN   \n",
       "nbrPointRed90d                      NaN -2.373563e-02      0.066838     NaN   \n",
       "PEP                                 NaN           NaN           NaN     NaN   \n",
       "\n",
       "                                  tenureMonths  creditScore  nbrPurchases90d  \\\n",
       "ALERT                                      NaN          NaN              NaN   \n",
       "SAR                                  -0.042177    -0.123187         0.282779   \n",
       "kycRiskScore                          0.146078     0.040689        -0.050750   \n",
       "income                                     NaN          NaN              NaN   \n",
       "tenureMonths                          1.000000    -0.025988        -0.119936   \n",
       "creditScore                          -0.025988     1.000000        -0.038691   \n",
       "nbrPurchases90d                      -0.119936    -0.038691         1.000000   \n",
       "avgTxnSize90d                         0.069867     0.078492        -0.089321   \n",
       "totalSpend90d                         0.045818    -0.105673         0.539579   \n",
       "nbrDistinctMerch90d                  -0.127943    -0.048987         0.987802   \n",
       "nbrMerchCredits90d                   -0.101425    -0.067084         0.900016   \n",
       "nbrMerchCreditsRndDollarAmt90d       -0.061499    -0.034713         0.793119   \n",
       "totalMerchCred90d                     0.079116    -0.118418         0.438875   \n",
       "nbrMerchCreditsWoOffsettingPurch     -0.068778    -0.003839         0.845813   \n",
       "nbrPayments90d                       -0.142775     0.050060        -0.044997   \n",
       "totalPaymentAmt90d                    0.090687    -0.023865         0.399061   \n",
       "overpaymentAmt90d                     0.095424     0.049344         0.039396   \n",
       "overpaymentInd90d                    -0.005749     0.055587        -0.099453   \n",
       "nbrCustReqRefunds90d                 -0.024381    -0.007998        -0.047616   \n",
       "indCustReqRefund90d                        NaN          NaN              NaN   \n",
       "totalRefundsToCust90d                 0.093825     0.048513         0.039530   \n",
       "nbrPaymentsCashLike90d               -0.054811    -0.024393         0.300711   \n",
       "maxRevolveLine                       -0.062726    -0.011007         0.104664   \n",
       "indOwnsHome                           0.072487    -0.101829        -0.037679   \n",
       "nbrInquiries1y                       -0.044389     0.070529         0.111617   \n",
       "nbrCollections3y                      0.009843    -0.177898         0.106507   \n",
       "nbrWebLogins90d                      -0.020972     0.105729         0.061980   \n",
       "nbrPointRed90d                        0.120075     0.060849         0.189828   \n",
       "PEP                                        NaN          NaN              NaN   \n",
       "\n",
       "                                  avgTxnSize90d  totalSpend90d  \\\n",
       "ALERT                                       NaN            NaN   \n",
       "SAR                                    0.177028       0.555082   \n",
       "kycRiskScore                           0.020942      -0.007753   \n",
       "income                                      NaN            NaN   \n",
       "tenureMonths                           0.069867       0.045818   \n",
       "creditScore                            0.078492      -0.105673   \n",
       "nbrPurchases90d                       -0.089321       0.539579   \n",
       "avgTxnSize90d                          1.000000       0.444794   \n",
       "totalSpend90d                          0.444794       1.000000   \n",
       "nbrDistinctMerch90d                   -0.080098       0.542390   \n",
       "nbrMerchCredits90d                    -0.057417       0.581751   \n",
       "nbrMerchCreditsRndDollarAmt90d        -0.038771       0.522944   \n",
       "totalMerchCred90d                      0.314325       0.897176   \n",
       "nbrMerchCreditsWoOffsettingPurch      -0.058829       0.468632   \n",
       "nbrPayments90d                         0.025346      -0.034874   \n",
       "totalPaymentAmt90d                     0.485478       0.830131   \n",
       "overpaymentAmt90d                      0.279979       0.174970   \n",
       "overpaymentInd90d                     -0.142744      -0.216825   \n",
       "nbrCustReqRefunds90d                   0.050374      -0.080274   \n",
       "indCustReqRefund90d                         NaN            NaN   \n",
       "totalRefundsToCust90d                  0.280716       0.177027   \n",
       "nbrPaymentsCashLike90d                 0.185583       0.426003   \n",
       "maxRevolveLine                        -0.116108       0.049259   \n",
       "indOwnsHome                           -0.005066       0.052208   \n",
       "nbrInquiries1y                        -0.003001       0.048041   \n",
       "nbrCollections3y                       0.064774       0.002825   \n",
       "nbrWebLogins90d                        0.059766       0.107919   \n",
       "nbrPointRed90d                        -0.118104       0.025875   \n",
       "PEP                                         NaN            NaN   \n",
       "\n",
       "                                  nbrDistinctMerch90d  nbrMerchCredits90d  \\\n",
       "ALERT                                             NaN                 NaN   \n",
       "SAR                                          0.286992            0.341874   \n",
       "kycRiskScore                                -0.053237           -0.053693   \n",
       "income                                            NaN                 NaN   \n",
       "tenureMonths                                -0.127943           -0.101425   \n",
       "creditScore                                 -0.048987           -0.067084   \n",
       "nbrPurchases90d                              0.987802            0.900016   \n",
       "avgTxnSize90d                               -0.080098           -0.057417   \n",
       "totalSpend90d                                0.542390            0.581751   \n",
       "nbrDistinctMerch90d                          1.000000            0.878415   \n",
       "nbrMerchCredits90d                           0.878415            1.000000   \n",
       "nbrMerchCreditsRndDollarAmt90d               0.771854            0.844903   \n",
       "totalMerchCred90d                            0.428917            0.607394   \n",
       "nbrMerchCreditsWoOffsettingPurch             0.824268            0.896070   \n",
       "nbrPayments90d                              -0.049854            0.009869   \n",
       "totalPaymentAmt90d                           0.393084            0.440027   \n",
       "overpaymentAmt90d                            0.026456            0.051471   \n",
       "overpaymentInd90d                           -0.107989           -0.088413   \n",
       "nbrCustReqRefunds90d                        -0.050654           -0.028199   \n",
       "indCustReqRefund90d                               NaN                 NaN   \n",
       "totalRefundsToCust90d                        0.026559            0.051665   \n",
       "nbrPaymentsCashLike90d                       0.289224            0.381126   \n",
       "maxRevolveLine                               0.121720            0.092338   \n",
       "indOwnsHome                                 -0.045545           -0.071141   \n",
       "nbrInquiries1y                               0.101694            0.081210   \n",
       "nbrCollections3y                             0.089928            0.079867   \n",
       "nbrWebLogins90d                              0.056094            0.021563   \n",
       "nbrPointRed90d                               0.186772            0.168234   \n",
       "PEP                                               NaN                 NaN   \n",
       "\n",
       "                                  nbrMerchCreditsRndDollarAmt90d  \\\n",
       "ALERT                                                        NaN   \n",
       "SAR                                                     0.268440   \n",
       "kycRiskScore                                            0.001537   \n",
       "income                                                       NaN   \n",
       "tenureMonths                                           -0.061499   \n",
       "creditScore                                            -0.034713   \n",
       "nbrPurchases90d                                         0.793119   \n",
       "avgTxnSize90d                                          -0.038771   \n",
       "totalSpend90d                                           0.522944   \n",
       "nbrDistinctMerch90d                                     0.771854   \n",
       "nbrMerchCredits90d                                      0.844903   \n",
       "nbrMerchCreditsRndDollarAmt90d                          1.000000   \n",
       "totalMerchCred90d                                       0.531954   \n",
       "nbrMerchCreditsWoOffsettingPurch                        0.760996   \n",
       "nbrPayments90d                                         -0.096046   \n",
       "totalPaymentAmt90d                                      0.401003   \n",
       "overpaymentAmt90d                                       0.009003   \n",
       "overpaymentInd90d                                      -0.114333   \n",
       "nbrCustReqRefunds90d                                   -0.025358   \n",
       "indCustReqRefund90d                                          NaN   \n",
       "totalRefundsToCust90d                                   0.009240   \n",
       "nbrPaymentsCashLike90d                                  0.258512   \n",
       "maxRevolveLine                                          0.116592   \n",
       "indOwnsHome                                            -0.006203   \n",
       "nbrInquiries1y                                         -0.010892   \n",
       "nbrCollections3y                                        0.087341   \n",
       "nbrWebLogins90d                                         0.041791   \n",
       "nbrPointRed90d                                          0.180731   \n",
       "PEP                                                          NaN   \n",
       "\n",
       "                                  totalMerchCred90d  \\\n",
       "ALERT                                           NaN   \n",
       "SAR                                        0.545702   \n",
       "kycRiskScore                              -0.024527   \n",
       "income                                          NaN   \n",
       "tenureMonths                               0.079116   \n",
       "creditScore                               -0.118418   \n",
       "nbrPurchases90d                            0.438875   \n",
       "avgTxnSize90d                              0.314325   \n",
       "totalSpend90d                              0.897176   \n",
       "nbrDistinctMerch90d                        0.428917   \n",
       "nbrMerchCredits90d                         0.607394   \n",
       "nbrMerchCreditsRndDollarAmt90d             0.531954   \n",
       "totalMerchCred90d                          1.000000   \n",
       "nbrMerchCreditsWoOffsettingPurch           0.482371   \n",
       "nbrPayments90d                            -0.023592   \n",
       "totalPaymentAmt90d                         0.692024   \n",
       "overpaymentAmt90d                          0.140344   \n",
       "overpaymentInd90d                         -0.171472   \n",
       "nbrCustReqRefunds90d                      -0.068457   \n",
       "indCustReqRefund90d                             NaN   \n",
       "totalRefundsToCust90d                      0.142182   \n",
       "nbrPaymentsCashLike90d                     0.417953   \n",
       "maxRevolveLine                             0.016463   \n",
       "indOwnsHome                                0.048633   \n",
       "nbrInquiries1y                             0.025745   \n",
       "nbrCollections3y                           0.010723   \n",
       "nbrWebLogins90d                            0.099613   \n",
       "nbrPointRed90d                             0.030913   \n",
       "PEP                                             NaN   \n",
       "\n",
       "                                  nbrMerchCreditsWoOffsettingPurch  \\\n",
       "ALERT                                                          NaN   \n",
       "SAR                                                       0.242233   \n",
       "kycRiskScore                                             -0.013547   \n",
       "income                                                         NaN   \n",
       "tenureMonths                                             -0.068778   \n",
       "creditScore                                              -0.003839   \n",
       "nbrPurchases90d                                           0.845813   \n",
       "avgTxnSize90d                                            -0.058829   \n",
       "totalSpend90d                                             0.468632   \n",
       "nbrDistinctMerch90d                                       0.824268   \n",
       "nbrMerchCredits90d                                        0.896070   \n",
       "nbrMerchCreditsRndDollarAmt90d                            0.760996   \n",
       "totalMerchCred90d                                         0.482371   \n",
       "nbrMerchCreditsWoOffsettingPurch                          1.000000   \n",
       "nbrPayments90d                                           -0.020765   \n",
       "totalPaymentAmt90d                                        0.349518   \n",
       "overpaymentAmt90d                                         0.076745   \n",
       "overpaymentInd90d                                        -0.083243   \n",
       "nbrCustReqRefunds90d                                     -0.028729   \n",
       "indCustReqRefund90d                                            NaN   \n",
       "totalRefundsToCust90d                                     0.076737   \n",
       "nbrPaymentsCashLike90d                                    0.332925   \n",
       "maxRevolveLine                                            0.045854   \n",
       "indOwnsHome                                              -0.056743   \n",
       "nbrInquiries1y                                            0.065991   \n",
       "nbrCollections3y                                          0.101200   \n",
       "nbrWebLogins90d                                           0.021300   \n",
       "nbrPointRed90d                                            0.150834   \n",
       "PEP                                                            NaN   \n",
       "\n",
       "                                  nbrPayments90d  totalPaymentAmt90d  \\\n",
       "ALERT                                        NaN                 NaN   \n",
       "SAR                                -1.821830e-17            0.449055   \n",
       "kycRiskScore                        1.309546e-02           -0.007195   \n",
       "income                                       NaN                 NaN   \n",
       "tenureMonths                       -1.427747e-01            0.090687   \n",
       "creditScore                         5.005995e-02           -0.023865   \n",
       "nbrPurchases90d                    -4.499693e-02            0.399061   \n",
       "avgTxnSize90d                       2.534648e-02            0.485478   \n",
       "totalSpend90d                      -3.487382e-02            0.830131   \n",
       "nbrDistinctMerch90d                -4.985395e-02            0.393084   \n",
       "nbrMerchCredits90d                  9.868758e-03            0.440027   \n",
       "nbrMerchCreditsRndDollarAmt90d     -9.604565e-02            0.401003   \n",
       "totalMerchCred90d                  -2.359221e-02            0.692024   \n",
       "nbrMerchCreditsWoOffsettingPurch   -2.076524e-02            0.349518   \n",
       "nbrPayments90d                      1.000000e+00           -0.038059   \n",
       "totalPaymentAmt90d                 -3.805865e-02            1.000000   \n",
       "overpaymentAmt90d                   4.951532e-03            0.453663   \n",
       "overpaymentInd90d                  -7.848266e-04           -0.071902   \n",
       "nbrCustReqRefunds90d                4.789532e-02            0.005674   \n",
       "indCustReqRefund90d                          NaN                 NaN   \n",
       "totalRefundsToCust90d               6.339985e-03            0.455347   \n",
       "nbrPaymentsCashLike90d              3.638873e-01            0.429241   \n",
       "maxRevolveLine                     -3.398594e-02            0.019312   \n",
       "indOwnsHome                        -1.198141e-01            0.020419   \n",
       "nbrInquiries1y                      4.573254e-02            0.059181   \n",
       "nbrCollections3y                    4.694643e-02           -0.017269   \n",
       "nbrWebLogins90d                    -1.296387e-02            0.120030   \n",
       "nbrPointRed90d                     -7.753940e-03            0.008265   \n",
       "PEP                                          NaN                 NaN   \n",
       "\n",
       "                                  overpaymentAmt90d  overpaymentInd90d  \\\n",
       "ALERT                                           NaN                NaN   \n",
       "SAR                                        0.048490           0.064866   \n",
       "kycRiskScore                               0.027133          -0.018539   \n",
       "income                                          NaN                NaN   \n",
       "tenureMonths                               0.095424          -0.005749   \n",
       "creditScore                                0.049344           0.055587   \n",
       "nbrPurchases90d                            0.039396          -0.099453   \n",
       "avgTxnSize90d                              0.279979          -0.142744   \n",
       "totalSpend90d                              0.174970          -0.216825   \n",
       "nbrDistinctMerch90d                        0.026456          -0.107989   \n",
       "nbrMerchCredits90d                         0.051471          -0.088413   \n",
       "nbrMerchCreditsRndDollarAmt90d             0.009003          -0.114333   \n",
       "totalMerchCred90d                          0.140344          -0.171472   \n",
       "nbrMerchCreditsWoOffsettingPurch           0.076745          -0.083243   \n",
       "nbrPayments90d                             0.004952          -0.000785   \n",
       "totalPaymentAmt90d                         0.453663          -0.071902   \n",
       "overpaymentAmt90d                          1.000000           0.360121   \n",
       "overpaymentInd90d                          0.360121           1.000000   \n",
       "nbrCustReqRefunds90d                       0.244424           0.441931   \n",
       "indCustReqRefund90d                             NaN                NaN   \n",
       "totalRefundsToCust90d                      0.999846           0.353755   \n",
       "nbrPaymentsCashLike90d                     0.277613          -0.070598   \n",
       "maxRevolveLine                            -0.135733           0.077802   \n",
       "indOwnsHome                                0.054419           0.048320   \n",
       "nbrInquiries1y                             0.017524           0.040590   \n",
       "nbrCollections3y                          -0.063518          -0.014406   \n",
       "nbrWebLogins90d                            0.152362           0.032162   \n",
       "nbrPointRed90d                             0.031739          -0.057993   \n",
       "PEP                                             NaN                NaN   \n",
       "\n",
       "                                  nbrCustReqRefunds90d  indCustReqRefund90d  \\\n",
       "ALERT                                              NaN                  NaN   \n",
       "SAR                                           0.215431                  NaN   \n",
       "kycRiskScore                                  0.060185                  NaN   \n",
       "income                                             NaN                  NaN   \n",
       "tenureMonths                                 -0.024381                  NaN   \n",
       "creditScore                                  -0.007998                  NaN   \n",
       "nbrPurchases90d                              -0.047616                  NaN   \n",
       "avgTxnSize90d                                 0.050374                  NaN   \n",
       "totalSpend90d                                -0.080274                  NaN   \n",
       "nbrDistinctMerch90d                          -0.050654                  NaN   \n",
       "nbrMerchCredits90d                           -0.028199                  NaN   \n",
       "nbrMerchCreditsRndDollarAmt90d               -0.025358                  NaN   \n",
       "totalMerchCred90d                            -0.068457                  NaN   \n",
       "nbrMerchCreditsWoOffsettingPurch             -0.028729                  NaN   \n",
       "nbrPayments90d                                0.047895                  NaN   \n",
       "totalPaymentAmt90d                            0.005674                  NaN   \n",
       "overpaymentAmt90d                             0.244424                  NaN   \n",
       "overpaymentInd90d                             0.441931                  NaN   \n",
       "nbrCustReqRefunds90d                          1.000000                  NaN   \n",
       "indCustReqRefund90d                                NaN                  NaN   \n",
       "totalRefundsToCust90d                         0.239152                  NaN   \n",
       "nbrPaymentsCashLike90d                       -0.023123                  NaN   \n",
       "maxRevolveLine                               -0.092300                  NaN   \n",
       "indOwnsHome                                  -0.122015                  NaN   \n",
       "nbrInquiries1y                                0.097403                  NaN   \n",
       "nbrCollections3y                             -0.028496                  NaN   \n",
       "nbrWebLogins90d                               0.021032                  NaN   \n",
       "nbrPointRed90d                               -0.072227                  NaN   \n",
       "PEP                                                NaN                  NaN   \n",
       "\n",
       "                                  totalRefundsToCust90d  \\\n",
       "ALERT                                               NaN   \n",
       "SAR                                            0.047945   \n",
       "kycRiskScore                                   0.026920   \n",
       "income                                              NaN   \n",
       "tenureMonths                                   0.093825   \n",
       "creditScore                                    0.048513   \n",
       "nbrPurchases90d                                0.039530   \n",
       "avgTxnSize90d                                  0.280716   \n",
       "totalSpend90d                                  0.177027   \n",
       "nbrDistinctMerch90d                            0.026559   \n",
       "nbrMerchCredits90d                             0.051665   \n",
       "nbrMerchCreditsRndDollarAmt90d                 0.009240   \n",
       "totalMerchCred90d                              0.142182   \n",
       "nbrMerchCreditsWoOffsettingPurch               0.076737   \n",
       "nbrPayments90d                                 0.006340   \n",
       "totalPaymentAmt90d                             0.455347   \n",
       "overpaymentAmt90d                              0.999846   \n",
       "overpaymentInd90d                              0.353755   \n",
       "nbrCustReqRefunds90d                           0.239152   \n",
       "indCustReqRefund90d                                 NaN   \n",
       "totalRefundsToCust90d                          1.000000   \n",
       "nbrPaymentsCashLike90d                         0.279282   \n",
       "maxRevolveLine                                -0.135443   \n",
       "indOwnsHome                                    0.054022   \n",
       "nbrInquiries1y                                 0.017895   \n",
       "nbrCollections3y                              -0.063166   \n",
       "nbrWebLogins90d                                0.152570   \n",
       "nbrPointRed90d                                 0.032443   \n",
       "PEP                                                 NaN   \n",
       "\n",
       "                                  nbrPaymentsCashLike90d  maxRevolveLine  \\\n",
       "ALERT                                                NaN             NaN   \n",
       "SAR                                             0.242469        0.019127   \n",
       "kycRiskScore                                    0.042513       -0.053687   \n",
       "income                                               NaN             NaN   \n",
       "tenureMonths                                   -0.054811       -0.062726   \n",
       "creditScore                                    -0.024393       -0.011007   \n",
       "nbrPurchases90d                                 0.300711        0.104664   \n",
       "avgTxnSize90d                                   0.185583       -0.116108   \n",
       "totalSpend90d                                   0.426003        0.049259   \n",
       "nbrDistinctMerch90d                             0.289224        0.121720   \n",
       "nbrMerchCredits90d                              0.381126        0.092338   \n",
       "nbrMerchCreditsRndDollarAmt90d                  0.258512        0.116592   \n",
       "totalMerchCred90d                               0.417953        0.016463   \n",
       "nbrMerchCreditsWoOffsettingPurch                0.332925        0.045854   \n",
       "nbrPayments90d                                  0.363887       -0.033986   \n",
       "totalPaymentAmt90d                              0.429241        0.019312   \n",
       "overpaymentAmt90d                               0.277613       -0.135733   \n",
       "overpaymentInd90d                              -0.070598        0.077802   \n",
       "nbrCustReqRefunds90d                           -0.023123       -0.092300   \n",
       "indCustReqRefund90d                                  NaN             NaN   \n",
       "totalRefundsToCust90d                           0.279282       -0.135443   \n",
       "nbrPaymentsCashLike90d                          1.000000       -0.081008   \n",
       "maxRevolveLine                                 -0.081008        1.000000   \n",
       "indOwnsHome                                    -0.101703       -0.065968   \n",
       "nbrInquiries1y                                  0.117605       -0.021046   \n",
       "nbrCollections3y                               -0.066236        0.010258   \n",
       "nbrWebLogins90d                                 0.142380       -0.053112   \n",
       "nbrPointRed90d                                  0.162139        0.079827   \n",
       "PEP                                                  NaN             NaN   \n",
       "\n",
       "                                  indOwnsHome  nbrInquiries1y  \\\n",
       "ALERT                                     NaN             NaN   \n",
       "SAR                                 -0.041005        0.036479   \n",
       "kycRiskScore                        -0.074256       -0.014370   \n",
       "income                                    NaN             NaN   \n",
       "tenureMonths                         0.072487       -0.044389   \n",
       "creditScore                         -0.101829        0.070529   \n",
       "nbrPurchases90d                     -0.037679        0.111617   \n",
       "avgTxnSize90d                       -0.005066       -0.003001   \n",
       "totalSpend90d                        0.052208        0.048041   \n",
       "nbrDistinctMerch90d                 -0.045545        0.101694   \n",
       "nbrMerchCredits90d                  -0.071141        0.081210   \n",
       "nbrMerchCreditsRndDollarAmt90d      -0.006203       -0.010892   \n",
       "totalMerchCred90d                    0.048633        0.025745   \n",
       "nbrMerchCreditsWoOffsettingPurch    -0.056743        0.065991   \n",
       "nbrPayments90d                      -0.119814        0.045733   \n",
       "totalPaymentAmt90d                   0.020419        0.059181   \n",
       "overpaymentAmt90d                    0.054419        0.017524   \n",
       "overpaymentInd90d                    0.048320        0.040590   \n",
       "nbrCustReqRefunds90d                -0.122015        0.097403   \n",
       "indCustReqRefund90d                       NaN             NaN   \n",
       "totalRefundsToCust90d                0.054022        0.017895   \n",
       "nbrPaymentsCashLike90d              -0.101703        0.117605   \n",
       "maxRevolveLine                      -0.065968       -0.021046   \n",
       "indOwnsHome                          1.000000        0.077034   \n",
       "nbrInquiries1y                       0.077034        1.000000   \n",
       "nbrCollections3y                    -0.102051       -0.022766   \n",
       "nbrWebLogins90d                      0.007966       -0.053866   \n",
       "nbrPointRed90d                      -0.108520        0.063740   \n",
       "PEP                                       NaN             NaN   \n",
       "\n",
       "                                  nbrCollections3y  nbrWebLogins90d  \\\n",
       "ALERT                                          NaN              NaN   \n",
       "SAR                                      -0.026129         0.051022   \n",
       "kycRiskScore                              0.008998         0.008036   \n",
       "income                                         NaN              NaN   \n",
       "tenureMonths                              0.009843        -0.020972   \n",
       "creditScore                              -0.177898         0.105729   \n",
       "nbrPurchases90d                           0.106507         0.061980   \n",
       "avgTxnSize90d                             0.064774         0.059766   \n",
       "totalSpend90d                             0.002825         0.107919   \n",
       "nbrDistinctMerch90d                       0.089928         0.056094   \n",
       "nbrMerchCredits90d                        0.079867         0.021563   \n",
       "nbrMerchCreditsRndDollarAmt90d            0.087341         0.041791   \n",
       "totalMerchCred90d                         0.010723         0.099613   \n",
       "nbrMerchCreditsWoOffsettingPurch          0.101200         0.021300   \n",
       "nbrPayments90d                            0.046946        -0.012964   \n",
       "totalPaymentAmt90d                       -0.017269         0.120030   \n",
       "overpaymentAmt90d                        -0.063518         0.152362   \n",
       "overpaymentInd90d                        -0.014406         0.032162   \n",
       "nbrCustReqRefunds90d                     -0.028496         0.021032   \n",
       "indCustReqRefund90d                            NaN              NaN   \n",
       "totalRefundsToCust90d                    -0.063166         0.152570   \n",
       "nbrPaymentsCashLike90d                   -0.066236         0.142380   \n",
       "maxRevolveLine                            0.010258        -0.053112   \n",
       "indOwnsHome                              -0.102051         0.007966   \n",
       "nbrInquiries1y                           -0.022766        -0.053866   \n",
       "nbrCollections3y                          1.000000        -0.036456   \n",
       "nbrWebLogins90d                          -0.036456         1.000000   \n",
       "nbrPointRed90d                           -0.075352         0.075178   \n",
       "PEP                                            NaN              NaN   \n",
       "\n",
       "                                  nbrPointRed90d  PEP  \n",
       "ALERT                                        NaN  NaN  \n",
       "SAR                                    -0.023736  NaN  \n",
       "kycRiskScore                            0.066838  NaN  \n",
       "income                                       NaN  NaN  \n",
       "tenureMonths                            0.120075  NaN  \n",
       "creditScore                             0.060849  NaN  \n",
       "nbrPurchases90d                         0.189828  NaN  \n",
       "avgTxnSize90d                          -0.118104  NaN  \n",
       "totalSpend90d                           0.025875  NaN  \n",
       "nbrDistinctMerch90d                     0.186772  NaN  \n",
       "nbrMerchCredits90d                      0.168234  NaN  \n",
       "nbrMerchCreditsRndDollarAmt90d          0.180731  NaN  \n",
       "totalMerchCred90d                       0.030913  NaN  \n",
       "nbrMerchCreditsWoOffsettingPurch        0.150834  NaN  \n",
       "nbrPayments90d                         -0.007754  NaN  \n",
       "totalPaymentAmt90d                      0.008265  NaN  \n",
       "overpaymentAmt90d                       0.031739  NaN  \n",
       "overpaymentInd90d                      -0.057993  NaN  \n",
       "nbrCustReqRefunds90d                   -0.072227  NaN  \n",
       "indCustReqRefund90d                          NaN  NaN  \n",
       "totalRefundsToCust90d                   0.032443  NaN  \n",
       "nbrPaymentsCashLike90d                  0.162139  NaN  \n",
       "maxRevolveLine                          0.079827  NaN  \n",
       "indOwnsHome                            -0.108520  NaN  \n",
       "nbrInquiries1y                          0.063740  NaN  \n",
       "nbrCollections3y                       -0.075352  NaN  \n",
       "nbrWebLogins90d                         0.075178  NaN  \n",
       "nbrPointRed90d                          1.000000  NaN  \n",
       "PEP                                          NaN  NaN  "
      ]
     },
     "execution_count": 8,
     "metadata": {},
     "output_type": "execute_result"
    }
   ],
   "source": [
    "# Correlation Matrix\n",
    "corr = df.corr()\n",
    "corr"
   ]
  },
  {
   "cell_type": "code",
   "execution_count": 9,
   "id": "f9ae8f2d",
   "metadata": {},
   "outputs": [
    {
     "data": {
      "text/plain": [
       "ALERT                                 int64\n",
       "SAR                                   int64\n",
       "kycRiskScore                          int64\n",
       "income                              float64\n",
       "tenureMonths                          int64\n",
       "creditScore                           int64\n",
       "state                                object\n",
       "nbrPurchases90d                       int64\n",
       "avgTxnSize90d                       float64\n",
       "totalSpend90d                       float64\n",
       "csrNotes                             object\n",
       "nbrDistinctMerch90d                   int64\n",
       "nbrMerchCredits90d                    int64\n",
       "nbrMerchCreditsRndDollarAmt90d        int64\n",
       "totalMerchCred90d                   float64\n",
       "nbrMerchCreditsWoOffsettingPurch      int64\n",
       "nbrPayments90d                        int64\n",
       "totalPaymentAmt90d                  float64\n",
       "overpaymentAmt90d                   float64\n",
       "overpaymentInd90d                     int64\n",
       "nbrCustReqRefunds90d                  int64\n",
       "indCustReqRefund90d                   int64\n",
       "totalRefundsToCust90d               float64\n",
       "nbrPaymentsCashLike90d                int64\n",
       "maxRevolveLine                        int64\n",
       "indOwnsHome                           int64\n",
       "nbrInquiries1y                        int64\n",
       "nbrCollections3y                      int64\n",
       "nbrWebLogins90d                       int64\n",
       "nbrPointRed90d                        int64\n",
       "PEP                                   int64\n",
       "dtype: object"
      ]
     },
     "execution_count": 9,
     "metadata": {},
     "output_type": "execute_result"
    }
   ],
   "source": [
    "# Checking Data Types\n",
    "df.dtypes"
   ]
  },
  {
   "cell_type": "code",
   "execution_count": 10,
   "id": "0eaf7102",
   "metadata": {},
   "outputs": [
    {
     "data": {
      "application/vnd.plotly.v1+json": {
       "config": {
        "plotlyServerURL": "https://plot.ly"
       },
       "data": [
        {
         "alignmentgroup": "True",
         "hovertemplate": "variable=totalMerchCred90d<br>state=%{x}<br>value=%{y}<extra></extra>",
         "legendgroup": "totalMerchCred90d",
         "marker": {
          "color": "#636efa",
          "pattern": {
           "shape": ""
          }
         },
         "name": "totalMerchCred90d",
         "offsetgroup": "totalMerchCred90d",
         "orientation": "v",
         "showlegend": true,
         "textposition": "auto",
         "type": "bar",
         "x": [
          "CT",
          "MA",
          "ME",
          "NH",
          "NJ",
          "NY",
          "PA",
          "RI",
          "VT"
         ],
         "xaxis": "x",
         "y": [
          107.5373913043478,
          395.3558536585366,
          163.62733333333333,
          1372.5449999999998,
          89.51285714285714,
          465.5814,
          260.43416666666667,
          218.446,
          1345.2275
         ],
         "yaxis": "y"
        }
       ],
       "layout": {
        "barmode": "relative",
        "legend": {
         "title": {
          "text": "variable"
         },
         "tracegroupgap": 0
        },
        "margin": {
         "t": 60
        },
        "template": {
         "data": {
          "bar": [
           {
            "error_x": {
             "color": "#2a3f5f"
            },
            "error_y": {
             "color": "#2a3f5f"
            },
            "marker": {
             "line": {
              "color": "#E5ECF6",
              "width": 0.5
             },
             "pattern": {
              "fillmode": "overlay",
              "size": 10,
              "solidity": 0.2
             }
            },
            "type": "bar"
           }
          ],
          "barpolar": [
           {
            "marker": {
             "line": {
              "color": "#E5ECF6",
              "width": 0.5
             },
             "pattern": {
              "fillmode": "overlay",
              "size": 10,
              "solidity": 0.2
             }
            },
            "type": "barpolar"
           }
          ],
          "carpet": [
           {
            "aaxis": {
             "endlinecolor": "#2a3f5f",
             "gridcolor": "white",
             "linecolor": "white",
             "minorgridcolor": "white",
             "startlinecolor": "#2a3f5f"
            },
            "baxis": {
             "endlinecolor": "#2a3f5f",
             "gridcolor": "white",
             "linecolor": "white",
             "minorgridcolor": "white",
             "startlinecolor": "#2a3f5f"
            },
            "type": "carpet"
           }
          ],
          "choropleth": [
           {
            "colorbar": {
             "outlinewidth": 0,
             "ticks": ""
            },
            "type": "choropleth"
           }
          ],
          "contour": [
           {
            "colorbar": {
             "outlinewidth": 0,
             "ticks": ""
            },
            "colorscale": [
             [
              0,
              "#0d0887"
             ],
             [
              0.1111111111111111,
              "#46039f"
             ],
             [
              0.2222222222222222,
              "#7201a8"
             ],
             [
              0.3333333333333333,
              "#9c179e"
             ],
             [
              0.4444444444444444,
              "#bd3786"
             ],
             [
              0.5555555555555556,
              "#d8576b"
             ],
             [
              0.6666666666666666,
              "#ed7953"
             ],
             [
              0.7777777777777778,
              "#fb9f3a"
             ],
             [
              0.8888888888888888,
              "#fdca26"
             ],
             [
              1,
              "#f0f921"
             ]
            ],
            "type": "contour"
           }
          ],
          "contourcarpet": [
           {
            "colorbar": {
             "outlinewidth": 0,
             "ticks": ""
            },
            "type": "contourcarpet"
           }
          ],
          "heatmap": [
           {
            "colorbar": {
             "outlinewidth": 0,
             "ticks": ""
            },
            "colorscale": [
             [
              0,
              "#0d0887"
             ],
             [
              0.1111111111111111,
              "#46039f"
             ],
             [
              0.2222222222222222,
              "#7201a8"
             ],
             [
              0.3333333333333333,
              "#9c179e"
             ],
             [
              0.4444444444444444,
              "#bd3786"
             ],
             [
              0.5555555555555556,
              "#d8576b"
             ],
             [
              0.6666666666666666,
              "#ed7953"
             ],
             [
              0.7777777777777778,
              "#fb9f3a"
             ],
             [
              0.8888888888888888,
              "#fdca26"
             ],
             [
              1,
              "#f0f921"
             ]
            ],
            "type": "heatmap"
           }
          ],
          "heatmapgl": [
           {
            "colorbar": {
             "outlinewidth": 0,
             "ticks": ""
            },
            "colorscale": [
             [
              0,
              "#0d0887"
             ],
             [
              0.1111111111111111,
              "#46039f"
             ],
             [
              0.2222222222222222,
              "#7201a8"
             ],
             [
              0.3333333333333333,
              "#9c179e"
             ],
             [
              0.4444444444444444,
              "#bd3786"
             ],
             [
              0.5555555555555556,
              "#d8576b"
             ],
             [
              0.6666666666666666,
              "#ed7953"
             ],
             [
              0.7777777777777778,
              "#fb9f3a"
             ],
             [
              0.8888888888888888,
              "#fdca26"
             ],
             [
              1,
              "#f0f921"
             ]
            ],
            "type": "heatmapgl"
           }
          ],
          "histogram": [
           {
            "marker": {
             "pattern": {
              "fillmode": "overlay",
              "size": 10,
              "solidity": 0.2
             }
            },
            "type": "histogram"
           }
          ],
          "histogram2d": [
           {
            "colorbar": {
             "outlinewidth": 0,
             "ticks": ""
            },
            "colorscale": [
             [
              0,
              "#0d0887"
             ],
             [
              0.1111111111111111,
              "#46039f"
             ],
             [
              0.2222222222222222,
              "#7201a8"
             ],
             [
              0.3333333333333333,
              "#9c179e"
             ],
             [
              0.4444444444444444,
              "#bd3786"
             ],
             [
              0.5555555555555556,
              "#d8576b"
             ],
             [
              0.6666666666666666,
              "#ed7953"
             ],
             [
              0.7777777777777778,
              "#fb9f3a"
             ],
             [
              0.8888888888888888,
              "#fdca26"
             ],
             [
              1,
              "#f0f921"
             ]
            ],
            "type": "histogram2d"
           }
          ],
          "histogram2dcontour": [
           {
            "colorbar": {
             "outlinewidth": 0,
             "ticks": ""
            },
            "colorscale": [
             [
              0,
              "#0d0887"
             ],
             [
              0.1111111111111111,
              "#46039f"
             ],
             [
              0.2222222222222222,
              "#7201a8"
             ],
             [
              0.3333333333333333,
              "#9c179e"
             ],
             [
              0.4444444444444444,
              "#bd3786"
             ],
             [
              0.5555555555555556,
              "#d8576b"
             ],
             [
              0.6666666666666666,
              "#ed7953"
             ],
             [
              0.7777777777777778,
              "#fb9f3a"
             ],
             [
              0.8888888888888888,
              "#fdca26"
             ],
             [
              1,
              "#f0f921"
             ]
            ],
            "type": "histogram2dcontour"
           }
          ],
          "mesh3d": [
           {
            "colorbar": {
             "outlinewidth": 0,
             "ticks": ""
            },
            "type": "mesh3d"
           }
          ],
          "parcoords": [
           {
            "line": {
             "colorbar": {
              "outlinewidth": 0,
              "ticks": ""
             }
            },
            "type": "parcoords"
           }
          ],
          "pie": [
           {
            "automargin": true,
            "type": "pie"
           }
          ],
          "scatter": [
           {
            "marker": {
             "colorbar": {
              "outlinewidth": 0,
              "ticks": ""
             }
            },
            "type": "scatter"
           }
          ],
          "scatter3d": [
           {
            "line": {
             "colorbar": {
              "outlinewidth": 0,
              "ticks": ""
             }
            },
            "marker": {
             "colorbar": {
              "outlinewidth": 0,
              "ticks": ""
             }
            },
            "type": "scatter3d"
           }
          ],
          "scattercarpet": [
           {
            "marker": {
             "colorbar": {
              "outlinewidth": 0,
              "ticks": ""
             }
            },
            "type": "scattercarpet"
           }
          ],
          "scattergeo": [
           {
            "marker": {
             "colorbar": {
              "outlinewidth": 0,
              "ticks": ""
             }
            },
            "type": "scattergeo"
           }
          ],
          "scattergl": [
           {
            "marker": {
             "colorbar": {
              "outlinewidth": 0,
              "ticks": ""
             }
            },
            "type": "scattergl"
           }
          ],
          "scattermapbox": [
           {
            "marker": {
             "colorbar": {
              "outlinewidth": 0,
              "ticks": ""
             }
            },
            "type": "scattermapbox"
           }
          ],
          "scatterpolar": [
           {
            "marker": {
             "colorbar": {
              "outlinewidth": 0,
              "ticks": ""
             }
            },
            "type": "scatterpolar"
           }
          ],
          "scatterpolargl": [
           {
            "marker": {
             "colorbar": {
              "outlinewidth": 0,
              "ticks": ""
             }
            },
            "type": "scatterpolargl"
           }
          ],
          "scatterternary": [
           {
            "marker": {
             "colorbar": {
              "outlinewidth": 0,
              "ticks": ""
             }
            },
            "type": "scatterternary"
           }
          ],
          "surface": [
           {
            "colorbar": {
             "outlinewidth": 0,
             "ticks": ""
            },
            "colorscale": [
             [
              0,
              "#0d0887"
             ],
             [
              0.1111111111111111,
              "#46039f"
             ],
             [
              0.2222222222222222,
              "#7201a8"
             ],
             [
              0.3333333333333333,
              "#9c179e"
             ],
             [
              0.4444444444444444,
              "#bd3786"
             ],
             [
              0.5555555555555556,
              "#d8576b"
             ],
             [
              0.6666666666666666,
              "#ed7953"
             ],
             [
              0.7777777777777778,
              "#fb9f3a"
             ],
             [
              0.8888888888888888,
              "#fdca26"
             ],
             [
              1,
              "#f0f921"
             ]
            ],
            "type": "surface"
           }
          ],
          "table": [
           {
            "cells": {
             "fill": {
              "color": "#EBF0F8"
             },
             "line": {
              "color": "white"
             }
            },
            "header": {
             "fill": {
              "color": "#C8D4E3"
             },
             "line": {
              "color": "white"
             }
            },
            "type": "table"
           }
          ]
         },
         "layout": {
          "annotationdefaults": {
           "arrowcolor": "#2a3f5f",
           "arrowhead": 0,
           "arrowwidth": 1
          },
          "autotypenumbers": "strict",
          "coloraxis": {
           "colorbar": {
            "outlinewidth": 0,
            "ticks": ""
           }
          },
          "colorscale": {
           "diverging": [
            [
             0,
             "#8e0152"
            ],
            [
             0.1,
             "#c51b7d"
            ],
            [
             0.2,
             "#de77ae"
            ],
            [
             0.3,
             "#f1b6da"
            ],
            [
             0.4,
             "#fde0ef"
            ],
            [
             0.5,
             "#f7f7f7"
            ],
            [
             0.6,
             "#e6f5d0"
            ],
            [
             0.7,
             "#b8e186"
            ],
            [
             0.8,
             "#7fbc41"
            ],
            [
             0.9,
             "#4d9221"
            ],
            [
             1,
             "#276419"
            ]
           ],
           "sequential": [
            [
             0,
             "#0d0887"
            ],
            [
             0.1111111111111111,
             "#46039f"
            ],
            [
             0.2222222222222222,
             "#7201a8"
            ],
            [
             0.3333333333333333,
             "#9c179e"
            ],
            [
             0.4444444444444444,
             "#bd3786"
            ],
            [
             0.5555555555555556,
             "#d8576b"
            ],
            [
             0.6666666666666666,
             "#ed7953"
            ],
            [
             0.7777777777777778,
             "#fb9f3a"
            ],
            [
             0.8888888888888888,
             "#fdca26"
            ],
            [
             1,
             "#f0f921"
            ]
           ],
           "sequentialminus": [
            [
             0,
             "#0d0887"
            ],
            [
             0.1111111111111111,
             "#46039f"
            ],
            [
             0.2222222222222222,
             "#7201a8"
            ],
            [
             0.3333333333333333,
             "#9c179e"
            ],
            [
             0.4444444444444444,
             "#bd3786"
            ],
            [
             0.5555555555555556,
             "#d8576b"
            ],
            [
             0.6666666666666666,
             "#ed7953"
            ],
            [
             0.7777777777777778,
             "#fb9f3a"
            ],
            [
             0.8888888888888888,
             "#fdca26"
            ],
            [
             1,
             "#f0f921"
            ]
           ]
          },
          "colorway": [
           "#636efa",
           "#EF553B",
           "#00cc96",
           "#ab63fa",
           "#FFA15A",
           "#19d3f3",
           "#FF6692",
           "#B6E880",
           "#FF97FF",
           "#FECB52"
          ],
          "font": {
           "color": "#2a3f5f"
          },
          "geo": {
           "bgcolor": "white",
           "lakecolor": "white",
           "landcolor": "#E5ECF6",
           "showlakes": true,
           "showland": true,
           "subunitcolor": "white"
          },
          "hoverlabel": {
           "align": "left"
          },
          "hovermode": "closest",
          "mapbox": {
           "style": "light"
          },
          "paper_bgcolor": "white",
          "plot_bgcolor": "#E5ECF6",
          "polar": {
           "angularaxis": {
            "gridcolor": "white",
            "linecolor": "white",
            "ticks": ""
           },
           "bgcolor": "#E5ECF6",
           "radialaxis": {
            "gridcolor": "white",
            "linecolor": "white",
            "ticks": ""
           }
          },
          "scene": {
           "xaxis": {
            "backgroundcolor": "#E5ECF6",
            "gridcolor": "white",
            "gridwidth": 2,
            "linecolor": "white",
            "showbackground": true,
            "ticks": "",
            "zerolinecolor": "white"
           },
           "yaxis": {
            "backgroundcolor": "#E5ECF6",
            "gridcolor": "white",
            "gridwidth": 2,
            "linecolor": "white",
            "showbackground": true,
            "ticks": "",
            "zerolinecolor": "white"
           },
           "zaxis": {
            "backgroundcolor": "#E5ECF6",
            "gridcolor": "white",
            "gridwidth": 2,
            "linecolor": "white",
            "showbackground": true,
            "ticks": "",
            "zerolinecolor": "white"
           }
          },
          "shapedefaults": {
           "line": {
            "color": "#2a3f5f"
           }
          },
          "ternary": {
           "aaxis": {
            "gridcolor": "white",
            "linecolor": "white",
            "ticks": ""
           },
           "baxis": {
            "gridcolor": "white",
            "linecolor": "white",
            "ticks": ""
           },
           "bgcolor": "#E5ECF6",
           "caxis": {
            "gridcolor": "white",
            "linecolor": "white",
            "ticks": ""
           }
          },
          "title": {
           "x": 0.05
          },
          "xaxis": {
           "automargin": true,
           "gridcolor": "white",
           "linecolor": "white",
           "ticks": "",
           "title": {
            "standoff": 15
           },
           "zerolinecolor": "white",
           "zerolinewidth": 2
          },
          "yaxis": {
           "automargin": true,
           "gridcolor": "white",
           "linecolor": "white",
           "ticks": "",
           "title": {
            "standoff": 15
           },
           "zerolinecolor": "white",
           "zerolinewidth": 2
          }
         }
        },
        "title": {
         "text": "Total Merchant Credits by State (90 days)"
        },
        "uniformtext": {
         "minsize": 8,
         "mode": "hide"
        },
        "xaxis": {
         "anchor": "y",
         "domain": [
          0,
          1
         ],
         "title": {
          "text": "Total Merchant Credits (90 days)"
         }
        },
        "yaxis": {
         "anchor": "x",
         "domain": [
          0,
          1
         ],
         "title": {
          "text": "State"
         }
        }
       }
      }
     },
     "metadata": {},
     "output_type": "display_data"
    }
   ],
   "source": [
    "df1 = df.groupby(\"state\").agg({'totalMerchCred90d': 'mean'})\n",
    "fig = px.bar(df1)\n",
    "fig.update_layout(\n",
    "    uniformtext_minsize=8, uniformtext_mode='hide',\n",
    "    title=\"Total Merchant Credits by State (90 days)\",\n",
    "    xaxis_title=\"Total Merchant Credits (90 days)\",\n",
    "    yaxis_title=\"State\",\n",
    ")\n",
    "fig.show()"
   ]
  },
  {
   "cell_type": "code",
   "execution_count": 11,
   "id": "7737d172",
   "metadata": {},
   "outputs": [
    {
     "data": {
      "application/vnd.plotly.v1+json": {
       "config": {
        "plotlyServerURL": "https://plot.ly"
       },
       "data": [
        {
         "alignmentgroup": "True",
         "hovertemplate": "variable=SAR<br>state=%{x}<br>value=%{y}<extra></extra>",
         "legendgroup": "SAR",
         "marker": {
          "color": "#636efa",
          "pattern": {
           "shape": ""
          }
         },
         "name": "SAR",
         "offsetgroup": "SAR",
         "orientation": "v",
         "showlegend": true,
         "textposition": "auto",
         "type": "bar",
         "x": [
          "CT",
          "MA",
          "ME",
          "NH",
          "NJ",
          "NY",
          "PA",
          "RI",
          "VT"
         ],
         "xaxis": "x",
         "y": [
          0.043478260869565216,
          0.14634146341463414,
          0.06666666666666667,
          null,
          null,
          0.12,
          0.1388888888888889,
          null,
          0.25
         ],
         "yaxis": "y"
        }
       ],
       "layout": {
        "barmode": "relative",
        "legend": {
         "title": {
          "text": "variable"
         },
         "tracegroupgap": 0
        },
        "margin": {
         "t": 60
        },
        "template": {
         "data": {
          "bar": [
           {
            "error_x": {
             "color": "#2a3f5f"
            },
            "error_y": {
             "color": "#2a3f5f"
            },
            "marker": {
             "line": {
              "color": "#E5ECF6",
              "width": 0.5
             },
             "pattern": {
              "fillmode": "overlay",
              "size": 10,
              "solidity": 0.2
             }
            },
            "type": "bar"
           }
          ],
          "barpolar": [
           {
            "marker": {
             "line": {
              "color": "#E5ECF6",
              "width": 0.5
             },
             "pattern": {
              "fillmode": "overlay",
              "size": 10,
              "solidity": 0.2
             }
            },
            "type": "barpolar"
           }
          ],
          "carpet": [
           {
            "aaxis": {
             "endlinecolor": "#2a3f5f",
             "gridcolor": "white",
             "linecolor": "white",
             "minorgridcolor": "white",
             "startlinecolor": "#2a3f5f"
            },
            "baxis": {
             "endlinecolor": "#2a3f5f",
             "gridcolor": "white",
             "linecolor": "white",
             "minorgridcolor": "white",
             "startlinecolor": "#2a3f5f"
            },
            "type": "carpet"
           }
          ],
          "choropleth": [
           {
            "colorbar": {
             "outlinewidth": 0,
             "ticks": ""
            },
            "type": "choropleth"
           }
          ],
          "contour": [
           {
            "colorbar": {
             "outlinewidth": 0,
             "ticks": ""
            },
            "colorscale": [
             [
              0,
              "#0d0887"
             ],
             [
              0.1111111111111111,
              "#46039f"
             ],
             [
              0.2222222222222222,
              "#7201a8"
             ],
             [
              0.3333333333333333,
              "#9c179e"
             ],
             [
              0.4444444444444444,
              "#bd3786"
             ],
             [
              0.5555555555555556,
              "#d8576b"
             ],
             [
              0.6666666666666666,
              "#ed7953"
             ],
             [
              0.7777777777777778,
              "#fb9f3a"
             ],
             [
              0.8888888888888888,
              "#fdca26"
             ],
             [
              1,
              "#f0f921"
             ]
            ],
            "type": "contour"
           }
          ],
          "contourcarpet": [
           {
            "colorbar": {
             "outlinewidth": 0,
             "ticks": ""
            },
            "type": "contourcarpet"
           }
          ],
          "heatmap": [
           {
            "colorbar": {
             "outlinewidth": 0,
             "ticks": ""
            },
            "colorscale": [
             [
              0,
              "#0d0887"
             ],
             [
              0.1111111111111111,
              "#46039f"
             ],
             [
              0.2222222222222222,
              "#7201a8"
             ],
             [
              0.3333333333333333,
              "#9c179e"
             ],
             [
              0.4444444444444444,
              "#bd3786"
             ],
             [
              0.5555555555555556,
              "#d8576b"
             ],
             [
              0.6666666666666666,
              "#ed7953"
             ],
             [
              0.7777777777777778,
              "#fb9f3a"
             ],
             [
              0.8888888888888888,
              "#fdca26"
             ],
             [
              1,
              "#f0f921"
             ]
            ],
            "type": "heatmap"
           }
          ],
          "heatmapgl": [
           {
            "colorbar": {
             "outlinewidth": 0,
             "ticks": ""
            },
            "colorscale": [
             [
              0,
              "#0d0887"
             ],
             [
              0.1111111111111111,
              "#46039f"
             ],
             [
              0.2222222222222222,
              "#7201a8"
             ],
             [
              0.3333333333333333,
              "#9c179e"
             ],
             [
              0.4444444444444444,
              "#bd3786"
             ],
             [
              0.5555555555555556,
              "#d8576b"
             ],
             [
              0.6666666666666666,
              "#ed7953"
             ],
             [
              0.7777777777777778,
              "#fb9f3a"
             ],
             [
              0.8888888888888888,
              "#fdca26"
             ],
             [
              1,
              "#f0f921"
             ]
            ],
            "type": "heatmapgl"
           }
          ],
          "histogram": [
           {
            "marker": {
             "pattern": {
              "fillmode": "overlay",
              "size": 10,
              "solidity": 0.2
             }
            },
            "type": "histogram"
           }
          ],
          "histogram2d": [
           {
            "colorbar": {
             "outlinewidth": 0,
             "ticks": ""
            },
            "colorscale": [
             [
              0,
              "#0d0887"
             ],
             [
              0.1111111111111111,
              "#46039f"
             ],
             [
              0.2222222222222222,
              "#7201a8"
             ],
             [
              0.3333333333333333,
              "#9c179e"
             ],
             [
              0.4444444444444444,
              "#bd3786"
             ],
             [
              0.5555555555555556,
              "#d8576b"
             ],
             [
              0.6666666666666666,
              "#ed7953"
             ],
             [
              0.7777777777777778,
              "#fb9f3a"
             ],
             [
              0.8888888888888888,
              "#fdca26"
             ],
             [
              1,
              "#f0f921"
             ]
            ],
            "type": "histogram2d"
           }
          ],
          "histogram2dcontour": [
           {
            "colorbar": {
             "outlinewidth": 0,
             "ticks": ""
            },
            "colorscale": [
             [
              0,
              "#0d0887"
             ],
             [
              0.1111111111111111,
              "#46039f"
             ],
             [
              0.2222222222222222,
              "#7201a8"
             ],
             [
              0.3333333333333333,
              "#9c179e"
             ],
             [
              0.4444444444444444,
              "#bd3786"
             ],
             [
              0.5555555555555556,
              "#d8576b"
             ],
             [
              0.6666666666666666,
              "#ed7953"
             ],
             [
              0.7777777777777778,
              "#fb9f3a"
             ],
             [
              0.8888888888888888,
              "#fdca26"
             ],
             [
              1,
              "#f0f921"
             ]
            ],
            "type": "histogram2dcontour"
           }
          ],
          "mesh3d": [
           {
            "colorbar": {
             "outlinewidth": 0,
             "ticks": ""
            },
            "type": "mesh3d"
           }
          ],
          "parcoords": [
           {
            "line": {
             "colorbar": {
              "outlinewidth": 0,
              "ticks": ""
             }
            },
            "type": "parcoords"
           }
          ],
          "pie": [
           {
            "automargin": true,
            "type": "pie"
           }
          ],
          "scatter": [
           {
            "marker": {
             "colorbar": {
              "outlinewidth": 0,
              "ticks": ""
             }
            },
            "type": "scatter"
           }
          ],
          "scatter3d": [
           {
            "line": {
             "colorbar": {
              "outlinewidth": 0,
              "ticks": ""
             }
            },
            "marker": {
             "colorbar": {
              "outlinewidth": 0,
              "ticks": ""
             }
            },
            "type": "scatter3d"
           }
          ],
          "scattercarpet": [
           {
            "marker": {
             "colorbar": {
              "outlinewidth": 0,
              "ticks": ""
             }
            },
            "type": "scattercarpet"
           }
          ],
          "scattergeo": [
           {
            "marker": {
             "colorbar": {
              "outlinewidth": 0,
              "ticks": ""
             }
            },
            "type": "scattergeo"
           }
          ],
          "scattergl": [
           {
            "marker": {
             "colorbar": {
              "outlinewidth": 0,
              "ticks": ""
             }
            },
            "type": "scattergl"
           }
          ],
          "scattermapbox": [
           {
            "marker": {
             "colorbar": {
              "outlinewidth": 0,
              "ticks": ""
             }
            },
            "type": "scattermapbox"
           }
          ],
          "scatterpolar": [
           {
            "marker": {
             "colorbar": {
              "outlinewidth": 0,
              "ticks": ""
             }
            },
            "type": "scatterpolar"
           }
          ],
          "scatterpolargl": [
           {
            "marker": {
             "colorbar": {
              "outlinewidth": 0,
              "ticks": ""
             }
            },
            "type": "scatterpolargl"
           }
          ],
          "scatterternary": [
           {
            "marker": {
             "colorbar": {
              "outlinewidth": 0,
              "ticks": ""
             }
            },
            "type": "scatterternary"
           }
          ],
          "surface": [
           {
            "colorbar": {
             "outlinewidth": 0,
             "ticks": ""
            },
            "colorscale": [
             [
              0,
              "#0d0887"
             ],
             [
              0.1111111111111111,
              "#46039f"
             ],
             [
              0.2222222222222222,
              "#7201a8"
             ],
             [
              0.3333333333333333,
              "#9c179e"
             ],
             [
              0.4444444444444444,
              "#bd3786"
             ],
             [
              0.5555555555555556,
              "#d8576b"
             ],
             [
              0.6666666666666666,
              "#ed7953"
             ],
             [
              0.7777777777777778,
              "#fb9f3a"
             ],
             [
              0.8888888888888888,
              "#fdca26"
             ],
             [
              1,
              "#f0f921"
             ]
            ],
            "type": "surface"
           }
          ],
          "table": [
           {
            "cells": {
             "fill": {
              "color": "#EBF0F8"
             },
             "line": {
              "color": "white"
             }
            },
            "header": {
             "fill": {
              "color": "#C8D4E3"
             },
             "line": {
              "color": "white"
             }
            },
            "type": "table"
           }
          ]
         },
         "layout": {
          "annotationdefaults": {
           "arrowcolor": "#2a3f5f",
           "arrowhead": 0,
           "arrowwidth": 1
          },
          "autotypenumbers": "strict",
          "coloraxis": {
           "colorbar": {
            "outlinewidth": 0,
            "ticks": ""
           }
          },
          "colorscale": {
           "diverging": [
            [
             0,
             "#8e0152"
            ],
            [
             0.1,
             "#c51b7d"
            ],
            [
             0.2,
             "#de77ae"
            ],
            [
             0.3,
             "#f1b6da"
            ],
            [
             0.4,
             "#fde0ef"
            ],
            [
             0.5,
             "#f7f7f7"
            ],
            [
             0.6,
             "#e6f5d0"
            ],
            [
             0.7,
             "#b8e186"
            ],
            [
             0.8,
             "#7fbc41"
            ],
            [
             0.9,
             "#4d9221"
            ],
            [
             1,
             "#276419"
            ]
           ],
           "sequential": [
            [
             0,
             "#0d0887"
            ],
            [
             0.1111111111111111,
             "#46039f"
            ],
            [
             0.2222222222222222,
             "#7201a8"
            ],
            [
             0.3333333333333333,
             "#9c179e"
            ],
            [
             0.4444444444444444,
             "#bd3786"
            ],
            [
             0.5555555555555556,
             "#d8576b"
            ],
            [
             0.6666666666666666,
             "#ed7953"
            ],
            [
             0.7777777777777778,
             "#fb9f3a"
            ],
            [
             0.8888888888888888,
             "#fdca26"
            ],
            [
             1,
             "#f0f921"
            ]
           ],
           "sequentialminus": [
            [
             0,
             "#0d0887"
            ],
            [
             0.1111111111111111,
             "#46039f"
            ],
            [
             0.2222222222222222,
             "#7201a8"
            ],
            [
             0.3333333333333333,
             "#9c179e"
            ],
            [
             0.4444444444444444,
             "#bd3786"
            ],
            [
             0.5555555555555556,
             "#d8576b"
            ],
            [
             0.6666666666666666,
             "#ed7953"
            ],
            [
             0.7777777777777778,
             "#fb9f3a"
            ],
            [
             0.8888888888888888,
             "#fdca26"
            ],
            [
             1,
             "#f0f921"
            ]
           ]
          },
          "colorway": [
           "#636efa",
           "#EF553B",
           "#00cc96",
           "#ab63fa",
           "#FFA15A",
           "#19d3f3",
           "#FF6692",
           "#B6E880",
           "#FF97FF",
           "#FECB52"
          ],
          "font": {
           "color": "#2a3f5f"
          },
          "geo": {
           "bgcolor": "white",
           "lakecolor": "white",
           "landcolor": "#E5ECF6",
           "showlakes": true,
           "showland": true,
           "subunitcolor": "white"
          },
          "hoverlabel": {
           "align": "left"
          },
          "hovermode": "closest",
          "mapbox": {
           "style": "light"
          },
          "paper_bgcolor": "white",
          "plot_bgcolor": "#E5ECF6",
          "polar": {
           "angularaxis": {
            "gridcolor": "white",
            "linecolor": "white",
            "ticks": ""
           },
           "bgcolor": "#E5ECF6",
           "radialaxis": {
            "gridcolor": "white",
            "linecolor": "white",
            "ticks": ""
           }
          },
          "scene": {
           "xaxis": {
            "backgroundcolor": "#E5ECF6",
            "gridcolor": "white",
            "gridwidth": 2,
            "linecolor": "white",
            "showbackground": true,
            "ticks": "",
            "zerolinecolor": "white"
           },
           "yaxis": {
            "backgroundcolor": "#E5ECF6",
            "gridcolor": "white",
            "gridwidth": 2,
            "linecolor": "white",
            "showbackground": true,
            "ticks": "",
            "zerolinecolor": "white"
           },
           "zaxis": {
            "backgroundcolor": "#E5ECF6",
            "gridcolor": "white",
            "gridwidth": 2,
            "linecolor": "white",
            "showbackground": true,
            "ticks": "",
            "zerolinecolor": "white"
           }
          },
          "shapedefaults": {
           "line": {
            "color": "#2a3f5f"
           }
          },
          "ternary": {
           "aaxis": {
            "gridcolor": "white",
            "linecolor": "white",
            "ticks": ""
           },
           "baxis": {
            "gridcolor": "white",
            "linecolor": "white",
            "ticks": ""
           },
           "bgcolor": "#E5ECF6",
           "caxis": {
            "gridcolor": "white",
            "linecolor": "white",
            "ticks": ""
           }
          },
          "title": {
           "x": 0.05
          },
          "xaxis": {
           "automargin": true,
           "gridcolor": "white",
           "linecolor": "white",
           "ticks": "",
           "title": {
            "standoff": 15
           },
           "zerolinecolor": "white",
           "zerolinewidth": 2
          },
          "yaxis": {
           "automargin": true,
           "gridcolor": "white",
           "linecolor": "white",
           "ticks": "",
           "title": {
            "standoff": 15
           },
           "zerolinecolor": "white",
           "zerolinewidth": 2
          }
         }
        },
        "title": {
         "text": "Suspicious Activity by state"
        },
        "uniformtext": {
         "minsize": 8,
         "mode": "hide"
        },
        "xaxis": {
         "anchor": "y",
         "domain": [
          0,
          1
         ],
         "title": {
          "text": "State"
         }
        },
        "yaxis": {
         "anchor": "x",
         "domain": [
          0,
          1
         ],
         "title": {
          "text": "Suspicious Activity"
         }
        }
       }
      }
     },
     "metadata": {},
     "output_type": "display_data"
    }
   ],
   "source": [
    "df1 = df.where(df['SAR'] == 1).groupby('state').agg({'SAR': 'count'})\n",
    "df2 = df.where(df['SAR'] == 0).groupby('state').agg({'SAR': 'count'})\n",
    "df_perc = (df1/(df2+df1))\n",
    "fig = px.bar(df_perc)\n",
    "fig.update_layout(\n",
    "    uniformtext_minsize=8, uniformtext_mode='hide',\n",
    "    title=\"Suspicious Activity by state\",\n",
    "    xaxis_title=\"State\",\n",
    "    yaxis_title=\"Suspicious Activity\",\n",
    ")\n",
    "fig.show()"
   ]
  },
  {
   "cell_type": "markdown",
   "id": "98d3326f",
   "metadata": {},
   "source": [
    "## Model fitting and selection"
   ]
  },
  {
   "cell_type": "code",
   "execution_count": 12,
   "id": "3ab1adfa",
   "metadata": {},
   "outputs": [],
   "source": [
    "X = df.drop(['SAR'], axis = 1)\n",
    "Y = df['SAR']"
   ]
  },
  {
   "cell_type": "code",
   "execution_count": 13,
   "id": "ec89a731",
   "metadata": {},
   "outputs": [
    {
     "name": "stderr",
     "output_type": "stream",
     "text": [
      "\tHigh coefficient of variation (cv >= 0.5) within cross validation scores.\n",
      "\tMode Baseline Binary Classification Pipeline may not perform as estimated on unseen data.\n",
      "\tHigh coefficient of variation (cv >= 0.5) within cross validation scores.\n",
      "\tDecision Tree Classifier w/ Label Encoder + Drop Null Columns Transformer + Drop Columns Transformer + Imputer + One Hot Encoder + Oversampler may not perform as estimated on unseen data.\n"
     ]
    }
   ],
   "source": [
    "import evalml\n",
    "from evalml.automl import AutoMLSearch\n",
    "problem_type = 'binary'\n",
    "\n",
    "X_train, X_test, y_train, y_test = evalml.preprocessing.split_data(X, Y, problem_type = problem_type, test_size=.2)\n",
    "\n",
    "# perform a search across multiple pipelines and hyperparameters\n",
    "automl = AutoMLSearch(X_train, y_train, problem_type=problem_type)\n",
    "automl.search()"
   ]
  },
  {
   "cell_type": "code",
   "execution_count": 14,
   "id": "5664cb78",
   "metadata": {},
   "outputs": [
    {
     "data": {
      "text/plain": [
       "6139    0\n",
       "9210    0\n",
       "5153    0\n",
       "7874    0\n",
       "4457    0\n",
       "4692    0\n",
       "3847    0\n",
       "2476    0\n",
       "3335    0\n",
       "2590    0\n",
       "7851    0\n",
       "1688    0\n",
       "1123    0\n",
       "2365    0\n",
       "4197    0\n",
       "4442    0\n",
       "8254    0\n",
       "2921    0\n",
       "2022    0\n",
       "3767    0\n",
       "7890    0\n",
       "9107    0\n",
       "6287    0\n",
       "4096    0\n",
       "8169    0\n",
       "6959    0\n",
       "2789    0\n",
       "4790    0\n",
       "9571    0\n",
       "5436    0\n",
       "2666    0\n",
       "7440    0\n",
       "3973    0\n",
       "7998    0\n",
       "3691    0\n",
       "7678    0\n",
       "7549    0\n",
       "6215    0\n",
       "2339    0\n",
       "9468    0\n",
       "Name: SAR, dtype: int64"
      ]
     },
     "execution_count": 14,
     "metadata": {},
     "output_type": "execute_result"
    }
   ],
   "source": [
    "# the best pipeline is already refitted on the entire training data\n",
    "best_pipeline = automl.best_pipeline\n",
    "best_pipeline.predict(X_test)"
   ]
  },
  {
   "cell_type": "code",
   "execution_count": 15,
   "id": "f058bacc",
   "metadata": {},
   "outputs": [
    {
     "data": {
      "text/html": [
       "<div>\n",
       "<style scoped>\n",
       "    .dataframe tbody tr th:only-of-type {\n",
       "        vertical-align: middle;\n",
       "    }\n",
       "\n",
       "    .dataframe tbody tr th {\n",
       "        vertical-align: top;\n",
       "    }\n",
       "\n",
       "    .dataframe thead th {\n",
       "        text-align: right;\n",
       "    }\n",
       "</style>\n",
       "<table border=\"1\" class=\"dataframe\">\n",
       "  <thead>\n",
       "    <tr style=\"text-align: right;\">\n",
       "      <th></th>\n",
       "      <th>id</th>\n",
       "      <th>pipeline_name</th>\n",
       "      <th>search_order</th>\n",
       "      <th>mean_cv_score</th>\n",
       "      <th>standard_deviation_cv_score</th>\n",
       "      <th>validation_score</th>\n",
       "      <th>percent_better_than_baseline</th>\n",
       "      <th>high_variance_cv</th>\n",
       "      <th>parameters</th>\n",
       "    </tr>\n",
       "  </thead>\n",
       "  <tbody>\n",
       "    <tr>\n",
       "      <th>0</th>\n",
       "      <td>8</td>\n",
       "      <td>Extra Trees Classifier w/ Label Encoder + Drop...</td>\n",
       "      <td>8</td>\n",
       "      <td>0.202221</td>\n",
       "      <td>0.012470</td>\n",
       "      <td>0.216185</td>\n",
       "      <td>94.141001</td>\n",
       "      <td>False</td>\n",
       "      <td>{'Drop Null Columns Transformer': {'pct_null_t...</td>\n",
       "    </tr>\n",
       "    <tr>\n",
       "      <th>1</th>\n",
       "      <td>6</td>\n",
       "      <td>Random Forest Classifier w/ Label Encoder + Dr...</td>\n",
       "      <td>6</td>\n",
       "      <td>0.203843</td>\n",
       "      <td>0.013571</td>\n",
       "      <td>0.189954</td>\n",
       "      <td>94.094023</td>\n",
       "      <td>False</td>\n",
       "      <td>{'Drop Null Columns Transformer': {'pct_null_t...</td>\n",
       "    </tr>\n",
       "    <tr>\n",
       "      <th>2</th>\n",
       "      <td>3</td>\n",
       "      <td>XGBoost Classifier w/ Label Encoder + Drop Nul...</td>\n",
       "      <td>3</td>\n",
       "      <td>0.215932</td>\n",
       "      <td>0.034679</td>\n",
       "      <td>0.184456</td>\n",
       "      <td>93.743742</td>\n",
       "      <td>False</td>\n",
       "      <td>{'Drop Null Columns Transformer': {'pct_null_t...</td>\n",
       "    </tr>\n",
       "    <tr>\n",
       "      <th>3</th>\n",
       "      <td>4</td>\n",
       "      <td>LightGBM Classifier w/ Label Encoder + Drop Nu...</td>\n",
       "      <td>4</td>\n",
       "      <td>0.226485</td>\n",
       "      <td>0.034031</td>\n",
       "      <td>0.213157</td>\n",
       "      <td>93.438006</td>\n",
       "      <td>False</td>\n",
       "      <td>{'Drop Null Columns Transformer': {'pct_null_t...</td>\n",
       "    </tr>\n",
       "    <tr>\n",
       "      <th>4</th>\n",
       "      <td>1</td>\n",
       "      <td>Elastic Net Classifier w/ Label Encoder + Drop...</td>\n",
       "      <td>1</td>\n",
       "      <td>0.321872</td>\n",
       "      <td>0.108611</td>\n",
       "      <td>0.212079</td>\n",
       "      <td>90.674320</td>\n",
       "      <td>False</td>\n",
       "      <td>{'Drop Null Columns Transformer': {'pct_null_t...</td>\n",
       "    </tr>\n",
       "    <tr>\n",
       "      <th>5</th>\n",
       "      <td>2</td>\n",
       "      <td>Logistic Regression Classifier w/ Label Encode...</td>\n",
       "      <td>2</td>\n",
       "      <td>0.349419</td>\n",
       "      <td>0.125175</td>\n",
       "      <td>0.223105</td>\n",
       "      <td>89.876210</td>\n",
       "      <td>False</td>\n",
       "      <td>{'Drop Null Columns Transformer': {'pct_null_t...</td>\n",
       "    </tr>\n",
       "    <tr>\n",
       "      <th>6</th>\n",
       "      <td>5</td>\n",
       "      <td>CatBoost Classifier w/ Label Encoder + Drop Nu...</td>\n",
       "      <td>5</td>\n",
       "      <td>0.453353</td>\n",
       "      <td>0.018821</td>\n",
       "      <td>0.474212</td>\n",
       "      <td>86.864911</td>\n",
       "      <td>False</td>\n",
       "      <td>{'Drop Null Columns Transformer': {'pct_null_t...</td>\n",
       "    </tr>\n",
       "    <tr>\n",
       "      <th>7</th>\n",
       "      <td>0</td>\n",
       "      <td>Mode Baseline Binary Classification Pipeline</td>\n",
       "      <td>0</td>\n",
       "      <td>3.451464</td>\n",
       "      <td>0.334440</td>\n",
       "      <td>3.837642</td>\n",
       "      <td>0.000000</td>\n",
       "      <td>True</td>\n",
       "      <td>{'Baseline Classifier': {'strategy': 'mode'}}</td>\n",
       "    </tr>\n",
       "    <tr>\n",
       "      <th>8</th>\n",
       "      <td>7</td>\n",
       "      <td>Decision Tree Classifier w/ Label Encoder + Dr...</td>\n",
       "      <td>7</td>\n",
       "      <td>3.945790</td>\n",
       "      <td>1.016473</td>\n",
       "      <td>4.503010</td>\n",
       "      <td>-14.322201</td>\n",
       "      <td>True</td>\n",
       "      <td>{'Drop Null Columns Transformer': {'pct_null_t...</td>\n",
       "    </tr>\n",
       "  </tbody>\n",
       "</table>\n",
       "</div>"
      ],
      "text/plain": [
       "   id                                      pipeline_name  search_order  \\\n",
       "0   8  Extra Trees Classifier w/ Label Encoder + Drop...             8   \n",
       "1   6  Random Forest Classifier w/ Label Encoder + Dr...             6   \n",
       "2   3  XGBoost Classifier w/ Label Encoder + Drop Nul...             3   \n",
       "3   4  LightGBM Classifier w/ Label Encoder + Drop Nu...             4   \n",
       "4   1  Elastic Net Classifier w/ Label Encoder + Drop...             1   \n",
       "5   2  Logistic Regression Classifier w/ Label Encode...             2   \n",
       "6   5  CatBoost Classifier w/ Label Encoder + Drop Nu...             5   \n",
       "7   0       Mode Baseline Binary Classification Pipeline             0   \n",
       "8   7  Decision Tree Classifier w/ Label Encoder + Dr...             7   \n",
       "\n",
       "   mean_cv_score  standard_deviation_cv_score  validation_score  \\\n",
       "0       0.202221                     0.012470          0.216185   \n",
       "1       0.203843                     0.013571          0.189954   \n",
       "2       0.215932                     0.034679          0.184456   \n",
       "3       0.226485                     0.034031          0.213157   \n",
       "4       0.321872                     0.108611          0.212079   \n",
       "5       0.349419                     0.125175          0.223105   \n",
       "6       0.453353                     0.018821          0.474212   \n",
       "7       3.451464                     0.334440          3.837642   \n",
       "8       3.945790                     1.016473          4.503010   \n",
       "\n",
       "   percent_better_than_baseline  high_variance_cv  \\\n",
       "0                     94.141001             False   \n",
       "1                     94.094023             False   \n",
       "2                     93.743742             False   \n",
       "3                     93.438006             False   \n",
       "4                     90.674320             False   \n",
       "5                     89.876210             False   \n",
       "6                     86.864911             False   \n",
       "7                      0.000000              True   \n",
       "8                    -14.322201              True   \n",
       "\n",
       "                                          parameters  \n",
       "0  {'Drop Null Columns Transformer': {'pct_null_t...  \n",
       "1  {'Drop Null Columns Transformer': {'pct_null_t...  \n",
       "2  {'Drop Null Columns Transformer': {'pct_null_t...  \n",
       "3  {'Drop Null Columns Transformer': {'pct_null_t...  \n",
       "4  {'Drop Null Columns Transformer': {'pct_null_t...  \n",
       "5  {'Drop Null Columns Transformer': {'pct_null_t...  \n",
       "6  {'Drop Null Columns Transformer': {'pct_null_t...  \n",
       "7      {'Baseline Classifier': {'strategy': 'mode'}}  \n",
       "8  {'Drop Null Columns Transformer': {'pct_null_t...  "
      ]
     },
     "execution_count": 15,
     "metadata": {},
     "output_type": "execute_result"
    }
   ],
   "source": [
    "automl.rankings"
   ]
  },
  {
   "cell_type": "code",
   "execution_count": 16,
   "id": "517a29d3",
   "metadata": {},
   "outputs": [
    {
     "name": "stdout",
     "output_type": "stream",
     "text": [
      "\n",
      "************************************************************************************************************************************************\n",
      "* Extra Trees Classifier w/ Label Encoder + Drop Null Columns Transformer + Drop Columns Transformer + Imputer + One Hot Encoder + Oversampler *\n",
      "************************************************************************************************************************************************\n",
      "\n",
      "Problem Type: binary\n",
      "Model Family: Extra Trees\n",
      "\n",
      "Pipeline Steps\n",
      "==============\n",
      "1. Label Encoder\n",
      "2. Drop Null Columns Transformer\n",
      "\t * pct_null_threshold : 1.0\n",
      "3. Drop Columns Transformer\n",
      "\t * columns : ['csrNotes']\n",
      "4. Imputer\n",
      "\t * categorical_impute_strategy : most_frequent\n",
      "\t * numeric_impute_strategy : mean\n",
      "\t * categorical_fill_value : None\n",
      "\t * numeric_fill_value : None\n",
      "5. One Hot Encoder\n",
      "\t * top_n : 10\n",
      "\t * features_to_encode : None\n",
      "\t * categories : None\n",
      "\t * drop : if_binary\n",
      "\t * handle_unknown : ignore\n",
      "\t * handle_missing : error\n",
      "6. Oversampler\n",
      "\t * sampling_ratio : 0.25\n",
      "\t * k_neighbors_default : 5\n",
      "\t * n_jobs : -1\n",
      "\t * sampling_ratio_dict : None\n",
      "\t * categorical_features : [27, 28, 29, 30, 31, 32, 33, 34, 35]\n",
      "\t * k_neighbors : 5\n",
      "7. Extra Trees Classifier\n",
      "\t * n_estimators : 100\n",
      "\t * max_features : auto\n",
      "\t * max_depth : 6\n",
      "\t * min_samples_split : 2\n",
      "\t * min_weight_fraction_leaf : 0.0\n",
      "\t * n_jobs : -1\n",
      "\n",
      "Training\n",
      "========\n",
      "Training for binary problems.\n",
      "Total training time (including CV): 4.4 seconds\n",
      "\n",
      "Cross Validation\n",
      "----------------\n",
      "             Log Loss Binary  MCC Binary  Gini   AUC  Precision    F1  Balanced Accuracy Binary  Accuracy Binary # Training # Validation\n",
      "0                      0.216       0.812 0.889 0.944      0.833 0.833                     0.906            0.963        106           54\n",
      "1                      0.192       0.275 0.942 0.971      0.500 0.286                     0.590            0.906        107           53\n",
      "2                      0.198       0.496 0.808 0.904      0.500 0.545                     0.769            0.906        107           53\n",
      "mean                   0.202       0.528 0.880 0.940      0.611 0.555                     0.755            0.925          -            -\n",
      "std                    0.012       0.270 0.067 0.034      0.192 0.274                     0.159            0.033          -            -\n",
      "coef of var            0.062       0.512 0.076 0.036      0.315 0.494                     0.210            0.036          -            -\n"
     ]
    }
   ],
   "source": [
    "automl.describe_pipeline(automl.rankings.iloc[0][\"id\"])"
   ]
  },
  {
   "cell_type": "code",
   "execution_count": 17,
   "id": "178a9ec4",
   "metadata": {},
   "outputs": [
    {
     "name": "stdout",
     "output_type": "stream",
     "text": [
      "0.875\n"
     ]
    }
   ],
   "source": [
    "scores = best_pipeline.score(X_test, y_test,  objectives=[\"auc\"])\n",
    "print(scores['AUC'])"
   ]
  },
  {
   "cell_type": "code",
   "execution_count": 18,
   "id": "b8a375fd",
   "metadata": {},
   "outputs": [
    {
     "data": {
      "image/svg+xml": "<?xml version=\"1.0\" encoding=\"UTF-8\" standalone=\"no\"?>\r\n<!DOCTYPE svg PUBLIC \"-//W3C//DTD SVG 1.1//EN\"\r\n \"http://www.w3.org/Graphics/SVG/1.1/DTD/svg11.dtd\">\r\n<!-- Generated by graphviz version 2.38.0 (20140413.2041)\r\n -->\r\n<!-- Title: %3 Pages: 1 -->\r\n<svg width=\"1719pt\" height=\"215pt\"\r\n viewBox=\"0.00 0.00 1719.00 214.50\" xmlns=\"http://www.w3.org/2000/svg\" xmlns:xlink=\"http://www.w3.org/1999/xlink\">\r\n<g id=\"graph0\" class=\"graph\" transform=\"scale(1 1) rotate(0) translate(4 210.5)\">\r\n<title>%3</title>\r\n<polygon fill=\"white\" stroke=\"none\" points=\"-4,4 -4,-210.5 1715,-210.5 1715,4 -4,4\"/>\r\n<!-- Label Encoder -->\r\n<g id=\"node1\" class=\"node\"><title>Label Encoder</title>\r\n<polygon fill=\"none\" stroke=\"black\" points=\"72,-73.5 72,-120.5 170,-120.5 170,-73.5 72,-73.5\"/>\r\n<text text-anchor=\"middle\" x=\"121\" y=\"-105.3\" font-family=\"Times New Roman,serif\" font-size=\"14.00\">Label Encoder</text>\r\n<polyline fill=\"none\" stroke=\"black\" points=\"72,-97.5 170,-97.5 \"/>\r\n</g>\r\n<!-- Drop Null Columns Transformer -->\r\n<g id=\"node2\" class=\"node\"><title>Drop Null Columns Transformer</title>\r\n<polygon fill=\"none\" stroke=\"black\" points=\"206,-160 206,-206 406,-206 406,-160 206,-160\"/>\r\n<text text-anchor=\"middle\" x=\"306\" y=\"-190.8\" font-family=\"Times New Roman,serif\" font-size=\"14.00\">Drop Null Columns Transformer</text>\r\n<polyline fill=\"none\" stroke=\"black\" points=\"206,-183 406,-183 \"/>\r\n<text text-anchor=\"start\" x=\"214\" y=\"-167.8\" font-family=\"Times New Roman,serif\" font-size=\"14.00\">pct_null_threshold : 1.00</text>\r\n</g>\r\n<!-- Label Encoder&#45;&gt;Drop Null Columns Transformer -->\r\n<g id=\"edge8\" class=\"edge\"><title>Label Encoder&#45;&gt;Drop Null Columns Transformer</title>\r\n<path fill=\"none\" stroke=\"black\" stroke-dasharray=\"1,5\" d=\"M160.655,-120.732C174.687,-128.904 190.824,-137.803 206,-145 214.124,-148.852 222.751,-152.618 231.393,-156.189\"/>\r\n<polygon fill=\"black\" stroke=\"black\" points=\"230.172,-159.471 240.754,-159.984 232.801,-152.984 230.172,-159.471\"/>\r\n</g>\r\n<!-- Drop Columns Transformer -->\r\n<g id=\"node3\" class=\"node\"><title>Drop Columns Transformer</title>\r\n<polygon fill=\"none\" stroke=\"black\" points=\"442,-122 442,-168 615,-168 615,-122 442,-122\"/>\r\n<text text-anchor=\"middle\" x=\"528.5\" y=\"-152.8\" font-family=\"Times New Roman,serif\" font-size=\"14.00\">Drop Columns Transformer</text>\r\n<polyline fill=\"none\" stroke=\"black\" points=\"442,-145 615,-145 \"/>\r\n<text text-anchor=\"start\" x=\"450\" y=\"-129.8\" font-family=\"Times New Roman,serif\" font-size=\"14.00\">columns : [&#39;csrNotes&#39;]</text>\r\n</g>\r\n<!-- Label Encoder&#45;&gt;Drop Columns Transformer -->\r\n<g id=\"edge9\" class=\"edge\"><title>Label Encoder&#45;&gt;Drop Columns Transformer</title>\r\n<path fill=\"none\" stroke=\"black\" stroke-dasharray=\"1,5\" d=\"M170.416,-102.771C182.069,-104.158 194.479,-105.633 206,-107 281.892,-116.002 367.867,-126.162 431.802,-133.71\"/>\r\n<polygon fill=\"black\" stroke=\"black\" points=\"431.528,-137.202 441.869,-134.899 432.348,-130.25 431.528,-137.202\"/>\r\n</g>\r\n<!-- Imputer -->\r\n<g id=\"node4\" class=\"node\"><title>Imputer</title>\r\n<polygon fill=\"none\" stroke=\"black\" points=\"651,-83.5 651,-174.5 915,-174.5 915,-83.5 651,-83.5\"/>\r\n<text text-anchor=\"middle\" x=\"783\" y=\"-159.3\" font-family=\"Times New Roman,serif\" font-size=\"14.00\">Imputer</text>\r\n<polyline fill=\"none\" stroke=\"black\" points=\"651,-151.5 915,-151.5 \"/>\r\n<text text-anchor=\"start\" x=\"659\" y=\"-136.3\" font-family=\"Times New Roman,serif\" font-size=\"14.00\">categorical_impute_strategy : most_frequent</text>\r\n<text text-anchor=\"start\" x=\"659\" y=\"-121.3\" font-family=\"Times New Roman,serif\" font-size=\"14.00\">numeric_impute_strategy : mean</text>\r\n<text text-anchor=\"start\" x=\"659\" y=\"-106.3\" font-family=\"Times New Roman,serif\" font-size=\"14.00\">categorical_fill_value : None</text>\r\n<text text-anchor=\"start\" x=\"659\" y=\"-91.3\" font-family=\"Times New Roman,serif\" font-size=\"14.00\">numeric_fill_value : None</text>\r\n</g>\r\n<!-- Label Encoder&#45;&gt;Imputer -->\r\n<g id=\"edge10\" class=\"edge\"><title>Label Encoder&#45;&gt;Imputer</title>\r\n<path fill=\"none\" stroke=\"black\" stroke-dasharray=\"1,5\" d=\"M170.339,-97.3327C258.711,-98.1942 452.229,-101.253 615,-112 623.36,-112.552 631.949,-113.194 640.61,-113.9\"/>\r\n<polygon fill=\"black\" stroke=\"black\" points=\"640.542,-117.407 650.8,-114.756 641.128,-110.431 640.542,-117.407\"/>\r\n</g>\r\n<!-- One Hot Encoder -->\r\n<g id=\"node5\" class=\"node\"><title>One Hot Encoder</title>\r\n<polygon fill=\"none\" stroke=\"black\" points=\"951,-45.5 951,-166.5 1118,-166.5 1118,-45.5 951,-45.5\"/>\r\n<text text-anchor=\"middle\" x=\"1034.5\" y=\"-151.3\" font-family=\"Times New Roman,serif\" font-size=\"14.00\">One Hot Encoder</text>\r\n<polyline fill=\"none\" stroke=\"black\" points=\"951,-143.5 1118,-143.5 \"/>\r\n<text text-anchor=\"start\" x=\"959\" y=\"-128.3\" font-family=\"Times New Roman,serif\" font-size=\"14.00\">top_n : 10</text>\r\n<text text-anchor=\"start\" x=\"959\" y=\"-113.3\" font-family=\"Times New Roman,serif\" font-size=\"14.00\">features_to_encode : None</text>\r\n<text text-anchor=\"start\" x=\"959\" y=\"-98.3\" font-family=\"Times New Roman,serif\" font-size=\"14.00\">categories : None</text>\r\n<text text-anchor=\"start\" x=\"959\" y=\"-83.3\" font-family=\"Times New Roman,serif\" font-size=\"14.00\">drop : if_binary</text>\r\n<text text-anchor=\"start\" x=\"959\" y=\"-68.3\" font-family=\"Times New Roman,serif\" font-size=\"14.00\">handle_unknown : ignore</text>\r\n<text text-anchor=\"start\" x=\"959\" y=\"-53.3\" font-family=\"Times New Roman,serif\" font-size=\"14.00\">handle_missing : error</text>\r\n</g>\r\n<!-- Label Encoder&#45;&gt;One Hot Encoder -->\r\n<g id=\"edge11\" class=\"edge\"><title>Label Encoder&#45;&gt;One Hot Encoder</title>\r\n<path fill=\"none\" stroke=\"black\" stroke-dasharray=\"1,5\" d=\"M170.098,-90.2641C294.137,-74.0465 634.761,-36.8275 915,-74 923.518,-75.1299 932.293,-76.6979 941.033,-78.5378\"/>\r\n<polygon fill=\"black\" stroke=\"black\" points=\"940.348,-81.9709 950.869,-80.7218 941.866,-75.1374 940.348,-81.9709\"/>\r\n</g>\r\n<!-- Oversampler -->\r\n<g id=\"node6\" class=\"node\"><title>Oversampler</title>\r\n<polygon fill=\"none\" stroke=\"black\" points=\"1154,-0.5 1154,-121.5 1483,-121.5 1483,-0.5 1154,-0.5\"/>\r\n<text text-anchor=\"middle\" x=\"1318.5\" y=\"-106.3\" font-family=\"Times New Roman,serif\" font-size=\"14.00\">Oversampler</text>\r\n<polyline fill=\"none\" stroke=\"black\" points=\"1154,-98.5 1483,-98.5 \"/>\r\n<text text-anchor=\"start\" x=\"1162\" y=\"-83.3\" font-family=\"Times New Roman,serif\" font-size=\"14.00\">sampling_ratio : 0.25</text>\r\n<text text-anchor=\"start\" x=\"1162\" y=\"-68.3\" font-family=\"Times New Roman,serif\" font-size=\"14.00\">k_neighbors_default : 5</text>\r\n<text text-anchor=\"start\" x=\"1162\" y=\"-53.3\" font-family=\"Times New Roman,serif\" font-size=\"14.00\">n_jobs : &#45;1</text>\r\n<text text-anchor=\"start\" x=\"1162\" y=\"-38.3\" font-family=\"Times New Roman,serif\" font-size=\"14.00\">sampling_ratio_dict : None</text>\r\n<text text-anchor=\"start\" x=\"1162\" y=\"-23.3\" font-family=\"Times New Roman,serif\" font-size=\"14.00\">categorical_features : [27, 28, 29, 30, 31, 32, 33, 34, 35]</text>\r\n<text text-anchor=\"start\" x=\"1162\" y=\"-8.3\" font-family=\"Times New Roman,serif\" font-size=\"14.00\">k_neighbors : 5</text>\r\n</g>\r\n<!-- Label Encoder&#45;&gt;Oversampler -->\r\n<g id=\"edge12\" class=\"edge\"><title>Label Encoder&#45;&gt;Oversampler</title>\r\n<path fill=\"none\" stroke=\"black\" stroke-dasharray=\"1,5\" d=\"M170.227,-75.8763C181.777,-71.4285 194.189,-67.1389 206,-64 345.564,-26.9108 383.092,-17 527.5,-17 527.5,-17 527.5,-17 784,-17 932.684,-17 969.927,-22.5263 1118,-36 1126.37,-36.7616 1134.93,-37.6012 1143.57,-38.4972\"/>\r\n<polygon fill=\"black\" stroke=\"black\" points=\"1143.43,-42.002 1153.75,-39.5737 1144.17,-35.0408 1143.43,-42.002\"/>\r\n</g>\r\n<!-- Drop Null Columns Transformer&#45;&gt;Drop Columns Transformer -->\r\n<g id=\"edge1\" class=\"edge\"><title>Drop Null Columns Transformer&#45;&gt;Drop Columns Transformer</title>\r\n<path fill=\"none\" stroke=\"black\" d=\"M406.284,-165.89C414.829,-164.417 423.462,-162.929 431.976,-161.462\"/>\r\n<polygon fill=\"black\" stroke=\"black\" points=\"432.643,-164.899 441.904,-159.751 431.455,-158.001 432.643,-164.899\"/>\r\n</g>\r\n<!-- Drop Columns Transformer&#45;&gt;Imputer -->\r\n<g id=\"edge2\" class=\"edge\"><title>Drop Columns Transformer&#45;&gt;Imputer</title>\r\n<path fill=\"none\" stroke=\"black\" d=\"M615.337,-139.561C623.558,-139.04 632.034,-138.503 640.605,-137.96\"/>\r\n<polygon fill=\"black\" stroke=\"black\" points=\"640.942,-141.445 650.7,-137.32 640.499,-134.459 640.942,-141.445\"/>\r\n</g>\r\n<!-- Imputer&#45;&gt;One Hot Encoder -->\r\n<g id=\"edge3\" class=\"edge\"><title>Imputer&#45;&gt;One Hot Encoder</title>\r\n<path fill=\"none\" stroke=\"black\" d=\"M915.326,-116.894C923.923,-116.101 932.477,-115.313 940.827,-114.543\"/>\r\n<polygon fill=\"black\" stroke=\"black\" points=\"941.261,-118.018 950.898,-113.615 940.619,-111.047 941.261,-118.018\"/>\r\n</g>\r\n<!-- One Hot Encoder&#45;&gt;Oversampler -->\r\n<g id=\"edge4\" class=\"edge\"><title>One Hot Encoder&#45;&gt;Oversampler</title>\r\n<path fill=\"none\" stroke=\"black\" d=\"M1118.2,-92.8026C1126.47,-91.4836 1135.06,-90.1128 1143.83,-88.7136\"/>\r\n<polygon fill=\"black\" stroke=\"black\" points=\"1144.47,-92.1552 1153.8,-87.123 1143.37,-85.2426 1144.47,-92.1552\"/>\r\n</g>\r\n<!-- Extra Trees Classifier -->\r\n<g id=\"node7\" class=\"node\"><title>Extra Trees Classifier</title>\r\n<polygon fill=\"none\" stroke=\"black\" points=\"1519,-0.5 1519,-121.5 1711,-121.5 1711,-0.5 1519,-0.5\"/>\r\n<text text-anchor=\"middle\" x=\"1615\" y=\"-106.3\" font-family=\"Times New Roman,serif\" font-size=\"14.00\">Extra Trees Classifier</text>\r\n<polyline fill=\"none\" stroke=\"black\" points=\"1519,-98.5 1711,-98.5 \"/>\r\n<text text-anchor=\"start\" x=\"1527\" y=\"-83.3\" font-family=\"Times New Roman,serif\" font-size=\"14.00\">n_estimators : 100</text>\r\n<text text-anchor=\"start\" x=\"1527\" y=\"-68.3\" font-family=\"Times New Roman,serif\" font-size=\"14.00\">max_features : auto</text>\r\n<text text-anchor=\"start\" x=\"1527\" y=\"-53.3\" font-family=\"Times New Roman,serif\" font-size=\"14.00\">max_depth : 6</text>\r\n<text text-anchor=\"start\" x=\"1527\" y=\"-38.3\" font-family=\"Times New Roman,serif\" font-size=\"14.00\">min_samples_split : 2</text>\r\n<text text-anchor=\"start\" x=\"1527\" y=\"-23.3\" font-family=\"Times New Roman,serif\" font-size=\"14.00\">min_weight_fraction_leaf : 0.00</text>\r\n<text text-anchor=\"start\" x=\"1527\" y=\"-8.3\" font-family=\"Times New Roman,serif\" font-size=\"14.00\">n_jobs : &#45;1</text>\r\n</g>\r\n<!-- Oversampler&#45;&gt;Extra Trees Classifier -->\r\n<g id=\"edge5\" class=\"edge\"><title>Oversampler&#45;&gt;Extra Trees Classifier</title>\r\n<path fill=\"none\" stroke=\"black\" d=\"M1483.11,-54.2872C1491.77,-54.3267 1500.36,-54.3976 1508.74,-54.5001\"/>\r\n<polygon fill=\"black\" stroke=\"black\" points=\"1508.81,-58.0013 1518.86,-54.6406 1508.91,-51.002 1508.81,-58.0013\"/>\r\n</g>\r\n<!-- Oversampler&#45;&gt;Extra Trees Classifier -->\r\n<g id=\"edge13\" class=\"edge\"><title>Oversampler&#45;&gt;Extra Trees Classifier</title>\r\n<path fill=\"none\" stroke=\"black\" stroke-dasharray=\"1,5\" d=\"M1483.11,-67.7128C1491.77,-67.6733 1500.36,-67.6024 1508.74,-67.4999\"/>\r\n<polygon fill=\"black\" stroke=\"black\" points=\"1508.91,-70.998 1518.86,-67.3594 1508.81,-63.9987 1508.91,-70.998\"/>\r\n</g>\r\n<!-- X -->\r\n<g id=\"node8\" class=\"node\"><title>X</title>\r\n<ellipse fill=\"none\" stroke=\"black\" cx=\"18\" cy=\"-169\" rx=\"18\" ry=\"18\"/>\r\n<text text-anchor=\"middle\" x=\"18\" y=\"-165.3\" font-family=\"Times New Roman,serif\" font-size=\"14.00\">X</text>\r\n</g>\r\n<!-- X&#45;&gt;Label Encoder -->\r\n<g id=\"edge6\" class=\"edge\"><title>X&#45;&gt;Label Encoder</title>\r\n<path fill=\"none\" stroke=\"black\" d=\"M33.0436,-158.989C44.8599,-150.565 62.3782,-138.077 78.6007,-126.512\"/>\r\n<polygon fill=\"black\" stroke=\"black\" points=\"80.8177,-129.23 86.9288,-120.575 76.7543,-123.53 80.8177,-129.23\"/>\r\n</g>\r\n<!-- X&#45;&gt;Drop Null Columns Transformer -->\r\n<g id=\"edge7\" class=\"edge\"><title>X&#45;&gt;Drop Null Columns Transformer</title>\r\n<path fill=\"none\" stroke=\"black\" d=\"M36.0341,-169.834C67.1252,-171.356 135.4,-174.698 195.378,-177.634\"/>\r\n<polygon fill=\"black\" stroke=\"black\" points=\"195.536,-181.146 205.695,-178.139 195.879,-174.154 195.536,-181.146\"/>\r\n</g>\r\n<!-- y -->\r\n<g id=\"node9\" class=\"node\"><title>y</title>\r\n<ellipse fill=\"none\" stroke=\"black\" cx=\"18\" cy=\"-97\" rx=\"18\" ry=\"18\"/>\r\n<text text-anchor=\"middle\" x=\"18\" y=\"-93.3\" font-family=\"Times New Roman,serif\" font-size=\"14.00\">y</text>\r\n</g>\r\n<!-- y&#45;&gt;Label Encoder -->\r\n<g id=\"edge14\" class=\"edge\"><title>y&#45;&gt;Label Encoder</title>\r\n<path fill=\"none\" stroke=\"black\" stroke-dasharray=\"1,5\" d=\"M36.1333,-97C43.4076,-97 52.3537,-97 61.6641,-97\"/>\r\n<polygon fill=\"black\" stroke=\"black\" points=\"61.848,-100.5 71.8479,-97 61.8479,-93.5001 61.848,-100.5\"/>\r\n</g>\r\n</g>\r\n</svg>\r\n",
      "text/plain": [
       "<graphviz.dot.Digraph at 0x2394ea0cf48>"
      ]
     },
     "execution_count": 18,
     "metadata": {},
     "output_type": "execute_result"
    }
   ],
   "source": [
    "best_pipeline.graph()"
   ]
  },
  {
   "cell_type": "code",
   "execution_count": null,
   "id": "962c246b",
   "metadata": {},
   "outputs": [],
   "source": []
  }
 ],
 "metadata": {
  "kernelspec": {
   "display_name": "Python 3",
   "language": "python",
   "name": "python3"
  },
  "language_info": {
   "codemirror_mode": {
    "name": "ipython",
    "version": 3
   },
   "file_extension": ".py",
   "mimetype": "text/x-python",
   "name": "python",
   "nbconvert_exporter": "python",
   "pygments_lexer": "ipython3",
   "version": "3.7.4"
  }
 },
 "nbformat": 4,
 "nbformat_minor": 5
}
