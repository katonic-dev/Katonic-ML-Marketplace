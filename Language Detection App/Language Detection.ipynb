{
 "cells": [
  {
   "cell_type": "markdown",
   "metadata": {
    "tags": []
   },
   "source": [
    "<img width=\"10%\" alt=\"Naas\" src=\"https://katonic.ai/assets/svg/logos/logo-katonic.png\"/>"
   ]
  },
  {
   "cell_type": "markdown",
   "metadata": {
    "tags": []
   },
   "source": [
    "# Language Detection"
   ]
  },
  {
   "cell_type": "markdown",
   "metadata": {
    "tags": []
   },
   "source": [
    "This App will be use as the language detection app which can detect over 55 different languages "
   ]
  },
  {
   "cell_type": "markdown",
   "metadata": {
    "tags": []
   },
   "source": [
    "### Language Detection"
   ]
  },
  {
   "cell_type": "markdown",
   "metadata": {
    "tags": []
   },
   "source": [
    "You can build your machine learning model for the language detection task, but for this app, I will be using the language detect package which can detect over 55 different languages within a few lines of code."
   ]
  },
  {
   "cell_type": "markdown",
   "metadata": {
    "tags": []
   },
   "source": [
    "If you have never used this package before then you can easily install it by using the pip command; pip install langdetect. Now let’s see how to use this package for the task of language detection :"
   ]
  },
  {
   "cell_type": "code",
   "execution_count": 1,
   "metadata": {},
   "outputs": [],
   "source": [
    "# pip install langdetect"
   ]
  },
  {
   "cell_type": "code",
   "execution_count": 6,
   "metadata": {},
   "outputs": [
    {
     "name": "stdout",
     "output_type": "stream",
     "text": [
      "Enter any text in any language:  नमस्ते\n"
     ]
    },
    {
     "name": "stdout",
     "output_type": "stream",
     "text": [
      "hi\n"
     ]
    }
   ],
   "source": [
    "from langdetect import detect\n",
    "text = input(\"Enter any text in any language: \")\n",
    "print(detect(text))"
   ]
  },
  {
   "cell_type": "markdown",
   "metadata": {
    "tags": []
   },
   "source": [
    "#### Languages with Codes \n",
    "\n",
    "* aa\tAfar\n",
    "* ab\tAbkhazian\n",
    "* af\tAfrikaans\n",
    "* am\tAmharic\n",
    "* ar\tArabic\n",
    "* as\tAssamese\n",
    "* ay\tAymara\n",
    "* az\tAzerbaijani\n",
    "* ba\tBashkir\n",
    "* be\tByelorussian\n",
    "* bg\tBulgarian\n",
    "* bh\tBihari\n",
    "* bi\tBislama\n",
    "* bn\tBengali\n",
    "* bo\tTibetan\n",
    "* br\tBreton\n",
    "* ca\tCatalan\n",
    "* co\tCorsican\n",
    "* cs\tCzech\n",
    "* cy\tWelch\n",
    "* da\tDanish\n",
    "* de\tGerman\n",
    "* dz\tBhutani\n",
    "* el\tGreek\n",
    "* en\tEnglish\n",
    "* eo\tEsperanto\n",
    "* es\tSpanish\n",
    "* et\tEstonian\n",
    "* eu\tBasque\n",
    "* fa\tPersian\n",
    "* fi\tFinnish\n",
    "* fj\tFiji\n",
    "* fo\tFaeroese\n",
    "* fr\tFrench\n",
    "* fy\tFrisian\n",
    "* ga\tIrish\n",
    "* gd\tScots Gaelic\n",
    "* gl\tGalician\n",
    "* gn\tGuarani\n",
    "* gu\tGujarati\n",
    "* ha\tHausa\n",
    "* hi\tHindi\n",
    "* he\tHebrew\n",
    "* hr\tCroatian\n",
    "* hu\tHungarian\n",
    "* hy\tArmenian\n",
    "#### ISO\tLanguage\n",
    "* ia\tInterlingua\n",
    "* id\tIndonesian\n",
    "* ie\tInterlingue\n",
    "* ik\tInupiak\n",
    "* in\tformer Indonesian\n",
    "* is\tIcelandic\n",
    "* it\tItalian\n",
    "* iu\tInuktitut (Eskimo)\n",
    "* iw\tformer Hebrew\n",
    "* ja\tJapanese\n",
    "* ji\tformer Yiddish\n",
    "* jw\tJavanese\n",
    "* ka\tGeorgian\n",
    "* kk\tKazakh\n",
    "* kl\tGreenandic\n",
    "* km\tCambodian\n",
    "* kn\tKannada\n",
    "* ko\tKorean\n",
    "* ks\tKashmiri\n",
    "* ku\tKurdish\n",
    "* ky\tKirghiz\n",
    "* la\tLatin\n",
    "* ln\tLingala\n",
    "* lo\tLaothian\n",
    "* lt\tLithuanian\n",
    "* lv\tLatvian, Lettish\n",
    "* mg\tMalagasy\n",
    "* mi\tMaori\n",
    "* mk\tMacedonian\n",
    "* ml\tMalayalam\n",
    "* mn\tMongolian\n",
    "* mo\tMoldavian\n",
    "* mr\tMarathi\n",
    "* ms\tMalay\n",
    "* mt\tMaltese\n",
    "* my\tBurmese\n",
    "* na\tNauru\n",
    "* ne\tNepali\n",
    "* nl\tDutch\n",
    "* no\tNorwegian\n",
    "* oc\tOccitan\n",
    "* om\t(Afan) Oromo\n",
    "* or\tOriya\n",
    "* pa\tPunjabi\n",
    "* pl\tPolish\n",
    "* ps\tPashto, Pushto\n",
    "* pt\tPortuguese\n",
    "* qu\tQuechua\n",
    "#### ISO\tLanguage\n",
    "* rm\tRhaeto-Romance\n",
    "* rn\tKirund\n",
    "* ro\tRomanian\n",
    "* ru\tRussian\n",
    "* rw\tKinyarwanda\n",
    "* sa\tSanskrit\n",
    "* sd\tSindhi\n",
    "* sg\tSangro\n",
    "* sh\tSerbo-Croatian\n",
    "* si\tSinghalese\n",
    "* sk\tSlovak\n",
    "* sl\tSlovenian\n",
    "* sm\tSamoan\n",
    "* sn\tShona\n",
    "* so\tSomali\n",
    "* sq\tAlbanian\n",
    "* sr\tSerbian\n",
    "* ss\tSiswati\n",
    "* st\tSesotho\n",
    "* su\tSudanese\n",
    "* sv\tSwedish\n",
    "* sw\tSwahili\n",
    "* ta\tTamil\n",
    "* te\tTegulu\n",
    "* tg\tTajik\n",
    "* th\tThai\n",
    "* ti\tTigrinya\n",
    "* tk\tTurkmen\n",
    "* tl\tTagalog\n",
    "* tn\tSetswana\n",
    "* to\tTonga\n",
    "* tr\tTurkish\n",
    "* ts\tTsonga\n",
    "* tt\tTatar\n",
    "* tw\tTwi\n",
    "* ug\tUigur\n",
    "* uk\tUkrainian\n",
    "* ur\tUrdu\n",
    "* uz\tUzbek\n",
    "* vi\tVietnamese\n",
    "* vo\tVolapuk\n",
    "* wo\tWolof\n",
    "* xh\tXhosa\n",
    "* yi\tYiddish\n",
    "* yo\tYoruba\n",
    "* za\tZhuang\n",
    "* zh\tChinese\n",
    "* zu\tZulu\n"
   ]
  }
 ],
 "metadata": {
  "kernelspec": {
   "display_name": "Python 3 (ipykernel)",
   "language": "python",
   "name": "python3"
  },
  "kubeflow_notebook": {
   "autosnapshot": false,
   "docker_image": "",
   "experiment": {
    "id": "",
    "name": ""
   },
   "experiment_name": "",
   "katib_metadata": {
    "algorithm": {
     "algorithmName": "grid"
    },
    "maxFailedTrialCount": 3,
    "maxTrialCount": 12,
    "objective": {
     "objectiveMetricName": "",
     "type": "minimize"
    },
    "parallelTrialCount": 3,
    "parameters": []
   },
   "katib_run": false,
   "pipeline_description": "",
   "pipeline_name": "",
   "snapshot_volumes": false,
   "steps_defaults": [],
   "volume_access_mode": "rwm",
   "volumes": []
  },
  "language_info": {
   "codemirror_mode": {
    "name": "ipython",
    "version": 3
   },
   "file_extension": ".py",
   "mimetype": "text/x-python",
   "name": "python",
   "nbconvert_exporter": "python",
   "pygments_lexer": "ipython3",
   "version": "3.7.4"
  }
 },
 "nbformat": 4,
 "nbformat_minor": 4
}
