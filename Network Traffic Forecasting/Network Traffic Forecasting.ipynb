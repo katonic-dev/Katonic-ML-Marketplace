{
 "cells": [
  {
   "cell_type": "markdown",
   "metadata": {},
   "source": [
    "# Network Traffic Forecasting\n",
    "\n",
    "Network Traffic Forecasting helps businesses forecast their network usage. This will help businesses asses their network requirements and make better cost-efficient decision. It uses Prophet which is a procedure for forecasting time series data based on an additive model where non-linear trends are fit with yearly, weekly, and daily seasonality, plus holiday effects. It works best with time series that have strong seasonal effects and several seasons of historical data. Prophet is robust to missing data and shifts in the trend, and typically handles outliers well."
   ]
  },
  {
   "cell_type": "markdown",
   "metadata": {},
   "source": [
    "## Contents\n",
    "\n",
    "1. Pre-requisites\n",
    "1. Data Dictionary\n",
    "1. Import Libraries\n",
    "1. Sample Input Data\n",
    "1. Create Model\n",
    "1. Create Future Data\n",
    "1. Predict Future Datapoints\n",
    "1. Plot the DataFrame\n",
    "1. Saving Forcast"
   ]
  },
  {
   "cell_type": "markdown",
   "metadata": {},
   "source": [
    "### Prerequisites\n",
    "\n",
    "To run this algorithm you need to have install following packages:\n",
    "- \"pandas\" to read/save csv files.\n",
    "- \"pystan==2.19.1.1\"\n",
    "- \"prophet\" to forcast data.\n",
    "\n"
   ]
  },
  {
   "cell_type": "markdown",
   "metadata": {},
   "source": [
    "### Data Dictionary\n",
    "\n",
    "- The input has to be a '.csv' file with 'utf-8' encoding. PLEASE NOTE: If your input .csv file is not 'utf-8' encoded, model   will not perform as expected\n",
    "1. Have an unique identifier column called 'maskedsku'. eg. 'maskedsku' can be shipmentid\n",
    "2. The date format of the columns should be: 'YYYY-MM-DD'"
   ]
  },
  {
   "cell_type": "markdown",
   "metadata": {
    "tags": []
   },
   "source": [
    "## Import Libraries"
   ]
  },
  {
   "cell_type": "code",
   "execution_count": 1,
   "metadata": {},
   "outputs": [
    {
     "name": "stderr",
     "output_type": "stream",
     "text": [
      "Importing plotly failed. Interactive plots will not work.\n"
     ]
    }
   ],
   "source": [
    "import pandas as pd\n",
    "from prophet import Prophet"
   ]
  },
  {
   "cell_type": "markdown",
   "metadata": {},
   "source": [
    "### Sample input data"
   ]
  },
  {
   "cell_type": "code",
   "execution_count": 2,
   "metadata": {},
   "outputs": [
    {
     "data": {
      "text/html": [
       "<div>\n",
       "<style scoped>\n",
       "    .dataframe tbody tr th:only-of-type {\n",
       "        vertical-align: middle;\n",
       "    }\n",
       "\n",
       "    .dataframe tbody tr th {\n",
       "        vertical-align: top;\n",
       "    }\n",
       "\n",
       "    .dataframe thead th {\n",
       "        text-align: right;\n",
       "    }\n",
       "</style>\n",
       "<table border=\"1\" class=\"dataframe\">\n",
       "  <thead>\n",
       "    <tr style=\"text-align: right;\">\n",
       "      <th>maskedsku</th>\n",
       "      <th>product_1</th>\n",
       "    </tr>\n",
       "  </thead>\n",
       "  <tbody>\n",
       "    <tr>\n",
       "      <th>2018-08-01 12:00</th>\n",
       "      <td>13380.82192</td>\n",
       "    </tr>\n",
       "    <tr>\n",
       "      <th>2018-08-01 12:30</th>\n",
       "      <td>15244.93151</td>\n",
       "    </tr>\n",
       "    <tr>\n",
       "      <th>2018-08-01 13:00</th>\n",
       "      <td>14925.20548</td>\n",
       "    </tr>\n",
       "    <tr>\n",
       "      <th>2018-08-01 13:30</th>\n",
       "      <td>13585.97260</td>\n",
       "    </tr>\n",
       "    <tr>\n",
       "      <th>2018-08-01 14:00</th>\n",
       "      <td>11365.47945</td>\n",
       "    </tr>\n",
       "  </tbody>\n",
       "</table>\n",
       "</div>"
      ],
      "text/plain": [
       "maskedsku           product_1\n",
       "2018-08-01 12:00  13380.82192\n",
       "2018-08-01 12:30  15244.93151\n",
       "2018-08-01 13:00  14925.20548\n",
       "2018-08-01 13:30  13585.97260\n",
       "2018-08-01 14:00  11365.47945"
      ]
     },
     "execution_count": 2,
     "metadata": {},
     "output_type": "execute_result"
    }
   ],
   "source": [
    "# read the sample csv\n",
    "df = pd.read_csv(\"sample.csv\",index_col = [0])\n",
    "df.T.head()\n"
   ]
  },
  {
   "cell_type": "markdown",
   "metadata": {
    "tags": []
   },
   "source": [
    "### Transform the data"
   ]
  },
  {
   "cell_type": "code",
   "execution_count": 3,
   "metadata": {},
   "outputs": [
    {
     "data": {
      "text/html": [
       "<div>\n",
       "<style scoped>\n",
       "    .dataframe tbody tr th:only-of-type {\n",
       "        vertical-align: middle;\n",
       "    }\n",
       "\n",
       "    .dataframe tbody tr th {\n",
       "        vertical-align: top;\n",
       "    }\n",
       "\n",
       "    .dataframe thead th {\n",
       "        text-align: right;\n",
       "    }\n",
       "</style>\n",
       "<table border=\"1\" class=\"dataframe\">\n",
       "  <thead>\n",
       "    <tr style=\"text-align: right;\">\n",
       "      <th>maskedsku</th>\n",
       "      <th>ds</th>\n",
       "      <th>y</th>\n",
       "    </tr>\n",
       "  </thead>\n",
       "  <tbody>\n",
       "    <tr>\n",
       "      <th>0</th>\n",
       "      <td>2018-08-01 12:00</td>\n",
       "      <td>13380.82192</td>\n",
       "    </tr>\n",
       "    <tr>\n",
       "      <th>1</th>\n",
       "      <td>2018-08-01 12:30</td>\n",
       "      <td>15244.93151</td>\n",
       "    </tr>\n",
       "    <tr>\n",
       "      <th>2</th>\n",
       "      <td>2018-08-01 13:00</td>\n",
       "      <td>14925.20548</td>\n",
       "    </tr>\n",
       "    <tr>\n",
       "      <th>3</th>\n",
       "      <td>2018-08-01 13:30</td>\n",
       "      <td>13585.97260</td>\n",
       "    </tr>\n",
       "    <tr>\n",
       "      <th>4</th>\n",
       "      <td>2018-08-01 14:00</td>\n",
       "      <td>11365.47945</td>\n",
       "    </tr>\n",
       "  </tbody>\n",
       "</table>\n",
       "</div>"
      ],
      "text/plain": [
       "maskedsku                ds            y\n",
       "0          2018-08-01 12:00  13380.82192\n",
       "1          2018-08-01 12:30  15244.93151\n",
       "2          2018-08-01 13:00  14925.20548\n",
       "3          2018-08-01 13:30  13585.97260\n",
       "4          2018-08-01 14:00  11365.47945"
      ]
     },
     "execution_count": 3,
     "metadata": {},
     "output_type": "execute_result"
    }
   ],
   "source": [
    "# naming is required as per prophet conditions.\n",
    "df = df.T.copy().reset_index().rename(mapper={'index':'ds','product_1':'y'},axis = 1)\n",
    "df.head()"
   ]
  },
  {
   "cell_type": "markdown",
   "metadata": {
    "tags": []
   },
   "source": [
    "## Create Model\n",
    "\n",
    "Now we use the Prophet Package to create a model.\\\n",
    "Fit the model by instantiating a new Prophet object. Any settings to the forecasting procedure are passed into the constructor. Then you call its fit method and pass in the historical dataframe."
   ]
  },
  {
   "cell_type": "code",
   "execution_count": 4,
   "metadata": {},
   "outputs": [
    {
     "name": "stderr",
     "output_type": "stream",
     "text": [
      "INFO:prophet:Disabling yearly seasonality. Run prophet with yearly_seasonality=True to override this.\n",
      "INFO:prophet:Disabling weekly seasonality. Run prophet with weekly_seasonality=True to override this.\n",
      "INFO:prophet:Disabling daily seasonality. Run prophet with daily_seasonality=True to override this.\n"
     ]
    },
    {
     "data": {
      "text/plain": [
       "<prophet.forecaster.Prophet at 0x7fd1ac11f090>"
      ]
     },
     "execution_count": 4,
     "metadata": {},
     "output_type": "execute_result"
    }
   ],
   "source": [
    "m = Prophet()\n",
    "m.fit(df)\n"
   ]
  },
  {
   "cell_type": "markdown",
   "metadata": {
    "tags": []
   },
   "source": [
    "## Create the future data\n",
    "\n",
    "Predictions are then made on a dataframe with a column ds containing the dates for which a prediction is to be made. You can get a suitable dataframe that extends into the future a specified number of days using the helper method Prophet.make_future_dataframe. By default it will also include the dates from the history, so we will see the model fit as well."
   ]
  },
  {
   "cell_type": "code",
   "execution_count": 5,
   "metadata": {},
   "outputs": [
    {
     "data": {
      "text/html": [
       "<div>\n",
       "<style scoped>\n",
       "    .dataframe tbody tr th:only-of-type {\n",
       "        vertical-align: middle;\n",
       "    }\n",
       "\n",
       "    .dataframe tbody tr th {\n",
       "        vertical-align: top;\n",
       "    }\n",
       "\n",
       "    .dataframe thead th {\n",
       "        text-align: right;\n",
       "    }\n",
       "</style>\n",
       "<table border=\"1\" class=\"dataframe\">\n",
       "  <thead>\n",
       "    <tr style=\"text-align: right;\">\n",
       "      <th></th>\n",
       "      <th>ds</th>\n",
       "    </tr>\n",
       "  </thead>\n",
       "  <tbody>\n",
       "    <tr>\n",
       "      <th>60</th>\n",
       "      <td>2018-08-28 05:00:00</td>\n",
       "    </tr>\n",
       "    <tr>\n",
       "      <th>61</th>\n",
       "      <td>2018-08-29 05:00:00</td>\n",
       "    </tr>\n",
       "    <tr>\n",
       "      <th>62</th>\n",
       "      <td>2018-08-30 05:00:00</td>\n",
       "    </tr>\n",
       "    <tr>\n",
       "      <th>63</th>\n",
       "      <td>2018-08-31 05:00:00</td>\n",
       "    </tr>\n",
       "    <tr>\n",
       "      <th>64</th>\n",
       "      <td>2018-09-01 05:00:00</td>\n",
       "    </tr>\n",
       "  </tbody>\n",
       "</table>\n",
       "</div>"
      ],
      "text/plain": [
       "                    ds\n",
       "60 2018-08-28 05:00:00\n",
       "61 2018-08-29 05:00:00\n",
       "62 2018-08-30 05:00:00\n",
       "63 2018-08-31 05:00:00\n",
       "64 2018-09-01 05:00:00"
      ]
     },
     "execution_count": 5,
     "metadata": {},
     "output_type": "execute_result"
    }
   ],
   "source": [
    "future = m.make_future_dataframe(periods=30)\n",
    "future.tail()"
   ]
  },
  {
   "cell_type": "markdown",
   "metadata": {
    "tags": []
   },
   "source": [
    "# Predict Future datapoints\n",
    "\n",
    "The predict method will assign each row in future a predicted value which it names yhat. If you pass in historical dates, it will provide an in-sample fit. The forecast object here is a new dataframe that includes a column yhat with the forecast, as well as columns for components and uncertainty intervals."
   ]
  },
  {
   "cell_type": "code",
   "execution_count": 6,
   "metadata": {},
   "outputs": [
    {
     "data": {
      "text/html": [
       "<div>\n",
       "<style scoped>\n",
       "    .dataframe tbody tr th:only-of-type {\n",
       "        vertical-align: middle;\n",
       "    }\n",
       "\n",
       "    .dataframe tbody tr th {\n",
       "        vertical-align: top;\n",
       "    }\n",
       "\n",
       "    .dataframe thead th {\n",
       "        text-align: right;\n",
       "    }\n",
       "</style>\n",
       "<table border=\"1\" class=\"dataframe\">\n",
       "  <thead>\n",
       "    <tr style=\"text-align: right;\">\n",
       "      <th></th>\n",
       "      <th>ds</th>\n",
       "      <th>yhat</th>\n",
       "      <th>yhat_lower</th>\n",
       "      <th>yhat_upper</th>\n",
       "    </tr>\n",
       "  </thead>\n",
       "  <tbody>\n",
       "    <tr>\n",
       "      <th>60</th>\n",
       "      <td>2018-08-28 05:00:00</td>\n",
       "      <td>97862.711934</td>\n",
       "      <td>94146.265263</td>\n",
       "      <td>101809.426073</td>\n",
       "    </tr>\n",
       "    <tr>\n",
       "      <th>61</th>\n",
       "      <td>2018-08-29 05:00:00</td>\n",
       "      <td>100988.522812</td>\n",
       "      <td>97287.640411</td>\n",
       "      <td>104771.336680</td>\n",
       "    </tr>\n",
       "    <tr>\n",
       "      <th>62</th>\n",
       "      <td>2018-08-30 05:00:00</td>\n",
       "      <td>104114.333690</td>\n",
       "      <td>100436.710393</td>\n",
       "      <td>107814.404806</td>\n",
       "    </tr>\n",
       "    <tr>\n",
       "      <th>63</th>\n",
       "      <td>2018-08-31 05:00:00</td>\n",
       "      <td>107240.144569</td>\n",
       "      <td>103558.620056</td>\n",
       "      <td>110869.720343</td>\n",
       "    </tr>\n",
       "    <tr>\n",
       "      <th>64</th>\n",
       "      <td>2018-09-01 05:00:00</td>\n",
       "      <td>110365.955447</td>\n",
       "      <td>106628.545501</td>\n",
       "      <td>114268.327269</td>\n",
       "    </tr>\n",
       "  </tbody>\n",
       "</table>\n",
       "</div>"
      ],
      "text/plain": [
       "                    ds           yhat     yhat_lower     yhat_upper\n",
       "60 2018-08-28 05:00:00   97862.711934   94146.265263  101809.426073\n",
       "61 2018-08-29 05:00:00  100988.522812   97287.640411  104771.336680\n",
       "62 2018-08-30 05:00:00  104114.333690  100436.710393  107814.404806\n",
       "63 2018-08-31 05:00:00  107240.144569  103558.620056  110869.720343\n",
       "64 2018-09-01 05:00:00  110365.955447  106628.545501  114268.327269"
      ]
     },
     "execution_count": 6,
     "metadata": {},
     "output_type": "execute_result"
    }
   ],
   "source": [
    "forecast = m.predict(future)\n",
    "forecast[['ds', 'yhat', 'yhat_lower', 'yhat_upper']].tail()"
   ]
  },
  {
   "cell_type": "markdown",
   "metadata": {
    "tags": []
   },
   "source": [
    "## Plot the forecast dataframe\n",
    "You can plot the forecast by calling the Prophet.plot method and passing in your forecast dataframe."
   ]
  },
  {
   "cell_type": "code",
   "execution_count": 7,
   "metadata": {},
   "outputs": [
    {
     "data": {
      "image/png": "[encoded data removed]",
      "text/plain": [
       "<Figure size 720x432 with 1 Axes>"
      ]
     },
     "metadata": {},
     "output_type": "display_data"
    }
   ],
   "source": [
    "# Python\n",
    "fig1 = m.plot(forecast)"
   ]
  },
  {
   "cell_type": "code",
   "execution_count": 8,
   "metadata": {},
   "outputs": [
    {
     "data": {
      "image/png": "[encoded data removed]",
      "text/plain": [
       "<Figure size 648x216 with 1 Axes>"
      ]
     },
     "metadata": {},
     "output_type": "display_data"
    }
   ],
   "source": [
    "# Python\n",
    "fig2 = m.plot_components(forecast)"
   ]
  },
  {
   "cell_type": "markdown",
   "metadata": {
    "tags": []
   },
   "source": [
    "## Saving Forecast"
   ]
  },
  {
   "cell_type": "code",
   "execution_count": 9,
   "metadata": {},
   "outputs": [],
   "source": [
    "forecast = forecast[['ds', 'yhat', 'yhat_lower', 'yhat_upper']]\n",
    "forecast.to_csv('output.csv',index=False)"
   ]
  },
  {
   "cell_type": "code",
   "execution_count": 10,
   "metadata": {},
   "outputs": [
    {
     "data": {
      "text/html": [
       "<div>\n",
       "<style scoped>\n",
       "    .dataframe tbody tr th:only-of-type {\n",
       "        vertical-align: middle;\n",
       "    }\n",
       "\n",
       "    .dataframe tbody tr th {\n",
       "        vertical-align: top;\n",
       "    }\n",
       "\n",
       "    .dataframe thead th {\n",
       "        text-align: right;\n",
       "    }\n",
       "</style>\n",
       "<table border=\"1\" class=\"dataframe\">\n",
       "  <thead>\n",
       "    <tr style=\"text-align: right;\">\n",
       "      <th></th>\n",
       "      <th>ds</th>\n",
       "      <th>yhat</th>\n",
       "      <th>yhat_lower</th>\n",
       "      <th>yhat_upper</th>\n",
       "    </tr>\n",
       "  </thead>\n",
       "  <tbody>\n",
       "    <tr>\n",
       "      <th>0</th>\n",
       "      <td>2018-08-01 12:00:00</td>\n",
       "      <td>14377.512935</td>\n",
       "      <td>10180.114615</td>\n",
       "      <td>18101.930547</td>\n",
       "    </tr>\n",
       "    <tr>\n",
       "      <th>1</th>\n",
       "      <td>2018-08-01 12:30:00</td>\n",
       "      <td>14442.634000</td>\n",
       "      <td>10624.126037</td>\n",
       "      <td>18269.057481</td>\n",
       "    </tr>\n",
       "    <tr>\n",
       "      <th>2</th>\n",
       "      <td>2018-08-01 13:00:00</td>\n",
       "      <td>14507.755067</td>\n",
       "      <td>10626.390898</td>\n",
       "      <td>18358.352154</td>\n",
       "    </tr>\n",
       "    <tr>\n",
       "      <th>3</th>\n",
       "      <td>2018-08-01 13:30:00</td>\n",
       "      <td>14572.876135</td>\n",
       "      <td>10699.805033</td>\n",
       "      <td>18429.934654</td>\n",
       "    </tr>\n",
       "    <tr>\n",
       "      <th>4</th>\n",
       "      <td>2018-08-01 14:00:00</td>\n",
       "      <td>14637.997202</td>\n",
       "      <td>10508.841621</td>\n",
       "      <td>18488.929370</td>\n",
       "    </tr>\n",
       "    <tr>\n",
       "      <th>...</th>\n",
       "      <td>...</td>\n",
       "      <td>...</td>\n",
       "      <td>...</td>\n",
       "      <td>...</td>\n",
       "    </tr>\n",
       "    <tr>\n",
       "      <th>60</th>\n",
       "      <td>2018-08-28 05:00:00</td>\n",
       "      <td>97862.711934</td>\n",
       "      <td>94146.265263</td>\n",
       "      <td>101809.426073</td>\n",
       "    </tr>\n",
       "    <tr>\n",
       "      <th>61</th>\n",
       "      <td>2018-08-29 05:00:00</td>\n",
       "      <td>100988.522812</td>\n",
       "      <td>97287.640411</td>\n",
       "      <td>104771.336680</td>\n",
       "    </tr>\n",
       "    <tr>\n",
       "      <th>62</th>\n",
       "      <td>2018-08-30 05:00:00</td>\n",
       "      <td>104114.333690</td>\n",
       "      <td>100436.710393</td>\n",
       "      <td>107814.404806</td>\n",
       "    </tr>\n",
       "    <tr>\n",
       "      <th>63</th>\n",
       "      <td>2018-08-31 05:00:00</td>\n",
       "      <td>107240.144569</td>\n",
       "      <td>103558.620056</td>\n",
       "      <td>110869.720343</td>\n",
       "    </tr>\n",
       "    <tr>\n",
       "      <th>64</th>\n",
       "      <td>2018-09-01 05:00:00</td>\n",
       "      <td>110365.955447</td>\n",
       "      <td>106628.545501</td>\n",
       "      <td>114268.327269</td>\n",
       "    </tr>\n",
       "  </tbody>\n",
       "</table>\n",
       "<p>65 rows × 4 columns</p>\n",
       "</div>"
      ],
      "text/plain": [
       "                    ds           yhat     yhat_lower     yhat_upper\n",
       "0  2018-08-01 12:00:00   14377.512935   10180.114615   18101.930547\n",
       "1  2018-08-01 12:30:00   14442.634000   10624.126037   18269.057481\n",
       "2  2018-08-01 13:00:00   14507.755067   10626.390898   18358.352154\n",
       "3  2018-08-01 13:30:00   14572.876135   10699.805033   18429.934654\n",
       "4  2018-08-01 14:00:00   14637.997202   10508.841621   18488.929370\n",
       "..                 ...            ...            ...            ...\n",
       "60 2018-08-28 05:00:00   97862.711934   94146.265263  101809.426073\n",
       "61 2018-08-29 05:00:00  100988.522812   97287.640411  104771.336680\n",
       "62 2018-08-30 05:00:00  104114.333690  100436.710393  107814.404806\n",
       "63 2018-08-31 05:00:00  107240.144569  103558.620056  110869.720343\n",
       "64 2018-09-01 05:00:00  110365.955447  106628.545501  114268.327269\n",
       "\n",
       "[65 rows x 4 columns]"
      ]
     },
     "execution_count": 10,
     "metadata": {},
     "output_type": "execute_result"
    }
   ],
   "source": [
    "forecast"
   ]
  }
 ],
 "metadata": {
  "kernelspec": {
   "display_name": "Python 3",
   "language": "python",
   "name": "python3"
  },
  "kubeflow_notebook": {
   "autosnapshot": false,
   "docker_image": "",
   "experiment": {
    "id": "",
    "name": ""
   },
   "experiment_name": "",
   "katib_metadata": {
    "algorithm": {
     "algorithmName": "grid"
    },
    "maxFailedTrialCount": 3,
    "maxTrialCount": 12,
    "objective": {
     "objectiveMetricName": "",
     "type": "minimize"
    },
    "parallelTrialCount": 3,
    "parameters": []
   },
   "katib_run": false,
   "pipeline_description": "",
   "pipeline_name": "",
   "snapshot_volumes": false,
   "steps_defaults": [],
   "volume_access_mode": "rwm",
   "volumes": []
  },
  "language_info": {
   "codemirror_mode": {
    "name": "ipython",
    "version": 3
   },
   "file_extension": ".py",
   "mimetype": "text/x-python",
   "name": "python",
   "nbconvert_exporter": "python",
   "pygments_lexer": "ipython3",
   "version": "3.7.9"
  }
 },
 "nbformat": 4,
 "nbformat_minor": 4
}
